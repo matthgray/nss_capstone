{
 "cells": [
  {
   "cell_type": "code",
   "execution_count": 1,
   "metadata": {},
   "outputs": [],
   "source": [
    "import pandas as pd\n",
    "import plotly.express as px\n",
    "import seaborn as sns\n",
    "import numpy as np \n",
    "import matplotlib.pyplot as plt\n",
    "import dtale"
   ]
  },
  {
   "cell_type": "code",
   "execution_count": 3,
   "metadata": {},
   "outputs": [],
   "source": [
    "tn_grades=pd.read_csv('streamlit_application_data_3.csv')"
   ]
  },
  {
   "cell_type": "code",
   "execution_count": 4,
   "metadata": {},
   "outputs": [
    {
     "name": "stderr",
     "output_type": "stream",
     "text": [
      "2021-06-05 22:11:52,243 - INFO     - Patching spark automatically. You can disable it by setting SPARK_KOALAS_AUTOPATCH=false in your environment\n"
     ]
    }
   ],
   "source": [
    "d = dtale.show(tn_grades)\n",
    "d.open_browser()"
   ]
  },
  {
   "cell_type": "code",
   "execution_count": 5,
   "metadata": {},
   "outputs": [],
   "source": [
    "tn_finance = pd.read_csv('tn_map_data.csv')"
   ]
  },
  {
   "cell_type": "code",
   "execution_count": 8,
   "metadata": {},
   "outputs": [],
   "source": [
    "fig=dtale.show(tn_finance)\n",
    "fig.open_browser()"
   ]
  },
  {
   "cell_type": "code",
   "execution_count": 2,
   "metadata": {},
   "outputs": [],
   "source": [
    "tn_finance=pd.read_csv('capstone_model_data.csv')"
   ]
  },
  {
   "cell_type": "code",
   "execution_count": 3,
   "metadata": {},
   "outputs": [],
   "source": [
    "# create column for dropout of 6.125 category\n",
    "#testing['drop_rate_school'] = np.where(testing['dropout_rate'] >= 18,True,False)"
   ]
  },
  {
   "cell_type": "code",
   "execution_count": 4,
   "metadata": {},
   "outputs": [],
   "source": [
    "testing=testing.drop(['district_name'],axis=1)"
   ]
  },
  {
   "cell_type": "code",
   "execution_count": 7,
   "metadata": {},
   "outputs": [
    {
     "data": {
      "text/html": [
       "<div>\n",
       "<style scoped>\n",
       "    .dataframe tbody tr th:only-of-type {\n",
       "        vertical-align: middle;\n",
       "    }\n",
       "\n",
       "    .dataframe tbody tr th {\n",
       "        vertical-align: top;\n",
       "    }\n",
       "\n",
       "    .dataframe thead th {\n",
       "        text-align: right;\n",
       "    }\n",
       "</style>\n",
       "<table border=\"1\" class=\"dataframe\">\n",
       "  <thead>\n",
       "    <tr style=\"text-align: right;\">\n",
       "      <th></th>\n",
       "      <th>percent_suspended</th>\n",
       "      <th>percent_expelled</th>\n",
       "      <th>percent_committed_zero_tolerance</th>\n",
       "      <th>graduation rate</th>\n",
       "      <th>dropout_rate</th>\n",
       "      <th>number of students total</th>\n",
       "      <th>percentage of ready graduates</th>\n",
       "      <th>participation_rate</th>\n",
       "      <th>average_english_score</th>\n",
       "      <th>average_math_score</th>\n",
       "      <th>average_reading_score</th>\n",
       "      <th>average_science_score</th>\n",
       "      <th>average_composite_score</th>\n",
       "      <th>percent_scoring_21_or_higher</th>\n",
       "      <th>district_name_label</th>\n",
       "      <th>percent_scoring_below_19</th>\n",
       "      <th>pct_chronically_absent</th>\n",
       "      <th>percent_retained</th>\n",
       "    </tr>\n",
       "  </thead>\n",
       "  <tbody>\n",
       "    <tr>\n",
       "      <th>0</th>\n",
       "      <td>2.5</td>\n",
       "      <td>0.0</td>\n",
       "      <td>0.5</td>\n",
       "      <td>96.1</td>\n",
       "      <td>1.4</td>\n",
       "      <td>280.0</td>\n",
       "      <td>50.0</td>\n",
       "      <td>100</td>\n",
       "      <td>19.8</td>\n",
       "      <td>19.4</td>\n",
       "      <td>20.7</td>\n",
       "      <td>20.1</td>\n",
       "      <td>20.1</td>\n",
       "      <td>42.8</td>\n",
       "      <td>2</td>\n",
       "      <td>42.8</td>\n",
       "      <td>16.9</td>\n",
       "      <td>91.0</td>\n",
       "    </tr>\n",
       "    <tr>\n",
       "      <th>1</th>\n",
       "      <td>6.9</td>\n",
       "      <td>0.0</td>\n",
       "      <td>0.4</td>\n",
       "      <td>95.2</td>\n",
       "      <td>3.7</td>\n",
       "      <td>272.0</td>\n",
       "      <td>35.7</td>\n",
       "      <td>100</td>\n",
       "      <td>18.3</td>\n",
       "      <td>18.0</td>\n",
       "      <td>19.1</td>\n",
       "      <td>19.1</td>\n",
       "      <td>18.8</td>\n",
       "      <td>32.2</td>\n",
       "      <td>2</td>\n",
       "      <td>53.9</td>\n",
       "      <td>20.8</td>\n",
       "      <td>88.3</td>\n",
       "    </tr>\n",
       "    <tr>\n",
       "      <th>2</th>\n",
       "      <td>8.4</td>\n",
       "      <td>0.0</td>\n",
       "      <td>0.9</td>\n",
       "      <td>92.1</td>\n",
       "      <td>6.6</td>\n",
       "      <td>304.0</td>\n",
       "      <td>65.5</td>\n",
       "      <td>97</td>\n",
       "      <td>23.0</td>\n",
       "      <td>22.2</td>\n",
       "      <td>24.2</td>\n",
       "      <td>23.2</td>\n",
       "      <td>23.3</td>\n",
       "      <td>64.3</td>\n",
       "      <td>80</td>\n",
       "      <td>23.9</td>\n",
       "      <td>17.0</td>\n",
       "      <td>94.6</td>\n",
       "    </tr>\n",
       "    <tr>\n",
       "      <th>3</th>\n",
       "      <td>0.7</td>\n",
       "      <td>0.0</td>\n",
       "      <td>0.0</td>\n",
       "      <td>98.2</td>\n",
       "      <td>0.9</td>\n",
       "      <td>114.0</td>\n",
       "      <td>45.6</td>\n",
       "      <td>99</td>\n",
       "      <td>20.7</td>\n",
       "      <td>19.5</td>\n",
       "      <td>21.3</td>\n",
       "      <td>21.1</td>\n",
       "      <td>20.8</td>\n",
       "      <td>46.8</td>\n",
       "      <td>4</td>\n",
       "      <td>34.2</td>\n",
       "      <td>18.3</td>\n",
       "      <td>84.8</td>\n",
       "    </tr>\n",
       "    <tr>\n",
       "      <th>4</th>\n",
       "      <td>3.6</td>\n",
       "      <td>0.0</td>\n",
       "      <td>0.4</td>\n",
       "      <td>88.7</td>\n",
       "      <td>8.7</td>\n",
       "      <td>390.0</td>\n",
       "      <td>24.9</td>\n",
       "      <td>96</td>\n",
       "      <td>17.3</td>\n",
       "      <td>18.1</td>\n",
       "      <td>18.5</td>\n",
       "      <td>18.5</td>\n",
       "      <td>18.3</td>\n",
       "      <td>27.8</td>\n",
       "      <td>4</td>\n",
       "      <td>62.5</td>\n",
       "      <td>14.8</td>\n",
       "      <td>76.7</td>\n",
       "    </tr>\n",
       "    <tr>\n",
       "      <th>...</th>\n",
       "      <td>...</td>\n",
       "      <td>...</td>\n",
       "      <td>...</td>\n",
       "      <td>...</td>\n",
       "      <td>...</td>\n",
       "      <td>...</td>\n",
       "      <td>...</td>\n",
       "      <td>...</td>\n",
       "      <td>...</td>\n",
       "      <td>...</td>\n",
       "      <td>...</td>\n",
       "      <td>...</td>\n",
       "      <td>...</td>\n",
       "      <td>...</td>\n",
       "      <td>...</td>\n",
       "      <td>...</td>\n",
       "      <td>...</td>\n",
       "      <td>...</td>\n",
       "    </tr>\n",
       "    <tr>\n",
       "      <th>259</th>\n",
       "      <td>7.9</td>\n",
       "      <td>0.7</td>\n",
       "      <td>1.0</td>\n",
       "      <td>94.5</td>\n",
       "      <td>4.3</td>\n",
       "      <td>493.0</td>\n",
       "      <td>32.5</td>\n",
       "      <td>99</td>\n",
       "      <td>18.8</td>\n",
       "      <td>18.2</td>\n",
       "      <td>19.6</td>\n",
       "      <td>19.3</td>\n",
       "      <td>19.1</td>\n",
       "      <td>33.3</td>\n",
       "      <td>113</td>\n",
       "      <td>50.6</td>\n",
       "      <td>18.3</td>\n",
       "      <td>85.0</td>\n",
       "    </tr>\n",
       "    <tr>\n",
       "      <th>260</th>\n",
       "      <td>5.5</td>\n",
       "      <td>0.0</td>\n",
       "      <td>0.5</td>\n",
       "      <td>97.1</td>\n",
       "      <td>1.8</td>\n",
       "      <td>550.0</td>\n",
       "      <td>64.0</td>\n",
       "      <td>100</td>\n",
       "      <td>23.0</td>\n",
       "      <td>21.4</td>\n",
       "      <td>23.5</td>\n",
       "      <td>22.9</td>\n",
       "      <td>22.9</td>\n",
       "      <td>64.3</td>\n",
       "      <td>113</td>\n",
       "      <td>21.2</td>\n",
       "      <td>14.7</td>\n",
       "      <td>88.5</td>\n",
       "    </tr>\n",
       "    <tr>\n",
       "      <th>261</th>\n",
       "      <td>7.2</td>\n",
       "      <td>0.0</td>\n",
       "      <td>0.9</td>\n",
       "      <td>95.9</td>\n",
       "      <td>2.1</td>\n",
       "      <td>145.0</td>\n",
       "      <td>37.9</td>\n",
       "      <td>98</td>\n",
       "      <td>19.4</td>\n",
       "      <td>18.9</td>\n",
       "      <td>20.1</td>\n",
       "      <td>20.4</td>\n",
       "      <td>19.9</td>\n",
       "      <td>40.4</td>\n",
       "      <td>113</td>\n",
       "      <td>44.9</td>\n",
       "      <td>14.0</td>\n",
       "      <td>93.5</td>\n",
       "    </tr>\n",
       "    <tr>\n",
       "      <th>262</th>\n",
       "      <td>4.8</td>\n",
       "      <td>0.0</td>\n",
       "      <td>0.6</td>\n",
       "      <td>96.7</td>\n",
       "      <td>1.5</td>\n",
       "      <td>457.0</td>\n",
       "      <td>48.4</td>\n",
       "      <td>100</td>\n",
       "      <td>20.2</td>\n",
       "      <td>19.6</td>\n",
       "      <td>21.1</td>\n",
       "      <td>20.9</td>\n",
       "      <td>20.6</td>\n",
       "      <td>47.5</td>\n",
       "      <td>113</td>\n",
       "      <td>36.1</td>\n",
       "      <td>13.3</td>\n",
       "      <td>81.3</td>\n",
       "    </tr>\n",
       "    <tr>\n",
       "      <th>263</th>\n",
       "      <td>0.0</td>\n",
       "      <td>0.0</td>\n",
       "      <td>0.0</td>\n",
       "      <td>91.9</td>\n",
       "      <td>5.9</td>\n",
       "      <td>136.0</td>\n",
       "      <td>36.0</td>\n",
       "      <td>98</td>\n",
       "      <td>18.5</td>\n",
       "      <td>19.3</td>\n",
       "      <td>19.5</td>\n",
       "      <td>19.1</td>\n",
       "      <td>19.3</td>\n",
       "      <td>39.8</td>\n",
       "      <td>1</td>\n",
       "      <td>50.4</td>\n",
       "      <td>14.4</td>\n",
       "      <td>89.8</td>\n",
       "    </tr>\n",
       "  </tbody>\n",
       "</table>\n",
       "<p>264 rows × 18 columns</p>\n",
       "</div>"
      ],
      "text/plain": [
       "     percent_suspended  percent_expelled  percent_committed_zero_tolerance  \\\n",
       "0                  2.5               0.0                               0.5   \n",
       "1                  6.9               0.0                               0.4   \n",
       "2                  8.4               0.0                               0.9   \n",
       "3                  0.7               0.0                               0.0   \n",
       "4                  3.6               0.0                               0.4   \n",
       "..                 ...               ...                               ...   \n",
       "259                7.9               0.7                               1.0   \n",
       "260                5.5               0.0                               0.5   \n",
       "261                7.2               0.0                               0.9   \n",
       "262                4.8               0.0                               0.6   \n",
       "263                0.0               0.0                               0.0   \n",
       "\n",
       "     graduation rate  dropout_rate  number of students total  \\\n",
       "0               96.1           1.4                     280.0   \n",
       "1               95.2           3.7                     272.0   \n",
       "2               92.1           6.6                     304.0   \n",
       "3               98.2           0.9                     114.0   \n",
       "4               88.7           8.7                     390.0   \n",
       "..               ...           ...                       ...   \n",
       "259             94.5           4.3                     493.0   \n",
       "260             97.1           1.8                     550.0   \n",
       "261             95.9           2.1                     145.0   \n",
       "262             96.7           1.5                     457.0   \n",
       "263             91.9           5.9                     136.0   \n",
       "\n",
       "     percentage of ready graduates  participation_rate  average_english_score  \\\n",
       "0                             50.0                 100                   19.8   \n",
       "1                             35.7                 100                   18.3   \n",
       "2                             65.5                  97                   23.0   \n",
       "3                             45.6                  99                   20.7   \n",
       "4                             24.9                  96                   17.3   \n",
       "..                             ...                 ...                    ...   \n",
       "259                           32.5                  99                   18.8   \n",
       "260                           64.0                 100                   23.0   \n",
       "261                           37.9                  98                   19.4   \n",
       "262                           48.4                 100                   20.2   \n",
       "263                           36.0                  98                   18.5   \n",
       "\n",
       "     average_math_score  average_reading_score  average_science_score  \\\n",
       "0                  19.4                   20.7                   20.1   \n",
       "1                  18.0                   19.1                   19.1   \n",
       "2                  22.2                   24.2                   23.2   \n",
       "3                  19.5                   21.3                   21.1   \n",
       "4                  18.1                   18.5                   18.5   \n",
       "..                  ...                    ...                    ...   \n",
       "259                18.2                   19.6                   19.3   \n",
       "260                21.4                   23.5                   22.9   \n",
       "261                18.9                   20.1                   20.4   \n",
       "262                19.6                   21.1                   20.9   \n",
       "263                19.3                   19.5                   19.1   \n",
       "\n",
       "     average_composite_score  percent_scoring_21_or_higher  \\\n",
       "0                       20.1                          42.8   \n",
       "1                       18.8                          32.2   \n",
       "2                       23.3                          64.3   \n",
       "3                       20.8                          46.8   \n",
       "4                       18.3                          27.8   \n",
       "..                       ...                           ...   \n",
       "259                     19.1                          33.3   \n",
       "260                     22.9                          64.3   \n",
       "261                     19.9                          40.4   \n",
       "262                     20.6                          47.5   \n",
       "263                     19.3                          39.8   \n",
       "\n",
       "     district_name_label  percent_scoring_below_19  pct_chronically_absent  \\\n",
       "0                      2                      42.8                    16.9   \n",
       "1                      2                      53.9                    20.8   \n",
       "2                     80                      23.9                    17.0   \n",
       "3                      4                      34.2                    18.3   \n",
       "4                      4                      62.5                    14.8   \n",
       "..                   ...                       ...                     ...   \n",
       "259                  113                      50.6                    18.3   \n",
       "260                  113                      21.2                    14.7   \n",
       "261                  113                      44.9                    14.0   \n",
       "262                  113                      36.1                    13.3   \n",
       "263                    1                      50.4                    14.4   \n",
       "\n",
       "     percent_retained  \n",
       "0                91.0  \n",
       "1                88.3  \n",
       "2                94.6  \n",
       "3                84.8  \n",
       "4                76.7  \n",
       "..                ...  \n",
       "259              85.0  \n",
       "260              88.5  \n",
       "261              93.5  \n",
       "262              81.3  \n",
       "263              89.8  \n",
       "\n",
       "[264 rows x 18 columns]"
      ]
     },
     "execution_count": 7,
     "metadata": {},
     "output_type": "execute_result"
    },
    {
     "name": "stdout",
     "output_type": "stream",
     "text": [
      "Executing shutdown due to inactivity...\n"
     ]
    },
    {
     "name": "stderr",
     "output_type": "stream",
     "text": [
      "2021-06-04 15:41:33,359 - INFO     - Executing shutdown due to inactivity...\n"
     ]
    },
    {
     "name": "stdout",
     "output_type": "stream",
     "text": [
      "Executing shutdown...\n"
     ]
    },
    {
     "name": "stderr",
     "output_type": "stream",
     "text": [
      "2021-06-04 15:41:37,402 - INFO     - Executing shutdown...\n"
     ]
    }
   ],
   "source": [
    "testing"
   ]
  },
  {
   "cell_type": "code",
   "execution_count": 8,
   "metadata": {},
   "outputs": [],
   "source": [
    "testing.to_csv('school_classification_data.csv',index=False)"
   ]
  },
  {
   "cell_type": "code",
   "execution_count": 2,
   "metadata": {},
   "outputs": [],
   "source": [
    "# import data\n",
    "tn_school = pd.read_csv('data_export_1622699276500.csv')"
   ]
  },
  {
   "cell_type": "code",
   "execution_count": 5,
   "metadata": {},
   "outputs": [],
   "source": [
    "st_data=pd.read_csv('streamlit_application_data_3.csv')"
   ]
  },
  {
   "cell_type": "code",
   "execution_count": 6,
   "metadata": {},
   "outputs": [
    {
     "data": {
      "text/html": [
       "<div>\n",
       "<style scoped>\n",
       "    .dataframe tbody tr th:only-of-type {\n",
       "        vertical-align: middle;\n",
       "    }\n",
       "\n",
       "    .dataframe tbody tr th {\n",
       "        vertical-align: top;\n",
       "    }\n",
       "\n",
       "    .dataframe thead th {\n",
       "        text-align: right;\n",
       "    }\n",
       "</style>\n",
       "<table border=\"1\" class=\"dataframe\">\n",
       "  <thead>\n",
       "    <tr style=\"text-align: right;\">\n",
       "      <th></th>\n",
       "      <th>district_name</th>\n",
       "      <th>school_name</th>\n",
       "      <th>zipcode</th>\n",
       "      <th>longitude</th>\n",
       "      <th>latitude</th>\n",
       "      <th>pct_chronically_absent_2020</th>\n",
       "      <th>percent_ca2019</th>\n",
       "      <th>percent_ca_2018</th>\n",
       "      <th>admin</th>\n",
       "      <th>teacher</th>\n",
       "      <th>percent_retained</th>\n",
       "      <th>pool</th>\n",
       "      <th>score_achievement</th>\n",
       "      <th>score_growth</th>\n",
       "      <th>score_absenteeism</th>\n",
       "      <th>students_total_2020</th>\n",
       "      <th>enrollment_2019</th>\n",
       "      <th>enrollment_2018</th>\n",
       "    </tr>\n",
       "  </thead>\n",
       "  <tbody>\n",
       "    <tr>\n",
       "      <th>0</th>\n",
       "      <td>Shelby County Schools</td>\n",
       "      <td>American Way Middle</td>\n",
       "      <td>38118</td>\n",
       "      <td>-89.92426</td>\n",
       "      <td>35.048455</td>\n",
       "      <td>18.4</td>\n",
       "      <td>25.8</td>\n",
       "      <td>12.5</td>\n",
       "      <td>3</td>\n",
       "      <td>43</td>\n",
       "      <td>20.4</td>\n",
       "      <td>K8</td>\n",
       "      <td>1.1</td>\n",
       "      <td>0.6</td>\n",
       "      <td>0.2</td>\n",
       "      <td>824</td>\n",
       "      <td>739</td>\n",
       "      <td>705</td>\n",
       "    </tr>\n",
       "    <tr>\n",
       "      <th>1</th>\n",
       "      <td>Metro Nashville Public Schools</td>\n",
       "      <td>Ida B. Wells Elementary</td>\n",
       "      <td>37207</td>\n",
       "      <td>-86.77317</td>\n",
       "      <td>36.215535</td>\n",
       "      <td>23.0</td>\n",
       "      <td>17.4</td>\n",
       "      <td>20.6</td>\n",
       "      <td>1</td>\n",
       "      <td>25</td>\n",
       "      <td>21.1</td>\n",
       "      <td>K8</td>\n",
       "      <td>1.2</td>\n",
       "      <td>1.3</td>\n",
       "      <td>4.0</td>\n",
       "      <td>313</td>\n",
       "      <td>282</td>\n",
       "      <td>234</td>\n",
       "    </tr>\n",
       "    <tr>\n",
       "      <th>2</th>\n",
       "      <td>Achievement School District</td>\n",
       "      <td>Westside Middle School</td>\n",
       "      <td>38127</td>\n",
       "      <td>-90.00646</td>\n",
       "      <td>35.223796</td>\n",
       "      <td>24.4</td>\n",
       "      <td>34.8</td>\n",
       "      <td>27.7</td>\n",
       "      <td>2</td>\n",
       "      <td>16</td>\n",
       "      <td>22.7</td>\n",
       "      <td>K8</td>\n",
       "      <td>0.4</td>\n",
       "      <td>2.0</td>\n",
       "      <td>0.3</td>\n",
       "      <td>381</td>\n",
       "      <td>296</td>\n",
       "      <td>296</td>\n",
       "    </tr>\n",
       "  </tbody>\n",
       "</table>\n",
       "</div>"
      ],
      "text/plain": [
       "                    district_name              school_name  zipcode  \\\n",
       "0           Shelby County Schools      American Way Middle    38118   \n",
       "1  Metro Nashville Public Schools  Ida B. Wells Elementary    37207   \n",
       "2     Achievement School District   Westside Middle School    38127   \n",
       "\n",
       "   longitude   latitude  pct_chronically_absent_2020  percent_ca2019  \\\n",
       "0  -89.92426  35.048455                         18.4            25.8   \n",
       "1  -86.77317  36.215535                         23.0            17.4   \n",
       "2  -90.00646  35.223796                         24.4            34.8   \n",
       "\n",
       "   percent_ca_2018  admin  teacher  percent_retained pool  score_achievement  \\\n",
       "0             12.5      3       43              20.4   K8                1.1   \n",
       "1             20.6      1       25              21.1   K8                1.2   \n",
       "2             27.7      2       16              22.7   K8                0.4   \n",
       "\n",
       "   score_growth  score_absenteeism  students_total_2020  enrollment_2019  \\\n",
       "0           0.6                0.2                  824              739   \n",
       "1           1.3                4.0                  313              282   \n",
       "2           2.0                0.3                  381              296   \n",
       "\n",
       "   enrollment_2018  \n",
       "0              705  \n",
       "1              234  \n",
       "2              296  "
      ]
     },
     "execution_count": 6,
     "metadata": {},
     "output_type": "execute_result"
    }
   ],
   "source": [
    "st_data.head(3)"
   ]
  },
  {
   "cell_type": "code",
   "execution_count": 7,
   "metadata": {},
   "outputs": [],
   "source": [
    "st_map=st_data[['district_name','longitude','latitude']]"
   ]
  },
  {
   "cell_type": "code",
   "execution_count": 9,
   "metadata": {},
   "outputs": [],
   "source": [
    "tn_score=st_data[['district_name','percent_retained','score_achievement','pct_chronically_absent_2020']]"
   ]
  },
  {
   "cell_type": "code",
   "execution_count": 12,
   "metadata": {},
   "outputs": [],
   "source": [
    "# group by score\n",
    "#filt_tn_school=filt_tn_school.groupby(['district_name']).mean()\n",
    "tn_score=tn_score.groupby(['district_name']).mean()"
   ]
  },
  {
   "cell_type": "code",
   "execution_count": 16,
   "metadata": {},
   "outputs": [],
   "source": [
    "# merge the two\n",
    "# merge by district_name\n",
    "#clean_county_data=fd_df.merge(filt_tn_school,how='inner', on=\"district_name\")\n",
    "dft=st_map.merge(tn_score,how='inner',on='district_name')"
   ]
  },
  {
   "cell_type": "code",
   "execution_count": 18,
   "metadata": {},
   "outputs": [],
   "source": [
    "#discipline_df=discipline_df.drop_duplicates(subset=['school_name'])\n",
    "dft=dft.drop_duplicates(subset=['district_name'])"
   ]
  },
  {
   "cell_type": "code",
   "execution_count": 3,
   "metadata": {},
   "outputs": [],
   "source": [
    "# import data\n",
    "finance_school = pd.read_csv('../data/clean_data/clean_county_data.csv')"
   ]
  },
  {
   "cell_type": "code",
   "execution_count": 3,
   "metadata": {},
   "outputs": [],
   "source": [
    "tn_school=tn_school[tn_school['graduation rate '] != 0]"
   ]
  },
  {
   "cell_type": "code",
   "execution_count": 7,
   "metadata": {},
   "outputs": [],
   "source": [
    "tn_school=tn_school.drop_duplicates(subset=['school_name'])"
   ]
  },
  {
   "cell_type": "code",
   "execution_count": 5,
   "metadata": {},
   "outputs": [],
   "source": [
    "#finance_school.head(5)"
   ]
  },
  {
   "cell_type": "code",
   "execution_count": 12,
   "metadata": {},
   "outputs": [
    {
     "data": {
      "text/plain": [
       "count    278.000000\n",
       "mean       5.202158\n",
       "std        5.140509\n",
       "min        0.000000\n",
       "25%        2.000000\n",
       "50%        3.700000\n",
       "75%        6.300000\n",
       "max       38.500000\n",
       "Name: dropout_rate, dtype: float64"
      ]
     },
     "execution_count": 12,
     "metadata": {},
     "output_type": "execute_result"
    }
   ],
   "source": [
    "tn_school.dropout_rate.describe()"
   ]
  },
  {
   "cell_type": "code",
   "execution_count": 16,
   "metadata": {},
   "outputs": [
    {
     "data": {
      "text/plain": [
       "count    278.000000\n",
       "mean      37.042806\n",
       "std       16.240439\n",
       "min        5.000000\n",
       "25%       27.950000\n",
       "50%       37.100000\n",
       "75%       46.600000\n",
       "max       86.200000\n",
       "Name: percent_scoring_21_or_higher, dtype: float64"
      ]
     },
     "execution_count": 16,
     "metadata": {},
     "output_type": "execute_result"
    }
   ],
   "source": [
    "tn_school.percent_scoring_21_or_higher.describe()"
   ]
  },
  {
   "cell_type": "code",
   "execution_count": 17,
   "metadata": {},
   "outputs": [
    {
     "data": {
      "text/plain": [
       "count    278.000000\n",
       "mean      19.371583\n",
       "std        2.008633\n",
       "min       14.700000\n",
       "25%       18.400000\n",
       "50%       19.300000\n",
       "75%       20.500000\n",
       "max       26.300000\n",
       "Name: average_composite_score, dtype: float64"
      ]
     },
     "execution_count": 17,
     "metadata": {},
     "output_type": "execute_result"
    }
   ],
   "source": [
    "tn_school.average_composite_score.describe()"
   ]
  },
  {
   "cell_type": "code",
   "execution_count": 14,
   "metadata": {
    "scrolled": true
   },
   "outputs": [
    {
     "data": {
      "text/plain": [
       "Index(['district_name', 'school_name', 'percent_suspended', 'percent_expelled',\n",
       "       'percent_committed_zero_tolerance', 'zipcode', 'longitude', 'latitude',\n",
       "       'graduation rate', 'dropout_rate', 'number of students total',\n",
       "       'percentage of ready graduates', 'participation_rate',\n",
       "       'average_english_score', 'average_math_score', 'average_reading_score',\n",
       "       'average_science_score', 'average_composite_score',\n",
       "       'percent_scoring_21_or_higher', 'percent_scoring_below_19',\n",
       "       'pct_chronically_absent'],\n",
       "      dtype='object')"
      ]
     },
     "execution_count": 14,
     "metadata": {},
     "output_type": "execute_result"
    }
   ],
   "source": [
    "tn_school.columns"
   ]
  },
  {
   "cell_type": "code",
   "execution_count": 15,
   "metadata": {},
   "outputs": [
    {
     "data": {
      "text/plain": [
       "count    278.000000\n",
       "mean      91.387770\n",
       "std        6.623097\n",
       "min       61.500000\n",
       "25%       90.000000\n",
       "50%       93.300000\n",
       "75%       95.700000\n",
       "max       99.000000\n",
       "Name: graduation rate, dtype: float64"
      ]
     },
     "execution_count": 15,
     "metadata": {},
     "output_type": "execute_result"
    }
   ],
   "source": [
    "tn_school['graduation rate'].describe()"
   ]
  },
  {
   "cell_type": "code",
   "execution_count": 21,
   "metadata": {},
   "outputs": [
    {
     "data": {
      "text/plain": [
       "count    264.000000\n",
       "mean      48.409091\n",
       "std       16.741519\n",
       "min        6.500000\n",
       "25%       37.475000\n",
       "50%       48.450000\n",
       "75%       56.150000\n",
       "max       92.000000\n",
       "Name: percent_scoring_below_19, dtype: float64"
      ]
     },
     "execution_count": 21,
     "metadata": {},
     "output_type": "execute_result"
    }
   ],
   "source": [
    "tn_school.percent_scoring_below_19.describe()"
   ]
  },
  {
   "cell_type": "code",
   "execution_count": 3,
   "metadata": {},
   "outputs": [
    {
     "name": "stderr",
     "output_type": "stream",
     "text": [
      "2021-06-05 08:15:38,995 - INFO     - Patching spark automatically. You can disable it by setting SPARK_KOALAS_AUTOPATCH=false in your environment\n"
     ]
    },
    {
     "name": "stdout",
     "output_type": "stream",
     "text": [
      "Executing shutdown due to inactivity...\n"
     ]
    },
    {
     "name": "stderr",
     "output_type": "stream",
     "text": [
      "2021-06-05 10:18:02,041 - INFO     - Executing shutdown due to inactivity...\n"
     ]
    },
    {
     "name": "stdout",
     "output_type": "stream",
     "text": [
      "Executing shutdown...\n"
     ]
    },
    {
     "name": "stderr",
     "output_type": "stream",
     "text": [
      "2021-06-05 10:18:06,101 - INFO     - Executing shutdown...\n"
     ]
    }
   ],
   "source": [
    "d = dtale.show(tn_school)\n",
    "d.open_browser()"
   ]
  },
  {
   "cell_type": "code",
   "execution_count": 19,
   "metadata": {},
   "outputs": [
    {
     "data": {
      "text/plain": [
       "Index(['school_name', 'students_total', 'percent_suspended',\n",
       "       'percent_expelled', 'percent_committed_zero_tolerance', 'zipcode',\n",
       "       'longitude', 'latitude', 'graduation rate ', 'dropout_rate',\n",
       "       'number of students total', 'percentage of ready graduates',\n",
       "       'district_name', 'participation_rate', 'average_english_score',\n",
       "       'average_math_score', 'average_reading_score', 'average_science_score',\n",
       "       'average_composite_score', 'percent_scoring_21_or_higher',\n",
       "       'percent_scoring_below_19'],\n",
       "      dtype='object')"
      ]
     },
     "execution_count": 19,
     "metadata": {},
     "output_type": "execute_result"
    },
    {
     "name": "stdout",
     "output_type": "stream",
     "text": [
      "Executing shutdown due to inactivity...\n"
     ]
    },
    {
     "name": "stderr",
     "output_type": "stream",
     "text": [
      "2021-05-25 20:56:24,042 - INFO     - Executing shutdown due to inactivity...\n"
     ]
    },
    {
     "name": "stdout",
     "output_type": "stream",
     "text": [
      "Executing shutdown...\n"
     ]
    },
    {
     "name": "stderr",
     "output_type": "stream",
     "text": [
      "2021-05-25 20:56:28,076 - INFO     - Executing shutdown...\n"
     ]
    }
   ],
   "source": [
    "tn_school.columns"
   ]
  },
  {
   "cell_type": "code",
   "execution_count": 6,
   "metadata": {},
   "outputs": [
    {
     "data": {
      "text/plain": [
       "Index(['district_name', 'zipcode', 'longitude', 'latitude',\n",
       "       'Total_School_Per_Pupil_Expenditures', 'Total_Expenditures_Per_School',\n",
       "       'Local_Percentage', 'Federal_Percentage', 'State_Percentage',\n",
       "       'students_total', 'percent_suspended', 'percent_expelled',\n",
       "       'percent_committed_zero_tolerance', 'graduation rate ', 'dropout_rate',\n",
       "       'number of students total', 'percentage of ready graduates',\n",
       "       'participation_rate', 'average_english_score', 'average_math_score',\n",
       "       'average_reading_score', 'average_science_score',\n",
       "       'average_composite_score', 'percent_scoring_21_or_higher',\n",
       "       'percent_scoring_below_19'],\n",
       "      dtype='object')"
      ]
     },
     "execution_count": 6,
     "metadata": {},
     "output_type": "execute_result"
    }
   ],
   "source": [
    "finance_school.columns"
   ]
  },
  {
   "cell_type": "code",
   "execution_count": 21,
   "metadata": {},
   "outputs": [
    {
     "data": {
      "text/html": [
       "<div>\n",
       "<style scoped>\n",
       "    .dataframe tbody tr th:only-of-type {\n",
       "        vertical-align: middle;\n",
       "    }\n",
       "\n",
       "    .dataframe tbody tr th {\n",
       "        vertical-align: top;\n",
       "    }\n",
       "\n",
       "    .dataframe thead th {\n",
       "        text-align: right;\n",
       "    }\n",
       "</style>\n",
       "<table border=\"1\" class=\"dataframe\">\n",
       "  <thead>\n",
       "    <tr style=\"text-align: right;\">\n",
       "      <th></th>\n",
       "      <th>district_name</th>\n",
       "      <th>zipcode</th>\n",
       "      <th>longitude</th>\n",
       "      <th>latitude</th>\n",
       "      <th>Total_School_Per_Pupil_Expenditures</th>\n",
       "      <th>Total_Expenditures_Per_School</th>\n",
       "      <th>Local_Percentage</th>\n",
       "      <th>Federal_Percentage</th>\n",
       "      <th>State_Percentage</th>\n",
       "      <th>students_total</th>\n",
       "      <th>...</th>\n",
       "      <th>number of students total</th>\n",
       "      <th>percentage of ready graduates</th>\n",
       "      <th>participation_rate</th>\n",
       "      <th>average_english_score</th>\n",
       "      <th>average_math_score</th>\n",
       "      <th>average_reading_score</th>\n",
       "      <th>average_science_score</th>\n",
       "      <th>average_composite_score</th>\n",
       "      <th>percent_scoring_21_or_higher</th>\n",
       "      <th>percent_scoring_below_19</th>\n",
       "    </tr>\n",
       "  </thead>\n",
       "  <tbody>\n",
       "    <tr>\n",
       "      <th>0</th>\n",
       "      <td>Anderson County</td>\n",
       "      <td>37716</td>\n",
       "      <td>-84.146560</td>\n",
       "      <td>36.099283</td>\n",
       "      <td>10440.46</td>\n",
       "      <td>10440.46</td>\n",
       "      <td>38.99</td>\n",
       "      <td>14.35</td>\n",
       "      <td>46.66</td>\n",
       "      <td>1169.500000</td>\n",
       "      <td>...</td>\n",
       "      <td>276.000000</td>\n",
       "      <td>42.850000</td>\n",
       "      <td>100.000000</td>\n",
       "      <td>19.050000</td>\n",
       "      <td>18.700</td>\n",
       "      <td>19.90</td>\n",
       "      <td>19.600000</td>\n",
       "      <td>19.450000</td>\n",
       "      <td>37.500000</td>\n",
       "      <td>48.35</td>\n",
       "    </tr>\n",
       "    <tr>\n",
       "      <th>1</th>\n",
       "      <td>Oak Ridge</td>\n",
       "      <td>37831</td>\n",
       "      <td>-84.195796</td>\n",
       "      <td>36.105971</td>\n",
       "      <td>13041.51</td>\n",
       "      <td>13041.51</td>\n",
       "      <td>54.76</td>\n",
       "      <td>8.48</td>\n",
       "      <td>36.76</td>\n",
       "      <td>1578.000000</td>\n",
       "      <td>...</td>\n",
       "      <td>304.000000</td>\n",
       "      <td>65.500000</td>\n",
       "      <td>97.000000</td>\n",
       "      <td>23.000000</td>\n",
       "      <td>22.200</td>\n",
       "      <td>24.20</td>\n",
       "      <td>23.200000</td>\n",
       "      <td>23.300000</td>\n",
       "      <td>64.300000</td>\n",
       "      <td>23.90</td>\n",
       "    </tr>\n",
       "    <tr>\n",
       "      <th>2</th>\n",
       "      <td>Bedford County</td>\n",
       "      <td>37160</td>\n",
       "      <td>-86.459740</td>\n",
       "      <td>35.470660</td>\n",
       "      <td>8263.84</td>\n",
       "      <td>8263.84</td>\n",
       "      <td>18.23</td>\n",
       "      <td>12.57</td>\n",
       "      <td>69.19</td>\n",
       "      <td>910.666667</td>\n",
       "      <td>...</td>\n",
       "      <td>210.666667</td>\n",
       "      <td>33.933333</td>\n",
       "      <td>97.666667</td>\n",
       "      <td>18.833333</td>\n",
       "      <td>18.500</td>\n",
       "      <td>19.80</td>\n",
       "      <td>19.666667</td>\n",
       "      <td>19.366667</td>\n",
       "      <td>36.466667</td>\n",
       "      <td>49.90</td>\n",
       "    </tr>\n",
       "    <tr>\n",
       "      <th>3</th>\n",
       "      <td>Benton County</td>\n",
       "      <td>38320</td>\n",
       "      <td>-88.101370</td>\n",
       "      <td>36.050286</td>\n",
       "      <td>10628.28</td>\n",
       "      <td>10628.28</td>\n",
       "      <td>29.21</td>\n",
       "      <td>10.59</td>\n",
       "      <td>60.20</td>\n",
       "      <td>426.000000</td>\n",
       "      <td>...</td>\n",
       "      <td>80.000000</td>\n",
       "      <td>26.450000</td>\n",
       "      <td>98.500000</td>\n",
       "      <td>17.150000</td>\n",
       "      <td>18.150</td>\n",
       "      <td>18.70</td>\n",
       "      <td>19.450000</td>\n",
       "      <td>18.550000</td>\n",
       "      <td>26.950000</td>\n",
       "      <td>54.05</td>\n",
       "    </tr>\n",
       "    <tr>\n",
       "      <th>4</th>\n",
       "      <td>Bledsoe County</td>\n",
       "      <td>37367</td>\n",
       "      <td>-85.171610</td>\n",
       "      <td>35.635097</td>\n",
       "      <td>10683.45</td>\n",
       "      <td>10683.45</td>\n",
       "      <td>15.66</td>\n",
       "      <td>17.22</td>\n",
       "      <td>67.12</td>\n",
       "      <td>547.000000</td>\n",
       "      <td>...</td>\n",
       "      <td>120.000000</td>\n",
       "      <td>32.500000</td>\n",
       "      <td>96.000000</td>\n",
       "      <td>17.700000</td>\n",
       "      <td>18.000</td>\n",
       "      <td>18.50</td>\n",
       "      <td>18.500000</td>\n",
       "      <td>18.300000</td>\n",
       "      <td>29.600000</td>\n",
       "      <td>57.40</td>\n",
       "    </tr>\n",
       "    <tr>\n",
       "      <th>5</th>\n",
       "      <td>Blount County</td>\n",
       "      <td>37803</td>\n",
       "      <td>-83.984120</td>\n",
       "      <td>35.693358</td>\n",
       "      <td>9636.79</td>\n",
       "      <td>9636.79</td>\n",
       "      <td>46.62</td>\n",
       "      <td>8.47</td>\n",
       "      <td>44.91</td>\n",
       "      <td>1665.000000</td>\n",
       "      <td>...</td>\n",
       "      <td>396.500000</td>\n",
       "      <td>35.000000</td>\n",
       "      <td>98.500000</td>\n",
       "      <td>19.100000</td>\n",
       "      <td>19.050</td>\n",
       "      <td>19.60</td>\n",
       "      <td>19.300000</td>\n",
       "      <td>19.350000</td>\n",
       "      <td>36.700000</td>\n",
       "      <td>49.25</td>\n",
       "    </tr>\n",
       "    <tr>\n",
       "      <th>6</th>\n",
       "      <td>Alcoa</td>\n",
       "      <td>37701</td>\n",
       "      <td>-83.979560</td>\n",
       "      <td>35.784708</td>\n",
       "      <td>11538.45</td>\n",
       "      <td>11538.45</td>\n",
       "      <td>51.49</td>\n",
       "      <td>9.43</td>\n",
       "      <td>39.08</td>\n",
       "      <td>712.000000</td>\n",
       "      <td>...</td>\n",
       "      <td>172.000000</td>\n",
       "      <td>59.300000</td>\n",
       "      <td>100.000000</td>\n",
       "      <td>21.100000</td>\n",
       "      <td>20.000</td>\n",
       "      <td>21.60</td>\n",
       "      <td>20.900000</td>\n",
       "      <td>21.100000</td>\n",
       "      <td>53.500000</td>\n",
       "      <td>32.90</td>\n",
       "    </tr>\n",
       "    <tr>\n",
       "      <th>7</th>\n",
       "      <td>Maryville</td>\n",
       "      <td>37803</td>\n",
       "      <td>-83.984120</td>\n",
       "      <td>35.693358</td>\n",
       "      <td>10705.27</td>\n",
       "      <td>10705.27</td>\n",
       "      <td>54.25</td>\n",
       "      <td>5.19</td>\n",
       "      <td>40.56</td>\n",
       "      <td>1234.000000</td>\n",
       "      <td>...</td>\n",
       "      <td>420.000000</td>\n",
       "      <td>66.000000</td>\n",
       "      <td>99.000000</td>\n",
       "      <td>23.600000</td>\n",
       "      <td>22.800</td>\n",
       "      <td>23.60</td>\n",
       "      <td>23.300000</td>\n",
       "      <td>23.500000</td>\n",
       "      <td>70.100000</td>\n",
       "      <td>20.30</td>\n",
       "    </tr>\n",
       "    <tr>\n",
       "      <th>8</th>\n",
       "      <td>Bradley County</td>\n",
       "      <td>37311</td>\n",
       "      <td>-84.887230</td>\n",
       "      <td>35.146362</td>\n",
       "      <td>8613.96</td>\n",
       "      <td>8613.96</td>\n",
       "      <td>31.23</td>\n",
       "      <td>10.83</td>\n",
       "      <td>57.94</td>\n",
       "      <td>856.250000</td>\n",
       "      <td>...</td>\n",
       "      <td>206.500000</td>\n",
       "      <td>43.075000</td>\n",
       "      <td>99.750000</td>\n",
       "      <td>18.375000</td>\n",
       "      <td>18.225</td>\n",
       "      <td>19.55</td>\n",
       "      <td>18.825000</td>\n",
       "      <td>18.875000</td>\n",
       "      <td>40.425000</td>\n",
       "      <td>53.25</td>\n",
       "    </tr>\n",
       "    <tr>\n",
       "      <th>9</th>\n",
       "      <td>Cleveland</td>\n",
       "      <td>37312</td>\n",
       "      <td>-84.864890</td>\n",
       "      <td>35.219532</td>\n",
       "      <td>9718.14</td>\n",
       "      <td>9718.14</td>\n",
       "      <td>35.31</td>\n",
       "      <td>10.85</td>\n",
       "      <td>53.85</td>\n",
       "      <td>1824.000000</td>\n",
       "      <td>...</td>\n",
       "      <td>409.000000</td>\n",
       "      <td>43.300000</td>\n",
       "      <td>96.000000</td>\n",
       "      <td>19.900000</td>\n",
       "      <td>19.600</td>\n",
       "      <td>21.30</td>\n",
       "      <td>20.700000</td>\n",
       "      <td>20.500000</td>\n",
       "      <td>45.500000</td>\n",
       "      <td>42.90</td>\n",
       "    </tr>\n",
       "  </tbody>\n",
       "</table>\n",
       "<p>10 rows × 25 columns</p>\n",
       "</div>"
      ],
      "text/plain": [
       "     district_name  zipcode  longitude   latitude  \\\n",
       "0  Anderson County    37716 -84.146560  36.099283   \n",
       "1        Oak Ridge    37831 -84.195796  36.105971   \n",
       "2   Bedford County    37160 -86.459740  35.470660   \n",
       "3    Benton County    38320 -88.101370  36.050286   \n",
       "4   Bledsoe County    37367 -85.171610  35.635097   \n",
       "5    Blount County    37803 -83.984120  35.693358   \n",
       "6            Alcoa    37701 -83.979560  35.784708   \n",
       "7        Maryville    37803 -83.984120  35.693358   \n",
       "8   Bradley County    37311 -84.887230  35.146362   \n",
       "9        Cleveland    37312 -84.864890  35.219532   \n",
       "\n",
       "   Total_School_Per_Pupil_Expenditures  Total_Expenditures_Per_School  \\\n",
       "0                             10440.46                       10440.46   \n",
       "1                             13041.51                       13041.51   \n",
       "2                              8263.84                        8263.84   \n",
       "3                             10628.28                       10628.28   \n",
       "4                             10683.45                       10683.45   \n",
       "5                              9636.79                        9636.79   \n",
       "6                             11538.45                       11538.45   \n",
       "7                             10705.27                       10705.27   \n",
       "8                              8613.96                        8613.96   \n",
       "9                              9718.14                        9718.14   \n",
       "\n",
       "   Local_Percentage  Federal_Percentage  State_Percentage  students_total  \\\n",
       "0             38.99               14.35             46.66     1169.500000   \n",
       "1             54.76                8.48             36.76     1578.000000   \n",
       "2             18.23               12.57             69.19      910.666667   \n",
       "3             29.21               10.59             60.20      426.000000   \n",
       "4             15.66               17.22             67.12      547.000000   \n",
       "5             46.62                8.47             44.91     1665.000000   \n",
       "6             51.49                9.43             39.08      712.000000   \n",
       "7             54.25                5.19             40.56     1234.000000   \n",
       "8             31.23               10.83             57.94      856.250000   \n",
       "9             35.31               10.85             53.85     1824.000000   \n",
       "\n",
       "   ...  number of students total  percentage of ready graduates  \\\n",
       "0  ...                276.000000                      42.850000   \n",
       "1  ...                304.000000                      65.500000   \n",
       "2  ...                210.666667                      33.933333   \n",
       "3  ...                 80.000000                      26.450000   \n",
       "4  ...                120.000000                      32.500000   \n",
       "5  ...                396.500000                      35.000000   \n",
       "6  ...                172.000000                      59.300000   \n",
       "7  ...                420.000000                      66.000000   \n",
       "8  ...                206.500000                      43.075000   \n",
       "9  ...                409.000000                      43.300000   \n",
       "\n",
       "   participation_rate  average_english_score  average_math_score  \\\n",
       "0          100.000000              19.050000              18.700   \n",
       "1           97.000000              23.000000              22.200   \n",
       "2           97.666667              18.833333              18.500   \n",
       "3           98.500000              17.150000              18.150   \n",
       "4           96.000000              17.700000              18.000   \n",
       "5           98.500000              19.100000              19.050   \n",
       "6          100.000000              21.100000              20.000   \n",
       "7           99.000000              23.600000              22.800   \n",
       "8           99.750000              18.375000              18.225   \n",
       "9           96.000000              19.900000              19.600   \n",
       "\n",
       "   average_reading_score  average_science_score  average_composite_score  \\\n",
       "0                  19.90              19.600000                19.450000   \n",
       "1                  24.20              23.200000                23.300000   \n",
       "2                  19.80              19.666667                19.366667   \n",
       "3                  18.70              19.450000                18.550000   \n",
       "4                  18.50              18.500000                18.300000   \n",
       "5                  19.60              19.300000                19.350000   \n",
       "6                  21.60              20.900000                21.100000   \n",
       "7                  23.60              23.300000                23.500000   \n",
       "8                  19.55              18.825000                18.875000   \n",
       "9                  21.30              20.700000                20.500000   \n",
       "\n",
       "   percent_scoring_21_or_higher  percent_scoring_below_19  \n",
       "0                     37.500000                     48.35  \n",
       "1                     64.300000                     23.90  \n",
       "2                     36.466667                     49.90  \n",
       "3                     26.950000                     54.05  \n",
       "4                     29.600000                     57.40  \n",
       "5                     36.700000                     49.25  \n",
       "6                     53.500000                     32.90  \n",
       "7                     70.100000                     20.30  \n",
       "8                     40.425000                     53.25  \n",
       "9                     45.500000                     42.90  \n",
       "\n",
       "[10 rows x 25 columns]"
      ]
     },
     "execution_count": 21,
     "metadata": {},
     "output_type": "execute_result"
    }
   ],
   "source": [
    "finance_school.head(10)"
   ]
  },
  {
   "cell_type": "code",
   "execution_count": null,
   "metadata": {},
   "outputs": [],
   "source": [
    "fig_zip = px.scatter_mapbox(finance_data, lat=\"latitude\", lon=\"longitude\",color='Total_Expenditures_Per_School', size=\"State_Percentage\",\n",
    "                  color_continuous_scale=px.colors.cyclical.Edge, size_max=15, zoom=5,hover_name=\"district_name\",\n",
    "                  mapbox_style=\"carto-positron\")\n",
    "fig_zip"
   ]
  },
  {
   "cell_type": "code",
   "execution_count": 6,
   "metadata": {},
   "outputs": [
    {
     "name": "stderr",
     "output_type": "stream",
     "text": [
      "2021-06-04 14:39:26,646 - INFO     - Patching spark automatically. You can disable it by setting SPARK_KOALAS_AUTOPATCH=false in your environment\n"
     ]
    }
   ],
   "source": [
    "d = dtale.show(testing)\n",
    "d.open_browser()"
   ]
  },
  {
   "cell_type": "code",
   "execution_count": 18,
   "metadata": {},
   "outputs": [
    {
     "ename": "ValueError",
     "evalue": "Invalid property specified for object of type plotly.graph_objs.Scattergeo: 'hover_name'\n\n    Valid properties:\n        connectgaps\n            Determines whether or not gaps (i.e. {nan} or missing\n            values) in the provided data arrays are connected.\n        customdata\n            Assigns extra data each datum. This may be useful when\n            listening to hover, click and selection events. Note\n            that, \"scatter\" traces also appends customdata items in\n            the markers DOM elements\n        customdatasrc\n            Sets the source reference on Chart Studio Cloud for\n            customdata .\n        featureidkey\n            Sets the key in GeoJSON features which is used as id to\n            match the items included in the `locations` array. Only\n            has an effect when `geojson` is set. Support nested\n            property, for example \"properties.name\".\n        fill\n            Sets the area to fill with a solid color. Use with\n            `fillcolor` if not \"none\". \"toself\" connects the\n            endpoints of the trace (or each segment of the trace if\n            it has gaps) into a closed shape.\n        fillcolor\n            Sets the fill color. Defaults to a half-transparent\n            variant of the line color, marker color, or marker line\n            color, whichever is available.\n        geo\n            Sets a reference between this trace's geospatial\n            coordinates and a geographic map. If \"geo\" (the default\n            value), the geospatial coordinates refer to\n            `layout.geo`. If \"geo2\", the geospatial coordinates\n            refer to `layout.geo2`, and so on.\n        geojson\n            Sets optional GeoJSON data associated with this trace.\n            If not given, the features on the base map are used\n            when `locations` is set. It can be set as a valid\n            GeoJSON object or as a URL string. Note that we only\n            accept GeoJSONs of type \"FeatureCollection\" or\n            \"Feature\" with geometries of type \"Polygon\" or\n            \"MultiPolygon\".\n        hoverinfo\n            Determines which trace information appear on hover. If\n            `none` or `skip` are set, no information is displayed\n            upon hovering. But, if `none` is set, click and hover\n            events are still fired.\n        hoverinfosrc\n            Sets the source reference on Chart Studio Cloud for\n            hoverinfo .\n        hoverlabel\n            :class:`plotly.graph_objects.scattergeo.Hoverlabel`\n            instance or dict with compatible properties\n        hovertemplate\n            Template string used for rendering the information that\n            appear on hover box. Note that this will override\n            `hoverinfo`. Variables are inserted using %{variable},\n            for example \"y: %{y}\". Numbers are formatted using\n            d3-format's syntax %{variable:d3-format}, for example\n            \"Price: %{y:$.2f}\". https://github.com/d3/d3-3.x-api-\n            reference/blob/master/Formatting.md#d3_format for\n            details on the formatting syntax. Dates are formatted\n            using d3-time-format's syntax %{variable|d3-time-\n            format}, for example \"Day: %{2019-01-01|%A}\".\n            https://github.com/d3/d3-time-format#locale_format for\n            details on the date formatting syntax. The variables\n            available in `hovertemplate` are the ones emitted as\n            event data described at this link\n            https://plotly.com/javascript/plotlyjs-events/#event-\n            data. Additionally, every attributes that can be\n            specified per-point (the ones that are `arrayOk: true`)\n            are available.  Anything contained in tag `<extra>` is\n            displayed in the secondary box, for example\n            \"<extra>{fullData.name}</extra>\". To hide the secondary\n            box completely, use an empty tag `<extra></extra>`.\n        hovertemplatesrc\n            Sets the source reference on Chart Studio Cloud for\n            hovertemplate .\n        hovertext\n            Sets hover text elements associated with each (lon,lat)\n            pair or item in `locations`. If a single string, the\n            same string appears over all the data points. If an\n            array of string, the items are mapped in order to the\n            this trace's (lon,lat) or `locations` coordinates. To\n            be seen, trace `hoverinfo` must contain a \"text\" flag.\n        hovertextsrc\n            Sets the source reference on Chart Studio Cloud for\n            hovertext .\n        ids\n            Assigns id labels to each datum. These ids for object\n            constancy of data points during animation. Should be an\n            array of strings, not numbers or any other type.\n        idssrc\n            Sets the source reference on Chart Studio Cloud for\n            ids .\n        lat\n            Sets the latitude coordinates (in degrees North).\n        latsrc\n            Sets the source reference on Chart Studio Cloud for\n            lat .\n        legendgroup\n            Sets the legend group for this trace. Traces part of\n            the same legend group hide/show at the same time when\n            toggling legend items.\n        line\n            :class:`plotly.graph_objects.scattergeo.Line` instance\n            or dict with compatible properties\n        locationmode\n            Determines the set of locations used to match entries\n            in `locations` to regions on the map. Values \"ISO-3\",\n            \"USA-states\", *country names* correspond to features on\n            the base map and value \"geojson-id\" corresponds to\n            features from a custom GeoJSON linked to the `geojson`\n            attribute.\n        locations\n            Sets the coordinates via location IDs or names.\n            Coordinates correspond to the centroid of each location\n            given. See `locationmode` for more info.\n        locationssrc\n            Sets the source reference on Chart Studio Cloud for\n            locations .\n        lon\n            Sets the longitude coordinates (in degrees East).\n        lonsrc\n            Sets the source reference on Chart Studio Cloud for\n            lon .\n        marker\n            :class:`plotly.graph_objects.scattergeo.Marker`\n            instance or dict with compatible properties\n        meta\n            Assigns extra meta information associated with this\n            trace that can be used in various text attributes.\n            Attributes such as trace `name`, graph, axis and\n            colorbar `title.text`, annotation `text`\n            `rangeselector`, `updatemenues` and `sliders` `label`\n            text all support `meta`. To access the trace `meta`\n            values in an attribute in the same trace, simply use\n            `%{meta[i]}` where `i` is the index or key of the\n            `meta` item in question. To access trace `meta` in\n            layout attributes, use `%{data[n[.meta[i]}` where `i`\n            is the index or key of the `meta` and `n` is the trace\n            index.\n        metasrc\n            Sets the source reference on Chart Studio Cloud for\n            meta .\n        mode\n            Determines the drawing mode for this scatter trace. If\n            the provided `mode` includes \"text\" then the `text`\n            elements appear at the coordinates. Otherwise, the\n            `text` elements appear on hover. If there are less than\n            20 points and the trace is not stacked then the default\n            is \"lines+markers\". Otherwise, \"lines\".\n        name\n            Sets the trace name. The trace name appear as the\n            legend item and on hover.\n        opacity\n            Sets the opacity of the trace.\n        selected\n            :class:`plotly.graph_objects.scattergeo.Selected`\n            instance or dict with compatible properties\n        selectedpoints\n            Array containing integer indices of selected points.\n            Has an effect only for traces that support selections.\n            Note that an empty array means an empty selection where\n            the `unselected` are turned on for all points, whereas,\n            any other non-array values means no selection all where\n            the `selected` and `unselected` styles have no effect.\n        showlegend\n            Determines whether or not an item corresponding to this\n            trace is shown in the legend.\n        stream\n            :class:`plotly.graph_objects.scattergeo.Stream`\n            instance or dict with compatible properties\n        text\n            Sets text elements associated with each (lon,lat) pair\n            or item in `locations`. If a single string, the same\n            string appears over all the data points. If an array of\n            string, the items are mapped in order to the this\n            trace's (lon,lat) or `locations` coordinates. If trace\n            `hoverinfo` contains a \"text\" flag and \"hovertext\" is\n            not set, these elements will be seen in the hover\n            labels.\n        textfont\n            Sets the text font.\n        textposition\n            Sets the positions of the `text` elements with respects\n            to the (x,y) coordinates.\n        textpositionsrc\n            Sets the source reference on Chart Studio Cloud for\n            textposition .\n        textsrc\n            Sets the source reference on Chart Studio Cloud for\n            text .\n        texttemplate\n            Template string used for rendering the information text\n            that appear on points. Note that this will override\n            `textinfo`. Variables are inserted using %{variable},\n            for example \"y: %{y}\". Numbers are formatted using\n            d3-format's syntax %{variable:d3-format}, for example\n            \"Price: %{y:$.2f}\". https://github.com/d3/d3-3.x-api-\n            reference/blob/master/Formatting.md#d3_format for\n            details on the formatting syntax. Dates are formatted\n            using d3-time-format's syntax %{variable|d3-time-\n            format}, for example \"Day: %{2019-01-01|%A}\".\n            https://github.com/d3/d3-time-format#locale_format for\n            details on the date formatting syntax. Every attributes\n            that can be specified per-point (the ones that are\n            `arrayOk: true`) are available. variables `lat`, `lon`,\n            `location` and `text`.\n        texttemplatesrc\n            Sets the source reference on Chart Studio Cloud for\n            texttemplate .\n        uid\n            Assign an id to this trace, Use this to provide object\n            constancy between traces during animations and\n            transitions.\n        uirevision\n            Controls persistence of some user-driven changes to the\n            trace: `constraintrange` in `parcoords` traces, as well\n            as some `editable: true` modifications such as `name`\n            and `colorbar.title`. Defaults to `layout.uirevision`.\n            Note that other user-driven trace attribute changes are\n            controlled by `layout` attributes: `trace.visible` is\n            controlled by `layout.legend.uirevision`,\n            `selectedpoints` is controlled by\n            `layout.selectionrevision`, and `colorbar.(x|y)`\n            (accessible with `config: {editable: true}`) is\n            controlled by `layout.editrevision`. Trace changes are\n            tracked by `uid`, which only falls back on trace index\n            if no `uid` is provided. So if your app can add/remove\n            traces before the end of the `data` array, such that\n            the same trace has a different index, you can still\n            preserve user-driven changes if you give each trace a\n            `uid` that stays with it as it moves.\n        unselected\n            :class:`plotly.graph_objects.scattergeo.Unselected`\n            instance or dict with compatible properties\n        visible\n            Determines whether or not this trace is visible. If\n            \"legendonly\", the trace is not drawn, but can appear as\n            a legend item (provided that the legend itself is\n            visible).\n        ",
     "output_type": "error",
     "traceback": [
      "\u001b[1;31m---------------------------------------------------------------------------\u001b[0m",
      "\u001b[1;31mValueError\u001b[0m                                Traceback (most recent call last)",
      "\u001b[1;32m<ipython-input-18-50019437640b>\u001b[0m in \u001b[0;36m<module>\u001b[1;34m\u001b[0m\n\u001b[0;32m      5\u001b[0m \u001b[1;31m#df['text'] = df['airport'] + '' + df['city'] + ', ' + df['state'] + '' + 'Arrivals: ' + df['cnt'].astype(str)\u001b[0m\u001b[1;33m\u001b[0m\u001b[1;33m\u001b[0m\u001b[1;33m\u001b[0m\u001b[0m\n\u001b[0;32m      6\u001b[0m \u001b[1;33m\u001b[0m\u001b[0m\n\u001b[1;32m----> 7\u001b[1;33m fig = go.Figure(data=go.Scattergeo(\n\u001b[0m\u001b[0;32m      8\u001b[0m         \u001b[0mlon\u001b[0m \u001b[1;33m=\u001b[0m \u001b[0mfinance_school\u001b[0m\u001b[1;33m[\u001b[0m\u001b[1;34m'longitude'\u001b[0m\u001b[1;33m]\u001b[0m\u001b[1;33m,\u001b[0m\u001b[1;33m\u001b[0m\u001b[1;33m\u001b[0m\u001b[0m\n\u001b[0;32m      9\u001b[0m         \u001b[0mlat\u001b[0m \u001b[1;33m=\u001b[0m \u001b[0mfinance_school\u001b[0m\u001b[1;33m[\u001b[0m\u001b[1;34m'latitude'\u001b[0m\u001b[1;33m]\u001b[0m\u001b[1;33m,\u001b[0m\u001b[1;33m\u001b[0m\u001b[1;33m\u001b[0m\u001b[0m\n",
      "\u001b[1;32m~\\anaconda3\\lib\\site-packages\\plotly\\graph_objs\\_scattergeo.py\u001b[0m in \u001b[0;36m__init__\u001b[1;34m(self, arg, connectgaps, customdata, customdatasrc, featureidkey, fill, fillcolor, geo, geojson, hoverinfo, hoverinfosrc, hoverlabel, hovertemplate, hovertemplatesrc, hovertext, hovertextsrc, ids, idssrc, lat, latsrc, legendgroup, line, locationmode, locations, locationssrc, lon, lonsrc, marker, meta, metasrc, mode, name, opacity, selected, selectedpoints, showlegend, stream, text, textfont, textposition, textpositionsrc, textsrc, texttemplate, texttemplatesrc, uid, uirevision, unselected, visible, **kwargs)\u001b[0m\n\u001b[0;32m   2226\u001b[0m         \u001b[1;31m# Process unknown kwargs\u001b[0m\u001b[1;33m\u001b[0m\u001b[1;33m\u001b[0m\u001b[1;33m\u001b[0m\u001b[0m\n\u001b[0;32m   2227\u001b[0m         \u001b[1;31m# ----------------------\u001b[0m\u001b[1;33m\u001b[0m\u001b[1;33m\u001b[0m\u001b[1;33m\u001b[0m\u001b[0m\n\u001b[1;32m-> 2228\u001b[1;33m         \u001b[0mself\u001b[0m\u001b[1;33m.\u001b[0m\u001b[0m_process_kwargs\u001b[0m\u001b[1;33m(\u001b[0m\u001b[1;33m**\u001b[0m\u001b[0mdict\u001b[0m\u001b[1;33m(\u001b[0m\u001b[0marg\u001b[0m\u001b[1;33m,\u001b[0m \u001b[1;33m**\u001b[0m\u001b[0mkwargs\u001b[0m\u001b[1;33m)\u001b[0m\u001b[1;33m)\u001b[0m\u001b[1;33m\u001b[0m\u001b[1;33m\u001b[0m\u001b[0m\n\u001b[0m\u001b[0;32m   2229\u001b[0m \u001b[1;33m\u001b[0m\u001b[0m\n\u001b[0;32m   2230\u001b[0m         \u001b[1;31m# Reset skip_invalid\u001b[0m\u001b[1;33m\u001b[0m\u001b[1;33m\u001b[0m\u001b[1;33m\u001b[0m\u001b[0m\n",
      "\u001b[1;32m~\\anaconda3\\lib\\site-packages\\plotly\\basedatatypes.py\u001b[0m in \u001b[0;36m_process_kwargs\u001b[1;34m(self, **kwargs)\u001b[0m\n\u001b[0;32m   3547\u001b[0m \u001b[1;33m\u001b[0m\u001b[0m\n\u001b[0;32m   3548\u001b[0m         \u001b[1;32mif\u001b[0m \u001b[0minvalid_kwargs\u001b[0m \u001b[1;32mand\u001b[0m \u001b[1;32mnot\u001b[0m \u001b[0mself\u001b[0m\u001b[1;33m.\u001b[0m\u001b[0m_skip_invalid\u001b[0m\u001b[1;33m:\u001b[0m\u001b[1;33m\u001b[0m\u001b[1;33m\u001b[0m\u001b[0m\n\u001b[1;32m-> 3549\u001b[1;33m             \u001b[0mself\u001b[0m\u001b[1;33m.\u001b[0m\u001b[0m_raise_on_invalid_property_error\u001b[0m\u001b[1;33m(\u001b[0m\u001b[1;33m*\u001b[0m\u001b[0minvalid_kwargs\u001b[0m\u001b[1;33m.\u001b[0m\u001b[0mkeys\u001b[0m\u001b[1;33m(\u001b[0m\u001b[1;33m)\u001b[0m\u001b[1;33m)\u001b[0m\u001b[1;33m\u001b[0m\u001b[1;33m\u001b[0m\u001b[0m\n\u001b[0m\u001b[0;32m   3550\u001b[0m \u001b[1;33m\u001b[0m\u001b[0m\n\u001b[0;32m   3551\u001b[0m     \u001b[1;33m@\u001b[0m\u001b[0mproperty\u001b[0m\u001b[1;33m\u001b[0m\u001b[1;33m\u001b[0m\u001b[0m\n",
      "\u001b[1;32m~\\anaconda3\\lib\\site-packages\\plotly\\basedatatypes.py\u001b[0m in \u001b[0;36m_raise_on_invalid_property_error\u001b[1;34m(self, *args)\u001b[0m\n\u001b[0;32m   4215\u001b[0m                 \u001b[0mfull_obj_name\u001b[0m \u001b[1;33m=\u001b[0m \u001b[0mmodule_root\u001b[0m \u001b[1;33m+\u001b[0m \u001b[0mself\u001b[0m\u001b[1;33m.\u001b[0m\u001b[0m__class__\u001b[0m\u001b[1;33m.\u001b[0m\u001b[0m__name__\u001b[0m\u001b[1;33m\u001b[0m\u001b[1;33m\u001b[0m\u001b[0m\n\u001b[0;32m   4216\u001b[0m \u001b[1;33m\u001b[0m\u001b[0m\n\u001b[1;32m-> 4217\u001b[1;33m             raise ValueError(\n\u001b[0m\u001b[0;32m   4218\u001b[0m                 \u001b[1;34m\"Invalid {prop_str} specified for object of type \"\u001b[0m\u001b[1;33m\u001b[0m\u001b[1;33m\u001b[0m\u001b[0m\n\u001b[0;32m   4219\u001b[0m                 \u001b[1;34m\"{full_obj_name}: {invalid_str}\\n\\n\"\u001b[0m\u001b[1;33m\u001b[0m\u001b[1;33m\u001b[0m\u001b[0m\n",
      "\u001b[1;31mValueError\u001b[0m: Invalid property specified for object of type plotly.graph_objs.Scattergeo: 'hover_name'\n\n    Valid properties:\n        connectgaps\n            Determines whether or not gaps (i.e. {nan} or missing\n            values) in the provided data arrays are connected.\n        customdata\n            Assigns extra data each datum. This may be useful when\n            listening to hover, click and selection events. Note\n            that, \"scatter\" traces also appends customdata items in\n            the markers DOM elements\n        customdatasrc\n            Sets the source reference on Chart Studio Cloud for\n            customdata .\n        featureidkey\n            Sets the key in GeoJSON features which is used as id to\n            match the items included in the `locations` array. Only\n            has an effect when `geojson` is set. Support nested\n            property, for example \"properties.name\".\n        fill\n            Sets the area to fill with a solid color. Use with\n            `fillcolor` if not \"none\". \"toself\" connects the\n            endpoints of the trace (or each segment of the trace if\n            it has gaps) into a closed shape.\n        fillcolor\n            Sets the fill color. Defaults to a half-transparent\n            variant of the line color, marker color, or marker line\n            color, whichever is available.\n        geo\n            Sets a reference between this trace's geospatial\n            coordinates and a geographic map. If \"geo\" (the default\n            value), the geospatial coordinates refer to\n            `layout.geo`. If \"geo2\", the geospatial coordinates\n            refer to `layout.geo2`, and so on.\n        geojson\n            Sets optional GeoJSON data associated with this trace.\n            If not given, the features on the base map are used\n            when `locations` is set. It can be set as a valid\n            GeoJSON object or as a URL string. Note that we only\n            accept GeoJSONs of type \"FeatureCollection\" or\n            \"Feature\" with geometries of type \"Polygon\" or\n            \"MultiPolygon\".\n        hoverinfo\n            Determines which trace information appear on hover. If\n            `none` or `skip` are set, no information is displayed\n            upon hovering. But, if `none` is set, click and hover\n            events are still fired.\n        hoverinfosrc\n            Sets the source reference on Chart Studio Cloud for\n            hoverinfo .\n        hoverlabel\n            :class:`plotly.graph_objects.scattergeo.Hoverlabel`\n            instance or dict with compatible properties\n        hovertemplate\n            Template string used for rendering the information that\n            appear on hover box. Note that this will override\n            `hoverinfo`. Variables are inserted using %{variable},\n            for example \"y: %{y}\". Numbers are formatted using\n            d3-format's syntax %{variable:d3-format}, for example\n            \"Price: %{y:$.2f}\". https://github.com/d3/d3-3.x-api-\n            reference/blob/master/Formatting.md#d3_format for\n            details on the formatting syntax. Dates are formatted\n            using d3-time-format's syntax %{variable|d3-time-\n            format}, for example \"Day: %{2019-01-01|%A}\".\n            https://github.com/d3/d3-time-format#locale_format for\n            details on the date formatting syntax. The variables\n            available in `hovertemplate` are the ones emitted as\n            event data described at this link\n            https://plotly.com/javascript/plotlyjs-events/#event-\n            data. Additionally, every attributes that can be\n            specified per-point (the ones that are `arrayOk: true`)\n            are available.  Anything contained in tag `<extra>` is\n            displayed in the secondary box, for example\n            \"<extra>{fullData.name}</extra>\". To hide the secondary\n            box completely, use an empty tag `<extra></extra>`.\n        hovertemplatesrc\n            Sets the source reference on Chart Studio Cloud for\n            hovertemplate .\n        hovertext\n            Sets hover text elements associated with each (lon,lat)\n            pair or item in `locations`. If a single string, the\n            same string appears over all the data points. If an\n            array of string, the items are mapped in order to the\n            this trace's (lon,lat) or `locations` coordinates. To\n            be seen, trace `hoverinfo` must contain a \"text\" flag.\n        hovertextsrc\n            Sets the source reference on Chart Studio Cloud for\n            hovertext .\n        ids\n            Assigns id labels to each datum. These ids for object\n            constancy of data points during animation. Should be an\n            array of strings, not numbers or any other type.\n        idssrc\n            Sets the source reference on Chart Studio Cloud for\n            ids .\n        lat\n            Sets the latitude coordinates (in degrees North).\n        latsrc\n            Sets the source reference on Chart Studio Cloud for\n            lat .\n        legendgroup\n            Sets the legend group for this trace. Traces part of\n            the same legend group hide/show at the same time when\n            toggling legend items.\n        line\n            :class:`plotly.graph_objects.scattergeo.Line` instance\n            or dict with compatible properties\n        locationmode\n            Determines the set of locations used to match entries\n            in `locations` to regions on the map. Values \"ISO-3\",\n            \"USA-states\", *country names* correspond to features on\n            the base map and value \"geojson-id\" corresponds to\n            features from a custom GeoJSON linked to the `geojson`\n            attribute.\n        locations\n            Sets the coordinates via location IDs or names.\n            Coordinates correspond to the centroid of each location\n            given. See `locationmode` for more info.\n        locationssrc\n            Sets the source reference on Chart Studio Cloud for\n            locations .\n        lon\n            Sets the longitude coordinates (in degrees East).\n        lonsrc\n            Sets the source reference on Chart Studio Cloud for\n            lon .\n        marker\n            :class:`plotly.graph_objects.scattergeo.Marker`\n            instance or dict with compatible properties\n        meta\n            Assigns extra meta information associated with this\n            trace that can be used in various text attributes.\n            Attributes such as trace `name`, graph, axis and\n            colorbar `title.text`, annotation `text`\n            `rangeselector`, `updatemenues` and `sliders` `label`\n            text all support `meta`. To access the trace `meta`\n            values in an attribute in the same trace, simply use\n            `%{meta[i]}` where `i` is the index or key of the\n            `meta` item in question. To access trace `meta` in\n            layout attributes, use `%{data[n[.meta[i]}` where `i`\n            is the index or key of the `meta` and `n` is the trace\n            index.\n        metasrc\n            Sets the source reference on Chart Studio Cloud for\n            meta .\n        mode\n            Determines the drawing mode for this scatter trace. If\n            the provided `mode` includes \"text\" then the `text`\n            elements appear at the coordinates. Otherwise, the\n            `text` elements appear on hover. If there are less than\n            20 points and the trace is not stacked then the default\n            is \"lines+markers\". Otherwise, \"lines\".\n        name\n            Sets the trace name. The trace name appear as the\n            legend item and on hover.\n        opacity\n            Sets the opacity of the trace.\n        selected\n            :class:`plotly.graph_objects.scattergeo.Selected`\n            instance or dict with compatible properties\n        selectedpoints\n            Array containing integer indices of selected points.\n            Has an effect only for traces that support selections.\n            Note that an empty array means an empty selection where\n            the `unselected` are turned on for all points, whereas,\n            any other non-array values means no selection all where\n            the `selected` and `unselected` styles have no effect.\n        showlegend\n            Determines whether or not an item corresponding to this\n            trace is shown in the legend.\n        stream\n            :class:`plotly.graph_objects.scattergeo.Stream`\n            instance or dict with compatible properties\n        text\n            Sets text elements associated with each (lon,lat) pair\n            or item in `locations`. If a single string, the same\n            string appears over all the data points. If an array of\n            string, the items are mapped in order to the this\n            trace's (lon,lat) or `locations` coordinates. If trace\n            `hoverinfo` contains a \"text\" flag and \"hovertext\" is\n            not set, these elements will be seen in the hover\n            labels.\n        textfont\n            Sets the text font.\n        textposition\n            Sets the positions of the `text` elements with respects\n            to the (x,y) coordinates.\n        textpositionsrc\n            Sets the source reference on Chart Studio Cloud for\n            textposition .\n        textsrc\n            Sets the source reference on Chart Studio Cloud for\n            text .\n        texttemplate\n            Template string used for rendering the information text\n            that appear on points. Note that this will override\n            `textinfo`. Variables are inserted using %{variable},\n            for example \"y: %{y}\". Numbers are formatted using\n            d3-format's syntax %{variable:d3-format}, for example\n            \"Price: %{y:$.2f}\". https://github.com/d3/d3-3.x-api-\n            reference/blob/master/Formatting.md#d3_format for\n            details on the formatting syntax. Dates are formatted\n            using d3-time-format's syntax %{variable|d3-time-\n            format}, for example \"Day: %{2019-01-01|%A}\".\n            https://github.com/d3/d3-time-format#locale_format for\n            details on the date formatting syntax. Every attributes\n            that can be specified per-point (the ones that are\n            `arrayOk: true`) are available. variables `lat`, `lon`,\n            `location` and `text`.\n        texttemplatesrc\n            Sets the source reference on Chart Studio Cloud for\n            texttemplate .\n        uid\n            Assign an id to this trace, Use this to provide object\n            constancy between traces during animations and\n            transitions.\n        uirevision\n            Controls persistence of some user-driven changes to the\n            trace: `constraintrange` in `parcoords` traces, as well\n            as some `editable: true` modifications such as `name`\n            and `colorbar.title`. Defaults to `layout.uirevision`.\n            Note that other user-driven trace attribute changes are\n            controlled by `layout` attributes: `trace.visible` is\n            controlled by `layout.legend.uirevision`,\n            `selectedpoints` is controlled by\n            `layout.selectionrevision`, and `colorbar.(x|y)`\n            (accessible with `config: {editable: true}`) is\n            controlled by `layout.editrevision`. Trace changes are\n            tracked by `uid`, which only falls back on trace index\n            if no `uid` is provided. So if your app can add/remove\n            traces before the end of the `data` array, such that\n            the same trace has a different index, you can still\n            preserve user-driven changes if you give each trace a\n            `uid` that stays with it as it moves.\n        unselected\n            :class:`plotly.graph_objects.scattergeo.Unselected`\n            instance or dict with compatible properties\n        visible\n            Determines whether or not this trace is visible. If\n            \"legendonly\", the trace is not drawn, but can appear as\n            a legend item (provided that the legend itself is\n            visible).\n        "
     ]
    }
   ],
   "source": [
    "import plotly.graph_objects as go\n",
    "\n",
    "\n",
    "#df = pd.read_csv('https://raw.githubusercontent.com/plotly/datasets/master/2011_february_us_airport_traffic.csv')\n",
    "#df['text'] = df['airport'] + '' + df['city'] + ', ' + df['state'] + '' + 'Arrivals: ' + df['cnt'].astype(str)\n",
    "\n",
    "fig = go.Figure(data=go.Scattergeo(\n",
    "        lon = finance_school['longitude'],\n",
    "        lat = finance_school['latitude'],\n",
    "        text = finance_school['district_name'],\n",
    "        mode = 'markers',\n",
    "        marker_color = finance_school['Total_School_Per_Pupil_Expenditures'],\n",
    "        marker_size=finance_school['dropout_rate'],\n",
    "        hover_name=[\"dropout_rate\",\"Total_School_Per_Pupil_Expenditures\"]\n",
    "        ))\n",
    "\n",
    "fig.update_layout(\n",
    "        title = 'Most trafficked US airports<br>(Hover for airport names)',\n",
    "        geo_scope='usa',\n",
    "    )\n",
    "fig.show()"
   ]
  },
  {
   "cell_type": "code",
   "execution_count": 14,
   "metadata": {},
   "outputs": [
    {
     "data": {
      "application/vnd.plotly.v1+json": {
       "config": {
        "plotlyServerURL": "https://plot.ly"
       },
       "data": [
        {
         "customdata": [
          [
           37716
          ],
          [
           37831
          ],
          [
           37160
          ],
          [
           38320
          ],
          [
           37367
          ],
          [
           37803
          ],
          [
           37701
          ],
          [
           37803
          ],
          [
           37311
          ],
          [
           37312
          ],
          [
           37757
          ],
          [
           37190
          ],
          [
           37643
          ],
          [
           37015
          ],
          [
           38340
          ],
          [
           37879
          ],
          [
           38551
          ],
          [
           37821
          ],
          [
           37355
          ],
          [
           37388
          ],
          [
           38001
          ],
          [
           38555
          ],
          [
           37204
          ],
          [
           38329
          ],
          [
           37055
          ],
          [
           38024
          ],
          [
           38024
          ],
          [
           38556
          ],
          [
           37398
          ],
          [
           38358
          ],
          [
           38382
          ],
          [
           38316
          ],
          [
           38478
          ],
          [
           37861
          ],
          [
           37743
          ],
          [
           37744
          ],
          [
           37301
          ],
          [
           37813
          ],
          [
           37421
          ],
          [
           37869
          ],
          [
           38372
          ],
          [
           37857
          ],
          [
           38012
          ],
          [
           38351
          ],
          [
           38242
          ],
          [
           37033
          ],
          [
           37061
          ],
          [
           37185
          ],
          [
           38562
          ],
          [
           37725
          ],
          [
           37683
          ],
          [
           37901
          ],
          [
           38079
          ],
          [
           38063
          ],
          [
           38464
          ],
          [
           38462
          ],
          [
           37334
          ],
          [
           37334
          ],
          [
           37774
          ],
          [
           37771
          ],
          [
           37083
          ],
          [
           38305
          ],
          [
           37347
          ],
          [
           37380
          ],
          [
           37091
          ],
          [
           38401
          ],
          [
           37322
          ],
          [
           37354
          ],
          [
           37040
          ],
          [
           37352
          ],
          [
           37887
          ],
          [
           38261
          ],
          [
           38281
          ],
          [
           38570
          ],
          [
           37096
          ],
          [
           38549
          ],
          [
           37307
          ],
          [
           38506
          ],
          [
           37321
          ],
          [
           37763
          ],
          [
           37172
          ],
          [
           37128
          ],
          [
           37756
          ],
          [
           37841
          ],
          [
           37327
          ],
          [
           37862
          ],
          [
           38112
          ],
          [
           38002
          ],
          [
           38134
          ],
          [
           38017
          ],
          [
           38138
          ],
          [
           37030
          ],
          [
           37058
          ],
          [
           37617
          ],
          [
           37620
          ],
          [
           37660
          ],
          [
           37066
          ],
          [
           38019
          ],
          [
           37074
          ],
          [
           37650
          ],
          [
           37807
          ],
          [
           38585
          ],
          [
           37110
          ],
          [
           37659
          ],
          [
           37605
          ],
          [
           38485
          ],
          [
           38225
          ],
          [
           38583
          ],
          [
           37064
          ],
          [
           37087
          ]
         ],
         "hovertemplate": "<b>%{hovertext}</b><br><br>graduation rate =%{marker.size}<br>latitude=%{lat}<br>longitude=%{lon}<br>zipcode=%{customdata[0]}<extra></extra>",
         "hovertext": [
          "Anderson County",
          "Oak Ridge",
          "Bedford County",
          "Benton County",
          "Bledsoe County",
          "Blount County",
          "Alcoa",
          "Maryville",
          "Bradley County",
          "Cleveland",
          "Campbell County",
          "Cannon County",
          "Elizabethton",
          "Cheatham County",
          "Chester County",
          "Claiborne County",
          "Clay County",
          "Cocke County",
          "Coffee County",
          "Tullahoma",
          "Crockett County",
          "Cumberland County",
          "Davidson County",
          "Decatur County",
          "Dickson County",
          "Dyer County",
          "Dyersburg",
          "Fentress County",
          "Franklin County",
          "Milan",
          "Trenton",
          "Bradford",
          "Giles County",
          "Grainger County",
          "Greene County",
          "Greeneville",
          "Grundy County",
          "Hamblen County",
          "Hamilton County",
          "Hancock County",
          "Hardin County",
          "Hawkins County",
          "Haywood County",
          "Henderson County",
          "Henry County",
          "Hickman County",
          "Houston County",
          "Humphreys County",
          "Jackson County",
          "Jefferson County",
          "Johnson County",
          "Knox County",
          "Lake County",
          "Lauderdale County",
          "Lawrence County",
          "Lewis County",
          "Lincoln County",
          "Fayetteville",
          "Loudon County",
          "Lenoir City",
          "Macon County",
          "Madison County",
          "Marion County",
          "Richard City",
          "Marshall County",
          "Maury County",
          "Meigs County",
          "Monroe County",
          "Montgomery County",
          "Moore County",
          "Morgan County",
          "Obion County",
          "Union City",
          "Overton County",
          "Perry County",
          "Pickett County",
          "Polk County",
          "Putnam County",
          "Rhea County",
          "Roane County",
          "Robertson County",
          "Rutherford County",
          "Scott County",
          "Oneida",
          "Sequatchie County",
          "Sevier County",
          "Shelby County",
          "Arlington",
          "Bartlett",
          "Collierville",
          "Germantown",
          "Smith County",
          "Stewart County",
          "Sullivan County",
          "Bristol",
          "Kingsport",
          "Sumner County",
          "Tipton County",
          "Trousdale County",
          "Unicoi County",
          "Union County",
          "Van Buren County",
          "Warren County",
          "Washington County",
          "Johnson City",
          "Wayne County",
          "Weakley County",
          "White County",
          "Williamson County",
          "Wilson County"
         ],
         "lat": [
          36.099283,
          36.105971,
          35.47066,
          36.050286,
          35.635097,
          35.693358,
          35.784708,
          35.693358,
          35.146362,
          35.219532,
          36.326509,
          35.813335,
          36.355251,
          36.299293,
          35.414454,
          36.465808,
          36.547412,
          35.963276,
          35.500068,
          35.357522,
          35.796157,
          35.929314,
          36.112058,
          35.546839,
          36.065779,
          36.038042,
          36.038042,
          36.409385,
          35.192829,
          35.916722,
          35.973431,
          36.067294,
          35.204983,
          36.243526,
          36.102325,
          36.182289,
          35.429018,
          36.186008,
          35.028574,
          36.521297,
          35.180947,
          36.413437,
          35.590558,
          35.658409,
          36.300311,
          35.76714,
          36.301089,
          36.085376,
          36.351803,
          35.996454,
          36.451041,
          36.032334,
          36.513386,
          35.637993,
          35.259613,
          35.535397,
          35.136177,
          35.136177,
          35.725969,
          35.815524,
          36.537994,
          35.693101,
          35.065007,
          35.045886,
          35.461359,
          35.619784,
          35.503723,
          35.506259,
          36.528448,
          35.276795,
          36.091018,
          36.426933,
          36.354384,
          36.376289,
          35.61432,
          36.572543,
          35.172376,
          36.177831,
          35.495894,
          35.839274,
          36.513979,
          35.813319,
          36.351978,
          36.49787,
          35.399109,
          35.818653,
          35.148605,
          35.272386,
          35.193046,
          35.057224,
          35.088885,
          36.264959,
          36.477136,
          36.534729,
          36.561341,
          36.547133,
          36.388997,
          35.560622,
          36.407653,
          36.128301,
          36.251265,
          35.69653,
          35.687286,
          36.293805,
          36.315795,
          35.343716,
          36.305305,
          35.943026,
          35.893823,
          36.240331
         ],
         "legendgroup": "",
         "lon": [
          -84.14656,
          -84.195796,
          -86.45974,
          -88.10137,
          -85.17161,
          -83.98412,
          -83.97956,
          -83.98412,
          -84.88723,
          -84.86489,
          -84.17277,
          -86.05538,
          -82.18843,
          -87.06949,
          -88.66118,
          -83.52357,
          -85.48904,
          -83.20116,
          -86.08414,
          -86.21484,
          -89.14016,
          -85.05926,
          -86.77626,
          -88.12345,
          -87.40831,
          -89.38613,
          -89.38613,
          -84.93393,
          -86.14045,
          -88.76628,
          -88.95035,
          -88.81209,
          -87.01246,
          -83.51516,
          -82.85446,
          -82.73948,
          -85.77679,
          -83.27474,
          -85.15939,
          -83.22818,
          -88.18946,
          -82.96804,
          -89.2609,
          -88.40535,
          -88.32891,
          -87.49418,
          -87.68198,
          -87.81626,
          -85.65757,
          -83.39791,
          -81.81906,
          -83.884804,
          -89.50472,
          -89.86859,
          -87.37522,
          -87.54905,
          -86.57433,
          -86.57433,
          -84.33069,
          -84.29301,
          -86.01497,
          -88.80653,
          -85.61818,
          -85.72513,
          -86.7792,
          -87.03565,
          -84.80741,
          -84.35738,
          -87.34142,
          -86.35264,
          -84.56863,
          -89.0727,
          -89.149881,
          -85.32585,
          -87.87486,
          -85.15007,
          -84.63913,
          -85.46238,
          -85.01032,
          -84.50562,
          -86.86892,
          -86.4455,
          -84.42137,
          -84.51808,
          -85.38755,
          -83.59197,
          -89.97479,
          -89.71198,
          -89.86559,
          -89.67417,
          -89.80677,
          -85.94893,
          -87.85877,
          -82.37229,
          -82.16869,
          -82.55408,
          -86.4548,
          -89.64201,
          -86.15305,
          -82.4273,
          -83.82558,
          -85.41146,
          -85.787,
          -82.49704,
          -82.383792,
          -87.75739,
          -88.6869,
          -85.45113,
          -86.89919,
          -86.29271
         ],
         "marker": {
          "color": "fuchsia",
          "size": [
           95.65,
           92.1,
           92.76666666666668,
           47.15,
           93.3,
           93.05,
           98.8,
           94.5,
           92.075,
           90,
           91.65,
           91,
           88.9,
           92.33333333333331,
           95.9,
           92.95,
           97.8,
           92.2,
           92.5,
           90.8,
           96.4,
           88.46666666666665,
           68.52499999999999,
           93.2,
           94.15,
           96.7,
           90,
           95.9,
           93.35,
           97.9,
           95.5,
           0,
           92.95,
           63.5,
           68.85,
           97.4,
           90.6,
           94.35,
           73.71111111111112,
           97.4,
           95.5,
           95.6,
           92,
           93.15,
           95.1,
           94.4,
           91.7,
           97.15,
           95.5,
           95.8,
           96.3,
           74.1,
           93.5,
           97.1,
           97.59999999999998,
           95.6,
           92.3,
           93.8,
           94.05,
           93,
           90.7,
           51.120000000000005,
           90.2,
           90.9,
           95.33333333333331,
           90.33333333333331,
           98.4,
           94.6,
           82.39999999999999,
           95.7,
           0,
           88.05,
           91.6,
           92.4,
           95.7,
           95.1,
           93.25,
           93.1,
           92.3,
           74.2,
           76.78571428571429,
           74.66,
           92.3,
           0,
           89.5,
           73.96666666666665,
           74.95897435897436,
           97.3,
           98,
           95.1,
           95.4,
           93.95,
           95.5,
           70.35,
           95.3,
           94.1,
           76.02,
           95.6,
           98.9,
           91.7,
           93,
           96.7,
           90.6,
           69.775,
           92.1,
           62.333333333333336,
           90.025,
           96.8,
           96.57,
           96.05
          ],
          "sizemode": "area",
          "sizeref": 0.24725000000000003
         },
         "mode": "markers",
         "name": "",
         "showlegend": false,
         "subplot": "mapbox",
         "type": "scattermapbox"
        }
       ],
       "layout": {
        "height": 300,
        "legend": {
         "itemsizing": "constant",
         "tracegroupgap": 0
        },
        "mapbox": {
         "center": {
          "lat": 35.88336922727273,
          "lon": -86.03899611818183
         },
         "domain": {
          "x": [
           0,
           1
          ],
          "y": [
           0,
           1
          ]
         },
         "layers": [
          {
           "below": "traces",
           "source": [
            "https://basemap.nationalmap.gov/arcgis/rest/services/USGSImageryOnly/MapServer/tile/{z}/{y}/{x}"
           ],
           "sourceattribution": "United States Geological Survey",
           "sourcetype": "raster"
          }
         ],
         "style": "white-bg",
         "zoom": 3
        },
        "margin": {
         "b": 0,
         "l": 0,
         "r": 0,
         "t": 0
        },
        "template": {
         "data": {
          "bar": [
           {
            "error_x": {
             "color": "#2a3f5f"
            },
            "error_y": {
             "color": "#2a3f5f"
            },
            "marker": {
             "line": {
              "color": "#E5ECF6",
              "width": 0.5
             }
            },
            "type": "bar"
           }
          ],
          "barpolar": [
           {
            "marker": {
             "line": {
              "color": "#E5ECF6",
              "width": 0.5
             }
            },
            "type": "barpolar"
           }
          ],
          "carpet": [
           {
            "aaxis": {
             "endlinecolor": "#2a3f5f",
             "gridcolor": "white",
             "linecolor": "white",
             "minorgridcolor": "white",
             "startlinecolor": "#2a3f5f"
            },
            "baxis": {
             "endlinecolor": "#2a3f5f",
             "gridcolor": "white",
             "linecolor": "white",
             "minorgridcolor": "white",
             "startlinecolor": "#2a3f5f"
            },
            "type": "carpet"
           }
          ],
          "choropleth": [
           {
            "colorbar": {
             "outlinewidth": 0,
             "ticks": ""
            },
            "type": "choropleth"
           }
          ],
          "contour": [
           {
            "colorbar": {
             "outlinewidth": 0,
             "ticks": ""
            },
            "colorscale": [
             [
              0,
              "#0d0887"
             ],
             [
              0.1111111111111111,
              "#46039f"
             ],
             [
              0.2222222222222222,
              "#7201a8"
             ],
             [
              0.3333333333333333,
              "#9c179e"
             ],
             [
              0.4444444444444444,
              "#bd3786"
             ],
             [
              0.5555555555555556,
              "#d8576b"
             ],
             [
              0.6666666666666666,
              "#ed7953"
             ],
             [
              0.7777777777777778,
              "#fb9f3a"
             ],
             [
              0.8888888888888888,
              "#fdca26"
             ],
             [
              1,
              "#f0f921"
             ]
            ],
            "type": "contour"
           }
          ],
          "contourcarpet": [
           {
            "colorbar": {
             "outlinewidth": 0,
             "ticks": ""
            },
            "type": "contourcarpet"
           }
          ],
          "heatmap": [
           {
            "colorbar": {
             "outlinewidth": 0,
             "ticks": ""
            },
            "colorscale": [
             [
              0,
              "#0d0887"
             ],
             [
              0.1111111111111111,
              "#46039f"
             ],
             [
              0.2222222222222222,
              "#7201a8"
             ],
             [
              0.3333333333333333,
              "#9c179e"
             ],
             [
              0.4444444444444444,
              "#bd3786"
             ],
             [
              0.5555555555555556,
              "#d8576b"
             ],
             [
              0.6666666666666666,
              "#ed7953"
             ],
             [
              0.7777777777777778,
              "#fb9f3a"
             ],
             [
              0.8888888888888888,
              "#fdca26"
             ],
             [
              1,
              "#f0f921"
             ]
            ],
            "type": "heatmap"
           }
          ],
          "heatmapgl": [
           {
            "colorbar": {
             "outlinewidth": 0,
             "ticks": ""
            },
            "colorscale": [
             [
              0,
              "#0d0887"
             ],
             [
              0.1111111111111111,
              "#46039f"
             ],
             [
              0.2222222222222222,
              "#7201a8"
             ],
             [
              0.3333333333333333,
              "#9c179e"
             ],
             [
              0.4444444444444444,
              "#bd3786"
             ],
             [
              0.5555555555555556,
              "#d8576b"
             ],
             [
              0.6666666666666666,
              "#ed7953"
             ],
             [
              0.7777777777777778,
              "#fb9f3a"
             ],
             [
              0.8888888888888888,
              "#fdca26"
             ],
             [
              1,
              "#f0f921"
             ]
            ],
            "type": "heatmapgl"
           }
          ],
          "histogram": [
           {
            "marker": {
             "colorbar": {
              "outlinewidth": 0,
              "ticks": ""
             }
            },
            "type": "histogram"
           }
          ],
          "histogram2d": [
           {
            "colorbar": {
             "outlinewidth": 0,
             "ticks": ""
            },
            "colorscale": [
             [
              0,
              "#0d0887"
             ],
             [
              0.1111111111111111,
              "#46039f"
             ],
             [
              0.2222222222222222,
              "#7201a8"
             ],
             [
              0.3333333333333333,
              "#9c179e"
             ],
             [
              0.4444444444444444,
              "#bd3786"
             ],
             [
              0.5555555555555556,
              "#d8576b"
             ],
             [
              0.6666666666666666,
              "#ed7953"
             ],
             [
              0.7777777777777778,
              "#fb9f3a"
             ],
             [
              0.8888888888888888,
              "#fdca26"
             ],
             [
              1,
              "#f0f921"
             ]
            ],
            "type": "histogram2d"
           }
          ],
          "histogram2dcontour": [
           {
            "colorbar": {
             "outlinewidth": 0,
             "ticks": ""
            },
            "colorscale": [
             [
              0,
              "#0d0887"
             ],
             [
              0.1111111111111111,
              "#46039f"
             ],
             [
              0.2222222222222222,
              "#7201a8"
             ],
             [
              0.3333333333333333,
              "#9c179e"
             ],
             [
              0.4444444444444444,
              "#bd3786"
             ],
             [
              0.5555555555555556,
              "#d8576b"
             ],
             [
              0.6666666666666666,
              "#ed7953"
             ],
             [
              0.7777777777777778,
              "#fb9f3a"
             ],
             [
              0.8888888888888888,
              "#fdca26"
             ],
             [
              1,
              "#f0f921"
             ]
            ],
            "type": "histogram2dcontour"
           }
          ],
          "mesh3d": [
           {
            "colorbar": {
             "outlinewidth": 0,
             "ticks": ""
            },
            "type": "mesh3d"
           }
          ],
          "parcoords": [
           {
            "line": {
             "colorbar": {
              "outlinewidth": 0,
              "ticks": ""
             }
            },
            "type": "parcoords"
           }
          ],
          "pie": [
           {
            "automargin": true,
            "type": "pie"
           }
          ],
          "scatter": [
           {
            "marker": {
             "colorbar": {
              "outlinewidth": 0,
              "ticks": ""
             }
            },
            "type": "scatter"
           }
          ],
          "scatter3d": [
           {
            "line": {
             "colorbar": {
              "outlinewidth": 0,
              "ticks": ""
             }
            },
            "marker": {
             "colorbar": {
              "outlinewidth": 0,
              "ticks": ""
             }
            },
            "type": "scatter3d"
           }
          ],
          "scattercarpet": [
           {
            "marker": {
             "colorbar": {
              "outlinewidth": 0,
              "ticks": ""
             }
            },
            "type": "scattercarpet"
           }
          ],
          "scattergeo": [
           {
            "marker": {
             "colorbar": {
              "outlinewidth": 0,
              "ticks": ""
             }
            },
            "type": "scattergeo"
           }
          ],
          "scattergl": [
           {
            "marker": {
             "colorbar": {
              "outlinewidth": 0,
              "ticks": ""
             }
            },
            "type": "scattergl"
           }
          ],
          "scattermapbox": [
           {
            "marker": {
             "colorbar": {
              "outlinewidth": 0,
              "ticks": ""
             }
            },
            "type": "scattermapbox"
           }
          ],
          "scatterpolar": [
           {
            "marker": {
             "colorbar": {
              "outlinewidth": 0,
              "ticks": ""
             }
            },
            "type": "scatterpolar"
           }
          ],
          "scatterpolargl": [
           {
            "marker": {
             "colorbar": {
              "outlinewidth": 0,
              "ticks": ""
             }
            },
            "type": "scatterpolargl"
           }
          ],
          "scatterternary": [
           {
            "marker": {
             "colorbar": {
              "outlinewidth": 0,
              "ticks": ""
             }
            },
            "type": "scatterternary"
           }
          ],
          "surface": [
           {
            "colorbar": {
             "outlinewidth": 0,
             "ticks": ""
            },
            "colorscale": [
             [
              0,
              "#0d0887"
             ],
             [
              0.1111111111111111,
              "#46039f"
             ],
             [
              0.2222222222222222,
              "#7201a8"
             ],
             [
              0.3333333333333333,
              "#9c179e"
             ],
             [
              0.4444444444444444,
              "#bd3786"
             ],
             [
              0.5555555555555556,
              "#d8576b"
             ],
             [
              0.6666666666666666,
              "#ed7953"
             ],
             [
              0.7777777777777778,
              "#fb9f3a"
             ],
             [
              0.8888888888888888,
              "#fdca26"
             ],
             [
              1,
              "#f0f921"
             ]
            ],
            "type": "surface"
           }
          ],
          "table": [
           {
            "cells": {
             "fill": {
              "color": "#EBF0F8"
             },
             "line": {
              "color": "white"
             }
            },
            "header": {
             "fill": {
              "color": "#C8D4E3"
             },
             "line": {
              "color": "white"
             }
            },
            "type": "table"
           }
          ]
         },
         "layout": {
          "annotationdefaults": {
           "arrowcolor": "#2a3f5f",
           "arrowhead": 0,
           "arrowwidth": 1
          },
          "coloraxis": {
           "colorbar": {
            "outlinewidth": 0,
            "ticks": ""
           }
          },
          "colorscale": {
           "diverging": [
            [
             0,
             "#8e0152"
            ],
            [
             0.1,
             "#c51b7d"
            ],
            [
             0.2,
             "#de77ae"
            ],
            [
             0.3,
             "#f1b6da"
            ],
            [
             0.4,
             "#fde0ef"
            ],
            [
             0.5,
             "#f7f7f7"
            ],
            [
             0.6,
             "#e6f5d0"
            ],
            [
             0.7,
             "#b8e186"
            ],
            [
             0.8,
             "#7fbc41"
            ],
            [
             0.9,
             "#4d9221"
            ],
            [
             1,
             "#276419"
            ]
           ],
           "sequential": [
            [
             0,
             "#0d0887"
            ],
            [
             0.1111111111111111,
             "#46039f"
            ],
            [
             0.2222222222222222,
             "#7201a8"
            ],
            [
             0.3333333333333333,
             "#9c179e"
            ],
            [
             0.4444444444444444,
             "#bd3786"
            ],
            [
             0.5555555555555556,
             "#d8576b"
            ],
            [
             0.6666666666666666,
             "#ed7953"
            ],
            [
             0.7777777777777778,
             "#fb9f3a"
            ],
            [
             0.8888888888888888,
             "#fdca26"
            ],
            [
             1,
             "#f0f921"
            ]
           ],
           "sequentialminus": [
            [
             0,
             "#0d0887"
            ],
            [
             0.1111111111111111,
             "#46039f"
            ],
            [
             0.2222222222222222,
             "#7201a8"
            ],
            [
             0.3333333333333333,
             "#9c179e"
            ],
            [
             0.4444444444444444,
             "#bd3786"
            ],
            [
             0.5555555555555556,
             "#d8576b"
            ],
            [
             0.6666666666666666,
             "#ed7953"
            ],
            [
             0.7777777777777778,
             "#fb9f3a"
            ],
            [
             0.8888888888888888,
             "#fdca26"
            ],
            [
             1,
             "#f0f921"
            ]
           ]
          },
          "colorway": [
           "#636efa",
           "#EF553B",
           "#00cc96",
           "#ab63fa",
           "#FFA15A",
           "#19d3f3",
           "#FF6692",
           "#B6E880",
           "#FF97FF",
           "#FECB52"
          ],
          "font": {
           "color": "#2a3f5f"
          },
          "geo": {
           "bgcolor": "white",
           "lakecolor": "white",
           "landcolor": "#E5ECF6",
           "showlakes": true,
           "showland": true,
           "subunitcolor": "white"
          },
          "hoverlabel": {
           "align": "left"
          },
          "hovermode": "closest",
          "mapbox": {
           "style": "light"
          },
          "paper_bgcolor": "white",
          "plot_bgcolor": "#E5ECF6",
          "polar": {
           "angularaxis": {
            "gridcolor": "white",
            "linecolor": "white",
            "ticks": ""
           },
           "bgcolor": "#E5ECF6",
           "radialaxis": {
            "gridcolor": "white",
            "linecolor": "white",
            "ticks": ""
           }
          },
          "scene": {
           "xaxis": {
            "backgroundcolor": "#E5ECF6",
            "gridcolor": "white",
            "gridwidth": 2,
            "linecolor": "white",
            "showbackground": true,
            "ticks": "",
            "zerolinecolor": "white"
           },
           "yaxis": {
            "backgroundcolor": "#E5ECF6",
            "gridcolor": "white",
            "gridwidth": 2,
            "linecolor": "white",
            "showbackground": true,
            "ticks": "",
            "zerolinecolor": "white"
           },
           "zaxis": {
            "backgroundcolor": "#E5ECF6",
            "gridcolor": "white",
            "gridwidth": 2,
            "linecolor": "white",
            "showbackground": true,
            "ticks": "",
            "zerolinecolor": "white"
           }
          },
          "shapedefaults": {
           "line": {
            "color": "#2a3f5f"
           }
          },
          "ternary": {
           "aaxis": {
            "gridcolor": "white",
            "linecolor": "white",
            "ticks": ""
           },
           "baxis": {
            "gridcolor": "white",
            "linecolor": "white",
            "ticks": ""
           },
           "bgcolor": "#E5ECF6",
           "caxis": {
            "gridcolor": "white",
            "linecolor": "white",
            "ticks": ""
           }
          },
          "title": {
           "x": 0.05
          },
          "xaxis": {
           "automargin": true,
           "gridcolor": "white",
           "linecolor": "white",
           "ticks": "",
           "title": {
            "standoff": 15
           },
           "zerolinecolor": "white",
           "zerolinewidth": 2
          },
          "yaxis": {
           "automargin": true,
           "gridcolor": "white",
           "linecolor": "white",
           "ticks": "",
           "title": {
            "standoff": 15
           },
           "zerolinecolor": "white",
           "zerolinewidth": 2
          }
         }
        }
       }
      },
      "text/html": [
       "<div>                            <div id=\"6999cf9d-d081-4a1e-bbe7-8f27758af3d8\" class=\"plotly-graph-div\" style=\"height:300px; width:100%;\"></div>            <script type=\"text/javascript\">                require([\"plotly\"], function(Plotly) {                    window.PLOTLYENV=window.PLOTLYENV || {};                                    if (document.getElementById(\"6999cf9d-d081-4a1e-bbe7-8f27758af3d8\")) {                    Plotly.newPlot(                        \"6999cf9d-d081-4a1e-bbe7-8f27758af3d8\",                        [{\"customdata\": [[37716], [37831], [37160], [38320], [37367], [37803], [37701], [37803], [37311], [37312], [37757], [37190], [37643], [37015], [38340], [37879], [38551], [37821], [37355], [37388], [38001], [38555], [37204], [38329], [37055], [38024], [38024], [38556], [37398], [38358], [38382], [38316], [38478], [37861], [37743], [37744], [37301], [37813], [37421], [37869], [38372], [37857], [38012], [38351], [38242], [37033], [37061], [37185], [38562], [37725], [37683], [37901], [38079], [38063], [38464], [38462], [37334], [37334], [37774], [37771], [37083], [38305], [37347], [37380], [37091], [38401], [37322], [37354], [37040], [37352], [37887], [38261], [38281], [38570], [37096], [38549], [37307], [38506], [37321], [37763], [37172], [37128], [37756], [37841], [37327], [37862], [38112], [38002], [38134], [38017], [38138], [37030], [37058], [37617], [37620], [37660], [37066], [38019], [37074], [37650], [37807], [38585], [37110], [37659], [37605], [38485], [38225], [38583], [37064], [37087]], \"hovertemplate\": \"<b>%{hovertext}</b><br><br>graduation rate =%{marker.size}<br>latitude=%{lat}<br>longitude=%{lon}<br>zipcode=%{customdata[0]}<extra></extra>\", \"hovertext\": [\"Anderson County\", \"Oak Ridge\", \"Bedford County\", \"Benton County\", \"Bledsoe County\", \"Blount County\", \"Alcoa\", \"Maryville\", \"Bradley County\", \"Cleveland\", \"Campbell County\", \"Cannon County\", \"Elizabethton\", \"Cheatham County\", \"Chester County\", \"Claiborne County\", \"Clay County\", \"Cocke County\", \"Coffee County\", \"Tullahoma\", \"Crockett County\", \"Cumberland County\", \"Davidson County\", \"Decatur County\", \"Dickson County\", \"Dyer County\", \"Dyersburg\", \"Fentress County\", \"Franklin County\", \"Milan\", \"Trenton\", \"Bradford\", \"Giles County\", \"Grainger County\", \"Greene County\", \"Greeneville\", \"Grundy County\", \"Hamblen County\", \"Hamilton County\", \"Hancock County\", \"Hardin County\", \"Hawkins County\", \"Haywood County\", \"Henderson County\", \"Henry County\", \"Hickman County\", \"Houston County\", \"Humphreys County\", \"Jackson County\", \"Jefferson County\", \"Johnson County\", \"Knox County\", \"Lake County\", \"Lauderdale County\", \"Lawrence County\", \"Lewis County\", \"Lincoln County\", \"Fayetteville\", \"Loudon County\", \"Lenoir City\", \"Macon County\", \"Madison County\", \"Marion County\", \"Richard City\", \"Marshall County\", \"Maury County\", \"Meigs County\", \"Monroe County\", \"Montgomery County\", \"Moore County\", \"Morgan County\", \"Obion County\", \"Union City\", \"Overton County\", \"Perry County\", \"Pickett County\", \"Polk County\", \"Putnam County\", \"Rhea County\", \"Roane County\", \"Robertson County\", \"Rutherford County\", \"Scott County\", \"Oneida\", \"Sequatchie County\", \"Sevier County\", \"Shelby County\", \"Arlington\", \"Bartlett\", \"Collierville\", \"Germantown\", \"Smith County\", \"Stewart County\", \"Sullivan County\", \"Bristol\", \"Kingsport\", \"Sumner County\", \"Tipton County\", \"Trousdale County\", \"Unicoi County\", \"Union County\", \"Van Buren County\", \"Warren County\", \"Washington County\", \"Johnson City\", \"Wayne County\", \"Weakley County\", \"White County\", \"Williamson County\", \"Wilson County\"], \"lat\": [36.099283, 36.105971, 35.47066, 36.050286, 35.635097, 35.693358, 35.784708, 35.693358, 35.146362, 35.219532, 36.326509, 35.813335, 36.355251, 36.299293, 35.414454, 36.465808, 36.547412, 35.963276, 35.500068, 35.357522, 35.796157, 35.929314, 36.112058, 35.546839, 36.065779, 36.038042, 36.038042, 36.409385, 35.192829, 35.916722, 35.973431, 36.067294, 35.204983, 36.243526, 36.102325, 36.182289, 35.429018, 36.186008, 35.028574, 36.521297, 35.180947, 36.413437, 35.590558, 35.658409, 36.300311, 35.76714, 36.301089, 36.085376, 36.351803, 35.996454, 36.451041, 36.032334, 36.513386, 35.637993, 35.259613, 35.535397, 35.136177, 35.136177, 35.725969, 35.815524, 36.537994, 35.693101, 35.065007, 35.045886, 35.461359, 35.619784, 35.503723, 35.506259, 36.528448, 35.276795, 36.091018, 36.426933, 36.354384, 36.376289, 35.61432, 36.572543, 35.172376, 36.177831, 35.495894, 35.839274, 36.513979, 35.813319, 36.351978, 36.49787, 35.399109, 35.818653, 35.148605, 35.272386, 35.193046, 35.057224, 35.088885, 36.264959, 36.477136, 36.534729, 36.561341, 36.547133, 36.388997, 35.560622, 36.407653, 36.128301, 36.251265, 35.69653, 35.687286, 36.293805, 36.315795, 35.343716, 36.305305, 35.943026, 35.893823, 36.240331], \"legendgroup\": \"\", \"lon\": [-84.14656, -84.195796, -86.45974, -88.10137, -85.17161, -83.98412, -83.97956, -83.98412, -84.88723, -84.86489, -84.17277, -86.05538, -82.18843, -87.06949, -88.66118, -83.52357, -85.48904, -83.20116, -86.08414, -86.21484, -89.14016, -85.05926, -86.77626, -88.12345, -87.40831, -89.38613, -89.38613, -84.93393, -86.14045, -88.76628, -88.95035, -88.81209, -87.01246, -83.51516, -82.85446, -82.73948, -85.77679, -83.27474, -85.15939, -83.22818, -88.18946, -82.96804, -89.2609, -88.40535, -88.32891, -87.49418, -87.68198, -87.81626, -85.65757, -83.39791, -81.81906, -83.884804, -89.50472, -89.86859, -87.37522, -87.54905, -86.57433, -86.57433, -84.33069, -84.29301, -86.01497, -88.80653, -85.61818, -85.72513, -86.7792, -87.03565, -84.80741, -84.35738, -87.34142, -86.35264, -84.56863, -89.0727, -89.149881, -85.32585, -87.87486, -85.15007, -84.63913, -85.46238, -85.01032, -84.50562, -86.86892, -86.4455, -84.42137, -84.51808, -85.38755, -83.59197, -89.97479, -89.71198, -89.86559, -89.67417, -89.80677, -85.94893, -87.85877, -82.37229, -82.16869, -82.55408, -86.4548, -89.64201, -86.15305, -82.4273, -83.82558, -85.41146, -85.787, -82.49704, -82.383792, -87.75739, -88.6869, -85.45113, -86.89919, -86.29271], \"marker\": {\"color\": \"fuchsia\", \"size\": [95.65, 92.1, 92.76666666666668, 47.15, 93.3, 93.05, 98.8, 94.5, 92.075, 90.0, 91.65, 91.0, 88.9, 92.33333333333331, 95.9, 92.95, 97.8, 92.2, 92.5, 90.8, 96.4, 88.46666666666665, 68.52499999999999, 93.2, 94.15, 96.7, 90.0, 95.9, 93.35, 97.9, 95.5, 0.0, 92.95, 63.5, 68.85, 97.4, 90.6, 94.35, 73.71111111111112, 97.4, 95.5, 95.6, 92.0, 93.15, 95.1, 94.4, 91.7, 97.15, 95.5, 95.8, 96.3, 74.1, 93.5, 97.1, 97.59999999999998, 95.6, 92.3, 93.8, 94.05, 93.0, 90.7, 51.120000000000005, 90.2, 90.9, 95.33333333333331, 90.33333333333331, 98.4, 94.6, 82.39999999999999, 95.7, 0.0, 88.05, 91.6, 92.4, 95.7, 95.1, 93.25, 93.1, 92.3, 74.2, 76.78571428571429, 74.66, 92.3, 0.0, 89.5, 73.96666666666665, 74.95897435897436, 97.3, 98.0, 95.1, 95.4, 93.95, 95.5, 70.35, 95.3, 94.1, 76.02, 95.6, 98.9, 91.7, 93.0, 96.7, 90.6, 69.775, 92.1, 62.333333333333336, 90.025, 96.8, 96.57, 96.05], \"sizemode\": \"area\", \"sizeref\": 0.24725000000000003}, \"mode\": \"markers\", \"name\": \"\", \"showlegend\": false, \"subplot\": \"mapbox\", \"type\": \"scattermapbox\"}],                        {\"height\": 300, \"legend\": {\"itemsizing\": \"constant\", \"tracegroupgap\": 0}, \"mapbox\": {\"center\": {\"lat\": 35.88336922727273, \"lon\": -86.03899611818183}, \"domain\": {\"x\": [0.0, 1.0], \"y\": [0.0, 1.0]}, \"layers\": [{\"below\": \"traces\", \"source\": [\"https://basemap.nationalmap.gov/arcgis/rest/services/USGSImageryOnly/MapServer/tile/{z}/{y}/{x}\"], \"sourceattribution\": \"United States Geological Survey\", \"sourcetype\": \"raster\"}], \"style\": \"white-bg\", \"zoom\": 3}, \"margin\": {\"b\": 0, \"l\": 0, \"r\": 0, \"t\": 0}, \"template\": {\"data\": {\"bar\": [{\"error_x\": {\"color\": \"#2a3f5f\"}, \"error_y\": {\"color\": \"#2a3f5f\"}, \"marker\": {\"line\": {\"color\": \"#E5ECF6\", \"width\": 0.5}}, \"type\": \"bar\"}], \"barpolar\": [{\"marker\": {\"line\": {\"color\": \"#E5ECF6\", \"width\": 0.5}}, \"type\": \"barpolar\"}], \"carpet\": [{\"aaxis\": {\"endlinecolor\": \"#2a3f5f\", \"gridcolor\": \"white\", \"linecolor\": \"white\", \"minorgridcolor\": \"white\", \"startlinecolor\": \"#2a3f5f\"}, \"baxis\": {\"endlinecolor\": \"#2a3f5f\", \"gridcolor\": \"white\", \"linecolor\": \"white\", \"minorgridcolor\": \"white\", \"startlinecolor\": \"#2a3f5f\"}, \"type\": \"carpet\"}], \"choropleth\": [{\"colorbar\": {\"outlinewidth\": 0, \"ticks\": \"\"}, \"type\": \"choropleth\"}], \"contour\": [{\"colorbar\": {\"outlinewidth\": 0, \"ticks\": \"\"}, \"colorscale\": [[0.0, \"#0d0887\"], [0.1111111111111111, \"#46039f\"], [0.2222222222222222, \"#7201a8\"], [0.3333333333333333, \"#9c179e\"], [0.4444444444444444, \"#bd3786\"], [0.5555555555555556, \"#d8576b\"], [0.6666666666666666, \"#ed7953\"], [0.7777777777777778, \"#fb9f3a\"], [0.8888888888888888, \"#fdca26\"], [1.0, \"#f0f921\"]], \"type\": \"contour\"}], \"contourcarpet\": [{\"colorbar\": {\"outlinewidth\": 0, \"ticks\": \"\"}, \"type\": \"contourcarpet\"}], \"heatmap\": [{\"colorbar\": {\"outlinewidth\": 0, \"ticks\": \"\"}, \"colorscale\": [[0.0, \"#0d0887\"], [0.1111111111111111, \"#46039f\"], [0.2222222222222222, \"#7201a8\"], [0.3333333333333333, \"#9c179e\"], [0.4444444444444444, \"#bd3786\"], [0.5555555555555556, \"#d8576b\"], [0.6666666666666666, \"#ed7953\"], [0.7777777777777778, \"#fb9f3a\"], [0.8888888888888888, \"#fdca26\"], [1.0, \"#f0f921\"]], \"type\": \"heatmap\"}], \"heatmapgl\": [{\"colorbar\": {\"outlinewidth\": 0, \"ticks\": \"\"}, \"colorscale\": [[0.0, \"#0d0887\"], [0.1111111111111111, \"#46039f\"], [0.2222222222222222, \"#7201a8\"], [0.3333333333333333, \"#9c179e\"], [0.4444444444444444, \"#bd3786\"], [0.5555555555555556, \"#d8576b\"], [0.6666666666666666, \"#ed7953\"], [0.7777777777777778, \"#fb9f3a\"], [0.8888888888888888, \"#fdca26\"], [1.0, \"#f0f921\"]], \"type\": \"heatmapgl\"}], \"histogram\": [{\"marker\": {\"colorbar\": {\"outlinewidth\": 0, \"ticks\": \"\"}}, \"type\": \"histogram\"}], \"histogram2d\": [{\"colorbar\": {\"outlinewidth\": 0, \"ticks\": \"\"}, \"colorscale\": [[0.0, \"#0d0887\"], [0.1111111111111111, \"#46039f\"], [0.2222222222222222, \"#7201a8\"], [0.3333333333333333, \"#9c179e\"], [0.4444444444444444, \"#bd3786\"], [0.5555555555555556, \"#d8576b\"], [0.6666666666666666, \"#ed7953\"], [0.7777777777777778, \"#fb9f3a\"], [0.8888888888888888, \"#fdca26\"], [1.0, \"#f0f921\"]], \"type\": \"histogram2d\"}], \"histogram2dcontour\": [{\"colorbar\": {\"outlinewidth\": 0, \"ticks\": \"\"}, \"colorscale\": [[0.0, \"#0d0887\"], [0.1111111111111111, \"#46039f\"], [0.2222222222222222, \"#7201a8\"], [0.3333333333333333, \"#9c179e\"], [0.4444444444444444, \"#bd3786\"], [0.5555555555555556, \"#d8576b\"], [0.6666666666666666, \"#ed7953\"], [0.7777777777777778, \"#fb9f3a\"], [0.8888888888888888, \"#fdca26\"], [1.0, \"#f0f921\"]], \"type\": \"histogram2dcontour\"}], \"mesh3d\": [{\"colorbar\": {\"outlinewidth\": 0, \"ticks\": \"\"}, \"type\": \"mesh3d\"}], \"parcoords\": [{\"line\": {\"colorbar\": {\"outlinewidth\": 0, \"ticks\": \"\"}}, \"type\": \"parcoords\"}], \"pie\": [{\"automargin\": true, \"type\": \"pie\"}], \"scatter\": [{\"marker\": {\"colorbar\": {\"outlinewidth\": 0, \"ticks\": \"\"}}, \"type\": \"scatter\"}], \"scatter3d\": [{\"line\": {\"colorbar\": {\"outlinewidth\": 0, \"ticks\": \"\"}}, \"marker\": {\"colorbar\": {\"outlinewidth\": 0, \"ticks\": \"\"}}, \"type\": \"scatter3d\"}], \"scattercarpet\": [{\"marker\": {\"colorbar\": {\"outlinewidth\": 0, \"ticks\": \"\"}}, \"type\": \"scattercarpet\"}], \"scattergeo\": [{\"marker\": {\"colorbar\": {\"outlinewidth\": 0, \"ticks\": \"\"}}, \"type\": \"scattergeo\"}], \"scattergl\": [{\"marker\": {\"colorbar\": {\"outlinewidth\": 0, \"ticks\": \"\"}}, \"type\": \"scattergl\"}], \"scattermapbox\": [{\"marker\": {\"colorbar\": {\"outlinewidth\": 0, \"ticks\": \"\"}}, \"type\": \"scattermapbox\"}], \"scatterpolar\": [{\"marker\": {\"colorbar\": {\"outlinewidth\": 0, \"ticks\": \"\"}}, \"type\": \"scatterpolar\"}], \"scatterpolargl\": [{\"marker\": {\"colorbar\": {\"outlinewidth\": 0, \"ticks\": \"\"}}, \"type\": \"scatterpolargl\"}], \"scatterternary\": [{\"marker\": {\"colorbar\": {\"outlinewidth\": 0, \"ticks\": \"\"}}, \"type\": \"scatterternary\"}], \"surface\": [{\"colorbar\": {\"outlinewidth\": 0, \"ticks\": \"\"}, \"colorscale\": [[0.0, \"#0d0887\"], [0.1111111111111111, \"#46039f\"], [0.2222222222222222, \"#7201a8\"], [0.3333333333333333, \"#9c179e\"], [0.4444444444444444, \"#bd3786\"], [0.5555555555555556, \"#d8576b\"], [0.6666666666666666, \"#ed7953\"], [0.7777777777777778, \"#fb9f3a\"], [0.8888888888888888, \"#fdca26\"], [1.0, \"#f0f921\"]], \"type\": \"surface\"}], \"table\": [{\"cells\": {\"fill\": {\"color\": \"#EBF0F8\"}, \"line\": {\"color\": \"white\"}}, \"header\": {\"fill\": {\"color\": \"#C8D4E3\"}, \"line\": {\"color\": \"white\"}}, \"type\": \"table\"}]}, \"layout\": {\"annotationdefaults\": {\"arrowcolor\": \"#2a3f5f\", \"arrowhead\": 0, \"arrowwidth\": 1}, \"coloraxis\": {\"colorbar\": {\"outlinewidth\": 0, \"ticks\": \"\"}}, \"colorscale\": {\"diverging\": [[0, \"#8e0152\"], [0.1, \"#c51b7d\"], [0.2, \"#de77ae\"], [0.3, \"#f1b6da\"], [0.4, \"#fde0ef\"], [0.5, \"#f7f7f7\"], [0.6, \"#e6f5d0\"], [0.7, \"#b8e186\"], [0.8, \"#7fbc41\"], [0.9, \"#4d9221\"], [1, \"#276419\"]], \"sequential\": [[0.0, \"#0d0887\"], [0.1111111111111111, \"#46039f\"], [0.2222222222222222, \"#7201a8\"], [0.3333333333333333, \"#9c179e\"], [0.4444444444444444, \"#bd3786\"], [0.5555555555555556, \"#d8576b\"], [0.6666666666666666, \"#ed7953\"], [0.7777777777777778, \"#fb9f3a\"], [0.8888888888888888, \"#fdca26\"], [1.0, \"#f0f921\"]], \"sequentialminus\": [[0.0, \"#0d0887\"], [0.1111111111111111, \"#46039f\"], [0.2222222222222222, \"#7201a8\"], [0.3333333333333333, \"#9c179e\"], [0.4444444444444444, \"#bd3786\"], [0.5555555555555556, \"#d8576b\"], [0.6666666666666666, \"#ed7953\"], [0.7777777777777778, \"#fb9f3a\"], [0.8888888888888888, \"#fdca26\"], [1.0, \"#f0f921\"]]}, \"colorway\": [\"#636efa\", \"#EF553B\", \"#00cc96\", \"#ab63fa\", \"#FFA15A\", \"#19d3f3\", \"#FF6692\", \"#B6E880\", \"#FF97FF\", \"#FECB52\"], \"font\": {\"color\": \"#2a3f5f\"}, \"geo\": {\"bgcolor\": \"white\", \"lakecolor\": \"white\", \"landcolor\": \"#E5ECF6\", \"showlakes\": true, \"showland\": true, \"subunitcolor\": \"white\"}, \"hoverlabel\": {\"align\": \"left\"}, \"hovermode\": \"closest\", \"mapbox\": {\"style\": \"light\"}, \"paper_bgcolor\": \"white\", \"plot_bgcolor\": \"#E5ECF6\", \"polar\": {\"angularaxis\": {\"gridcolor\": \"white\", \"linecolor\": \"white\", \"ticks\": \"\"}, \"bgcolor\": \"#E5ECF6\", \"radialaxis\": {\"gridcolor\": \"white\", \"linecolor\": \"white\", \"ticks\": \"\"}}, \"scene\": {\"xaxis\": {\"backgroundcolor\": \"#E5ECF6\", \"gridcolor\": \"white\", \"gridwidth\": 2, \"linecolor\": \"white\", \"showbackground\": true, \"ticks\": \"\", \"zerolinecolor\": \"white\"}, \"yaxis\": {\"backgroundcolor\": \"#E5ECF6\", \"gridcolor\": \"white\", \"gridwidth\": 2, \"linecolor\": \"white\", \"showbackground\": true, \"ticks\": \"\", \"zerolinecolor\": \"white\"}, \"zaxis\": {\"backgroundcolor\": \"#E5ECF6\", \"gridcolor\": \"white\", \"gridwidth\": 2, \"linecolor\": \"white\", \"showbackground\": true, \"ticks\": \"\", \"zerolinecolor\": \"white\"}}, \"shapedefaults\": {\"line\": {\"color\": \"#2a3f5f\"}}, \"ternary\": {\"aaxis\": {\"gridcolor\": \"white\", \"linecolor\": \"white\", \"ticks\": \"\"}, \"baxis\": {\"gridcolor\": \"white\", \"linecolor\": \"white\", \"ticks\": \"\"}, \"bgcolor\": \"#E5ECF6\", \"caxis\": {\"gridcolor\": \"white\", \"linecolor\": \"white\", \"ticks\": \"\"}}, \"title\": {\"x\": 0.05}, \"xaxis\": {\"automargin\": true, \"gridcolor\": \"white\", \"linecolor\": \"white\", \"ticks\": \"\", \"title\": {\"standoff\": 15}, \"zerolinecolor\": \"white\", \"zerolinewidth\": 2}, \"yaxis\": {\"automargin\": true, \"gridcolor\": \"white\", \"linecolor\": \"white\", \"ticks\": \"\", \"title\": {\"standoff\": 15}, \"zerolinecolor\": \"white\", \"zerolinewidth\": 2}}}},                        {\"responsive\": true}                    ).then(function(){\n",
       "                            \n",
       "var gd = document.getElementById('6999cf9d-d081-4a1e-bbe7-8f27758af3d8');\n",
       "var x = new MutationObserver(function (mutations, observer) {{\n",
       "        var display = window.getComputedStyle(gd).display;\n",
       "        if (!display || display === 'none') {{\n",
       "            console.log([gd, 'removed!']);\n",
       "            Plotly.purge(gd);\n",
       "            observer.disconnect();\n",
       "        }}\n",
       "}});\n",
       "\n",
       "// Listen for the removal of the full notebook cells\n",
       "var notebookContainer = gd.closest('#notebook-container');\n",
       "if (notebookContainer) {{\n",
       "    x.observe(notebookContainer, {childList: true});\n",
       "}}\n",
       "\n",
       "// Listen for the clearing of the current output cell\n",
       "var outputEl = gd.closest('.output');\n",
       "if (outputEl) {{\n",
       "    x.observe(outputEl, {childList: true});\n",
       "}}\n",
       "\n",
       "                        })                };                });            </script>        </div>"
      ]
     },
     "metadata": {},
     "output_type": "display_data"
    }
   ],
   "source": [
    "import pandas as pd\n",
    "#us_cities = pd.read_csv(\"https://raw.githubusercontent.com/plotly/datasets/master/us-cities-top-1k.csv\")\n",
    "\n",
    "import plotly.express as px\n",
    "\n",
    "fig = px.scatter_mapbox(finance_school, lat=\"latitude\", lon=\"longitude\", hover_name=\"district_name\",\n",
    "                        size=\"graduation rate \", hover_data=[\"zipcode\"],\n",
    "                        color_discrete_sequence=[\"fuchsia\"], zoom=3, height=300)\n",
    "fig.update_layout(\n",
    "    mapbox_style=\"white-bg\",\n",
    "    mapbox_layers=[\n",
    "        {\n",
    "            \"below\": 'traces',\n",
    "            \"sourcetype\": \"raster\",\n",
    "            \"sourceattribution\": \"United States Geological Survey\",\n",
    "            \"source\": [\n",
    "                \"https://basemap.nationalmap.gov/arcgis/rest/services/USGSImageryOnly/MapServer/tile/{z}/{y}/{x}\"\n",
    "            ]\n",
    "        }\n",
    "      ])\n",
    "fig.update_layout(margin={\"r\":0,\"t\":0,\"l\":0,\"b\":0})\n",
    "fig.show()"
   ]
  },
  {
   "cell_type": "code",
   "execution_count": 12,
   "metadata": {},
   "outputs": [
    {
     "data": {
      "application/vnd.plotly.v1+json": {
       "config": {
        "plotlyServerURL": "https://plot.ly"
       },
       "data": [
        {
         "hovertemplate": "graduation rate =%{marker.size}<br>latitude=%{lat}<br>longitude=%{lon}<br>Total_School_Per_Pupil_Expenditures=%{marker.color}<extra></extra>",
         "lat": [
          36.099283,
          36.105971,
          35.47066,
          36.050286,
          35.635097,
          35.693358,
          35.784708,
          35.693358,
          35.146362,
          35.219532,
          36.326509,
          35.813335,
          36.355251,
          36.299293,
          35.414454,
          36.465808,
          36.547412,
          35.963276,
          35.500068,
          35.357522,
          35.796157,
          35.929314,
          36.112058,
          35.546839,
          36.065779,
          36.038042,
          36.038042,
          36.409385,
          35.192829,
          35.916722,
          35.973431,
          36.067294,
          35.204983,
          36.243526,
          36.102325,
          36.182289,
          35.429018,
          36.186008,
          35.028574,
          36.521297,
          35.180947,
          36.413437,
          35.590558,
          35.658409,
          36.300311,
          35.76714,
          36.301089,
          36.085376,
          36.351803,
          35.996454,
          36.451041,
          36.032334,
          36.513386,
          35.637993,
          35.259613,
          35.535397,
          35.136177,
          35.136177,
          35.725969,
          35.815524,
          36.537994,
          35.693101,
          35.065007,
          35.045886,
          35.461359,
          35.619784,
          35.503723,
          35.506259,
          36.528448,
          35.276795,
          36.091018,
          36.426933,
          36.354384,
          36.376289,
          35.61432,
          36.572543,
          35.172376,
          36.177831,
          35.495894,
          35.839274,
          36.513979,
          35.813319,
          36.351978,
          36.49787,
          35.399109,
          35.818653,
          35.148605,
          35.272386,
          35.193046,
          35.057224,
          35.088885,
          36.264959,
          36.477136,
          36.534729,
          36.561341,
          36.547133,
          36.388997,
          35.560622,
          36.407653,
          36.128301,
          36.251265,
          35.69653,
          35.687286,
          36.293805,
          36.315795,
          35.343716,
          36.305305,
          35.943026,
          35.893823,
          36.240331
         ],
         "legendgroup": "",
         "lon": [
          -84.14656,
          -84.195796,
          -86.45974,
          -88.10137,
          -85.17161,
          -83.98412,
          -83.97956,
          -83.98412,
          -84.88723,
          -84.86489,
          -84.17277,
          -86.05538,
          -82.18843,
          -87.06949,
          -88.66118,
          -83.52357,
          -85.48904,
          -83.20116,
          -86.08414,
          -86.21484,
          -89.14016,
          -85.05926,
          -86.77626,
          -88.12345,
          -87.40831,
          -89.38613,
          -89.38613,
          -84.93393,
          -86.14045,
          -88.76628,
          -88.95035,
          -88.81209,
          -87.01246,
          -83.51516,
          -82.85446,
          -82.73948,
          -85.77679,
          -83.27474,
          -85.15939,
          -83.22818,
          -88.18946,
          -82.96804,
          -89.2609,
          -88.40535,
          -88.32891,
          -87.49418,
          -87.68198,
          -87.81626,
          -85.65757,
          -83.39791,
          -81.81906,
          -83.884804,
          -89.50472,
          -89.86859,
          -87.37522,
          -87.54905,
          -86.57433,
          -86.57433,
          -84.33069,
          -84.29301,
          -86.01497,
          -88.80653,
          -85.61818,
          -85.72513,
          -86.7792,
          -87.03565,
          -84.80741,
          -84.35738,
          -87.34142,
          -86.35264,
          -84.56863,
          -89.0727,
          -89.149881,
          -85.32585,
          -87.87486,
          -85.15007,
          -84.63913,
          -85.46238,
          -85.01032,
          -84.50562,
          -86.86892,
          -86.4455,
          -84.42137,
          -84.51808,
          -85.38755,
          -83.59197,
          -89.97479,
          -89.71198,
          -89.86559,
          -89.67417,
          -89.80677,
          -85.94893,
          -87.85877,
          -82.37229,
          -82.16869,
          -82.55408,
          -86.4548,
          -89.64201,
          -86.15305,
          -82.4273,
          -83.82558,
          -85.41146,
          -85.787,
          -82.49704,
          -82.383792,
          -87.75739,
          -88.6869,
          -85.45113,
          -86.89919,
          -86.29271
         ],
         "marker": {
          "color": [
           10440.46,
           13041.51,
           8263.84,
           10628.28,
           10683.45,
           9636.79,
           11538.45,
           10705.27,
           8613.96,
           9718.14,
           9238.73,
           9201.13,
           10155.56,
           8384.34,
           8623.28,
           10144.96,
           9974.05,
           9543.4,
           9740.91,
           10570.4,
           8546.2,
           8986.36,
           12317.65,
           9139.33,
           9378.14,
           9721.18,
           11016.6,
           9293.13,
           9700.81,
           9412.88,
           9328.92,
           10040.22,
           9592.74,
           9487.06,
           9148.74,
           11332.74,
           10067.37,
           9075.56,
           10849.8,
           10873.97,
           9494.58,
           9991.25,
           10879.66,
           8922.31,
           9868.2,
           9897.12,
           9480.49,
           8909.44,
           10515.99,
           8860.66,
           10413.56,
           9341.65,
           11716.39,
           10089.84,
           8731.98,
           9389.77,
           8713.94,
           9948.68,
           9298.47,
           9566.81,
           8848.42,
           9835.33,
           8912.14,
           8244.7,
           8884.31,
           9217.96,
           9834.31,
           9379.75,
           9582.93,
           11321.87,
           9919.61,
           9522.49,
           10165.48,
           8515.79,
           10818.3,
           10500.27,
           9651.73,
           8958.7,
           9528.16,
           9855.51,
           8456.65,
           9201.44,
           9255.45,
           9767.74,
           8605.32,
           10556.71,
           11167.6,
           8881.33,
           9806.37,
           10073.97,
           9366.84,
           9102,
           9426.19,
           9641.31,
           10681.28,
           10966.15,
           9177.85,
           8595.62,
           9270.95,
           10045.1,
           7880.11,
           11711.83,
           9377.83,
           8705.16,
           10136.04,
           10070.78,
           9157.49,
           8995.1,
           9736.67,
           8348.47
          ],
          "coloraxis": "coloraxis",
          "size": [
           95.65,
           92.1,
           92.76666666666668,
           47.15,
           93.3,
           93.05,
           98.8,
           94.5,
           92.075,
           90,
           91.65,
           91,
           88.9,
           92.33333333333331,
           95.9,
           92.95,
           97.8,
           92.2,
           92.5,
           90.8,
           96.4,
           88.46666666666665,
           68.52499999999999,
           93.2,
           94.15,
           96.7,
           90,
           95.9,
           93.35,
           97.9,
           95.5,
           0,
           92.95,
           63.5,
           68.85,
           97.4,
           90.6,
           94.35,
           73.71111111111112,
           97.4,
           95.5,
           95.6,
           92,
           93.15,
           95.1,
           94.4,
           91.7,
           97.15,
           95.5,
           95.8,
           96.3,
           74.1,
           93.5,
           97.1,
           97.59999999999998,
           95.6,
           92.3,
           93.8,
           94.05,
           93,
           90.7,
           51.120000000000005,
           90.2,
           90.9,
           95.33333333333331,
           90.33333333333331,
           98.4,
           94.6,
           82.39999999999999,
           95.7,
           0,
           88.05,
           91.6,
           92.4,
           95.7,
           95.1,
           93.25,
           93.1,
           92.3,
           74.2,
           76.78571428571429,
           74.66,
           92.3,
           0,
           89.5,
           73.96666666666665,
           74.95897435897436,
           97.3,
           98,
           95.1,
           95.4,
           93.95,
           95.5,
           70.35,
           95.3,
           94.1,
           76.02,
           95.6,
           98.9,
           91.7,
           93,
           96.7,
           90.6,
           69.775,
           92.1,
           62.333333333333336,
           90.025,
           96.8,
           96.57,
           96.05
          ],
          "sizemode": "area",
          "sizeref": 0.4395555555555556
         },
         "mode": "markers",
         "name": "",
         "showlegend": false,
         "subplot": "mapbox",
         "type": "scattermapbox"
        }
       ],
       "layout": {
        "coloraxis": {
         "colorbar": {
          "title": {
           "text": "Total_School_Per_Pupil_Expenditures"
          }
         },
         "colorscale": [
          [
           0,
           "#000000"
          ],
          [
           0.0625,
           "#001f4d"
          ],
          [
           0.125,
           "#003786"
          ],
          [
           0.1875,
           "#0e58a8"
          ],
          [
           0.25,
           "#217eb8"
          ],
          [
           0.3125,
           "#30a4ca"
          ],
          [
           0.375,
           "#54c8df"
          ],
          [
           0.4375,
           "#9be4ef"
          ],
          [
           0.5,
           "#e1e9d1"
          ],
          [
           0.5625,
           "#f3d573"
          ],
          [
           0.625,
           "#e7b000"
          ],
          [
           0.6875,
           "#da8200"
          ],
          [
           0.75,
           "#c65400"
          ],
          [
           0.8125,
           "#ac2301"
          ],
          [
           0.875,
           "#820000"
          ],
          [
           0.9375,
           "#4c0000"
          ],
          [
           1,
           "#000000"
          ]
         ]
        },
        "legend": {
         "itemsizing": "constant",
         "tracegroupgap": 0
        },
        "mapbox": {
         "center": {
          "lat": 35.88336922727273,
          "lon": -86.03899611818183
         },
         "domain": {
          "x": [
           0,
           1
          ],
          "y": [
           0,
           1
          ]
         },
         "zoom": 10
        },
        "margin": {
         "t": 60
        },
        "template": {
         "data": {
          "bar": [
           {
            "error_x": {
             "color": "#2a3f5f"
            },
            "error_y": {
             "color": "#2a3f5f"
            },
            "marker": {
             "line": {
              "color": "#E5ECF6",
              "width": 0.5
             }
            },
            "type": "bar"
           }
          ],
          "barpolar": [
           {
            "marker": {
             "line": {
              "color": "#E5ECF6",
              "width": 0.5
             }
            },
            "type": "barpolar"
           }
          ],
          "carpet": [
           {
            "aaxis": {
             "endlinecolor": "#2a3f5f",
             "gridcolor": "white",
             "linecolor": "white",
             "minorgridcolor": "white",
             "startlinecolor": "#2a3f5f"
            },
            "baxis": {
             "endlinecolor": "#2a3f5f",
             "gridcolor": "white",
             "linecolor": "white",
             "minorgridcolor": "white",
             "startlinecolor": "#2a3f5f"
            },
            "type": "carpet"
           }
          ],
          "choropleth": [
           {
            "colorbar": {
             "outlinewidth": 0,
             "ticks": ""
            },
            "type": "choropleth"
           }
          ],
          "contour": [
           {
            "colorbar": {
             "outlinewidth": 0,
             "ticks": ""
            },
            "colorscale": [
             [
              0,
              "#0d0887"
             ],
             [
              0.1111111111111111,
              "#46039f"
             ],
             [
              0.2222222222222222,
              "#7201a8"
             ],
             [
              0.3333333333333333,
              "#9c179e"
             ],
             [
              0.4444444444444444,
              "#bd3786"
             ],
             [
              0.5555555555555556,
              "#d8576b"
             ],
             [
              0.6666666666666666,
              "#ed7953"
             ],
             [
              0.7777777777777778,
              "#fb9f3a"
             ],
             [
              0.8888888888888888,
              "#fdca26"
             ],
             [
              1,
              "#f0f921"
             ]
            ],
            "type": "contour"
           }
          ],
          "contourcarpet": [
           {
            "colorbar": {
             "outlinewidth": 0,
             "ticks": ""
            },
            "type": "contourcarpet"
           }
          ],
          "heatmap": [
           {
            "colorbar": {
             "outlinewidth": 0,
             "ticks": ""
            },
            "colorscale": [
             [
              0,
              "#0d0887"
             ],
             [
              0.1111111111111111,
              "#46039f"
             ],
             [
              0.2222222222222222,
              "#7201a8"
             ],
             [
              0.3333333333333333,
              "#9c179e"
             ],
             [
              0.4444444444444444,
              "#bd3786"
             ],
             [
              0.5555555555555556,
              "#d8576b"
             ],
             [
              0.6666666666666666,
              "#ed7953"
             ],
             [
              0.7777777777777778,
              "#fb9f3a"
             ],
             [
              0.8888888888888888,
              "#fdca26"
             ],
             [
              1,
              "#f0f921"
             ]
            ],
            "type": "heatmap"
           }
          ],
          "heatmapgl": [
           {
            "colorbar": {
             "outlinewidth": 0,
             "ticks": ""
            },
            "colorscale": [
             [
              0,
              "#0d0887"
             ],
             [
              0.1111111111111111,
              "#46039f"
             ],
             [
              0.2222222222222222,
              "#7201a8"
             ],
             [
              0.3333333333333333,
              "#9c179e"
             ],
             [
              0.4444444444444444,
              "#bd3786"
             ],
             [
              0.5555555555555556,
              "#d8576b"
             ],
             [
              0.6666666666666666,
              "#ed7953"
             ],
             [
              0.7777777777777778,
              "#fb9f3a"
             ],
             [
              0.8888888888888888,
              "#fdca26"
             ],
             [
              1,
              "#f0f921"
             ]
            ],
            "type": "heatmapgl"
           }
          ],
          "histogram": [
           {
            "marker": {
             "colorbar": {
              "outlinewidth": 0,
              "ticks": ""
             }
            },
            "type": "histogram"
           }
          ],
          "histogram2d": [
           {
            "colorbar": {
             "outlinewidth": 0,
             "ticks": ""
            },
            "colorscale": [
             [
              0,
              "#0d0887"
             ],
             [
              0.1111111111111111,
              "#46039f"
             ],
             [
              0.2222222222222222,
              "#7201a8"
             ],
             [
              0.3333333333333333,
              "#9c179e"
             ],
             [
              0.4444444444444444,
              "#bd3786"
             ],
             [
              0.5555555555555556,
              "#d8576b"
             ],
             [
              0.6666666666666666,
              "#ed7953"
             ],
             [
              0.7777777777777778,
              "#fb9f3a"
             ],
             [
              0.8888888888888888,
              "#fdca26"
             ],
             [
              1,
              "#f0f921"
             ]
            ],
            "type": "histogram2d"
           }
          ],
          "histogram2dcontour": [
           {
            "colorbar": {
             "outlinewidth": 0,
             "ticks": ""
            },
            "colorscale": [
             [
              0,
              "#0d0887"
             ],
             [
              0.1111111111111111,
              "#46039f"
             ],
             [
              0.2222222222222222,
              "#7201a8"
             ],
             [
              0.3333333333333333,
              "#9c179e"
             ],
             [
              0.4444444444444444,
              "#bd3786"
             ],
             [
              0.5555555555555556,
              "#d8576b"
             ],
             [
              0.6666666666666666,
              "#ed7953"
             ],
             [
              0.7777777777777778,
              "#fb9f3a"
             ],
             [
              0.8888888888888888,
              "#fdca26"
             ],
             [
              1,
              "#f0f921"
             ]
            ],
            "type": "histogram2dcontour"
           }
          ],
          "mesh3d": [
           {
            "colorbar": {
             "outlinewidth": 0,
             "ticks": ""
            },
            "type": "mesh3d"
           }
          ],
          "parcoords": [
           {
            "line": {
             "colorbar": {
              "outlinewidth": 0,
              "ticks": ""
             }
            },
            "type": "parcoords"
           }
          ],
          "pie": [
           {
            "automargin": true,
            "type": "pie"
           }
          ],
          "scatter": [
           {
            "marker": {
             "colorbar": {
              "outlinewidth": 0,
              "ticks": ""
             }
            },
            "type": "scatter"
           }
          ],
          "scatter3d": [
           {
            "line": {
             "colorbar": {
              "outlinewidth": 0,
              "ticks": ""
             }
            },
            "marker": {
             "colorbar": {
              "outlinewidth": 0,
              "ticks": ""
             }
            },
            "type": "scatter3d"
           }
          ],
          "scattercarpet": [
           {
            "marker": {
             "colorbar": {
              "outlinewidth": 0,
              "ticks": ""
             }
            },
            "type": "scattercarpet"
           }
          ],
          "scattergeo": [
           {
            "marker": {
             "colorbar": {
              "outlinewidth": 0,
              "ticks": ""
             }
            },
            "type": "scattergeo"
           }
          ],
          "scattergl": [
           {
            "marker": {
             "colorbar": {
              "outlinewidth": 0,
              "ticks": ""
             }
            },
            "type": "scattergl"
           }
          ],
          "scattermapbox": [
           {
            "marker": {
             "colorbar": {
              "outlinewidth": 0,
              "ticks": ""
             }
            },
            "type": "scattermapbox"
           }
          ],
          "scatterpolar": [
           {
            "marker": {
             "colorbar": {
              "outlinewidth": 0,
              "ticks": ""
             }
            },
            "type": "scatterpolar"
           }
          ],
          "scatterpolargl": [
           {
            "marker": {
             "colorbar": {
              "outlinewidth": 0,
              "ticks": ""
             }
            },
            "type": "scatterpolargl"
           }
          ],
          "scatterternary": [
           {
            "marker": {
             "colorbar": {
              "outlinewidth": 0,
              "ticks": ""
             }
            },
            "type": "scatterternary"
           }
          ],
          "surface": [
           {
            "colorbar": {
             "outlinewidth": 0,
             "ticks": ""
            },
            "colorscale": [
             [
              0,
              "#0d0887"
             ],
             [
              0.1111111111111111,
              "#46039f"
             ],
             [
              0.2222222222222222,
              "#7201a8"
             ],
             [
              0.3333333333333333,
              "#9c179e"
             ],
             [
              0.4444444444444444,
              "#bd3786"
             ],
             [
              0.5555555555555556,
              "#d8576b"
             ],
             [
              0.6666666666666666,
              "#ed7953"
             ],
             [
              0.7777777777777778,
              "#fb9f3a"
             ],
             [
              0.8888888888888888,
              "#fdca26"
             ],
             [
              1,
              "#f0f921"
             ]
            ],
            "type": "surface"
           }
          ],
          "table": [
           {
            "cells": {
             "fill": {
              "color": "#EBF0F8"
             },
             "line": {
              "color": "white"
             }
            },
            "header": {
             "fill": {
              "color": "#C8D4E3"
             },
             "line": {
              "color": "white"
             }
            },
            "type": "table"
           }
          ]
         },
         "layout": {
          "annotationdefaults": {
           "arrowcolor": "#2a3f5f",
           "arrowhead": 0,
           "arrowwidth": 1
          },
          "coloraxis": {
           "colorbar": {
            "outlinewidth": 0,
            "ticks": ""
           }
          },
          "colorscale": {
           "diverging": [
            [
             0,
             "#8e0152"
            ],
            [
             0.1,
             "#c51b7d"
            ],
            [
             0.2,
             "#de77ae"
            ],
            [
             0.3,
             "#f1b6da"
            ],
            [
             0.4,
             "#fde0ef"
            ],
            [
             0.5,
             "#f7f7f7"
            ],
            [
             0.6,
             "#e6f5d0"
            ],
            [
             0.7,
             "#b8e186"
            ],
            [
             0.8,
             "#7fbc41"
            ],
            [
             0.9,
             "#4d9221"
            ],
            [
             1,
             "#276419"
            ]
           ],
           "sequential": [
            [
             0,
             "#0d0887"
            ],
            [
             0.1111111111111111,
             "#46039f"
            ],
            [
             0.2222222222222222,
             "#7201a8"
            ],
            [
             0.3333333333333333,
             "#9c179e"
            ],
            [
             0.4444444444444444,
             "#bd3786"
            ],
            [
             0.5555555555555556,
             "#d8576b"
            ],
            [
             0.6666666666666666,
             "#ed7953"
            ],
            [
             0.7777777777777778,
             "#fb9f3a"
            ],
            [
             0.8888888888888888,
             "#fdca26"
            ],
            [
             1,
             "#f0f921"
            ]
           ],
           "sequentialminus": [
            [
             0,
             "#0d0887"
            ],
            [
             0.1111111111111111,
             "#46039f"
            ],
            [
             0.2222222222222222,
             "#7201a8"
            ],
            [
             0.3333333333333333,
             "#9c179e"
            ],
            [
             0.4444444444444444,
             "#bd3786"
            ],
            [
             0.5555555555555556,
             "#d8576b"
            ],
            [
             0.6666666666666666,
             "#ed7953"
            ],
            [
             0.7777777777777778,
             "#fb9f3a"
            ],
            [
             0.8888888888888888,
             "#fdca26"
            ],
            [
             1,
             "#f0f921"
            ]
           ]
          },
          "colorway": [
           "#636efa",
           "#EF553B",
           "#00cc96",
           "#ab63fa",
           "#FFA15A",
           "#19d3f3",
           "#FF6692",
           "#B6E880",
           "#FF97FF",
           "#FECB52"
          ],
          "font": {
           "color": "#2a3f5f"
          },
          "geo": {
           "bgcolor": "white",
           "lakecolor": "white",
           "landcolor": "#E5ECF6",
           "showlakes": true,
           "showland": true,
           "subunitcolor": "white"
          },
          "hoverlabel": {
           "align": "left"
          },
          "hovermode": "closest",
          "mapbox": {
           "style": "light"
          },
          "paper_bgcolor": "white",
          "plot_bgcolor": "#E5ECF6",
          "polar": {
           "angularaxis": {
            "gridcolor": "white",
            "linecolor": "white",
            "ticks": ""
           },
           "bgcolor": "#E5ECF6",
           "radialaxis": {
            "gridcolor": "white",
            "linecolor": "white",
            "ticks": ""
           }
          },
          "scene": {
           "xaxis": {
            "backgroundcolor": "#E5ECF6",
            "gridcolor": "white",
            "gridwidth": 2,
            "linecolor": "white",
            "showbackground": true,
            "ticks": "",
            "zerolinecolor": "white"
           },
           "yaxis": {
            "backgroundcolor": "#E5ECF6",
            "gridcolor": "white",
            "gridwidth": 2,
            "linecolor": "white",
            "showbackground": true,
            "ticks": "",
            "zerolinecolor": "white"
           },
           "zaxis": {
            "backgroundcolor": "#E5ECF6",
            "gridcolor": "white",
            "gridwidth": 2,
            "linecolor": "white",
            "showbackground": true,
            "ticks": "",
            "zerolinecolor": "white"
           }
          },
          "shapedefaults": {
           "line": {
            "color": "#2a3f5f"
           }
          },
          "ternary": {
           "aaxis": {
            "gridcolor": "white",
            "linecolor": "white",
            "ticks": ""
           },
           "baxis": {
            "gridcolor": "white",
            "linecolor": "white",
            "ticks": ""
           },
           "bgcolor": "#E5ECF6",
           "caxis": {
            "gridcolor": "white",
            "linecolor": "white",
            "ticks": ""
           }
          },
          "title": {
           "x": 0.05
          },
          "xaxis": {
           "automargin": true,
           "gridcolor": "white",
           "linecolor": "white",
           "ticks": "",
           "title": {
            "standoff": 15
           },
           "zerolinecolor": "white",
           "zerolinewidth": 2
          },
          "yaxis": {
           "automargin": true,
           "gridcolor": "white",
           "linecolor": "white",
           "ticks": "",
           "title": {
            "standoff": 15
           },
           "zerolinecolor": "white",
           "zerolinewidth": 2
          }
         }
        }
       }
      },
      "text/html": [
       "<div>                            <div id=\"7f11e73c-7ae1-4922-9cba-58d1a19d3467\" class=\"plotly-graph-div\" style=\"height:525px; width:100%;\"></div>            <script type=\"text/javascript\">                require([\"plotly\"], function(Plotly) {                    window.PLOTLYENV=window.PLOTLYENV || {};                                    if (document.getElementById(\"7f11e73c-7ae1-4922-9cba-58d1a19d3467\")) {                    Plotly.newPlot(                        \"7f11e73c-7ae1-4922-9cba-58d1a19d3467\",                        [{\"hovertemplate\": \"graduation rate =%{marker.size}<br>latitude=%{lat}<br>longitude=%{lon}<br>Total_School_Per_Pupil_Expenditures=%{marker.color}<extra></extra>\", \"lat\": [36.099283, 36.105971, 35.47066, 36.050286, 35.635097, 35.693358, 35.784708, 35.693358, 35.146362, 35.219532, 36.326509, 35.813335, 36.355251, 36.299293, 35.414454, 36.465808, 36.547412, 35.963276, 35.500068, 35.357522, 35.796157, 35.929314, 36.112058, 35.546839, 36.065779, 36.038042, 36.038042, 36.409385, 35.192829, 35.916722, 35.973431, 36.067294, 35.204983, 36.243526, 36.102325, 36.182289, 35.429018, 36.186008, 35.028574, 36.521297, 35.180947, 36.413437, 35.590558, 35.658409, 36.300311, 35.76714, 36.301089, 36.085376, 36.351803, 35.996454, 36.451041, 36.032334, 36.513386, 35.637993, 35.259613, 35.535397, 35.136177, 35.136177, 35.725969, 35.815524, 36.537994, 35.693101, 35.065007, 35.045886, 35.461359, 35.619784, 35.503723, 35.506259, 36.528448, 35.276795, 36.091018, 36.426933, 36.354384, 36.376289, 35.61432, 36.572543, 35.172376, 36.177831, 35.495894, 35.839274, 36.513979, 35.813319, 36.351978, 36.49787, 35.399109, 35.818653, 35.148605, 35.272386, 35.193046, 35.057224, 35.088885, 36.264959, 36.477136, 36.534729, 36.561341, 36.547133, 36.388997, 35.560622, 36.407653, 36.128301, 36.251265, 35.69653, 35.687286, 36.293805, 36.315795, 35.343716, 36.305305, 35.943026, 35.893823, 36.240331], \"legendgroup\": \"\", \"lon\": [-84.14656, -84.195796, -86.45974, -88.10137, -85.17161, -83.98412, -83.97956, -83.98412, -84.88723, -84.86489, -84.17277, -86.05538, -82.18843, -87.06949, -88.66118, -83.52357, -85.48904, -83.20116, -86.08414, -86.21484, -89.14016, -85.05926, -86.77626, -88.12345, -87.40831, -89.38613, -89.38613, -84.93393, -86.14045, -88.76628, -88.95035, -88.81209, -87.01246, -83.51516, -82.85446, -82.73948, -85.77679, -83.27474, -85.15939, -83.22818, -88.18946, -82.96804, -89.2609, -88.40535, -88.32891, -87.49418, -87.68198, -87.81626, -85.65757, -83.39791, -81.81906, -83.884804, -89.50472, -89.86859, -87.37522, -87.54905, -86.57433, -86.57433, -84.33069, -84.29301, -86.01497, -88.80653, -85.61818, -85.72513, -86.7792, -87.03565, -84.80741, -84.35738, -87.34142, -86.35264, -84.56863, -89.0727, -89.149881, -85.32585, -87.87486, -85.15007, -84.63913, -85.46238, -85.01032, -84.50562, -86.86892, -86.4455, -84.42137, -84.51808, -85.38755, -83.59197, -89.97479, -89.71198, -89.86559, -89.67417, -89.80677, -85.94893, -87.85877, -82.37229, -82.16869, -82.55408, -86.4548, -89.64201, -86.15305, -82.4273, -83.82558, -85.41146, -85.787, -82.49704, -82.383792, -87.75739, -88.6869, -85.45113, -86.89919, -86.29271], \"marker\": {\"color\": [10440.46, 13041.51, 8263.84, 10628.28, 10683.45, 9636.79, 11538.45, 10705.27, 8613.96, 9718.14, 9238.73, 9201.13, 10155.56, 8384.34, 8623.28, 10144.96, 9974.05, 9543.4, 9740.91, 10570.4, 8546.2, 8986.36, 12317.65, 9139.33, 9378.14, 9721.18, 11016.6, 9293.13, 9700.81, 9412.88, 9328.92, 10040.22, 9592.74, 9487.06, 9148.74, 11332.74, 10067.37, 9075.56, 10849.8, 10873.97, 9494.58, 9991.25, 10879.66, 8922.31, 9868.2, 9897.12, 9480.49, 8909.44, 10515.99, 8860.66, 10413.56, 9341.65, 11716.39, 10089.84, 8731.98, 9389.77, 8713.94, 9948.68, 9298.47, 9566.81, 8848.42, 9835.33, 8912.14, 8244.7, 8884.31, 9217.96, 9834.31, 9379.75, 9582.93, 11321.87, 9919.61, 9522.49, 10165.48, 8515.79, 10818.3, 10500.27, 9651.73, 8958.7, 9528.16, 9855.51, 8456.65, 9201.44, 9255.45, 9767.74, 8605.32, 10556.71, 11167.6, 8881.33, 9806.37, 10073.97, 9366.84, 9102.0, 9426.19, 9641.31, 10681.28, 10966.15, 9177.85, 8595.62, 9270.95, 10045.1, 7880.11, 11711.83, 9377.83, 8705.16, 10136.04, 10070.78, 9157.49, 8995.1, 9736.67, 8348.47], \"coloraxis\": \"coloraxis\", \"size\": [95.65, 92.1, 92.76666666666668, 47.15, 93.3, 93.05, 98.8, 94.5, 92.075, 90.0, 91.65, 91.0, 88.9, 92.33333333333331, 95.9, 92.95, 97.8, 92.2, 92.5, 90.8, 96.4, 88.46666666666665, 68.52499999999999, 93.2, 94.15, 96.7, 90.0, 95.9, 93.35, 97.9, 95.5, 0.0, 92.95, 63.5, 68.85, 97.4, 90.6, 94.35, 73.71111111111112, 97.4, 95.5, 95.6, 92.0, 93.15, 95.1, 94.4, 91.7, 97.15, 95.5, 95.8, 96.3, 74.1, 93.5, 97.1, 97.59999999999998, 95.6, 92.3, 93.8, 94.05, 93.0, 90.7, 51.120000000000005, 90.2, 90.9, 95.33333333333331, 90.33333333333331, 98.4, 94.6, 82.39999999999999, 95.7, 0.0, 88.05, 91.6, 92.4, 95.7, 95.1, 93.25, 93.1, 92.3, 74.2, 76.78571428571429, 74.66, 92.3, 0.0, 89.5, 73.96666666666665, 74.95897435897436, 97.3, 98.0, 95.1, 95.4, 93.95, 95.5, 70.35, 95.3, 94.1, 76.02, 95.6, 98.9, 91.7, 93.0, 96.7, 90.6, 69.775, 92.1, 62.333333333333336, 90.025, 96.8, 96.57, 96.05], \"sizemode\": \"area\", \"sizeref\": 0.4395555555555556}, \"mode\": \"markers\", \"name\": \"\", \"showlegend\": false, \"subplot\": \"mapbox\", \"type\": \"scattermapbox\"}],                        {\"coloraxis\": {\"colorbar\": {\"title\": {\"text\": \"Total_School_Per_Pupil_Expenditures\"}}, \"colorscale\": [[0.0, \"#000000\"], [0.0625, \"#001f4d\"], [0.125, \"#003786\"], [0.1875, \"#0e58a8\"], [0.25, \"#217eb8\"], [0.3125, \"#30a4ca\"], [0.375, \"#54c8df\"], [0.4375, \"#9be4ef\"], [0.5, \"#e1e9d1\"], [0.5625, \"#f3d573\"], [0.625, \"#e7b000\"], [0.6875, \"#da8200\"], [0.75, \"#c65400\"], [0.8125, \"#ac2301\"], [0.875, \"#820000\"], [0.9375, \"#4c0000\"], [1.0, \"#000000\"]]}, \"legend\": {\"itemsizing\": \"constant\", \"tracegroupgap\": 0}, \"mapbox\": {\"center\": {\"lat\": 35.88336922727273, \"lon\": -86.03899611818183}, \"domain\": {\"x\": [0.0, 1.0], \"y\": [0.0, 1.0]}, \"zoom\": 10}, \"margin\": {\"t\": 60}, \"template\": {\"data\": {\"bar\": [{\"error_x\": {\"color\": \"#2a3f5f\"}, \"error_y\": {\"color\": \"#2a3f5f\"}, \"marker\": {\"line\": {\"color\": \"#E5ECF6\", \"width\": 0.5}}, \"type\": \"bar\"}], \"barpolar\": [{\"marker\": {\"line\": {\"color\": \"#E5ECF6\", \"width\": 0.5}}, \"type\": \"barpolar\"}], \"carpet\": [{\"aaxis\": {\"endlinecolor\": \"#2a3f5f\", \"gridcolor\": \"white\", \"linecolor\": \"white\", \"minorgridcolor\": \"white\", \"startlinecolor\": \"#2a3f5f\"}, \"baxis\": {\"endlinecolor\": \"#2a3f5f\", \"gridcolor\": \"white\", \"linecolor\": \"white\", \"minorgridcolor\": \"white\", \"startlinecolor\": \"#2a3f5f\"}, \"type\": \"carpet\"}], \"choropleth\": [{\"colorbar\": {\"outlinewidth\": 0, \"ticks\": \"\"}, \"type\": \"choropleth\"}], \"contour\": [{\"colorbar\": {\"outlinewidth\": 0, \"ticks\": \"\"}, \"colorscale\": [[0.0, \"#0d0887\"], [0.1111111111111111, \"#46039f\"], [0.2222222222222222, \"#7201a8\"], [0.3333333333333333, \"#9c179e\"], [0.4444444444444444, \"#bd3786\"], [0.5555555555555556, \"#d8576b\"], [0.6666666666666666, \"#ed7953\"], [0.7777777777777778, \"#fb9f3a\"], [0.8888888888888888, \"#fdca26\"], [1.0, \"#f0f921\"]], \"type\": \"contour\"}], \"contourcarpet\": [{\"colorbar\": {\"outlinewidth\": 0, \"ticks\": \"\"}, \"type\": \"contourcarpet\"}], \"heatmap\": [{\"colorbar\": {\"outlinewidth\": 0, \"ticks\": \"\"}, \"colorscale\": [[0.0, \"#0d0887\"], [0.1111111111111111, \"#46039f\"], [0.2222222222222222, \"#7201a8\"], [0.3333333333333333, \"#9c179e\"], [0.4444444444444444, \"#bd3786\"], [0.5555555555555556, \"#d8576b\"], [0.6666666666666666, \"#ed7953\"], [0.7777777777777778, \"#fb9f3a\"], [0.8888888888888888, \"#fdca26\"], [1.0, \"#f0f921\"]], \"type\": \"heatmap\"}], \"heatmapgl\": [{\"colorbar\": {\"outlinewidth\": 0, \"ticks\": \"\"}, \"colorscale\": [[0.0, \"#0d0887\"], [0.1111111111111111, \"#46039f\"], [0.2222222222222222, \"#7201a8\"], [0.3333333333333333, \"#9c179e\"], [0.4444444444444444, \"#bd3786\"], [0.5555555555555556, \"#d8576b\"], [0.6666666666666666, \"#ed7953\"], [0.7777777777777778, \"#fb9f3a\"], [0.8888888888888888, \"#fdca26\"], [1.0, \"#f0f921\"]], \"type\": \"heatmapgl\"}], \"histogram\": [{\"marker\": {\"colorbar\": {\"outlinewidth\": 0, \"ticks\": \"\"}}, \"type\": \"histogram\"}], \"histogram2d\": [{\"colorbar\": {\"outlinewidth\": 0, \"ticks\": \"\"}, \"colorscale\": [[0.0, \"#0d0887\"], [0.1111111111111111, \"#46039f\"], [0.2222222222222222, \"#7201a8\"], [0.3333333333333333, \"#9c179e\"], [0.4444444444444444, \"#bd3786\"], [0.5555555555555556, \"#d8576b\"], [0.6666666666666666, \"#ed7953\"], [0.7777777777777778, \"#fb9f3a\"], [0.8888888888888888, \"#fdca26\"], [1.0, \"#f0f921\"]], \"type\": \"histogram2d\"}], \"histogram2dcontour\": [{\"colorbar\": {\"outlinewidth\": 0, \"ticks\": \"\"}, \"colorscale\": [[0.0, \"#0d0887\"], [0.1111111111111111, \"#46039f\"], [0.2222222222222222, \"#7201a8\"], [0.3333333333333333, \"#9c179e\"], [0.4444444444444444, \"#bd3786\"], [0.5555555555555556, \"#d8576b\"], [0.6666666666666666, \"#ed7953\"], [0.7777777777777778, \"#fb9f3a\"], [0.8888888888888888, \"#fdca26\"], [1.0, \"#f0f921\"]], \"type\": \"histogram2dcontour\"}], \"mesh3d\": [{\"colorbar\": {\"outlinewidth\": 0, \"ticks\": \"\"}, \"type\": \"mesh3d\"}], \"parcoords\": [{\"line\": {\"colorbar\": {\"outlinewidth\": 0, \"ticks\": \"\"}}, \"type\": \"parcoords\"}], \"pie\": [{\"automargin\": true, \"type\": \"pie\"}], \"scatter\": [{\"marker\": {\"colorbar\": {\"outlinewidth\": 0, \"ticks\": \"\"}}, \"type\": \"scatter\"}], \"scatter3d\": [{\"line\": {\"colorbar\": {\"outlinewidth\": 0, \"ticks\": \"\"}}, \"marker\": {\"colorbar\": {\"outlinewidth\": 0, \"ticks\": \"\"}}, \"type\": \"scatter3d\"}], \"scattercarpet\": [{\"marker\": {\"colorbar\": {\"outlinewidth\": 0, \"ticks\": \"\"}}, \"type\": \"scattercarpet\"}], \"scattergeo\": [{\"marker\": {\"colorbar\": {\"outlinewidth\": 0, \"ticks\": \"\"}}, \"type\": \"scattergeo\"}], \"scattergl\": [{\"marker\": {\"colorbar\": {\"outlinewidth\": 0, \"ticks\": \"\"}}, \"type\": \"scattergl\"}], \"scattermapbox\": [{\"marker\": {\"colorbar\": {\"outlinewidth\": 0, \"ticks\": \"\"}}, \"type\": \"scattermapbox\"}], \"scatterpolar\": [{\"marker\": {\"colorbar\": {\"outlinewidth\": 0, \"ticks\": \"\"}}, \"type\": \"scatterpolar\"}], \"scatterpolargl\": [{\"marker\": {\"colorbar\": {\"outlinewidth\": 0, \"ticks\": \"\"}}, \"type\": \"scatterpolargl\"}], \"scatterternary\": [{\"marker\": {\"colorbar\": {\"outlinewidth\": 0, \"ticks\": \"\"}}, \"type\": \"scatterternary\"}], \"surface\": [{\"colorbar\": {\"outlinewidth\": 0, \"ticks\": \"\"}, \"colorscale\": [[0.0, \"#0d0887\"], [0.1111111111111111, \"#46039f\"], [0.2222222222222222, \"#7201a8\"], [0.3333333333333333, \"#9c179e\"], [0.4444444444444444, \"#bd3786\"], [0.5555555555555556, \"#d8576b\"], [0.6666666666666666, \"#ed7953\"], [0.7777777777777778, \"#fb9f3a\"], [0.8888888888888888, \"#fdca26\"], [1.0, \"#f0f921\"]], \"type\": \"surface\"}], \"table\": [{\"cells\": {\"fill\": {\"color\": \"#EBF0F8\"}, \"line\": {\"color\": \"white\"}}, \"header\": {\"fill\": {\"color\": \"#C8D4E3\"}, \"line\": {\"color\": \"white\"}}, \"type\": \"table\"}]}, \"layout\": {\"annotationdefaults\": {\"arrowcolor\": \"#2a3f5f\", \"arrowhead\": 0, \"arrowwidth\": 1}, \"coloraxis\": {\"colorbar\": {\"outlinewidth\": 0, \"ticks\": \"\"}}, \"colorscale\": {\"diverging\": [[0, \"#8e0152\"], [0.1, \"#c51b7d\"], [0.2, \"#de77ae\"], [0.3, \"#f1b6da\"], [0.4, \"#fde0ef\"], [0.5, \"#f7f7f7\"], [0.6, \"#e6f5d0\"], [0.7, \"#b8e186\"], [0.8, \"#7fbc41\"], [0.9, \"#4d9221\"], [1, \"#276419\"]], \"sequential\": [[0.0, \"#0d0887\"], [0.1111111111111111, \"#46039f\"], [0.2222222222222222, \"#7201a8\"], [0.3333333333333333, \"#9c179e\"], [0.4444444444444444, \"#bd3786\"], [0.5555555555555556, \"#d8576b\"], [0.6666666666666666, \"#ed7953\"], [0.7777777777777778, \"#fb9f3a\"], [0.8888888888888888, \"#fdca26\"], [1.0, \"#f0f921\"]], \"sequentialminus\": [[0.0, \"#0d0887\"], [0.1111111111111111, \"#46039f\"], [0.2222222222222222, \"#7201a8\"], [0.3333333333333333, \"#9c179e\"], [0.4444444444444444, \"#bd3786\"], [0.5555555555555556, \"#d8576b\"], [0.6666666666666666, \"#ed7953\"], [0.7777777777777778, \"#fb9f3a\"], [0.8888888888888888, \"#fdca26\"], [1.0, \"#f0f921\"]]}, \"colorway\": [\"#636efa\", \"#EF553B\", \"#00cc96\", \"#ab63fa\", \"#FFA15A\", \"#19d3f3\", \"#FF6692\", \"#B6E880\", \"#FF97FF\", \"#FECB52\"], \"font\": {\"color\": \"#2a3f5f\"}, \"geo\": {\"bgcolor\": \"white\", \"lakecolor\": \"white\", \"landcolor\": \"#E5ECF6\", \"showlakes\": true, \"showland\": true, \"subunitcolor\": \"white\"}, \"hoverlabel\": {\"align\": \"left\"}, \"hovermode\": \"closest\", \"mapbox\": {\"style\": \"light\"}, \"paper_bgcolor\": \"white\", \"plot_bgcolor\": \"#E5ECF6\", \"polar\": {\"angularaxis\": {\"gridcolor\": \"white\", \"linecolor\": \"white\", \"ticks\": \"\"}, \"bgcolor\": \"#E5ECF6\", \"radialaxis\": {\"gridcolor\": \"white\", \"linecolor\": \"white\", \"ticks\": \"\"}}, \"scene\": {\"xaxis\": {\"backgroundcolor\": \"#E5ECF6\", \"gridcolor\": \"white\", \"gridwidth\": 2, \"linecolor\": \"white\", \"showbackground\": true, \"ticks\": \"\", \"zerolinecolor\": \"white\"}, \"yaxis\": {\"backgroundcolor\": \"#E5ECF6\", \"gridcolor\": \"white\", \"gridwidth\": 2, \"linecolor\": \"white\", \"showbackground\": true, \"ticks\": \"\", \"zerolinecolor\": \"white\"}, \"zaxis\": {\"backgroundcolor\": \"#E5ECF6\", \"gridcolor\": \"white\", \"gridwidth\": 2, \"linecolor\": \"white\", \"showbackground\": true, \"ticks\": \"\", \"zerolinecolor\": \"white\"}}, \"shapedefaults\": {\"line\": {\"color\": \"#2a3f5f\"}}, \"ternary\": {\"aaxis\": {\"gridcolor\": \"white\", \"linecolor\": \"white\", \"ticks\": \"\"}, \"baxis\": {\"gridcolor\": \"white\", \"linecolor\": \"white\", \"ticks\": \"\"}, \"bgcolor\": \"#E5ECF6\", \"caxis\": {\"gridcolor\": \"white\", \"linecolor\": \"white\", \"ticks\": \"\"}}, \"title\": {\"x\": 0.05}, \"xaxis\": {\"automargin\": true, \"gridcolor\": \"white\", \"linecolor\": \"white\", \"ticks\": \"\", \"title\": {\"standoff\": 15}, \"zerolinecolor\": \"white\", \"zerolinewidth\": 2}, \"yaxis\": {\"automargin\": true, \"gridcolor\": \"white\", \"linecolor\": \"white\", \"ticks\": \"\", \"title\": {\"standoff\": 15}, \"zerolinecolor\": \"white\", \"zerolinewidth\": 2}}}},                        {\"responsive\": true}                    ).then(function(){\n",
       "                            \n",
       "var gd = document.getElementById('7f11e73c-7ae1-4922-9cba-58d1a19d3467');\n",
       "var x = new MutationObserver(function (mutations, observer) {{\n",
       "        var display = window.getComputedStyle(gd).display;\n",
       "        if (!display || display === 'none') {{\n",
       "            console.log([gd, 'removed!']);\n",
       "            Plotly.purge(gd);\n",
       "            observer.disconnect();\n",
       "        }}\n",
       "}});\n",
       "\n",
       "// Listen for the removal of the full notebook cells\n",
       "var notebookContainer = gd.closest('#notebook-container');\n",
       "if (notebookContainer) {{\n",
       "    x.observe(notebookContainer, {childList: true});\n",
       "}}\n",
       "\n",
       "// Listen for the clearing of the current output cell\n",
       "var outputEl = gd.closest('.output');\n",
       "if (outputEl) {{\n",
       "    x.observe(outputEl, {childList: true});\n",
       "}}\n",
       "\n",
       "                        })                };                });            </script>        </div>"
      ]
     },
     "metadata": {},
     "output_type": "display_data"
    }
   ],
   "source": [
    "import plotly.express as px\n",
    "#px.set_mapbox_access_token(open(\".mapbox_token\").read())\n",
    "df = px.data.carshare()\n",
    "fig = px.scatter_mapbox(finance_school, lat=\"latitude\", lon=\"longitude\",     color=\"Total_School_Per_Pupil_Expenditures\", size=\"graduation rate \",\n",
    "                  color_continuous_scale=px.colors.cyclical.IceFire, size_max=15, zoom=10)\n",
    "fig.show()"
   ]
  },
  {
   "cell_type": "code",
   "execution_count": 7,
   "metadata": {},
   "outputs": [
    {
     "ename": "TypeError",
     "evalue": "scatter_geo() got an unexpected keyword argument 'longitude'",
     "output_type": "error",
     "traceback": [
      "\u001b[1;31m---------------------------------------------------------------------------\u001b[0m",
      "\u001b[1;31mTypeError\u001b[0m                                 Traceback (most recent call last)",
      "\u001b[1;32m<ipython-input-7-546f2aac7588>\u001b[0m in \u001b[0;36m<module>\u001b[1;34m\u001b[0m\n\u001b[0;32m      1\u001b[0m \u001b[1;32mimport\u001b[0m \u001b[0mplotly\u001b[0m\u001b[1;33m.\u001b[0m\u001b[0mexpress\u001b[0m \u001b[1;32mas\u001b[0m \u001b[0mpx\u001b[0m\u001b[1;33m\u001b[0m\u001b[1;33m\u001b[0m\u001b[0m\n\u001b[0;32m      2\u001b[0m \u001b[1;33m\u001b[0m\u001b[0m\n\u001b[1;32m----> 3\u001b[1;33m fig = px.scatter_geo(finance_school,longitude='longitude',latitude='latitude', color=\"district_name\",\n\u001b[0m\u001b[0;32m      4\u001b[0m                      \u001b[0mhover_name\u001b[0m\u001b[1;33m=\u001b[0m\u001b[1;34m\"Total_School_Per_Pupil_Expenditures\"\u001b[0m\u001b[1;33m,\u001b[0m \u001b[0msize\u001b[0m\u001b[1;33m=\u001b[0m\u001b[1;34m\"graduation rate \"\u001b[0m\u001b[1;33m,\u001b[0m\u001b[1;33m\u001b[0m\u001b[1;33m\u001b[0m\u001b[0m\n\u001b[0;32m      5\u001b[0m                      \u001b[0manimation_frame\u001b[0m\u001b[1;33m=\u001b[0m\u001b[1;34m\"year\"\u001b[0m\u001b[1;33m,\u001b[0m\u001b[1;33m\u001b[0m\u001b[1;33m\u001b[0m\u001b[0m\n",
      "\u001b[1;31mTypeError\u001b[0m: scatter_geo() got an unexpected keyword argument 'longitude'"
     ]
    }
   ],
   "source": [
    "import plotly.express as px\n",
    "\n",
    "fig = px.scatter_geo(finance_school,longitude='longitude',latitude='latitude', color=\"district_name\",\n",
    "                     hover_name=\"Total_School_Per_Pupil_Expenditures\", size=\"graduation rate \",\n",
    "                     animation_frame=\"year\",\n",
    "                     projection=\"natural earth\")\n",
    "fig.show()    "
   ]
  },
  {
   "cell_type": "code",
   "execution_count": null,
   "metadata": {},
   "outputs": [],
   "source": []
  }
 ],
 "metadata": {
  "kernelspec": {
   "display_name": "Python 3",
   "language": "python",
   "name": "python3"
  },
  "language_info": {
   "codemirror_mode": {
    "name": "ipython",
    "version": 3
   },
   "file_extension": ".py",
   "mimetype": "text/x-python",
   "name": "python",
   "nbconvert_exporter": "python",
   "pygments_lexer": "ipython3",
   "version": "3.8.3"
  }
 },
 "nbformat": 4,
 "nbformat_minor": 4
}
