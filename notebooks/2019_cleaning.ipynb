{
 "cells": [
  {
   "cell_type": "code",
   "execution_count": 1,
   "metadata": {},
   "outputs": [],
   "source": [
    "import pandas as pd\n",
    "import dtale\n",
    "# helps convert zip to lat and long\n",
    "from pyzipcode import ZipCodeDatabase"
   ]
  },
  {
   "cell_type": "markdown",
   "metadata": {},
   "source": [
    "# import data"
   ]
  },
  {
   "cell_type": "code",
   "execution_count": 18,
   "metadata": {},
   "outputs": [],
   "source": [
    "\n",
    "#absent\n",
    "absent_df=pd.read_excel('../data/original_data/reportcarddata2019.xlsx','chronic_absenteeism'\n",
    "                    )\n",
    "# import finance data only need 141 rows the rest are missing\n",
    "finance_school = pd.read_excel('../data/original_data/reportcarddata2019.xlsx','finance'\n",
    "                        )\n",
    "\n",
    "#district info\n",
    "\n",
    "district_df = pd.read_excel('../data/original_data/reportcarddata2019.xlsx','district_info'\n",
    "                              \n",
    "                              )\n",
    "# info on schools\n",
    "school_df = pd.read_excel('../data/original_data/reportcarddata2019.xlsx','school_info'\n",
    "                              \n",
    "                             )\n",
    "# grade data\n",
    "grade_df = pd.read_excel('../data/original_data/reportcarddata2019.xlsx','overall_grades'\n",
    "                              )\n",
    "# data on teacher\n",
    "teacher_df = pd.read_excel('../data/original_data/reportcarddata2019.xlsx','teacher_retention'\n",
    "                              \n",
    "                           )\n",
    "# data on staff\n",
    "staffing_df = pd.read_excel('../data/original_data/reportcarddata2019.xlsx','school_info'\n",
    "                              \n",
    "                              )\n"
   ]
  },
  {
   "cell_type": "markdown",
   "metadata": {},
   "source": [
    "# clean"
   ]
  },
  {
   "cell_type": "markdown",
   "metadata": {},
   "source": [
    "# School cleaning"
   ]
  },
  {
   "cell_type": "code",
   "execution_count": 19,
   "metadata": {},
   "outputs": [],
   "source": [
    "zipcode_database = ZipCodeDatabase()"
   ]
  },
  {
   "cell_type": "code",
   "execution_count": 20,
   "metadata": {},
   "outputs": [],
   "source": [
    "def get_long(zip):\n",
    "    try:\n",
    "        return zipcode_database[zip].longitude\n",
    "    except:\n",
    "        pass\n",
    "def get_lat(zip):\n",
    "    try:\n",
    "        return zipcode_database[zip].latitude\n",
    "    except:\n",
    "        pass\n",
    "school_df['longitude'] = school_df['zipcode'].apply(get_long)\n",
    "school_df['latitude'] = school_df['zipcode'].apply(get_lat)"
   ]
  },
  {
   "cell_type": "code",
   "execution_count": 21,
   "metadata": {},
   "outputs": [],
   "source": [
    "school_df =school_df[['district_name','school_name','zipcode','longitude','latitude']]"
   ]
  },
  {
   "cell_type": "markdown",
   "metadata": {},
   "source": [
    "# absent cleaning"
   ]
  },
  {
   "cell_type": "code",
   "execution_count": 56,
   "metadata": {},
   "outputs": [
    {
     "data": {
      "text/html": [
       "<div>\n",
       "<style scoped>\n",
       "    .dataframe tbody tr th:only-of-type {\n",
       "        vertical-align: middle;\n",
       "    }\n",
       "\n",
       "    .dataframe tbody tr th {\n",
       "        vertical-align: top;\n",
       "    }\n",
       "\n",
       "    .dataframe thead th {\n",
       "        text-align: right;\n",
       "    }\n",
       "</style>\n",
       "<table border=\"1\" class=\"dataframe\">\n",
       "  <thead>\n",
       "    <tr style=\"text-align: right;\">\n",
       "      <th></th>\n",
       "      <th>district_name</th>\n",
       "      <th>school_name</th>\n",
       "      <th>percent_ca</th>\n",
       "    </tr>\n",
       "  </thead>\n",
       "  <tbody>\n",
       "    <tr>\n",
       "      <th>15</th>\n",
       "      <td>Anderson County Schools</td>\n",
       "      <td>Anderson County High School</td>\n",
       "      <td>15.1</td>\n",
       "    </tr>\n",
       "    <tr>\n",
       "      <th>20</th>\n",
       "      <td>Anderson County Schools</td>\n",
       "      <td>Andersonville Elementary</td>\n",
       "      <td>8.6</td>\n",
       "    </tr>\n",
       "    <tr>\n",
       "      <th>25</th>\n",
       "      <td>Anderson County Schools</td>\n",
       "      <td>Briceville Elementary</td>\n",
       "      <td>9.4</td>\n",
       "    </tr>\n",
       "    <tr>\n",
       "      <th>30</th>\n",
       "      <td>Anderson County Schools</td>\n",
       "      <td>Claxton Elementary</td>\n",
       "      <td>14.4</td>\n",
       "    </tr>\n",
       "    <tr>\n",
       "      <th>35</th>\n",
       "      <td>Anderson County Schools</td>\n",
       "      <td>Clinton Middle School</td>\n",
       "      <td>20.8</td>\n",
       "    </tr>\n",
       "    <tr>\n",
       "      <th>...</th>\n",
       "      <td>...</td>\n",
       "      <td>...</td>\n",
       "      <td>...</td>\n",
       "    </tr>\n",
       "    <tr>\n",
       "      <th>9505</th>\n",
       "      <td>Achievement School District</td>\n",
       "      <td>Memphis Scholars Raleigh-Egypt</td>\n",
       "      <td>37.5</td>\n",
       "    </tr>\n",
       "    <tr>\n",
       "      <th>9510</th>\n",
       "      <td>Achievement School District</td>\n",
       "      <td>Kirby Middle School</td>\n",
       "      <td>25.1</td>\n",
       "    </tr>\n",
       "    <tr>\n",
       "      <th>9515</th>\n",
       "      <td>Achievement School District</td>\n",
       "      <td>Hillcrest High School</td>\n",
       "      <td>42.1</td>\n",
       "    </tr>\n",
       "    <tr>\n",
       "      <th>9525</th>\n",
       "      <td>Tennessee State Board of Education</td>\n",
       "      <td>Bluff City High School</td>\n",
       "      <td>29.9</td>\n",
       "    </tr>\n",
       "    <tr>\n",
       "      <th>9530</th>\n",
       "      <td>Tennessee State Board of Education</td>\n",
       "      <td>KIPP Antioch College Prep Elementary</td>\n",
       "      <td>2.9</td>\n",
       "    </tr>\n",
       "  </tbody>\n",
       "</table>\n",
       "<p>1742 rows × 3 columns</p>\n",
       "</div>"
      ],
      "text/plain": [
       "                           district_name  \\\n",
       "15               Anderson County Schools   \n",
       "20               Anderson County Schools   \n",
       "25               Anderson County Schools   \n",
       "30               Anderson County Schools   \n",
       "35               Anderson County Schools   \n",
       "...                                  ...   \n",
       "9505         Achievement School District   \n",
       "9510         Achievement School District   \n",
       "9515         Achievement School District   \n",
       "9525  Tennessee State Board of Education   \n",
       "9530  Tennessee State Board of Education   \n",
       "\n",
       "                               school_name  percent_ca  \n",
       "15             Anderson County High School        15.1  \n",
       "20                Andersonville Elementary         8.6  \n",
       "25                   Briceville Elementary         9.4  \n",
       "30                      Claxton Elementary        14.4  \n",
       "35                   Clinton Middle School        20.8  \n",
       "...                                    ...         ...  \n",
       "9505        Memphis Scholars Raleigh-Egypt        37.5  \n",
       "9510                   Kirby Middle School        25.1  \n",
       "9515                 Hillcrest High School        42.1  \n",
       "9525                Bluff City High School        29.9  \n",
       "9530  KIPP Antioch College Prep Elementary         2.9  \n",
       "\n",
       "[1742 rows x 3 columns]"
      ]
     },
     "execution_count": 56,
     "metadata": {},
     "output_type": "execute_result"
    }
   ],
   "source": [
    "absent_df"
   ]
  },
  {
   "cell_type": "code",
   "execution_count": 24,
   "metadata": {},
   "outputs": [],
   "source": [
    "absent_df=absent_df[absent_df.subgroup =='all_students']"
   ]
  },
  {
   "cell_type": "code",
   "execution_count": 29,
   "metadata": {},
   "outputs": [],
   "source": [
    "absent_df=absent_df[absent_df.school_name !='All Schools']"
   ]
  },
  {
   "cell_type": "code",
   "execution_count": 46,
   "metadata": {},
   "outputs": [],
   "source": [
    "absent_df=absent_df[['district_name','school_name','percent_ca']]"
   ]
  },
  {
   "cell_type": "code",
   "execution_count": 51,
   "metadata": {},
   "outputs": [],
   "source": [
    "absent_df=absent_df[absent_df['percent_ca'] != '*']"
   ]
  },
  {
   "cell_type": "code",
   "execution_count": 52,
   "metadata": {},
   "outputs": [],
   "source": [
    "absent_df=absent_df[absent_df['percent_ca'] != '**']"
   ]
  },
  {
   "cell_type": "code",
   "execution_count": 54,
   "metadata": {},
   "outputs": [],
   "source": [
    "absent_df['percent_ca']=absent_df['percent_ca'].astype(float)"
   ]
  },
  {
   "cell_type": "code",
   "execution_count": 57,
   "metadata": {},
   "outputs": [
    {
     "data": {
      "text/plain": [
       "district_name     object\n",
       "school_name       object\n",
       "percent_ca       float64\n",
       "dtype: object"
      ]
     },
     "execution_count": 57,
     "metadata": {},
     "output_type": "execute_result"
    }
   ],
   "source": [
    "absent_df.dtypes"
   ]
  },
  {
   "cell_type": "markdown",
   "metadata": {},
   "source": [
    "# grade cleaning"
   ]
  },
  {
   "cell_type": "code",
   "execution_count": 35,
   "metadata": {},
   "outputs": [],
   "source": [
    "grade_df=grade_df[['district_name','school_name','pool','score_achievement',]]"
   ]
  },
  {
   "cell_type": "code",
   "execution_count": 43,
   "metadata": {},
   "outputs": [],
   "source": [
    "grade_df= grade_df.dropna()"
   ]
  },
  {
   "cell_type": "code",
   "execution_count": 44,
   "metadata": {},
   "outputs": [
    {
     "data": {
      "text/plain": [
       "district_name         object\n",
       "school_name           object\n",
       "pool                  object\n",
       "score_achievement    float64\n",
       "dtype: object"
      ]
     },
     "execution_count": 44,
     "metadata": {},
     "output_type": "execute_result"
    }
   ],
   "source": [
    "grade_df.dtypes"
   ]
  },
  {
   "cell_type": "markdown",
   "metadata": {},
   "source": [
    "# teacher cleaning"
   ]
  },
  {
   "cell_type": "code",
   "execution_count": 60,
   "metadata": {},
   "outputs": [],
   "source": [
    "teacher_df= teacher_df[['district_name','school_name','percent_retained']]"
   ]
  },
  {
   "cell_type": "code",
   "execution_count": 62,
   "metadata": {},
   "outputs": [],
   "source": [
    "teacher_df=teacher_df[teacher_df.school_name !='All Schools']"
   ]
  },
  {
   "cell_type": "code",
   "execution_count": 66,
   "metadata": {},
   "outputs": [],
   "source": [
    "teacher_df=teacher_df.dropna()"
   ]
  },
  {
   "cell_type": "code",
   "execution_count": 73,
   "metadata": {},
   "outputs": [],
   "source": [
    "teacher_df=teacher_df[teacher_df['percent_retained'] != '**']"
   ]
  },
  {
   "cell_type": "code",
   "execution_count": 74,
   "metadata": {},
   "outputs": [],
   "source": [
    "teacher_df=teacher_df[teacher_df['percent_retained'] != '*']"
   ]
  },
  {
   "cell_type": "code",
   "execution_count": 75,
   "metadata": {},
   "outputs": [],
   "source": [
    "teacher_df['percent_retained']=teacher_df['percent_retained'].astype(float)"
   ]
  },
  {
   "cell_type": "code",
   "execution_count": 77,
   "metadata": {},
   "outputs": [
    {
     "data": {
      "text/plain": [
       "(1712, 3)"
      ]
     },
     "execution_count": 77,
     "metadata": {},
     "output_type": "execute_result"
    }
   ],
   "source": [
    "teacher_df.shape"
   ]
  },
  {
   "cell_type": "markdown",
   "metadata": {},
   "source": [
    "# staff cleaning"
   ]
  },
  {
   "cell_type": "code",
   "execution_count": 78,
   "metadata": {},
   "outputs": [
    {
     "data": {
      "text/html": [
       "<div>\n",
       "<style scoped>\n",
       "    .dataframe tbody tr th:only-of-type {\n",
       "        vertical-align: middle;\n",
       "    }\n",
       "\n",
       "    .dataframe tbody tr th {\n",
       "        vertical-align: top;\n",
       "    }\n",
       "\n",
       "    .dataframe thead th {\n",
       "        text-align: right;\n",
       "    }\n",
       "</style>\n",
       "<table border=\"1\" class=\"dataframe\">\n",
       "  <thead>\n",
       "    <tr style=\"text-align: right;\">\n",
       "      <th></th>\n",
       "      <th>district_number</th>\n",
       "      <th>district_name</th>\n",
       "      <th>school_number</th>\n",
       "      <th>school_name</th>\n",
       "      <th>year</th>\n",
       "      <th>street_address_1</th>\n",
       "      <th>street_address_2</th>\n",
       "      <th>street_address_3</th>\n",
       "      <th>city</th>\n",
       "      <th>state</th>\n",
       "      <th>zipcode</th>\n",
       "      <th>phone1</th>\n",
       "      <th>phone2</th>\n",
       "      <th>countyname</th>\n",
       "      <th>principal</th>\n",
       "      <th>grades_served</th>\n",
       "      <th>message</th>\n",
       "    </tr>\n",
       "  </thead>\n",
       "  <tbody>\n",
       "    <tr>\n",
       "      <th>0</th>\n",
       "      <td>10</td>\n",
       "      <td>Anderson County Schools</td>\n",
       "      <td>2</td>\n",
       "      <td>Anderson County High School</td>\n",
       "      <td>2019</td>\n",
       "      <td>130 Maverick  Cir</td>\n",
       "      <td>NaN</td>\n",
       "      <td>NaN</td>\n",
       "      <td>Clinton</td>\n",
       "      <td>TN</td>\n",
       "      <td>37716</td>\n",
       "      <td>(865) 457-4716</td>\n",
       "      <td>NaN</td>\n",
       "      <td>Anderson County</td>\n",
       "      <td>Ben Downs</td>\n",
       "      <td>Grades 9-12</td>\n",
       "      <td>NaN</td>\n",
       "    </tr>\n",
       "    <tr>\n",
       "      <th>1</th>\n",
       "      <td>10</td>\n",
       "      <td>Anderson County Schools</td>\n",
       "      <td>5</td>\n",
       "      <td>Andersonville Elementary</td>\n",
       "      <td>2019</td>\n",
       "      <td>1951  Mountain  Rd</td>\n",
       "      <td>NaN</td>\n",
       "      <td>NaN</td>\n",
       "      <td>Andersonville</td>\n",
       "      <td>TN</td>\n",
       "      <td>37705</td>\n",
       "      <td>(865) 494-7695</td>\n",
       "      <td>NaN</td>\n",
       "      <td>Anderson County</td>\n",
       "      <td>Beth Roeder</td>\n",
       "      <td>Grades PK-5</td>\n",
       "      <td>NaN</td>\n",
       "    </tr>\n",
       "    <tr>\n",
       "      <th>2</th>\n",
       "      <td>10</td>\n",
       "      <td>Anderson County Schools</td>\n",
       "      <td>10</td>\n",
       "      <td>Briceville Elementary</td>\n",
       "      <td>2019</td>\n",
       "      <td>103 Slatestone Rd</td>\n",
       "      <td>NaN</td>\n",
       "      <td>NaN</td>\n",
       "      <td>Briceville</td>\n",
       "      <td>TN</td>\n",
       "      <td>37710</td>\n",
       "      <td>(865) 426-2289</td>\n",
       "      <td>NaN</td>\n",
       "      <td>Anderson County</td>\n",
       "      <td>Travis Hutcheson</td>\n",
       "      <td>Grades PK-5</td>\n",
       "      <td>NaN</td>\n",
       "    </tr>\n",
       "    <tr>\n",
       "      <th>3</th>\n",
       "      <td>10</td>\n",
       "      <td>Anderson County Schools</td>\n",
       "      <td>15</td>\n",
       "      <td>Claxton Elementary</td>\n",
       "      <td>2019</td>\n",
       "      <td>2218  Clinton  Hwy</td>\n",
       "      <td>NaN</td>\n",
       "      <td>NaN</td>\n",
       "      <td>Powell</td>\n",
       "      <td>TN</td>\n",
       "      <td>37849</td>\n",
       "      <td>(865) 945-2222</td>\n",
       "      <td>NaN</td>\n",
       "      <td>Anderson County</td>\n",
       "      <td>Jennifer Coleman</td>\n",
       "      <td>Grades PK-5</td>\n",
       "      <td>NaN</td>\n",
       "    </tr>\n",
       "    <tr>\n",
       "      <th>4</th>\n",
       "      <td>10</td>\n",
       "      <td>Anderson County Schools</td>\n",
       "      <td>20</td>\n",
       "      <td>Clinton Middle School</td>\n",
       "      <td>2019</td>\n",
       "      <td>110  N  Hicks St</td>\n",
       "      <td>NaN</td>\n",
       "      <td>NaN</td>\n",
       "      <td>Clinton</td>\n",
       "      <td>TN</td>\n",
       "      <td>37716</td>\n",
       "      <td>(865) 457-3451</td>\n",
       "      <td>NaN</td>\n",
       "      <td>Anderson County</td>\n",
       "      <td>RaeAnn Owens</td>\n",
       "      <td>Grades 6-8</td>\n",
       "      <td>NaN</td>\n",
       "    </tr>\n",
       "    <tr>\n",
       "      <th>...</th>\n",
       "      <td>...</td>\n",
       "      <td>...</td>\n",
       "      <td>...</td>\n",
       "      <td>...</td>\n",
       "      <td>...</td>\n",
       "      <td>...</td>\n",
       "      <td>...</td>\n",
       "      <td>...</td>\n",
       "      <td>...</td>\n",
       "      <td>...</td>\n",
       "      <td>...</td>\n",
       "      <td>...</td>\n",
       "      <td>...</td>\n",
       "      <td>...</td>\n",
       "      <td>...</td>\n",
       "      <td>...</td>\n",
       "      <td>...</td>\n",
       "    </tr>\n",
       "    <tr>\n",
       "      <th>1753</th>\n",
       "      <td>985</td>\n",
       "      <td>Achievement School District</td>\n",
       "      <td>8130</td>\n",
       "      <td>Memphis Scholars Raleigh-Egypt</td>\n",
       "      <td>2019</td>\n",
       "      <td>1380 Pennsylvania Avenue</td>\n",
       "      <td>NaN</td>\n",
       "      <td>NaN</td>\n",
       "      <td>Memphis</td>\n",
       "      <td>TN</td>\n",
       "      <td>38106</td>\n",
       "      <td>(901) 647-0840</td>\n",
       "      <td>NaN</td>\n",
       "      <td>Shelby County</td>\n",
       "      <td>Heather Johnson</td>\n",
       "      <td>Grades 6-8</td>\n",
       "      <td>NaN</td>\n",
       "    </tr>\n",
       "    <tr>\n",
       "      <th>1754</th>\n",
       "      <td>985</td>\n",
       "      <td>Achievement School District</td>\n",
       "      <td>8135</td>\n",
       "      <td>Kirby Middle School</td>\n",
       "      <td>2019</td>\n",
       "      <td>6670 E Raines Rd</td>\n",
       "      <td>NaN</td>\n",
       "      <td>NaN</td>\n",
       "      <td>Memphis</td>\n",
       "      <td>TN</td>\n",
       "      <td>38115</td>\n",
       "      <td>(901) 730-8169</td>\n",
       "      <td>NaN</td>\n",
       "      <td>Shelby County</td>\n",
       "      <td>Marian Williams</td>\n",
       "      <td>Grades 6-8</td>\n",
       "      <td>NaN</td>\n",
       "    </tr>\n",
       "    <tr>\n",
       "      <th>1755</th>\n",
       "      <td>985</td>\n",
       "      <td>Achievement School District</td>\n",
       "      <td>8140</td>\n",
       "      <td>Hillcrest High School</td>\n",
       "      <td>2019</td>\n",
       "      <td>4184 Graceland Dr</td>\n",
       "      <td>NaN</td>\n",
       "      <td>NaN</td>\n",
       "      <td>Memphis</td>\n",
       "      <td>TN</td>\n",
       "      <td>38116</td>\n",
       "      <td>(901) 730-4098</td>\n",
       "      <td>NaN</td>\n",
       "      <td>Shelby County</td>\n",
       "      <td>Christina Austin</td>\n",
       "      <td>Grades 9-12</td>\n",
       "      <td>NaN</td>\n",
       "    </tr>\n",
       "    <tr>\n",
       "      <th>1756</th>\n",
       "      <td>986</td>\n",
       "      <td>Tennessee State Board of Education</td>\n",
       "      <td>8005</td>\n",
       "      <td>Bluff City High School</td>\n",
       "      <td>2019</td>\n",
       "      <td>4100 Ross Rd</td>\n",
       "      <td>NaN</td>\n",
       "      <td>NaN</td>\n",
       "      <td>Memphis</td>\n",
       "      <td>TN</td>\n",
       "      <td>38115</td>\n",
       "      <td>(901) 881-7375</td>\n",
       "      <td>NaN</td>\n",
       "      <td>Shelby County</td>\n",
       "      <td>Brittany Matt</td>\n",
       "      <td>Grades 9-12</td>\n",
       "      <td>NaN</td>\n",
       "    </tr>\n",
       "    <tr>\n",
       "      <th>1757</th>\n",
       "      <td>986</td>\n",
       "      <td>Tennessee State Board of Education</td>\n",
       "      <td>8015</td>\n",
       "      <td>KIPP Antioch College Prep Elementary</td>\n",
       "      <td>2019</td>\n",
       "      <td>3655 Murfreesboro Pike</td>\n",
       "      <td>NaN</td>\n",
       "      <td>NaN</td>\n",
       "      <td>Antioch</td>\n",
       "      <td>TN</td>\n",
       "      <td>37013</td>\n",
       "      <td>(615) 226-4484</td>\n",
       "      <td>NaN</td>\n",
       "      <td>Davidson County</td>\n",
       "      <td>Molly Ramsey</td>\n",
       "      <td>Grades K-4</td>\n",
       "      <td>NaN</td>\n",
       "    </tr>\n",
       "  </tbody>\n",
       "</table>\n",
       "<p>1758 rows × 17 columns</p>\n",
       "</div>"
      ],
      "text/plain": [
       "      district_number                       district_name  school_number  \\\n",
       "0                  10             Anderson County Schools              2   \n",
       "1                  10             Anderson County Schools              5   \n",
       "2                  10             Anderson County Schools             10   \n",
       "3                  10             Anderson County Schools             15   \n",
       "4                  10             Anderson County Schools             20   \n",
       "...               ...                                 ...            ...   \n",
       "1753              985         Achievement School District           8130   \n",
       "1754              985         Achievement School District           8135   \n",
       "1755              985         Achievement School District           8140   \n",
       "1756              986  Tennessee State Board of Education           8005   \n",
       "1757              986  Tennessee State Board of Education           8015   \n",
       "\n",
       "                               school_name  year          street_address_1  \\\n",
       "0              Anderson County High School  2019         130 Maverick  Cir   \n",
       "1                 Andersonville Elementary  2019        1951  Mountain  Rd   \n",
       "2                    Briceville Elementary  2019         103 Slatestone Rd   \n",
       "3                       Claxton Elementary  2019        2218  Clinton  Hwy   \n",
       "4                    Clinton Middle School  2019          110  N  Hicks St   \n",
       "...                                    ...   ...                       ...   \n",
       "1753        Memphis Scholars Raleigh-Egypt  2019  1380 Pennsylvania Avenue   \n",
       "1754                   Kirby Middle School  2019          6670 E Raines Rd   \n",
       "1755                 Hillcrest High School  2019         4184 Graceland Dr   \n",
       "1756                Bluff City High School  2019              4100 Ross Rd   \n",
       "1757  KIPP Antioch College Prep Elementary  2019    3655 Murfreesboro Pike   \n",
       "\n",
       "     street_address_2  street_address_3           city state  zipcode  \\\n",
       "0                 NaN               NaN        Clinton    TN    37716   \n",
       "1                 NaN               NaN  Andersonville    TN    37705   \n",
       "2                 NaN               NaN     Briceville    TN    37710   \n",
       "3                 NaN               NaN         Powell    TN    37849   \n",
       "4                 NaN               NaN        Clinton    TN    37716   \n",
       "...               ...               ...            ...   ...      ...   \n",
       "1753              NaN               NaN        Memphis    TN    38106   \n",
       "1754              NaN               NaN        Memphis    TN    38115   \n",
       "1755              NaN               NaN        Memphis    TN    38116   \n",
       "1756              NaN               NaN        Memphis    TN    38115   \n",
       "1757              NaN               NaN        Antioch    TN    37013   \n",
       "\n",
       "              phone1 phone2       countyname         principal grades_served  \\\n",
       "0     (865) 457-4716    NaN  Anderson County         Ben Downs   Grades 9-12   \n",
       "1     (865) 494-7695    NaN  Anderson County       Beth Roeder   Grades PK-5   \n",
       "2     (865) 426-2289    NaN  Anderson County  Travis Hutcheson   Grades PK-5   \n",
       "3     (865) 945-2222    NaN  Anderson County  Jennifer Coleman   Grades PK-5   \n",
       "4     (865) 457-3451    NaN  Anderson County      RaeAnn Owens    Grades 6-8   \n",
       "...              ...    ...              ...               ...           ...   \n",
       "1753  (901) 647-0840    NaN    Shelby County   Heather Johnson    Grades 6-8   \n",
       "1754  (901) 730-8169    NaN    Shelby County   Marian Williams    Grades 6-8   \n",
       "1755  (901) 730-4098    NaN    Shelby County  Christina Austin   Grades 9-12   \n",
       "1756  (901) 881-7375    NaN    Shelby County     Brittany Matt   Grades 9-12   \n",
       "1757  (615) 226-4484    NaN  Davidson County      Molly Ramsey    Grades K-4   \n",
       "\n",
       "      message  \n",
       "0         NaN  \n",
       "1         NaN  \n",
       "2         NaN  \n",
       "3         NaN  \n",
       "4         NaN  \n",
       "...       ...  \n",
       "1753      NaN  \n",
       "1754      NaN  \n",
       "1755      NaN  \n",
       "1756      NaN  \n",
       "1757      NaN  \n",
       "\n",
       "[1758 rows x 17 columns]"
      ]
     },
     "execution_count": 78,
     "metadata": {},
     "output_type": "execute_result"
    }
   ],
   "source": [
    "staffing_df"
   ]
  },
  {
   "cell_type": "code",
   "execution_count": null,
   "metadata": {},
   "outputs": [],
   "source": []
  },
  {
   "cell_type": "code",
   "execution_count": null,
   "metadata": {},
   "outputs": [],
   "source": []
  },
  {
   "cell_type": "code",
   "execution_count": null,
   "metadata": {},
   "outputs": [],
   "source": []
  },
  {
   "cell_type": "markdown",
   "metadata": {},
   "source": [
    "# finance cleaning"
   ]
  },
  {
   "cell_type": "code",
   "execution_count": null,
   "metadata": {},
   "outputs": [],
   "source": []
  },
  {
   "cell_type": "code",
   "execution_count": null,
   "metadata": {},
   "outputs": [],
   "source": []
  },
  {
   "cell_type": "code",
   "execution_count": null,
   "metadata": {},
   "outputs": [],
   "source": []
  },
  {
   "cell_type": "code",
   "execution_count": null,
   "metadata": {},
   "outputs": [],
   "source": [
    "finance_2019=finance_2019[['district_name','district_ppe','local_funding_percent','state_funding_percent']]"
   ]
  },
  {
   "cell_type": "code",
   "execution_count": null,
   "metadata": {},
   "outputs": [],
   "source": [
    "test_fnance_df=score_df.merge(finance_2019,how='inner',on='district_name')"
   ]
  },
  {
   "cell_type": "code",
   "execution_count": null,
   "metadata": {},
   "outputs": [],
   "source": [
    "test_fnance_df=test_fnance_df.drop_duplicates(subset=['district_name'])"
   ]
  },
  {
   "cell_type": "code",
   "execution_count": null,
   "metadata": {},
   "outputs": [],
   "source": []
  },
  {
   "cell_type": "code",
   "execution_count": null,
   "metadata": {},
   "outputs": [],
   "source": []
  },
  {
   "cell_type": "code",
   "execution_count": null,
   "metadata": {},
   "outputs": [],
   "source": []
  },
  {
   "cell_type": "code",
   "execution_count": null,
   "metadata": {},
   "outputs": [],
   "source": []
  }
 ],
 "metadata": {
  "kernelspec": {
   "display_name": "Python 3",
   "language": "python",
   "name": "python3"
  },
  "language_info": {
   "codemirror_mode": {
    "name": "ipython",
    "version": 3
   },
   "file_extension": ".py",
   "mimetype": "text/x-python",
   "name": "python",
   "nbconvert_exporter": "python",
   "pygments_lexer": "ipython3",
   "version": "3.8.3"
  }
 },
 "nbformat": 4,
 "nbformat_minor": 4
}
