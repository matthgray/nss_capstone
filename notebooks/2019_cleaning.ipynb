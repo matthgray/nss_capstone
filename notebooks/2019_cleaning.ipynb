{
 "cells": [
  {
   "cell_type": "code",
   "execution_count": 1,
   "metadata": {},
   "outputs": [],
   "source": [
    "import pandas as pd\n",
    "import dtale\n",
    "# helps convert zip to lat and long\n",
    "from pyzipcode import ZipCodeDatabase"
   ]
  },
  {
   "cell_type": "markdown",
   "metadata": {},
   "source": [
    "# import data"
   ]
  },
  {
   "cell_type": "code",
   "execution_count": 10,
   "metadata": {},
   "outputs": [
    {
     "name": "stderr",
     "output_type": "stream",
     "text": [
      "<ipython-input-10-591b40b85981>:2: ParserWarning:\n",
      "\n",
      "Falling back to the 'python' engine because the 'c' engine does not support regex separators (separators > 1 char and different from '\\s+' are interpreted as regex); you can avoid this warning by specifying engine='python'.\n",
      "\n",
      "<ipython-input-10-591b40b85981>:5: ParserWarning:\n",
      "\n",
      "Falling back to the 'python' engine because the 'c' engine does not support regex separators (separators > 1 char and different from '\\s+' are interpreted as regex); you can avoid this warning by specifying engine='python'.\n",
      "\n"
     ]
    }
   ],
   "source": [
    "\n",
    "#absent\n",
    "absent_df=pd.read_csv('../data/original_data/reportcarddata2019.xlsx','crhonic_absenteeism'\n",
    "                    )\n",
    "# import finance data only need 141 rows the rest are missing\n",
    "finance_school = pd.read_csv('../data/original_data/reportcarddata2019.xlsx','finance'\n",
    "                        )\n",
    "\n",
    "#district info\n",
    "\n",
    "district_df = pd.read_excel('../data/original_data/reportcarddata2019.xlsx','district_info'\n",
    "                              \n",
    "                              )\n",
    "# info on schools\n",
    "school_df = pd.read_excel('../data/original_data/reportcarddata2019.xlsx','school_info'\n",
    "                              \n",
    "                             )\n",
    "# grade data\n",
    "grade_df = pd.read_excel('../data/original_data/reportcarddata2019.xlsx','overall_grades'\n",
    "                              )\n",
    "# data on teacher\n",
    "teacher_df = pd.read_excel('../data/original_data/reportcarddata2019.xlsx','teacher_retention'\n",
    "                              \n",
    "                           )\n",
    "# data on staff\n",
    "staffing_df = pd.read_excel('../data/original_data/reportcarddata2019.xlsx','school_info'\n",
    "                              \n",
    "                              )\n"
   ]
  },
  {
   "cell_type": "markdown",
   "metadata": {},
   "source": [
    "# clean"
   ]
  },
  {
   "cell_type": "code",
   "execution_count": null,
   "metadata": {},
   "outputs": [],
   "source": [
    "finance_2019=finance_2019[['district_name','district_ppe','local_funding_percent','state_funding_percent']]"
   ]
  },
  {
   "cell_type": "code",
   "execution_count": null,
   "metadata": {},
   "outputs": [],
   "source": [
    "test_fnance_df=score_df.merge(finance_2019,how='inner',on='district_name')"
   ]
  },
  {
   "cell_type": "code",
   "execution_count": null,
   "metadata": {},
   "outputs": [],
   "source": [
    "test_fnance_df=test_fnance_df.drop_duplicates(subset=['district_name'])"
   ]
  },
  {
   "cell_type": "code",
   "execution_count": null,
   "metadata": {},
   "outputs": [],
   "source": []
  },
  {
   "cell_type": "code",
   "execution_count": null,
   "metadata": {},
   "outputs": [],
   "source": []
  },
  {
   "cell_type": "code",
   "execution_count": null,
   "metadata": {},
   "outputs": [],
   "source": []
  },
  {
   "cell_type": "code",
   "execution_count": null,
   "metadata": {},
   "outputs": [],
   "source": []
  }
 ],
 "metadata": {
  "kernelspec": {
   "display_name": "Python 3",
   "language": "python",
   "name": "python3"
  },
  "language_info": {
   "codemirror_mode": {
    "name": "ipython",
    "version": 3
   },
   "file_extension": ".py",
   "mimetype": "text/x-python",
   "name": "python",
   "nbconvert_exporter": "python",
   "pygments_lexer": "ipython3",
   "version": "3.8.3"
  }
 },
 "nbformat": 4,
 "nbformat_minor": 4
}
