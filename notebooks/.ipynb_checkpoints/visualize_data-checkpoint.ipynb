{
 "cells": [
  {
   "cell_type": "code",
   "execution_count": 1,
   "metadata": {},
   "outputs": [],
   "source": [
    "import pandas as pd\n",
    "import plotly.express as px\n",
    "import seaborn as sns\n",
    "import numpy as np \n",
    "import matplotlib.pyplot as plt\n",
    "import dtale"
   ]
  },
  {
   "cell_type": "code",
   "execution_count": 2,
   "metadata": {},
   "outputs": [],
   "source": [
    "# import data\n",
    "tn_school = pd.read_csv('../data/clean_data/clean_data.csv')"
   ]
  },
  {
   "cell_type": "code",
   "execution_count": 3,
   "metadata": {},
   "outputs": [],
   "source": [
    "# import data\n",
    "finance_school = pd.read_csv('../data/clean_data/clean_county_data.csv')"
   ]
  },
  {
   "cell_type": "code",
   "execution_count": 4,
   "metadata": {},
   "outputs": [
    {
     "name": "stderr",
     "output_type": "stream",
     "text": [
      "2021-05-25 17:54:29,400 - INFO     - Patching spark automatically. You can disable it by setting SPARK_KOALAS_AUTOPATCH=false in your environment\n",
      "2021-05-25 17:54:29,461 - INFO     - NumExpr defaulting to 8 threads.\n"
     ]
    }
   ],
   "source": [
    "d = dtale.show(tn_school)\n",
    "d.open_browser()"
   ]
  },
  {
   "cell_type": "code",
   "execution_count": 6,
   "metadata": {},
   "outputs": [
    {
     "data": {
      "text/plain": [
       "Index(['district_name', 'zipcode', 'longitude', 'latitude',\n",
       "       'Total_School_Per_Pupil_Expenditures', 'Total_Expenditures_Per_School',\n",
       "       'Local_Percentage', 'Federal_Percentage', 'State_Percentage',\n",
       "       'students_total', 'percent_suspended', 'percent_expelled',\n",
       "       'percent_committed_zero_tolerance', 'graduation rate ', 'dropout_rate',\n",
       "       'number of students total', 'percentage of ready graduates',\n",
       "       'participation_rate', 'average_english_score', 'average_math_score',\n",
       "       'average_reading_score', 'average_science_score',\n",
       "       'average_composite_score', 'percent_scoring_21_or_higher',\n",
       "       'percent_scoring_below_19'],\n",
       "      dtype='object')"
      ]
     },
     "execution_count": 6,
     "metadata": {},
     "output_type": "execute_result"
    }
   ],
   "source": [
    "finance_school.columns"
   ]
  },
  {
   "cell_type": "code",
   "execution_count": 5,
   "metadata": {},
   "outputs": [
    {
     "name": "stderr",
     "output_type": "stream",
     "text": [
      "C:\\Users\\matth\\anaconda3\\lib\\site-packages\\dtale\\views.py:1705: FutureWarning:\n",
      "\n",
      "The default value of regex will change from True to False in a future version.\n",
      "\n"
     ]
    }
   ],
   "source": [
    "d = dtale.show(finance_school)\n",
    "d.open_browser()"
   ]
  },
  {
   "cell_type": "code",
   "execution_count": 13,
   "metadata": {},
   "outputs": [
    {
     "data": {
      "application/vnd.plotly.v1+json": {
       "config": {
        "plotlyServerURL": "https://plot.ly"
       },
       "data": [
        {
         "customdata": [
          [
           37716
          ],
          [
           37831
          ],
          [
           37160
          ],
          [
           38320
          ],
          [
           37367
          ],
          [
           37803
          ],
          [
           37701
          ],
          [
           37803
          ],
          [
           37311
          ],
          [
           37312
          ],
          [
           37757
          ],
          [
           37190
          ],
          [
           37643
          ],
          [
           37015
          ],
          [
           38340
          ],
          [
           37879
          ],
          [
           38551
          ],
          [
           37821
          ],
          [
           37355
          ],
          [
           37388
          ],
          [
           38001
          ],
          [
           38555
          ],
          [
           37204
          ],
          [
           38329
          ],
          [
           37055
          ],
          [
           38024
          ],
          [
           38024
          ],
          [
           38556
          ],
          [
           37398
          ],
          [
           38358
          ],
          [
           38382
          ],
          [
           38316
          ],
          [
           38478
          ],
          [
           37861
          ],
          [
           37743
          ],
          [
           37744
          ],
          [
           37301
          ],
          [
           37813
          ],
          [
           37421
          ],
          [
           37869
          ],
          [
           38372
          ],
          [
           37857
          ],
          [
           38012
          ],
          [
           38351
          ],
          [
           38242
          ],
          [
           37033
          ],
          [
           37061
          ],
          [
           37185
          ],
          [
           38562
          ],
          [
           37725
          ],
          [
           37683
          ],
          [
           37901
          ],
          [
           38079
          ],
          [
           38063
          ],
          [
           38464
          ],
          [
           38462
          ],
          [
           37334
          ],
          [
           37334
          ],
          [
           37774
          ],
          [
           37771
          ],
          [
           37083
          ],
          [
           38305
          ],
          [
           37347
          ],
          [
           37380
          ],
          [
           37091
          ],
          [
           38401
          ],
          [
           37322
          ],
          [
           37354
          ],
          [
           37040
          ],
          [
           37352
          ],
          [
           37887
          ],
          [
           38261
          ],
          [
           38281
          ],
          [
           38570
          ],
          [
           37096
          ],
          [
           38549
          ],
          [
           37307
          ],
          [
           38506
          ],
          [
           37321
          ],
          [
           37763
          ],
          [
           37172
          ],
          [
           37128
          ],
          [
           37756
          ],
          [
           37841
          ],
          [
           37327
          ],
          [
           37862
          ],
          [
           38112
          ],
          [
           38002
          ],
          [
           38134
          ],
          [
           38017
          ],
          [
           38138
          ],
          [
           37030
          ],
          [
           37058
          ],
          [
           37617
          ],
          [
           37620
          ],
          [
           37660
          ],
          [
           37066
          ],
          [
           38019
          ],
          [
           37074
          ],
          [
           37650
          ],
          [
           37807
          ],
          [
           38585
          ],
          [
           37110
          ],
          [
           37659
          ],
          [
           37605
          ],
          [
           38485
          ],
          [
           38225
          ],
          [
           38583
          ],
          [
           37064
          ],
          [
           37087
          ]
         ],
         "hovertemplate": "<b>%{hovertext}</b><br><br>latitude=%{lat}<br>longitude=%{lon}<br>zipcode=%{customdata[0]}<extra></extra>",
         "hovertext": [
          "Anderson County",
          "Oak Ridge",
          "Bedford County",
          "Benton County",
          "Bledsoe County",
          "Blount County",
          "Alcoa",
          "Maryville",
          "Bradley County",
          "Cleveland",
          "Campbell County",
          "Cannon County",
          "Elizabethton",
          "Cheatham County",
          "Chester County",
          "Claiborne County",
          "Clay County",
          "Cocke County",
          "Coffee County",
          "Tullahoma",
          "Crockett County",
          "Cumberland County",
          "Davidson County",
          "Decatur County",
          "Dickson County",
          "Dyer County",
          "Dyersburg",
          "Fentress County",
          "Franklin County",
          "Milan",
          "Trenton",
          "Bradford",
          "Giles County",
          "Grainger County",
          "Greene County",
          "Greeneville",
          "Grundy County",
          "Hamblen County",
          "Hamilton County",
          "Hancock County",
          "Hardin County",
          "Hawkins County",
          "Haywood County",
          "Henderson County",
          "Henry County",
          "Hickman County",
          "Houston County",
          "Humphreys County",
          "Jackson County",
          "Jefferson County",
          "Johnson County",
          "Knox County",
          "Lake County",
          "Lauderdale County",
          "Lawrence County",
          "Lewis County",
          "Lincoln County",
          "Fayetteville",
          "Loudon County",
          "Lenoir City",
          "Macon County",
          "Madison County",
          "Marion County",
          "Richard City",
          "Marshall County",
          "Maury County",
          "Meigs County",
          "Monroe County",
          "Montgomery County",
          "Moore County",
          "Morgan County",
          "Obion County",
          "Union City",
          "Overton County",
          "Perry County",
          "Pickett County",
          "Polk County",
          "Putnam County",
          "Rhea County",
          "Roane County",
          "Robertson County",
          "Rutherford County",
          "Scott County",
          "Oneida",
          "Sequatchie County",
          "Sevier County",
          "Shelby County",
          "Arlington",
          "Bartlett",
          "Collierville",
          "Germantown",
          "Smith County",
          "Stewart County",
          "Sullivan County",
          "Bristol",
          "Kingsport",
          "Sumner County",
          "Tipton County",
          "Trousdale County",
          "Unicoi County",
          "Union County",
          "Van Buren County",
          "Warren County",
          "Washington County",
          "Johnson City",
          "Wayne County",
          "Weakley County",
          "White County",
          "Williamson County",
          "Wilson County"
         ],
         "lat": [
          36.099283,
          36.105971,
          35.47066,
          36.050286,
          35.635097,
          35.693358,
          35.784708,
          35.693358,
          35.146362,
          35.219532,
          36.326509,
          35.813335,
          36.355251,
          36.299293,
          35.414454,
          36.465808,
          36.547412,
          35.963276,
          35.500068,
          35.357522,
          35.796157,
          35.929314,
          36.112058,
          35.546839,
          36.065779,
          36.038042,
          36.038042,
          36.409385,
          35.192829,
          35.916722,
          35.973431,
          36.067294,
          35.204983,
          36.243526,
          36.102325,
          36.182289,
          35.429018,
          36.186008,
          35.028574,
          36.521297,
          35.180947,
          36.413437,
          35.590558,
          35.658409,
          36.300311,
          35.76714,
          36.301089,
          36.085376,
          36.351803,
          35.996454,
          36.451041,
          36.032334,
          36.513386,
          35.637993,
          35.259613,
          35.535397,
          35.136177,
          35.136177,
          35.725969,
          35.815524,
          36.537994,
          35.693101,
          35.065007,
          35.045886,
          35.461359,
          35.619784,
          35.503723,
          35.506259,
          36.528448,
          35.276795,
          36.091018,
          36.426933,
          36.354384,
          36.376289,
          35.61432,
          36.572543,
          35.172376,
          36.177831,
          35.495894,
          35.839274,
          36.513979,
          35.813319,
          36.351978,
          36.49787,
          35.399109,
          35.818653,
          35.148605,
          35.272386,
          35.193046,
          35.057224,
          35.088885,
          36.264959,
          36.477136,
          36.534729,
          36.561341,
          36.547133,
          36.388997,
          35.560622,
          36.407653,
          36.128301,
          36.251265,
          35.69653,
          35.687286,
          36.293805,
          36.315795,
          35.343716,
          36.305305,
          35.943026,
          35.893823,
          36.240331
         ],
         "legendgroup": "",
         "lon": [
          -84.14656,
          -84.195796,
          -86.45974,
          -88.10137,
          -85.17161,
          -83.98412,
          -83.97956,
          -83.98412,
          -84.88723,
          -84.86489,
          -84.17277,
          -86.05538,
          -82.18843,
          -87.06949,
          -88.66118,
          -83.52357,
          -85.48904,
          -83.20116,
          -86.08414,
          -86.21484,
          -89.14016,
          -85.05926,
          -86.77626,
          -88.12345,
          -87.40831,
          -89.38613,
          -89.38613,
          -84.93393,
          -86.14045,
          -88.76628,
          -88.95035,
          -88.81209,
          -87.01246,
          -83.51516,
          -82.85446,
          -82.73948,
          -85.77679,
          -83.27474,
          -85.15939,
          -83.22818,
          -88.18946,
          -82.96804,
          -89.2609,
          -88.40535,
          -88.32891,
          -87.49418,
          -87.68198,
          -87.81626,
          -85.65757,
          -83.39791,
          -81.81906,
          -83.884804,
          -89.50472,
          -89.86859,
          -87.37522,
          -87.54905,
          -86.57433,
          -86.57433,
          -84.33069,
          -84.29301,
          -86.01497,
          -88.80653,
          -85.61818,
          -85.72513,
          -86.7792,
          -87.03565,
          -84.80741,
          -84.35738,
          -87.34142,
          -86.35264,
          -84.56863,
          -89.0727,
          -89.149881,
          -85.32585,
          -87.87486,
          -85.15007,
          -84.63913,
          -85.46238,
          -85.01032,
          -84.50562,
          -86.86892,
          -86.4455,
          -84.42137,
          -84.51808,
          -85.38755,
          -83.59197,
          -89.97479,
          -89.71198,
          -89.86559,
          -89.67417,
          -89.80677,
          -85.94893,
          -87.85877,
          -82.37229,
          -82.16869,
          -82.55408,
          -86.4548,
          -89.64201,
          -86.15305,
          -82.4273,
          -83.82558,
          -85.41146,
          -85.787,
          -82.49704,
          -82.383792,
          -87.75739,
          -88.6869,
          -85.45113,
          -86.89919,
          -86.29271
         ],
         "marker": {
          "color": "fuchsia"
         },
         "mode": "markers",
         "name": "",
         "showlegend": false,
         "subplot": "mapbox",
         "type": "scattermapbox"
        }
       ],
       "layout": {
        "height": 300,
        "legend": {
         "tracegroupgap": 0
        },
        "mapbox": {
         "center": {
          "lat": 35.88336922727273,
          "lon": -86.03899611818183
         },
         "domain": {
          "x": [
           0,
           1
          ],
          "y": [
           0,
           1
          ]
         },
         "layers": [
          {
           "below": "traces",
           "source": [
            "https://basemap.nationalmap.gov/arcgis/rest/services/USGSImageryOnly/MapServer/tile/{z}/{y}/{x}"
           ],
           "sourceattribution": "United States Geological Survey",
           "sourcetype": "raster"
          }
         ],
         "style": "white-bg",
         "zoom": 3
        },
        "margin": {
         "b": 0,
         "l": 0,
         "r": 0,
         "t": 0
        },
        "template": {
         "data": {
          "bar": [
           {
            "error_x": {
             "color": "#2a3f5f"
            },
            "error_y": {
             "color": "#2a3f5f"
            },
            "marker": {
             "line": {
              "color": "#E5ECF6",
              "width": 0.5
             }
            },
            "type": "bar"
           }
          ],
          "barpolar": [
           {
            "marker": {
             "line": {
              "color": "#E5ECF6",
              "width": 0.5
             }
            },
            "type": "barpolar"
           }
          ],
          "carpet": [
           {
            "aaxis": {
             "endlinecolor": "#2a3f5f",
             "gridcolor": "white",
             "linecolor": "white",
             "minorgridcolor": "white",
             "startlinecolor": "#2a3f5f"
            },
            "baxis": {
             "endlinecolor": "#2a3f5f",
             "gridcolor": "white",
             "linecolor": "white",
             "minorgridcolor": "white",
             "startlinecolor": "#2a3f5f"
            },
            "type": "carpet"
           }
          ],
          "choropleth": [
           {
            "colorbar": {
             "outlinewidth": 0,
             "ticks": ""
            },
            "type": "choropleth"
           }
          ],
          "contour": [
           {
            "colorbar": {
             "outlinewidth": 0,
             "ticks": ""
            },
            "colorscale": [
             [
              0,
              "#0d0887"
             ],
             [
              0.1111111111111111,
              "#46039f"
             ],
             [
              0.2222222222222222,
              "#7201a8"
             ],
             [
              0.3333333333333333,
              "#9c179e"
             ],
             [
              0.4444444444444444,
              "#bd3786"
             ],
             [
              0.5555555555555556,
              "#d8576b"
             ],
             [
              0.6666666666666666,
              "#ed7953"
             ],
             [
              0.7777777777777778,
              "#fb9f3a"
             ],
             [
              0.8888888888888888,
              "#fdca26"
             ],
             [
              1,
              "#f0f921"
             ]
            ],
            "type": "contour"
           }
          ],
          "contourcarpet": [
           {
            "colorbar": {
             "outlinewidth": 0,
             "ticks": ""
            },
            "type": "contourcarpet"
           }
          ],
          "heatmap": [
           {
            "colorbar": {
             "outlinewidth": 0,
             "ticks": ""
            },
            "colorscale": [
             [
              0,
              "#0d0887"
             ],
             [
              0.1111111111111111,
              "#46039f"
             ],
             [
              0.2222222222222222,
              "#7201a8"
             ],
             [
              0.3333333333333333,
              "#9c179e"
             ],
             [
              0.4444444444444444,
              "#bd3786"
             ],
             [
              0.5555555555555556,
              "#d8576b"
             ],
             [
              0.6666666666666666,
              "#ed7953"
             ],
             [
              0.7777777777777778,
              "#fb9f3a"
             ],
             [
              0.8888888888888888,
              "#fdca26"
             ],
             [
              1,
              "#f0f921"
             ]
            ],
            "type": "heatmap"
           }
          ],
          "heatmapgl": [
           {
            "colorbar": {
             "outlinewidth": 0,
             "ticks": ""
            },
            "colorscale": [
             [
              0,
              "#0d0887"
             ],
             [
              0.1111111111111111,
              "#46039f"
             ],
             [
              0.2222222222222222,
              "#7201a8"
             ],
             [
              0.3333333333333333,
              "#9c179e"
             ],
             [
              0.4444444444444444,
              "#bd3786"
             ],
             [
              0.5555555555555556,
              "#d8576b"
             ],
             [
              0.6666666666666666,
              "#ed7953"
             ],
             [
              0.7777777777777778,
              "#fb9f3a"
             ],
             [
              0.8888888888888888,
              "#fdca26"
             ],
             [
              1,
              "#f0f921"
             ]
            ],
            "type": "heatmapgl"
           }
          ],
          "histogram": [
           {
            "marker": {
             "colorbar": {
              "outlinewidth": 0,
              "ticks": ""
             }
            },
            "type": "histogram"
           }
          ],
          "histogram2d": [
           {
            "colorbar": {
             "outlinewidth": 0,
             "ticks": ""
            },
            "colorscale": [
             [
              0,
              "#0d0887"
             ],
             [
              0.1111111111111111,
              "#46039f"
             ],
             [
              0.2222222222222222,
              "#7201a8"
             ],
             [
              0.3333333333333333,
              "#9c179e"
             ],
             [
              0.4444444444444444,
              "#bd3786"
             ],
             [
              0.5555555555555556,
              "#d8576b"
             ],
             [
              0.6666666666666666,
              "#ed7953"
             ],
             [
              0.7777777777777778,
              "#fb9f3a"
             ],
             [
              0.8888888888888888,
              "#fdca26"
             ],
             [
              1,
              "#f0f921"
             ]
            ],
            "type": "histogram2d"
           }
          ],
          "histogram2dcontour": [
           {
            "colorbar": {
             "outlinewidth": 0,
             "ticks": ""
            },
            "colorscale": [
             [
              0,
              "#0d0887"
             ],
             [
              0.1111111111111111,
              "#46039f"
             ],
             [
              0.2222222222222222,
              "#7201a8"
             ],
             [
              0.3333333333333333,
              "#9c179e"
             ],
             [
              0.4444444444444444,
              "#bd3786"
             ],
             [
              0.5555555555555556,
              "#d8576b"
             ],
             [
              0.6666666666666666,
              "#ed7953"
             ],
             [
              0.7777777777777778,
              "#fb9f3a"
             ],
             [
              0.8888888888888888,
              "#fdca26"
             ],
             [
              1,
              "#f0f921"
             ]
            ],
            "type": "histogram2dcontour"
           }
          ],
          "mesh3d": [
           {
            "colorbar": {
             "outlinewidth": 0,
             "ticks": ""
            },
            "type": "mesh3d"
           }
          ],
          "parcoords": [
           {
            "line": {
             "colorbar": {
              "outlinewidth": 0,
              "ticks": ""
             }
            },
            "type": "parcoords"
           }
          ],
          "pie": [
           {
            "automargin": true,
            "type": "pie"
           }
          ],
          "scatter": [
           {
            "marker": {
             "colorbar": {
              "outlinewidth": 0,
              "ticks": ""
             }
            },
            "type": "scatter"
           }
          ],
          "scatter3d": [
           {
            "line": {
             "colorbar": {
              "outlinewidth": 0,
              "ticks": ""
             }
            },
            "marker": {
             "colorbar": {
              "outlinewidth": 0,
              "ticks": ""
             }
            },
            "type": "scatter3d"
           }
          ],
          "scattercarpet": [
           {
            "marker": {
             "colorbar": {
              "outlinewidth": 0,
              "ticks": ""
             }
            },
            "type": "scattercarpet"
           }
          ],
          "scattergeo": [
           {
            "marker": {
             "colorbar": {
              "outlinewidth": 0,
              "ticks": ""
             }
            },
            "type": "scattergeo"
           }
          ],
          "scattergl": [
           {
            "marker": {
             "colorbar": {
              "outlinewidth": 0,
              "ticks": ""
             }
            },
            "type": "scattergl"
           }
          ],
          "scattermapbox": [
           {
            "marker": {
             "colorbar": {
              "outlinewidth": 0,
              "ticks": ""
             }
            },
            "type": "scattermapbox"
           }
          ],
          "scatterpolar": [
           {
            "marker": {
             "colorbar": {
              "outlinewidth": 0,
              "ticks": ""
             }
            },
            "type": "scatterpolar"
           }
          ],
          "scatterpolargl": [
           {
            "marker": {
             "colorbar": {
              "outlinewidth": 0,
              "ticks": ""
             }
            },
            "type": "scatterpolargl"
           }
          ],
          "scatterternary": [
           {
            "marker": {
             "colorbar": {
              "outlinewidth": 0,
              "ticks": ""
             }
            },
            "type": "scatterternary"
           }
          ],
          "surface": [
           {
            "colorbar": {
             "outlinewidth": 0,
             "ticks": ""
            },
            "colorscale": [
             [
              0,
              "#0d0887"
             ],
             [
              0.1111111111111111,
              "#46039f"
             ],
             [
              0.2222222222222222,
              "#7201a8"
             ],
             [
              0.3333333333333333,
              "#9c179e"
             ],
             [
              0.4444444444444444,
              "#bd3786"
             ],
             [
              0.5555555555555556,
              "#d8576b"
             ],
             [
              0.6666666666666666,
              "#ed7953"
             ],
             [
              0.7777777777777778,
              "#fb9f3a"
             ],
             [
              0.8888888888888888,
              "#fdca26"
             ],
             [
              1,
              "#f0f921"
             ]
            ],
            "type": "surface"
           }
          ],
          "table": [
           {
            "cells": {
             "fill": {
              "color": "#EBF0F8"
             },
             "line": {
              "color": "white"
             }
            },
            "header": {
             "fill": {
              "color": "#C8D4E3"
             },
             "line": {
              "color": "white"
             }
            },
            "type": "table"
           }
          ]
         },
         "layout": {
          "annotationdefaults": {
           "arrowcolor": "#2a3f5f",
           "arrowhead": 0,
           "arrowwidth": 1
          },
          "coloraxis": {
           "colorbar": {
            "outlinewidth": 0,
            "ticks": ""
           }
          },
          "colorscale": {
           "diverging": [
            [
             0,
             "#8e0152"
            ],
            [
             0.1,
             "#c51b7d"
            ],
            [
             0.2,
             "#de77ae"
            ],
            [
             0.3,
             "#f1b6da"
            ],
            [
             0.4,
             "#fde0ef"
            ],
            [
             0.5,
             "#f7f7f7"
            ],
            [
             0.6,
             "#e6f5d0"
            ],
            [
             0.7,
             "#b8e186"
            ],
            [
             0.8,
             "#7fbc41"
            ],
            [
             0.9,
             "#4d9221"
            ],
            [
             1,
             "#276419"
            ]
           ],
           "sequential": [
            [
             0,
             "#0d0887"
            ],
            [
             0.1111111111111111,
             "#46039f"
            ],
            [
             0.2222222222222222,
             "#7201a8"
            ],
            [
             0.3333333333333333,
             "#9c179e"
            ],
            [
             0.4444444444444444,
             "#bd3786"
            ],
            [
             0.5555555555555556,
             "#d8576b"
            ],
            [
             0.6666666666666666,
             "#ed7953"
            ],
            [
             0.7777777777777778,
             "#fb9f3a"
            ],
            [
             0.8888888888888888,
             "#fdca26"
            ],
            [
             1,
             "#f0f921"
            ]
           ],
           "sequentialminus": [
            [
             0,
             "#0d0887"
            ],
            [
             0.1111111111111111,
             "#46039f"
            ],
            [
             0.2222222222222222,
             "#7201a8"
            ],
            [
             0.3333333333333333,
             "#9c179e"
            ],
            [
             0.4444444444444444,
             "#bd3786"
            ],
            [
             0.5555555555555556,
             "#d8576b"
            ],
            [
             0.6666666666666666,
             "#ed7953"
            ],
            [
             0.7777777777777778,
             "#fb9f3a"
            ],
            [
             0.8888888888888888,
             "#fdca26"
            ],
            [
             1,
             "#f0f921"
            ]
           ]
          },
          "colorway": [
           "#636efa",
           "#EF553B",
           "#00cc96",
           "#ab63fa",
           "#FFA15A",
           "#19d3f3",
           "#FF6692",
           "#B6E880",
           "#FF97FF",
           "#FECB52"
          ],
          "font": {
           "color": "#2a3f5f"
          },
          "geo": {
           "bgcolor": "white",
           "lakecolor": "white",
           "landcolor": "#E5ECF6",
           "showlakes": true,
           "showland": true,
           "subunitcolor": "white"
          },
          "hoverlabel": {
           "align": "left"
          },
          "hovermode": "closest",
          "mapbox": {
           "style": "light"
          },
          "paper_bgcolor": "white",
          "plot_bgcolor": "#E5ECF6",
          "polar": {
           "angularaxis": {
            "gridcolor": "white",
            "linecolor": "white",
            "ticks": ""
           },
           "bgcolor": "#E5ECF6",
           "radialaxis": {
            "gridcolor": "white",
            "linecolor": "white",
            "ticks": ""
           }
          },
          "scene": {
           "xaxis": {
            "backgroundcolor": "#E5ECF6",
            "gridcolor": "white",
            "gridwidth": 2,
            "linecolor": "white",
            "showbackground": true,
            "ticks": "",
            "zerolinecolor": "white"
           },
           "yaxis": {
            "backgroundcolor": "#E5ECF6",
            "gridcolor": "white",
            "gridwidth": 2,
            "linecolor": "white",
            "showbackground": true,
            "ticks": "",
            "zerolinecolor": "white"
           },
           "zaxis": {
            "backgroundcolor": "#E5ECF6",
            "gridcolor": "white",
            "gridwidth": 2,
            "linecolor": "white",
            "showbackground": true,
            "ticks": "",
            "zerolinecolor": "white"
           }
          },
          "shapedefaults": {
           "line": {
            "color": "#2a3f5f"
           }
          },
          "ternary": {
           "aaxis": {
            "gridcolor": "white",
            "linecolor": "white",
            "ticks": ""
           },
           "baxis": {
            "gridcolor": "white",
            "linecolor": "white",
            "ticks": ""
           },
           "bgcolor": "#E5ECF6",
           "caxis": {
            "gridcolor": "white",
            "linecolor": "white",
            "ticks": ""
           }
          },
          "title": {
           "x": 0.05
          },
          "xaxis": {
           "automargin": true,
           "gridcolor": "white",
           "linecolor": "white",
           "ticks": "",
           "title": {
            "standoff": 15
           },
           "zerolinecolor": "white",
           "zerolinewidth": 2
          },
          "yaxis": {
           "automargin": true,
           "gridcolor": "white",
           "linecolor": "white",
           "ticks": "",
           "title": {
            "standoff": 15
           },
           "zerolinecolor": "white",
           "zerolinewidth": 2
          }
         }
        }
       }
      },
      "text/html": [
       "<div>                            <div id=\"dc8fe639-4f0e-4764-ac2c-4044c7045ffd\" class=\"plotly-graph-div\" style=\"height:300px; width:100%;\"></div>            <script type=\"text/javascript\">                require([\"plotly\"], function(Plotly) {                    window.PLOTLYENV=window.PLOTLYENV || {};                                    if (document.getElementById(\"dc8fe639-4f0e-4764-ac2c-4044c7045ffd\")) {                    Plotly.newPlot(                        \"dc8fe639-4f0e-4764-ac2c-4044c7045ffd\",                        [{\"customdata\": [[37716], [37831], [37160], [38320], [37367], [37803], [37701], [37803], [37311], [37312], [37757], [37190], [37643], [37015], [38340], [37879], [38551], [37821], [37355], [37388], [38001], [38555], [37204], [38329], [37055], [38024], [38024], [38556], [37398], [38358], [38382], [38316], [38478], [37861], [37743], [37744], [37301], [37813], [37421], [37869], [38372], [37857], [38012], [38351], [38242], [37033], [37061], [37185], [38562], [37725], [37683], [37901], [38079], [38063], [38464], [38462], [37334], [37334], [37774], [37771], [37083], [38305], [37347], [37380], [37091], [38401], [37322], [37354], [37040], [37352], [37887], [38261], [38281], [38570], [37096], [38549], [37307], [38506], [37321], [37763], [37172], [37128], [37756], [37841], [37327], [37862], [38112], [38002], [38134], [38017], [38138], [37030], [37058], [37617], [37620], [37660], [37066], [38019], [37074], [37650], [37807], [38585], [37110], [37659], [37605], [38485], [38225], [38583], [37064], [37087]], \"hovertemplate\": \"<b>%{hovertext}</b><br><br>latitude=%{lat}<br>longitude=%{lon}<br>zipcode=%{customdata[0]}<extra></extra>\", \"hovertext\": [\"Anderson County\", \"Oak Ridge\", \"Bedford County\", \"Benton County\", \"Bledsoe County\", \"Blount County\", \"Alcoa\", \"Maryville\", \"Bradley County\", \"Cleveland\", \"Campbell County\", \"Cannon County\", \"Elizabethton\", \"Cheatham County\", \"Chester County\", \"Claiborne County\", \"Clay County\", \"Cocke County\", \"Coffee County\", \"Tullahoma\", \"Crockett County\", \"Cumberland County\", \"Davidson County\", \"Decatur County\", \"Dickson County\", \"Dyer County\", \"Dyersburg\", \"Fentress County\", \"Franklin County\", \"Milan\", \"Trenton\", \"Bradford\", \"Giles County\", \"Grainger County\", \"Greene County\", \"Greeneville\", \"Grundy County\", \"Hamblen County\", \"Hamilton County\", \"Hancock County\", \"Hardin County\", \"Hawkins County\", \"Haywood County\", \"Henderson County\", \"Henry County\", \"Hickman County\", \"Houston County\", \"Humphreys County\", \"Jackson County\", \"Jefferson County\", \"Johnson County\", \"Knox County\", \"Lake County\", \"Lauderdale County\", \"Lawrence County\", \"Lewis County\", \"Lincoln County\", \"Fayetteville\", \"Loudon County\", \"Lenoir City\", \"Macon County\", \"Madison County\", \"Marion County\", \"Richard City\", \"Marshall County\", \"Maury County\", \"Meigs County\", \"Monroe County\", \"Montgomery County\", \"Moore County\", \"Morgan County\", \"Obion County\", \"Union City\", \"Overton County\", \"Perry County\", \"Pickett County\", \"Polk County\", \"Putnam County\", \"Rhea County\", \"Roane County\", \"Robertson County\", \"Rutherford County\", \"Scott County\", \"Oneida\", \"Sequatchie County\", \"Sevier County\", \"Shelby County\", \"Arlington\", \"Bartlett\", \"Collierville\", \"Germantown\", \"Smith County\", \"Stewart County\", \"Sullivan County\", \"Bristol\", \"Kingsport\", \"Sumner County\", \"Tipton County\", \"Trousdale County\", \"Unicoi County\", \"Union County\", \"Van Buren County\", \"Warren County\", \"Washington County\", \"Johnson City\", \"Wayne County\", \"Weakley County\", \"White County\", \"Williamson County\", \"Wilson County\"], \"lat\": [36.099283, 36.105971, 35.47066, 36.050286, 35.635097, 35.693358, 35.784708, 35.693358, 35.146362, 35.219532, 36.326509, 35.813335, 36.355251, 36.299293, 35.414454, 36.465808, 36.547412, 35.963276, 35.500068, 35.357522, 35.796157, 35.929314, 36.112058, 35.546839, 36.065779, 36.038042, 36.038042, 36.409385, 35.192829, 35.916722, 35.973431, 36.067294, 35.204983, 36.243526, 36.102325, 36.182289, 35.429018, 36.186008, 35.028574, 36.521297, 35.180947, 36.413437, 35.590558, 35.658409, 36.300311, 35.76714, 36.301089, 36.085376, 36.351803, 35.996454, 36.451041, 36.032334, 36.513386, 35.637993, 35.259613, 35.535397, 35.136177, 35.136177, 35.725969, 35.815524, 36.537994, 35.693101, 35.065007, 35.045886, 35.461359, 35.619784, 35.503723, 35.506259, 36.528448, 35.276795, 36.091018, 36.426933, 36.354384, 36.376289, 35.61432, 36.572543, 35.172376, 36.177831, 35.495894, 35.839274, 36.513979, 35.813319, 36.351978, 36.49787, 35.399109, 35.818653, 35.148605, 35.272386, 35.193046, 35.057224, 35.088885, 36.264959, 36.477136, 36.534729, 36.561341, 36.547133, 36.388997, 35.560622, 36.407653, 36.128301, 36.251265, 35.69653, 35.687286, 36.293805, 36.315795, 35.343716, 36.305305, 35.943026, 35.893823, 36.240331], \"legendgroup\": \"\", \"lon\": [-84.14656, -84.195796, -86.45974, -88.10137, -85.17161, -83.98412, -83.97956, -83.98412, -84.88723, -84.86489, -84.17277, -86.05538, -82.18843, -87.06949, -88.66118, -83.52357, -85.48904, -83.20116, -86.08414, -86.21484, -89.14016, -85.05926, -86.77626, -88.12345, -87.40831, -89.38613, -89.38613, -84.93393, -86.14045, -88.76628, -88.95035, -88.81209, -87.01246, -83.51516, -82.85446, -82.73948, -85.77679, -83.27474, -85.15939, -83.22818, -88.18946, -82.96804, -89.2609, -88.40535, -88.32891, -87.49418, -87.68198, -87.81626, -85.65757, -83.39791, -81.81906, -83.884804, -89.50472, -89.86859, -87.37522, -87.54905, -86.57433, -86.57433, -84.33069, -84.29301, -86.01497, -88.80653, -85.61818, -85.72513, -86.7792, -87.03565, -84.80741, -84.35738, -87.34142, -86.35264, -84.56863, -89.0727, -89.149881, -85.32585, -87.87486, -85.15007, -84.63913, -85.46238, -85.01032, -84.50562, -86.86892, -86.4455, -84.42137, -84.51808, -85.38755, -83.59197, -89.97479, -89.71198, -89.86559, -89.67417, -89.80677, -85.94893, -87.85877, -82.37229, -82.16869, -82.55408, -86.4548, -89.64201, -86.15305, -82.4273, -83.82558, -85.41146, -85.787, -82.49704, -82.383792, -87.75739, -88.6869, -85.45113, -86.89919, -86.29271], \"marker\": {\"color\": \"fuchsia\"}, \"mode\": \"markers\", \"name\": \"\", \"showlegend\": false, \"subplot\": \"mapbox\", \"type\": \"scattermapbox\"}],                        {\"height\": 300, \"legend\": {\"tracegroupgap\": 0}, \"mapbox\": {\"center\": {\"lat\": 35.88336922727273, \"lon\": -86.03899611818183}, \"domain\": {\"x\": [0.0, 1.0], \"y\": [0.0, 1.0]}, \"layers\": [{\"below\": \"traces\", \"source\": [\"https://basemap.nationalmap.gov/arcgis/rest/services/USGSImageryOnly/MapServer/tile/{z}/{y}/{x}\"], \"sourceattribution\": \"United States Geological Survey\", \"sourcetype\": \"raster\"}], \"style\": \"white-bg\", \"zoom\": 3}, \"margin\": {\"b\": 0, \"l\": 0, \"r\": 0, \"t\": 0}, \"template\": {\"data\": {\"bar\": [{\"error_x\": {\"color\": \"#2a3f5f\"}, \"error_y\": {\"color\": \"#2a3f5f\"}, \"marker\": {\"line\": {\"color\": \"#E5ECF6\", \"width\": 0.5}}, \"type\": \"bar\"}], \"barpolar\": [{\"marker\": {\"line\": {\"color\": \"#E5ECF6\", \"width\": 0.5}}, \"type\": \"barpolar\"}], \"carpet\": [{\"aaxis\": {\"endlinecolor\": \"#2a3f5f\", \"gridcolor\": \"white\", \"linecolor\": \"white\", \"minorgridcolor\": \"white\", \"startlinecolor\": \"#2a3f5f\"}, \"baxis\": {\"endlinecolor\": \"#2a3f5f\", \"gridcolor\": \"white\", \"linecolor\": \"white\", \"minorgridcolor\": \"white\", \"startlinecolor\": \"#2a3f5f\"}, \"type\": \"carpet\"}], \"choropleth\": [{\"colorbar\": {\"outlinewidth\": 0, \"ticks\": \"\"}, \"type\": \"choropleth\"}], \"contour\": [{\"colorbar\": {\"outlinewidth\": 0, \"ticks\": \"\"}, \"colorscale\": [[0.0, \"#0d0887\"], [0.1111111111111111, \"#46039f\"], [0.2222222222222222, \"#7201a8\"], [0.3333333333333333, \"#9c179e\"], [0.4444444444444444, \"#bd3786\"], [0.5555555555555556, \"#d8576b\"], [0.6666666666666666, \"#ed7953\"], [0.7777777777777778, \"#fb9f3a\"], [0.8888888888888888, \"#fdca26\"], [1.0, \"#f0f921\"]], \"type\": \"contour\"}], \"contourcarpet\": [{\"colorbar\": {\"outlinewidth\": 0, \"ticks\": \"\"}, \"type\": \"contourcarpet\"}], \"heatmap\": [{\"colorbar\": {\"outlinewidth\": 0, \"ticks\": \"\"}, \"colorscale\": [[0.0, \"#0d0887\"], [0.1111111111111111, \"#46039f\"], [0.2222222222222222, \"#7201a8\"], [0.3333333333333333, \"#9c179e\"], [0.4444444444444444, \"#bd3786\"], [0.5555555555555556, \"#d8576b\"], [0.6666666666666666, \"#ed7953\"], [0.7777777777777778, \"#fb9f3a\"], [0.8888888888888888, \"#fdca26\"], [1.0, \"#f0f921\"]], \"type\": \"heatmap\"}], \"heatmapgl\": [{\"colorbar\": {\"outlinewidth\": 0, \"ticks\": \"\"}, \"colorscale\": [[0.0, \"#0d0887\"], [0.1111111111111111, \"#46039f\"], [0.2222222222222222, \"#7201a8\"], [0.3333333333333333, \"#9c179e\"], [0.4444444444444444, \"#bd3786\"], [0.5555555555555556, \"#d8576b\"], [0.6666666666666666, \"#ed7953\"], [0.7777777777777778, \"#fb9f3a\"], [0.8888888888888888, \"#fdca26\"], [1.0, \"#f0f921\"]], \"type\": \"heatmapgl\"}], \"histogram\": [{\"marker\": {\"colorbar\": {\"outlinewidth\": 0, \"ticks\": \"\"}}, \"type\": \"histogram\"}], \"histogram2d\": [{\"colorbar\": {\"outlinewidth\": 0, \"ticks\": \"\"}, \"colorscale\": [[0.0, \"#0d0887\"], [0.1111111111111111, \"#46039f\"], [0.2222222222222222, \"#7201a8\"], [0.3333333333333333, \"#9c179e\"], [0.4444444444444444, \"#bd3786\"], [0.5555555555555556, \"#d8576b\"], [0.6666666666666666, \"#ed7953\"], [0.7777777777777778, \"#fb9f3a\"], [0.8888888888888888, \"#fdca26\"], [1.0, \"#f0f921\"]], \"type\": \"histogram2d\"}], \"histogram2dcontour\": [{\"colorbar\": {\"outlinewidth\": 0, \"ticks\": \"\"}, \"colorscale\": [[0.0, \"#0d0887\"], [0.1111111111111111, \"#46039f\"], [0.2222222222222222, \"#7201a8\"], [0.3333333333333333, \"#9c179e\"], [0.4444444444444444, \"#bd3786\"], [0.5555555555555556, \"#d8576b\"], [0.6666666666666666, \"#ed7953\"], [0.7777777777777778, \"#fb9f3a\"], [0.8888888888888888, \"#fdca26\"], [1.0, \"#f0f921\"]], \"type\": \"histogram2dcontour\"}], \"mesh3d\": [{\"colorbar\": {\"outlinewidth\": 0, \"ticks\": \"\"}, \"type\": \"mesh3d\"}], \"parcoords\": [{\"line\": {\"colorbar\": {\"outlinewidth\": 0, \"ticks\": \"\"}}, \"type\": \"parcoords\"}], \"pie\": [{\"automargin\": true, \"type\": \"pie\"}], \"scatter\": [{\"marker\": {\"colorbar\": {\"outlinewidth\": 0, \"ticks\": \"\"}}, \"type\": \"scatter\"}], \"scatter3d\": [{\"line\": {\"colorbar\": {\"outlinewidth\": 0, \"ticks\": \"\"}}, \"marker\": {\"colorbar\": {\"outlinewidth\": 0, \"ticks\": \"\"}}, \"type\": \"scatter3d\"}], \"scattercarpet\": [{\"marker\": {\"colorbar\": {\"outlinewidth\": 0, \"ticks\": \"\"}}, \"type\": \"scattercarpet\"}], \"scattergeo\": [{\"marker\": {\"colorbar\": {\"outlinewidth\": 0, \"ticks\": \"\"}}, \"type\": \"scattergeo\"}], \"scattergl\": [{\"marker\": {\"colorbar\": {\"outlinewidth\": 0, \"ticks\": \"\"}}, \"type\": \"scattergl\"}], \"scattermapbox\": [{\"marker\": {\"colorbar\": {\"outlinewidth\": 0, \"ticks\": \"\"}}, \"type\": \"scattermapbox\"}], \"scatterpolar\": [{\"marker\": {\"colorbar\": {\"outlinewidth\": 0, \"ticks\": \"\"}}, \"type\": \"scatterpolar\"}], \"scatterpolargl\": [{\"marker\": {\"colorbar\": {\"outlinewidth\": 0, \"ticks\": \"\"}}, \"type\": \"scatterpolargl\"}], \"scatterternary\": [{\"marker\": {\"colorbar\": {\"outlinewidth\": 0, \"ticks\": \"\"}}, \"type\": \"scatterternary\"}], \"surface\": [{\"colorbar\": {\"outlinewidth\": 0, \"ticks\": \"\"}, \"colorscale\": [[0.0, \"#0d0887\"], [0.1111111111111111, \"#46039f\"], [0.2222222222222222, \"#7201a8\"], [0.3333333333333333, \"#9c179e\"], [0.4444444444444444, \"#bd3786\"], [0.5555555555555556, \"#d8576b\"], [0.6666666666666666, \"#ed7953\"], [0.7777777777777778, \"#fb9f3a\"], [0.8888888888888888, \"#fdca26\"], [1.0, \"#f0f921\"]], \"type\": \"surface\"}], \"table\": [{\"cells\": {\"fill\": {\"color\": \"#EBF0F8\"}, \"line\": {\"color\": \"white\"}}, \"header\": {\"fill\": {\"color\": \"#C8D4E3\"}, \"line\": {\"color\": \"white\"}}, \"type\": \"table\"}]}, \"layout\": {\"annotationdefaults\": {\"arrowcolor\": \"#2a3f5f\", \"arrowhead\": 0, \"arrowwidth\": 1}, \"coloraxis\": {\"colorbar\": {\"outlinewidth\": 0, \"ticks\": \"\"}}, \"colorscale\": {\"diverging\": [[0, \"#8e0152\"], [0.1, \"#c51b7d\"], [0.2, \"#de77ae\"], [0.3, \"#f1b6da\"], [0.4, \"#fde0ef\"], [0.5, \"#f7f7f7\"], [0.6, \"#e6f5d0\"], [0.7, \"#b8e186\"], [0.8, \"#7fbc41\"], [0.9, \"#4d9221\"], [1, \"#276419\"]], \"sequential\": [[0.0, \"#0d0887\"], [0.1111111111111111, \"#46039f\"], [0.2222222222222222, \"#7201a8\"], [0.3333333333333333, \"#9c179e\"], [0.4444444444444444, \"#bd3786\"], [0.5555555555555556, \"#d8576b\"], [0.6666666666666666, \"#ed7953\"], [0.7777777777777778, \"#fb9f3a\"], [0.8888888888888888, \"#fdca26\"], [1.0, \"#f0f921\"]], \"sequentialminus\": [[0.0, \"#0d0887\"], [0.1111111111111111, \"#46039f\"], [0.2222222222222222, \"#7201a8\"], [0.3333333333333333, \"#9c179e\"], [0.4444444444444444, \"#bd3786\"], [0.5555555555555556, \"#d8576b\"], [0.6666666666666666, \"#ed7953\"], [0.7777777777777778, \"#fb9f3a\"], [0.8888888888888888, \"#fdca26\"], [1.0, \"#f0f921\"]]}, \"colorway\": [\"#636efa\", \"#EF553B\", \"#00cc96\", \"#ab63fa\", \"#FFA15A\", \"#19d3f3\", \"#FF6692\", \"#B6E880\", \"#FF97FF\", \"#FECB52\"], \"font\": {\"color\": \"#2a3f5f\"}, \"geo\": {\"bgcolor\": \"white\", \"lakecolor\": \"white\", \"landcolor\": \"#E5ECF6\", \"showlakes\": true, \"showland\": true, \"subunitcolor\": \"white\"}, \"hoverlabel\": {\"align\": \"left\"}, \"hovermode\": \"closest\", \"mapbox\": {\"style\": \"light\"}, \"paper_bgcolor\": \"white\", \"plot_bgcolor\": \"#E5ECF6\", \"polar\": {\"angularaxis\": {\"gridcolor\": \"white\", \"linecolor\": \"white\", \"ticks\": \"\"}, \"bgcolor\": \"#E5ECF6\", \"radialaxis\": {\"gridcolor\": \"white\", \"linecolor\": \"white\", \"ticks\": \"\"}}, \"scene\": {\"xaxis\": {\"backgroundcolor\": \"#E5ECF6\", \"gridcolor\": \"white\", \"gridwidth\": 2, \"linecolor\": \"white\", \"showbackground\": true, \"ticks\": \"\", \"zerolinecolor\": \"white\"}, \"yaxis\": {\"backgroundcolor\": \"#E5ECF6\", \"gridcolor\": \"white\", \"gridwidth\": 2, \"linecolor\": \"white\", \"showbackground\": true, \"ticks\": \"\", \"zerolinecolor\": \"white\"}, \"zaxis\": {\"backgroundcolor\": \"#E5ECF6\", \"gridcolor\": \"white\", \"gridwidth\": 2, \"linecolor\": \"white\", \"showbackground\": true, \"ticks\": \"\", \"zerolinecolor\": \"white\"}}, \"shapedefaults\": {\"line\": {\"color\": \"#2a3f5f\"}}, \"ternary\": {\"aaxis\": {\"gridcolor\": \"white\", \"linecolor\": \"white\", \"ticks\": \"\"}, \"baxis\": {\"gridcolor\": \"white\", \"linecolor\": \"white\", \"ticks\": \"\"}, \"bgcolor\": \"#E5ECF6\", \"caxis\": {\"gridcolor\": \"white\", \"linecolor\": \"white\", \"ticks\": \"\"}}, \"title\": {\"x\": 0.05}, \"xaxis\": {\"automargin\": true, \"gridcolor\": \"white\", \"linecolor\": \"white\", \"ticks\": \"\", \"title\": {\"standoff\": 15}, \"zerolinecolor\": \"white\", \"zerolinewidth\": 2}, \"yaxis\": {\"automargin\": true, \"gridcolor\": \"white\", \"linecolor\": \"white\", \"ticks\": \"\", \"title\": {\"standoff\": 15}, \"zerolinecolor\": \"white\", \"zerolinewidth\": 2}}}},                        {\"responsive\": true}                    ).then(function(){\n",
       "                            \n",
       "var gd = document.getElementById('dc8fe639-4f0e-4764-ac2c-4044c7045ffd');\n",
       "var x = new MutationObserver(function (mutations, observer) {{\n",
       "        var display = window.getComputedStyle(gd).display;\n",
       "        if (!display || display === 'none') {{\n",
       "            console.log([gd, 'removed!']);\n",
       "            Plotly.purge(gd);\n",
       "            observer.disconnect();\n",
       "        }}\n",
       "}});\n",
       "\n",
       "// Listen for the removal of the full notebook cells\n",
       "var notebookContainer = gd.closest('#notebook-container');\n",
       "if (notebookContainer) {{\n",
       "    x.observe(notebookContainer, {childList: true});\n",
       "}}\n",
       "\n",
       "// Listen for the clearing of the current output cell\n",
       "var outputEl = gd.closest('.output');\n",
       "if (outputEl) {{\n",
       "    x.observe(outputEl, {childList: true});\n",
       "}}\n",
       "\n",
       "                        })                };                });            </script>        </div>"
      ]
     },
     "metadata": {},
     "output_type": "display_data"
    }
   ],
   "source": [
    "import pandas as pd\n",
    "#us_cities = pd.read_csv(\"https://raw.githubusercontent.com/plotly/datasets/master/us-cities-top-1k.csv\")\n",
    "\n",
    "import plotly.express as px\n",
    "\n",
    "fig = px.scatter_mapbox(finance_school, lat=\"latitude\", lon=\"longitude\", hover_name=\"district_name\",\n",
    "                        size=\"graduation rate \", hover_data=[\"zipcode\"],\n",
    "                        color_discrete_sequence=[\"fuchsia\"], zoom=3, height=300)\n",
    "fig.update_layout(\n",
    "    mapbox_style=\"white-bg\",\n",
    "    mapbox_layers=[\n",
    "        {\n",
    "            \"below\": 'traces',\n",
    "            \"sourcetype\": \"raster\",\n",
    "            \"sourceattribution\": \"United States Geological Survey\",\n",
    "            \"source\": [\n",
    "                \"https://basemap.nationalmap.gov/arcgis/rest/services/USGSImageryOnly/MapServer/tile/{z}/{y}/{x}\"\n",
    "            ]\n",
    "        }\n",
    "      ])\n",
    "fig.update_layout(margin={\"r\":0,\"t\":0,\"l\":0,\"b\":0})\n",
    "fig.show()"
   ]
  },
  {
   "cell_type": "code",
   "execution_count": 12,
   "metadata": {},
   "outputs": [
    {
     "data": {
      "application/vnd.plotly.v1+json": {
       "config": {
        "plotlyServerURL": "https://plot.ly"
       },
       "data": [
        {
         "hovertemplate": "graduation rate =%{marker.size}<br>latitude=%{lat}<br>longitude=%{lon}<br>Total_School_Per_Pupil_Expenditures=%{marker.color}<extra></extra>",
         "lat": [
          36.099283,
          36.105971,
          35.47066,
          36.050286,
          35.635097,
          35.693358,
          35.784708,
          35.693358,
          35.146362,
          35.219532,
          36.326509,
          35.813335,
          36.355251,
          36.299293,
          35.414454,
          36.465808,
          36.547412,
          35.963276,
          35.500068,
          35.357522,
          35.796157,
          35.929314,
          36.112058,
          35.546839,
          36.065779,
          36.038042,
          36.038042,
          36.409385,
          35.192829,
          35.916722,
          35.973431,
          36.067294,
          35.204983,
          36.243526,
          36.102325,
          36.182289,
          35.429018,
          36.186008,
          35.028574,
          36.521297,
          35.180947,
          36.413437,
          35.590558,
          35.658409,
          36.300311,
          35.76714,
          36.301089,
          36.085376,
          36.351803,
          35.996454,
          36.451041,
          36.032334,
          36.513386,
          35.637993,
          35.259613,
          35.535397,
          35.136177,
          35.136177,
          35.725969,
          35.815524,
          36.537994,
          35.693101,
          35.065007,
          35.045886,
          35.461359,
          35.619784,
          35.503723,
          35.506259,
          36.528448,
          35.276795,
          36.091018,
          36.426933,
          36.354384,
          36.376289,
          35.61432,
          36.572543,
          35.172376,
          36.177831,
          35.495894,
          35.839274,
          36.513979,
          35.813319,
          36.351978,
          36.49787,
          35.399109,
          35.818653,
          35.148605,
          35.272386,
          35.193046,
          35.057224,
          35.088885,
          36.264959,
          36.477136,
          36.534729,
          36.561341,
          36.547133,
          36.388997,
          35.560622,
          36.407653,
          36.128301,
          36.251265,
          35.69653,
          35.687286,
          36.293805,
          36.315795,
          35.343716,
          36.305305,
          35.943026,
          35.893823,
          36.240331
         ],
         "legendgroup": "",
         "lon": [
          -84.14656,
          -84.195796,
          -86.45974,
          -88.10137,
          -85.17161,
          -83.98412,
          -83.97956,
          -83.98412,
          -84.88723,
          -84.86489,
          -84.17277,
          -86.05538,
          -82.18843,
          -87.06949,
          -88.66118,
          -83.52357,
          -85.48904,
          -83.20116,
          -86.08414,
          -86.21484,
          -89.14016,
          -85.05926,
          -86.77626,
          -88.12345,
          -87.40831,
          -89.38613,
          -89.38613,
          -84.93393,
          -86.14045,
          -88.76628,
          -88.95035,
          -88.81209,
          -87.01246,
          -83.51516,
          -82.85446,
          -82.73948,
          -85.77679,
          -83.27474,
          -85.15939,
          -83.22818,
          -88.18946,
          -82.96804,
          -89.2609,
          -88.40535,
          -88.32891,
          -87.49418,
          -87.68198,
          -87.81626,
          -85.65757,
          -83.39791,
          -81.81906,
          -83.884804,
          -89.50472,
          -89.86859,
          -87.37522,
          -87.54905,
          -86.57433,
          -86.57433,
          -84.33069,
          -84.29301,
          -86.01497,
          -88.80653,
          -85.61818,
          -85.72513,
          -86.7792,
          -87.03565,
          -84.80741,
          -84.35738,
          -87.34142,
          -86.35264,
          -84.56863,
          -89.0727,
          -89.149881,
          -85.32585,
          -87.87486,
          -85.15007,
          -84.63913,
          -85.46238,
          -85.01032,
          -84.50562,
          -86.86892,
          -86.4455,
          -84.42137,
          -84.51808,
          -85.38755,
          -83.59197,
          -89.97479,
          -89.71198,
          -89.86559,
          -89.67417,
          -89.80677,
          -85.94893,
          -87.85877,
          -82.37229,
          -82.16869,
          -82.55408,
          -86.4548,
          -89.64201,
          -86.15305,
          -82.4273,
          -83.82558,
          -85.41146,
          -85.787,
          -82.49704,
          -82.383792,
          -87.75739,
          -88.6869,
          -85.45113,
          -86.89919,
          -86.29271
         ],
         "marker": {
          "color": [
           10440.46,
           13041.51,
           8263.84,
           10628.28,
           10683.45,
           9636.79,
           11538.45,
           10705.27,
           8613.96,
           9718.14,
           9238.73,
           9201.13,
           10155.56,
           8384.34,
           8623.28,
           10144.96,
           9974.05,
           9543.4,
           9740.91,
           10570.4,
           8546.2,
           8986.36,
           12317.65,
           9139.33,
           9378.14,
           9721.18,
           11016.6,
           9293.13,
           9700.81,
           9412.88,
           9328.92,
           10040.22,
           9592.74,
           9487.06,
           9148.74,
           11332.74,
           10067.37,
           9075.56,
           10849.8,
           10873.97,
           9494.58,
           9991.25,
           10879.66,
           8922.31,
           9868.2,
           9897.12,
           9480.49,
           8909.44,
           10515.99,
           8860.66,
           10413.56,
           9341.65,
           11716.39,
           10089.84,
           8731.98,
           9389.77,
           8713.94,
           9948.68,
           9298.47,
           9566.81,
           8848.42,
           9835.33,
           8912.14,
           8244.7,
           8884.31,
           9217.96,
           9834.31,
           9379.75,
           9582.93,
           11321.87,
           9919.61,
           9522.49,
           10165.48,
           8515.79,
           10818.3,
           10500.27,
           9651.73,
           8958.7,
           9528.16,
           9855.51,
           8456.65,
           9201.44,
           9255.45,
           9767.74,
           8605.32,
           10556.71,
           11167.6,
           8881.33,
           9806.37,
           10073.97,
           9366.84,
           9102,
           9426.19,
           9641.31,
           10681.28,
           10966.15,
           9177.85,
           8595.62,
           9270.95,
           10045.1,
           7880.11,
           11711.83,
           9377.83,
           8705.16,
           10136.04,
           10070.78,
           9157.49,
           8995.1,
           9736.67,
           8348.47
          ],
          "coloraxis": "coloraxis",
          "size": [
           95.65,
           92.1,
           92.76666666666668,
           47.15,
           93.3,
           93.05,
           98.8,
           94.5,
           92.075,
           90,
           91.65,
           91,
           88.9,
           92.33333333333331,
           95.9,
           92.95,
           97.8,
           92.2,
           92.5,
           90.8,
           96.4,
           88.46666666666665,
           68.52499999999999,
           93.2,
           94.15,
           96.7,
           90,
           95.9,
           93.35,
           97.9,
           95.5,
           0,
           92.95,
           63.5,
           68.85,
           97.4,
           90.6,
           94.35,
           73.71111111111112,
           97.4,
           95.5,
           95.6,
           92,
           93.15,
           95.1,
           94.4,
           91.7,
           97.15,
           95.5,
           95.8,
           96.3,
           74.1,
           93.5,
           97.1,
           97.59999999999998,
           95.6,
           92.3,
           93.8,
           94.05,
           93,
           90.7,
           51.120000000000005,
           90.2,
           90.9,
           95.33333333333331,
           90.33333333333331,
           98.4,
           94.6,
           82.39999999999999,
           95.7,
           0,
           88.05,
           91.6,
           92.4,
           95.7,
           95.1,
           93.25,
           93.1,
           92.3,
           74.2,
           76.78571428571429,
           74.66,
           92.3,
           0,
           89.5,
           73.96666666666665,
           74.95897435897436,
           97.3,
           98,
           95.1,
           95.4,
           93.95,
           95.5,
           70.35,
           95.3,
           94.1,
           76.02,
           95.6,
           98.9,
           91.7,
           93,
           96.7,
           90.6,
           69.775,
           92.1,
           62.333333333333336,
           90.025,
           96.8,
           96.57,
           96.05
          ],
          "sizemode": "area",
          "sizeref": 0.4395555555555556
         },
         "mode": "markers",
         "name": "",
         "showlegend": false,
         "subplot": "mapbox",
         "type": "scattermapbox"
        }
       ],
       "layout": {
        "coloraxis": {
         "colorbar": {
          "title": {
           "text": "Total_School_Per_Pupil_Expenditures"
          }
         },
         "colorscale": [
          [
           0,
           "#000000"
          ],
          [
           0.0625,
           "#001f4d"
          ],
          [
           0.125,
           "#003786"
          ],
          [
           0.1875,
           "#0e58a8"
          ],
          [
           0.25,
           "#217eb8"
          ],
          [
           0.3125,
           "#30a4ca"
          ],
          [
           0.375,
           "#54c8df"
          ],
          [
           0.4375,
           "#9be4ef"
          ],
          [
           0.5,
           "#e1e9d1"
          ],
          [
           0.5625,
           "#f3d573"
          ],
          [
           0.625,
           "#e7b000"
          ],
          [
           0.6875,
           "#da8200"
          ],
          [
           0.75,
           "#c65400"
          ],
          [
           0.8125,
           "#ac2301"
          ],
          [
           0.875,
           "#820000"
          ],
          [
           0.9375,
           "#4c0000"
          ],
          [
           1,
           "#000000"
          ]
         ]
        },
        "legend": {
         "itemsizing": "constant",
         "tracegroupgap": 0
        },
        "mapbox": {
         "center": {
          "lat": 35.88336922727273,
          "lon": -86.03899611818183
         },
         "domain": {
          "x": [
           0,
           1
          ],
          "y": [
           0,
           1
          ]
         },
         "zoom": 10
        },
        "margin": {
         "t": 60
        },
        "template": {
         "data": {
          "bar": [
           {
            "error_x": {
             "color": "#2a3f5f"
            },
            "error_y": {
             "color": "#2a3f5f"
            },
            "marker": {
             "line": {
              "color": "#E5ECF6",
              "width": 0.5
             }
            },
            "type": "bar"
           }
          ],
          "barpolar": [
           {
            "marker": {
             "line": {
              "color": "#E5ECF6",
              "width": 0.5
             }
            },
            "type": "barpolar"
           }
          ],
          "carpet": [
           {
            "aaxis": {
             "endlinecolor": "#2a3f5f",
             "gridcolor": "white",
             "linecolor": "white",
             "minorgridcolor": "white",
             "startlinecolor": "#2a3f5f"
            },
            "baxis": {
             "endlinecolor": "#2a3f5f",
             "gridcolor": "white",
             "linecolor": "white",
             "minorgridcolor": "white",
             "startlinecolor": "#2a3f5f"
            },
            "type": "carpet"
           }
          ],
          "choropleth": [
           {
            "colorbar": {
             "outlinewidth": 0,
             "ticks": ""
            },
            "type": "choropleth"
           }
          ],
          "contour": [
           {
            "colorbar": {
             "outlinewidth": 0,
             "ticks": ""
            },
            "colorscale": [
             [
              0,
              "#0d0887"
             ],
             [
              0.1111111111111111,
              "#46039f"
             ],
             [
              0.2222222222222222,
              "#7201a8"
             ],
             [
              0.3333333333333333,
              "#9c179e"
             ],
             [
              0.4444444444444444,
              "#bd3786"
             ],
             [
              0.5555555555555556,
              "#d8576b"
             ],
             [
              0.6666666666666666,
              "#ed7953"
             ],
             [
              0.7777777777777778,
              "#fb9f3a"
             ],
             [
              0.8888888888888888,
              "#fdca26"
             ],
             [
              1,
              "#f0f921"
             ]
            ],
            "type": "contour"
           }
          ],
          "contourcarpet": [
           {
            "colorbar": {
             "outlinewidth": 0,
             "ticks": ""
            },
            "type": "contourcarpet"
           }
          ],
          "heatmap": [
           {
            "colorbar": {
             "outlinewidth": 0,
             "ticks": ""
            },
            "colorscale": [
             [
              0,
              "#0d0887"
             ],
             [
              0.1111111111111111,
              "#46039f"
             ],
             [
              0.2222222222222222,
              "#7201a8"
             ],
             [
              0.3333333333333333,
              "#9c179e"
             ],
             [
              0.4444444444444444,
              "#bd3786"
             ],
             [
              0.5555555555555556,
              "#d8576b"
             ],
             [
              0.6666666666666666,
              "#ed7953"
             ],
             [
              0.7777777777777778,
              "#fb9f3a"
             ],
             [
              0.8888888888888888,
              "#fdca26"
             ],
             [
              1,
              "#f0f921"
             ]
            ],
            "type": "heatmap"
           }
          ],
          "heatmapgl": [
           {
            "colorbar": {
             "outlinewidth": 0,
             "ticks": ""
            },
            "colorscale": [
             [
              0,
              "#0d0887"
             ],
             [
              0.1111111111111111,
              "#46039f"
             ],
             [
              0.2222222222222222,
              "#7201a8"
             ],
             [
              0.3333333333333333,
              "#9c179e"
             ],
             [
              0.4444444444444444,
              "#bd3786"
             ],
             [
              0.5555555555555556,
              "#d8576b"
             ],
             [
              0.6666666666666666,
              "#ed7953"
             ],
             [
              0.7777777777777778,
              "#fb9f3a"
             ],
             [
              0.8888888888888888,
              "#fdca26"
             ],
             [
              1,
              "#f0f921"
             ]
            ],
            "type": "heatmapgl"
           }
          ],
          "histogram": [
           {
            "marker": {
             "colorbar": {
              "outlinewidth": 0,
              "ticks": ""
             }
            },
            "type": "histogram"
           }
          ],
          "histogram2d": [
           {
            "colorbar": {
             "outlinewidth": 0,
             "ticks": ""
            },
            "colorscale": [
             [
              0,
              "#0d0887"
             ],
             [
              0.1111111111111111,
              "#46039f"
             ],
             [
              0.2222222222222222,
              "#7201a8"
             ],
             [
              0.3333333333333333,
              "#9c179e"
             ],
             [
              0.4444444444444444,
              "#bd3786"
             ],
             [
              0.5555555555555556,
              "#d8576b"
             ],
             [
              0.6666666666666666,
              "#ed7953"
             ],
             [
              0.7777777777777778,
              "#fb9f3a"
             ],
             [
              0.8888888888888888,
              "#fdca26"
             ],
             [
              1,
              "#f0f921"
             ]
            ],
            "type": "histogram2d"
           }
          ],
          "histogram2dcontour": [
           {
            "colorbar": {
             "outlinewidth": 0,
             "ticks": ""
            },
            "colorscale": [
             [
              0,
              "#0d0887"
             ],
             [
              0.1111111111111111,
              "#46039f"
             ],
             [
              0.2222222222222222,
              "#7201a8"
             ],
             [
              0.3333333333333333,
              "#9c179e"
             ],
             [
              0.4444444444444444,
              "#bd3786"
             ],
             [
              0.5555555555555556,
              "#d8576b"
             ],
             [
              0.6666666666666666,
              "#ed7953"
             ],
             [
              0.7777777777777778,
              "#fb9f3a"
             ],
             [
              0.8888888888888888,
              "#fdca26"
             ],
             [
              1,
              "#f0f921"
             ]
            ],
            "type": "histogram2dcontour"
           }
          ],
          "mesh3d": [
           {
            "colorbar": {
             "outlinewidth": 0,
             "ticks": ""
            },
            "type": "mesh3d"
           }
          ],
          "parcoords": [
           {
            "line": {
             "colorbar": {
              "outlinewidth": 0,
              "ticks": ""
             }
            },
            "type": "parcoords"
           }
          ],
          "pie": [
           {
            "automargin": true,
            "type": "pie"
           }
          ],
          "scatter": [
           {
            "marker": {
             "colorbar": {
              "outlinewidth": 0,
              "ticks": ""
             }
            },
            "type": "scatter"
           }
          ],
          "scatter3d": [
           {
            "line": {
             "colorbar": {
              "outlinewidth": 0,
              "ticks": ""
             }
            },
            "marker": {
             "colorbar": {
              "outlinewidth": 0,
              "ticks": ""
             }
            },
            "type": "scatter3d"
           }
          ],
          "scattercarpet": [
           {
            "marker": {
             "colorbar": {
              "outlinewidth": 0,
              "ticks": ""
             }
            },
            "type": "scattercarpet"
           }
          ],
          "scattergeo": [
           {
            "marker": {
             "colorbar": {
              "outlinewidth": 0,
              "ticks": ""
             }
            },
            "type": "scattergeo"
           }
          ],
          "scattergl": [
           {
            "marker": {
             "colorbar": {
              "outlinewidth": 0,
              "ticks": ""
             }
            },
            "type": "scattergl"
           }
          ],
          "scattermapbox": [
           {
            "marker": {
             "colorbar": {
              "outlinewidth": 0,
              "ticks": ""
             }
            },
            "type": "scattermapbox"
           }
          ],
          "scatterpolar": [
           {
            "marker": {
             "colorbar": {
              "outlinewidth": 0,
              "ticks": ""
             }
            },
            "type": "scatterpolar"
           }
          ],
          "scatterpolargl": [
           {
            "marker": {
             "colorbar": {
              "outlinewidth": 0,
              "ticks": ""
             }
            },
            "type": "scatterpolargl"
           }
          ],
          "scatterternary": [
           {
            "marker": {
             "colorbar": {
              "outlinewidth": 0,
              "ticks": ""
             }
            },
            "type": "scatterternary"
           }
          ],
          "surface": [
           {
            "colorbar": {
             "outlinewidth": 0,
             "ticks": ""
            },
            "colorscale": [
             [
              0,
              "#0d0887"
             ],
             [
              0.1111111111111111,
              "#46039f"
             ],
             [
              0.2222222222222222,
              "#7201a8"
             ],
             [
              0.3333333333333333,
              "#9c179e"
             ],
             [
              0.4444444444444444,
              "#bd3786"
             ],
             [
              0.5555555555555556,
              "#d8576b"
             ],
             [
              0.6666666666666666,
              "#ed7953"
             ],
             [
              0.7777777777777778,
              "#fb9f3a"
             ],
             [
              0.8888888888888888,
              "#fdca26"
             ],
             [
              1,
              "#f0f921"
             ]
            ],
            "type": "surface"
           }
          ],
          "table": [
           {
            "cells": {
             "fill": {
              "color": "#EBF0F8"
             },
             "line": {
              "color": "white"
             }
            },
            "header": {
             "fill": {
              "color": "#C8D4E3"
             },
             "line": {
              "color": "white"
             }
            },
            "type": "table"
           }
          ]
         },
         "layout": {
          "annotationdefaults": {
           "arrowcolor": "#2a3f5f",
           "arrowhead": 0,
           "arrowwidth": 1
          },
          "coloraxis": {
           "colorbar": {
            "outlinewidth": 0,
            "ticks": ""
           }
          },
          "colorscale": {
           "diverging": [
            [
             0,
             "#8e0152"
            ],
            [
             0.1,
             "#c51b7d"
            ],
            [
             0.2,
             "#de77ae"
            ],
            [
             0.3,
             "#f1b6da"
            ],
            [
             0.4,
             "#fde0ef"
            ],
            [
             0.5,
             "#f7f7f7"
            ],
            [
             0.6,
             "#e6f5d0"
            ],
            [
             0.7,
             "#b8e186"
            ],
            [
             0.8,
             "#7fbc41"
            ],
            [
             0.9,
             "#4d9221"
            ],
            [
             1,
             "#276419"
            ]
           ],
           "sequential": [
            [
             0,
             "#0d0887"
            ],
            [
             0.1111111111111111,
             "#46039f"
            ],
            [
             0.2222222222222222,
             "#7201a8"
            ],
            [
             0.3333333333333333,
             "#9c179e"
            ],
            [
             0.4444444444444444,
             "#bd3786"
            ],
            [
             0.5555555555555556,
             "#d8576b"
            ],
            [
             0.6666666666666666,
             "#ed7953"
            ],
            [
             0.7777777777777778,
             "#fb9f3a"
            ],
            [
             0.8888888888888888,
             "#fdca26"
            ],
            [
             1,
             "#f0f921"
            ]
           ],
           "sequentialminus": [
            [
             0,
             "#0d0887"
            ],
            [
             0.1111111111111111,
             "#46039f"
            ],
            [
             0.2222222222222222,
             "#7201a8"
            ],
            [
             0.3333333333333333,
             "#9c179e"
            ],
            [
             0.4444444444444444,
             "#bd3786"
            ],
            [
             0.5555555555555556,
             "#d8576b"
            ],
            [
             0.6666666666666666,
             "#ed7953"
            ],
            [
             0.7777777777777778,
             "#fb9f3a"
            ],
            [
             0.8888888888888888,
             "#fdca26"
            ],
            [
             1,
             "#f0f921"
            ]
           ]
          },
          "colorway": [
           "#636efa",
           "#EF553B",
           "#00cc96",
           "#ab63fa",
           "#FFA15A",
           "#19d3f3",
           "#FF6692",
           "#B6E880",
           "#FF97FF",
           "#FECB52"
          ],
          "font": {
           "color": "#2a3f5f"
          },
          "geo": {
           "bgcolor": "white",
           "lakecolor": "white",
           "landcolor": "#E5ECF6",
           "showlakes": true,
           "showland": true,
           "subunitcolor": "white"
          },
          "hoverlabel": {
           "align": "left"
          },
          "hovermode": "closest",
          "mapbox": {
           "style": "light"
          },
          "paper_bgcolor": "white",
          "plot_bgcolor": "#E5ECF6",
          "polar": {
           "angularaxis": {
            "gridcolor": "white",
            "linecolor": "white",
            "ticks": ""
           },
           "bgcolor": "#E5ECF6",
           "radialaxis": {
            "gridcolor": "white",
            "linecolor": "white",
            "ticks": ""
           }
          },
          "scene": {
           "xaxis": {
            "backgroundcolor": "#E5ECF6",
            "gridcolor": "white",
            "gridwidth": 2,
            "linecolor": "white",
            "showbackground": true,
            "ticks": "",
            "zerolinecolor": "white"
           },
           "yaxis": {
            "backgroundcolor": "#E5ECF6",
            "gridcolor": "white",
            "gridwidth": 2,
            "linecolor": "white",
            "showbackground": true,
            "ticks": "",
            "zerolinecolor": "white"
           },
           "zaxis": {
            "backgroundcolor": "#E5ECF6",
            "gridcolor": "white",
            "gridwidth": 2,
            "linecolor": "white",
            "showbackground": true,
            "ticks": "",
            "zerolinecolor": "white"
           }
          },
          "shapedefaults": {
           "line": {
            "color": "#2a3f5f"
           }
          },
          "ternary": {
           "aaxis": {
            "gridcolor": "white",
            "linecolor": "white",
            "ticks": ""
           },
           "baxis": {
            "gridcolor": "white",
            "linecolor": "white",
            "ticks": ""
           },
           "bgcolor": "#E5ECF6",
           "caxis": {
            "gridcolor": "white",
            "linecolor": "white",
            "ticks": ""
           }
          },
          "title": {
           "x": 0.05
          },
          "xaxis": {
           "automargin": true,
           "gridcolor": "white",
           "linecolor": "white",
           "ticks": "",
           "title": {
            "standoff": 15
           },
           "zerolinecolor": "white",
           "zerolinewidth": 2
          },
          "yaxis": {
           "automargin": true,
           "gridcolor": "white",
           "linecolor": "white",
           "ticks": "",
           "title": {
            "standoff": 15
           },
           "zerolinecolor": "white",
           "zerolinewidth": 2
          }
         }
        }
       }
      },
      "text/html": [
       "<div>                            <div id=\"7f11e73c-7ae1-4922-9cba-58d1a19d3467\" class=\"plotly-graph-div\" style=\"height:525px; width:100%;\"></div>            <script type=\"text/javascript\">                require([\"plotly\"], function(Plotly) {                    window.PLOTLYENV=window.PLOTLYENV || {};                                    if (document.getElementById(\"7f11e73c-7ae1-4922-9cba-58d1a19d3467\")) {                    Plotly.newPlot(                        \"7f11e73c-7ae1-4922-9cba-58d1a19d3467\",                        [{\"hovertemplate\": \"graduation rate =%{marker.size}<br>latitude=%{lat}<br>longitude=%{lon}<br>Total_School_Per_Pupil_Expenditures=%{marker.color}<extra></extra>\", \"lat\": [36.099283, 36.105971, 35.47066, 36.050286, 35.635097, 35.693358, 35.784708, 35.693358, 35.146362, 35.219532, 36.326509, 35.813335, 36.355251, 36.299293, 35.414454, 36.465808, 36.547412, 35.963276, 35.500068, 35.357522, 35.796157, 35.929314, 36.112058, 35.546839, 36.065779, 36.038042, 36.038042, 36.409385, 35.192829, 35.916722, 35.973431, 36.067294, 35.204983, 36.243526, 36.102325, 36.182289, 35.429018, 36.186008, 35.028574, 36.521297, 35.180947, 36.413437, 35.590558, 35.658409, 36.300311, 35.76714, 36.301089, 36.085376, 36.351803, 35.996454, 36.451041, 36.032334, 36.513386, 35.637993, 35.259613, 35.535397, 35.136177, 35.136177, 35.725969, 35.815524, 36.537994, 35.693101, 35.065007, 35.045886, 35.461359, 35.619784, 35.503723, 35.506259, 36.528448, 35.276795, 36.091018, 36.426933, 36.354384, 36.376289, 35.61432, 36.572543, 35.172376, 36.177831, 35.495894, 35.839274, 36.513979, 35.813319, 36.351978, 36.49787, 35.399109, 35.818653, 35.148605, 35.272386, 35.193046, 35.057224, 35.088885, 36.264959, 36.477136, 36.534729, 36.561341, 36.547133, 36.388997, 35.560622, 36.407653, 36.128301, 36.251265, 35.69653, 35.687286, 36.293805, 36.315795, 35.343716, 36.305305, 35.943026, 35.893823, 36.240331], \"legendgroup\": \"\", \"lon\": [-84.14656, -84.195796, -86.45974, -88.10137, -85.17161, -83.98412, -83.97956, -83.98412, -84.88723, -84.86489, -84.17277, -86.05538, -82.18843, -87.06949, -88.66118, -83.52357, -85.48904, -83.20116, -86.08414, -86.21484, -89.14016, -85.05926, -86.77626, -88.12345, -87.40831, -89.38613, -89.38613, -84.93393, -86.14045, -88.76628, -88.95035, -88.81209, -87.01246, -83.51516, -82.85446, -82.73948, -85.77679, -83.27474, -85.15939, -83.22818, -88.18946, -82.96804, -89.2609, -88.40535, -88.32891, -87.49418, -87.68198, -87.81626, -85.65757, -83.39791, -81.81906, -83.884804, -89.50472, -89.86859, -87.37522, -87.54905, -86.57433, -86.57433, -84.33069, -84.29301, -86.01497, -88.80653, -85.61818, -85.72513, -86.7792, -87.03565, -84.80741, -84.35738, -87.34142, -86.35264, -84.56863, -89.0727, -89.149881, -85.32585, -87.87486, -85.15007, -84.63913, -85.46238, -85.01032, -84.50562, -86.86892, -86.4455, -84.42137, -84.51808, -85.38755, -83.59197, -89.97479, -89.71198, -89.86559, -89.67417, -89.80677, -85.94893, -87.85877, -82.37229, -82.16869, -82.55408, -86.4548, -89.64201, -86.15305, -82.4273, -83.82558, -85.41146, -85.787, -82.49704, -82.383792, -87.75739, -88.6869, -85.45113, -86.89919, -86.29271], \"marker\": {\"color\": [10440.46, 13041.51, 8263.84, 10628.28, 10683.45, 9636.79, 11538.45, 10705.27, 8613.96, 9718.14, 9238.73, 9201.13, 10155.56, 8384.34, 8623.28, 10144.96, 9974.05, 9543.4, 9740.91, 10570.4, 8546.2, 8986.36, 12317.65, 9139.33, 9378.14, 9721.18, 11016.6, 9293.13, 9700.81, 9412.88, 9328.92, 10040.22, 9592.74, 9487.06, 9148.74, 11332.74, 10067.37, 9075.56, 10849.8, 10873.97, 9494.58, 9991.25, 10879.66, 8922.31, 9868.2, 9897.12, 9480.49, 8909.44, 10515.99, 8860.66, 10413.56, 9341.65, 11716.39, 10089.84, 8731.98, 9389.77, 8713.94, 9948.68, 9298.47, 9566.81, 8848.42, 9835.33, 8912.14, 8244.7, 8884.31, 9217.96, 9834.31, 9379.75, 9582.93, 11321.87, 9919.61, 9522.49, 10165.48, 8515.79, 10818.3, 10500.27, 9651.73, 8958.7, 9528.16, 9855.51, 8456.65, 9201.44, 9255.45, 9767.74, 8605.32, 10556.71, 11167.6, 8881.33, 9806.37, 10073.97, 9366.84, 9102.0, 9426.19, 9641.31, 10681.28, 10966.15, 9177.85, 8595.62, 9270.95, 10045.1, 7880.11, 11711.83, 9377.83, 8705.16, 10136.04, 10070.78, 9157.49, 8995.1, 9736.67, 8348.47], \"coloraxis\": \"coloraxis\", \"size\": [95.65, 92.1, 92.76666666666668, 47.15, 93.3, 93.05, 98.8, 94.5, 92.075, 90.0, 91.65, 91.0, 88.9, 92.33333333333331, 95.9, 92.95, 97.8, 92.2, 92.5, 90.8, 96.4, 88.46666666666665, 68.52499999999999, 93.2, 94.15, 96.7, 90.0, 95.9, 93.35, 97.9, 95.5, 0.0, 92.95, 63.5, 68.85, 97.4, 90.6, 94.35, 73.71111111111112, 97.4, 95.5, 95.6, 92.0, 93.15, 95.1, 94.4, 91.7, 97.15, 95.5, 95.8, 96.3, 74.1, 93.5, 97.1, 97.59999999999998, 95.6, 92.3, 93.8, 94.05, 93.0, 90.7, 51.120000000000005, 90.2, 90.9, 95.33333333333331, 90.33333333333331, 98.4, 94.6, 82.39999999999999, 95.7, 0.0, 88.05, 91.6, 92.4, 95.7, 95.1, 93.25, 93.1, 92.3, 74.2, 76.78571428571429, 74.66, 92.3, 0.0, 89.5, 73.96666666666665, 74.95897435897436, 97.3, 98.0, 95.1, 95.4, 93.95, 95.5, 70.35, 95.3, 94.1, 76.02, 95.6, 98.9, 91.7, 93.0, 96.7, 90.6, 69.775, 92.1, 62.333333333333336, 90.025, 96.8, 96.57, 96.05], \"sizemode\": \"area\", \"sizeref\": 0.4395555555555556}, \"mode\": \"markers\", \"name\": \"\", \"showlegend\": false, \"subplot\": \"mapbox\", \"type\": \"scattermapbox\"}],                        {\"coloraxis\": {\"colorbar\": {\"title\": {\"text\": \"Total_School_Per_Pupil_Expenditures\"}}, \"colorscale\": [[0.0, \"#000000\"], [0.0625, \"#001f4d\"], [0.125, \"#003786\"], [0.1875, \"#0e58a8\"], [0.25, \"#217eb8\"], [0.3125, \"#30a4ca\"], [0.375, \"#54c8df\"], [0.4375, \"#9be4ef\"], [0.5, \"#e1e9d1\"], [0.5625, \"#f3d573\"], [0.625, \"#e7b000\"], [0.6875, \"#da8200\"], [0.75, \"#c65400\"], [0.8125, \"#ac2301\"], [0.875, \"#820000\"], [0.9375, \"#4c0000\"], [1.0, \"#000000\"]]}, \"legend\": {\"itemsizing\": \"constant\", \"tracegroupgap\": 0}, \"mapbox\": {\"center\": {\"lat\": 35.88336922727273, \"lon\": -86.03899611818183}, \"domain\": {\"x\": [0.0, 1.0], \"y\": [0.0, 1.0]}, \"zoom\": 10}, \"margin\": {\"t\": 60}, \"template\": {\"data\": {\"bar\": [{\"error_x\": {\"color\": \"#2a3f5f\"}, \"error_y\": {\"color\": \"#2a3f5f\"}, \"marker\": {\"line\": {\"color\": \"#E5ECF6\", \"width\": 0.5}}, \"type\": \"bar\"}], \"barpolar\": [{\"marker\": {\"line\": {\"color\": \"#E5ECF6\", \"width\": 0.5}}, \"type\": \"barpolar\"}], \"carpet\": [{\"aaxis\": {\"endlinecolor\": \"#2a3f5f\", \"gridcolor\": \"white\", \"linecolor\": \"white\", \"minorgridcolor\": \"white\", \"startlinecolor\": \"#2a3f5f\"}, \"baxis\": {\"endlinecolor\": \"#2a3f5f\", \"gridcolor\": \"white\", \"linecolor\": \"white\", \"minorgridcolor\": \"white\", \"startlinecolor\": \"#2a3f5f\"}, \"type\": \"carpet\"}], \"choropleth\": [{\"colorbar\": {\"outlinewidth\": 0, \"ticks\": \"\"}, \"type\": \"choropleth\"}], \"contour\": [{\"colorbar\": {\"outlinewidth\": 0, \"ticks\": \"\"}, \"colorscale\": [[0.0, \"#0d0887\"], [0.1111111111111111, \"#46039f\"], [0.2222222222222222, \"#7201a8\"], [0.3333333333333333, \"#9c179e\"], [0.4444444444444444, \"#bd3786\"], [0.5555555555555556, \"#d8576b\"], [0.6666666666666666, \"#ed7953\"], [0.7777777777777778, \"#fb9f3a\"], [0.8888888888888888, \"#fdca26\"], [1.0, \"#f0f921\"]], \"type\": \"contour\"}], \"contourcarpet\": [{\"colorbar\": {\"outlinewidth\": 0, \"ticks\": \"\"}, \"type\": \"contourcarpet\"}], \"heatmap\": [{\"colorbar\": {\"outlinewidth\": 0, \"ticks\": \"\"}, \"colorscale\": [[0.0, \"#0d0887\"], [0.1111111111111111, \"#46039f\"], [0.2222222222222222, \"#7201a8\"], [0.3333333333333333, \"#9c179e\"], [0.4444444444444444, \"#bd3786\"], [0.5555555555555556, \"#d8576b\"], [0.6666666666666666, \"#ed7953\"], [0.7777777777777778, \"#fb9f3a\"], [0.8888888888888888, \"#fdca26\"], [1.0, \"#f0f921\"]], \"type\": \"heatmap\"}], \"heatmapgl\": [{\"colorbar\": {\"outlinewidth\": 0, \"ticks\": \"\"}, \"colorscale\": [[0.0, \"#0d0887\"], [0.1111111111111111, \"#46039f\"], [0.2222222222222222, \"#7201a8\"], [0.3333333333333333, \"#9c179e\"], [0.4444444444444444, \"#bd3786\"], [0.5555555555555556, \"#d8576b\"], [0.6666666666666666, \"#ed7953\"], [0.7777777777777778, \"#fb9f3a\"], [0.8888888888888888, \"#fdca26\"], [1.0, \"#f0f921\"]], \"type\": \"heatmapgl\"}], \"histogram\": [{\"marker\": {\"colorbar\": {\"outlinewidth\": 0, \"ticks\": \"\"}}, \"type\": \"histogram\"}], \"histogram2d\": [{\"colorbar\": {\"outlinewidth\": 0, \"ticks\": \"\"}, \"colorscale\": [[0.0, \"#0d0887\"], [0.1111111111111111, \"#46039f\"], [0.2222222222222222, \"#7201a8\"], [0.3333333333333333, \"#9c179e\"], [0.4444444444444444, \"#bd3786\"], [0.5555555555555556, \"#d8576b\"], [0.6666666666666666, \"#ed7953\"], [0.7777777777777778, \"#fb9f3a\"], [0.8888888888888888, \"#fdca26\"], [1.0, \"#f0f921\"]], \"type\": \"histogram2d\"}], \"histogram2dcontour\": [{\"colorbar\": {\"outlinewidth\": 0, \"ticks\": \"\"}, \"colorscale\": [[0.0, \"#0d0887\"], [0.1111111111111111, \"#46039f\"], [0.2222222222222222, \"#7201a8\"], [0.3333333333333333, \"#9c179e\"], [0.4444444444444444, \"#bd3786\"], [0.5555555555555556, \"#d8576b\"], [0.6666666666666666, \"#ed7953\"], [0.7777777777777778, \"#fb9f3a\"], [0.8888888888888888, \"#fdca26\"], [1.0, \"#f0f921\"]], \"type\": \"histogram2dcontour\"}], \"mesh3d\": [{\"colorbar\": {\"outlinewidth\": 0, \"ticks\": \"\"}, \"type\": \"mesh3d\"}], \"parcoords\": [{\"line\": {\"colorbar\": {\"outlinewidth\": 0, \"ticks\": \"\"}}, \"type\": \"parcoords\"}], \"pie\": [{\"automargin\": true, \"type\": \"pie\"}], \"scatter\": [{\"marker\": {\"colorbar\": {\"outlinewidth\": 0, \"ticks\": \"\"}}, \"type\": \"scatter\"}], \"scatter3d\": [{\"line\": {\"colorbar\": {\"outlinewidth\": 0, \"ticks\": \"\"}}, \"marker\": {\"colorbar\": {\"outlinewidth\": 0, \"ticks\": \"\"}}, \"type\": \"scatter3d\"}], \"scattercarpet\": [{\"marker\": {\"colorbar\": {\"outlinewidth\": 0, \"ticks\": \"\"}}, \"type\": \"scattercarpet\"}], \"scattergeo\": [{\"marker\": {\"colorbar\": {\"outlinewidth\": 0, \"ticks\": \"\"}}, \"type\": \"scattergeo\"}], \"scattergl\": [{\"marker\": {\"colorbar\": {\"outlinewidth\": 0, \"ticks\": \"\"}}, \"type\": \"scattergl\"}], \"scattermapbox\": [{\"marker\": {\"colorbar\": {\"outlinewidth\": 0, \"ticks\": \"\"}}, \"type\": \"scattermapbox\"}], \"scatterpolar\": [{\"marker\": {\"colorbar\": {\"outlinewidth\": 0, \"ticks\": \"\"}}, \"type\": \"scatterpolar\"}], \"scatterpolargl\": [{\"marker\": {\"colorbar\": {\"outlinewidth\": 0, \"ticks\": \"\"}}, \"type\": \"scatterpolargl\"}], \"scatterternary\": [{\"marker\": {\"colorbar\": {\"outlinewidth\": 0, \"ticks\": \"\"}}, \"type\": \"scatterternary\"}], \"surface\": [{\"colorbar\": {\"outlinewidth\": 0, \"ticks\": \"\"}, \"colorscale\": [[0.0, \"#0d0887\"], [0.1111111111111111, \"#46039f\"], [0.2222222222222222, \"#7201a8\"], [0.3333333333333333, \"#9c179e\"], [0.4444444444444444, \"#bd3786\"], [0.5555555555555556, \"#d8576b\"], [0.6666666666666666, \"#ed7953\"], [0.7777777777777778, \"#fb9f3a\"], [0.8888888888888888, \"#fdca26\"], [1.0, \"#f0f921\"]], \"type\": \"surface\"}], \"table\": [{\"cells\": {\"fill\": {\"color\": \"#EBF0F8\"}, \"line\": {\"color\": \"white\"}}, \"header\": {\"fill\": {\"color\": \"#C8D4E3\"}, \"line\": {\"color\": \"white\"}}, \"type\": \"table\"}]}, \"layout\": {\"annotationdefaults\": {\"arrowcolor\": \"#2a3f5f\", \"arrowhead\": 0, \"arrowwidth\": 1}, \"coloraxis\": {\"colorbar\": {\"outlinewidth\": 0, \"ticks\": \"\"}}, \"colorscale\": {\"diverging\": [[0, \"#8e0152\"], [0.1, \"#c51b7d\"], [0.2, \"#de77ae\"], [0.3, \"#f1b6da\"], [0.4, \"#fde0ef\"], [0.5, \"#f7f7f7\"], [0.6, \"#e6f5d0\"], [0.7, \"#b8e186\"], [0.8, \"#7fbc41\"], [0.9, \"#4d9221\"], [1, \"#276419\"]], \"sequential\": [[0.0, \"#0d0887\"], [0.1111111111111111, \"#46039f\"], [0.2222222222222222, \"#7201a8\"], [0.3333333333333333, \"#9c179e\"], [0.4444444444444444, \"#bd3786\"], [0.5555555555555556, \"#d8576b\"], [0.6666666666666666, \"#ed7953\"], [0.7777777777777778, \"#fb9f3a\"], [0.8888888888888888, \"#fdca26\"], [1.0, \"#f0f921\"]], \"sequentialminus\": [[0.0, \"#0d0887\"], [0.1111111111111111, \"#46039f\"], [0.2222222222222222, \"#7201a8\"], [0.3333333333333333, \"#9c179e\"], [0.4444444444444444, \"#bd3786\"], [0.5555555555555556, \"#d8576b\"], [0.6666666666666666, \"#ed7953\"], [0.7777777777777778, \"#fb9f3a\"], [0.8888888888888888, \"#fdca26\"], [1.0, \"#f0f921\"]]}, \"colorway\": [\"#636efa\", \"#EF553B\", \"#00cc96\", \"#ab63fa\", \"#FFA15A\", \"#19d3f3\", \"#FF6692\", \"#B6E880\", \"#FF97FF\", \"#FECB52\"], \"font\": {\"color\": \"#2a3f5f\"}, \"geo\": {\"bgcolor\": \"white\", \"lakecolor\": \"white\", \"landcolor\": \"#E5ECF6\", \"showlakes\": true, \"showland\": true, \"subunitcolor\": \"white\"}, \"hoverlabel\": {\"align\": \"left\"}, \"hovermode\": \"closest\", \"mapbox\": {\"style\": \"light\"}, \"paper_bgcolor\": \"white\", \"plot_bgcolor\": \"#E5ECF6\", \"polar\": {\"angularaxis\": {\"gridcolor\": \"white\", \"linecolor\": \"white\", \"ticks\": \"\"}, \"bgcolor\": \"#E5ECF6\", \"radialaxis\": {\"gridcolor\": \"white\", \"linecolor\": \"white\", \"ticks\": \"\"}}, \"scene\": {\"xaxis\": {\"backgroundcolor\": \"#E5ECF6\", \"gridcolor\": \"white\", \"gridwidth\": 2, \"linecolor\": \"white\", \"showbackground\": true, \"ticks\": \"\", \"zerolinecolor\": \"white\"}, \"yaxis\": {\"backgroundcolor\": \"#E5ECF6\", \"gridcolor\": \"white\", \"gridwidth\": 2, \"linecolor\": \"white\", \"showbackground\": true, \"ticks\": \"\", \"zerolinecolor\": \"white\"}, \"zaxis\": {\"backgroundcolor\": \"#E5ECF6\", \"gridcolor\": \"white\", \"gridwidth\": 2, \"linecolor\": \"white\", \"showbackground\": true, \"ticks\": \"\", \"zerolinecolor\": \"white\"}}, \"shapedefaults\": {\"line\": {\"color\": \"#2a3f5f\"}}, \"ternary\": {\"aaxis\": {\"gridcolor\": \"white\", \"linecolor\": \"white\", \"ticks\": \"\"}, \"baxis\": {\"gridcolor\": \"white\", \"linecolor\": \"white\", \"ticks\": \"\"}, \"bgcolor\": \"#E5ECF6\", \"caxis\": {\"gridcolor\": \"white\", \"linecolor\": \"white\", \"ticks\": \"\"}}, \"title\": {\"x\": 0.05}, \"xaxis\": {\"automargin\": true, \"gridcolor\": \"white\", \"linecolor\": \"white\", \"ticks\": \"\", \"title\": {\"standoff\": 15}, \"zerolinecolor\": \"white\", \"zerolinewidth\": 2}, \"yaxis\": {\"automargin\": true, \"gridcolor\": \"white\", \"linecolor\": \"white\", \"ticks\": \"\", \"title\": {\"standoff\": 15}, \"zerolinecolor\": \"white\", \"zerolinewidth\": 2}}}},                        {\"responsive\": true}                    ).then(function(){\n",
       "                            \n",
       "var gd = document.getElementById('7f11e73c-7ae1-4922-9cba-58d1a19d3467');\n",
       "var x = new MutationObserver(function (mutations, observer) {{\n",
       "        var display = window.getComputedStyle(gd).display;\n",
       "        if (!display || display === 'none') {{\n",
       "            console.log([gd, 'removed!']);\n",
       "            Plotly.purge(gd);\n",
       "            observer.disconnect();\n",
       "        }}\n",
       "}});\n",
       "\n",
       "// Listen for the removal of the full notebook cells\n",
       "var notebookContainer = gd.closest('#notebook-container');\n",
       "if (notebookContainer) {{\n",
       "    x.observe(notebookContainer, {childList: true});\n",
       "}}\n",
       "\n",
       "// Listen for the clearing of the current output cell\n",
       "var outputEl = gd.closest('.output');\n",
       "if (outputEl) {{\n",
       "    x.observe(outputEl, {childList: true});\n",
       "}}\n",
       "\n",
       "                        })                };                });            </script>        </div>"
      ]
     },
     "metadata": {},
     "output_type": "display_data"
    }
   ],
   "source": [
    "import plotly.express as px\n",
    "#px.set_mapbox_access_token(open(\".mapbox_token\").read())\n",
    "df = px.data.carshare()\n",
    "fig = px.scatter_mapbox(finance_school, lat=\"latitude\", lon=\"longitude\",     color=\"Total_School_Per_Pupil_Expenditures\", size=\"graduation rate \",\n",
    "                  color_continuous_scale=px.colors.cyclical.IceFire, size_max=15, zoom=10)\n",
    "fig.show()"
   ]
  },
  {
   "cell_type": "code",
   "execution_count": 7,
   "metadata": {},
   "outputs": [
    {
     "ename": "TypeError",
     "evalue": "scatter_geo() got an unexpected keyword argument 'longitude'",
     "output_type": "error",
     "traceback": [
      "\u001b[1;31m---------------------------------------------------------------------------\u001b[0m",
      "\u001b[1;31mTypeError\u001b[0m                                 Traceback (most recent call last)",
      "\u001b[1;32m<ipython-input-7-546f2aac7588>\u001b[0m in \u001b[0;36m<module>\u001b[1;34m\u001b[0m\n\u001b[0;32m      1\u001b[0m \u001b[1;32mimport\u001b[0m \u001b[0mplotly\u001b[0m\u001b[1;33m.\u001b[0m\u001b[0mexpress\u001b[0m \u001b[1;32mas\u001b[0m \u001b[0mpx\u001b[0m\u001b[1;33m\u001b[0m\u001b[1;33m\u001b[0m\u001b[0m\n\u001b[0;32m      2\u001b[0m \u001b[1;33m\u001b[0m\u001b[0m\n\u001b[1;32m----> 3\u001b[1;33m fig = px.scatter_geo(finance_school,longitude='longitude',latitude='latitude', color=\"district_name\",\n\u001b[0m\u001b[0;32m      4\u001b[0m                      \u001b[0mhover_name\u001b[0m\u001b[1;33m=\u001b[0m\u001b[1;34m\"Total_School_Per_Pupil_Expenditures\"\u001b[0m\u001b[1;33m,\u001b[0m \u001b[0msize\u001b[0m\u001b[1;33m=\u001b[0m\u001b[1;34m\"graduation rate \"\u001b[0m\u001b[1;33m,\u001b[0m\u001b[1;33m\u001b[0m\u001b[1;33m\u001b[0m\u001b[0m\n\u001b[0;32m      5\u001b[0m                      \u001b[0manimation_frame\u001b[0m\u001b[1;33m=\u001b[0m\u001b[1;34m\"year\"\u001b[0m\u001b[1;33m,\u001b[0m\u001b[1;33m\u001b[0m\u001b[1;33m\u001b[0m\u001b[0m\n",
      "\u001b[1;31mTypeError\u001b[0m: scatter_geo() got an unexpected keyword argument 'longitude'"
     ]
    }
   ],
   "source": [
    "import plotly.express as px\n",
    "\n",
    "fig = px.scatter_geo(finance_school,longitude='longitude',latitude='latitude', color=\"district_name\",\n",
    "                     hover_name=\"Total_School_Per_Pupil_Expenditures\", size=\"graduation rate \",\n",
    "                     animation_frame=\"year\",\n",
    "                     projection=\"natural earth\")\n",
    "fig.show()    "
   ]
  },
  {
   "cell_type": "code",
   "execution_count": null,
   "metadata": {},
   "outputs": [],
   "source": []
  }
 ],
 "metadata": {
  "kernelspec": {
   "display_name": "Python 3",
   "language": "python",
   "name": "python3"
  },
  "language_info": {
   "codemirror_mode": {
    "name": "ipython",
    "version": 3
   },
   "file_extension": ".py",
   "mimetype": "text/x-python",
   "name": "python",
   "nbconvert_exporter": "python",
   "pygments_lexer": "ipython3",
   "version": "3.8.3"
  }
 },
 "nbformat": 4,
 "nbformat_minor": 4
}
