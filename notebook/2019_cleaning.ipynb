{
 "cells": [
  {
   "cell_type": "code",
   "execution_count": 1,
   "metadata": {},
   "outputs": [],
   "source": [
    "import pandas as pd\n",
    "import dtale\n",
    "# helps convert zip to lat and long\n",
    "from pyzipcode import ZipCodeDatabase"
   ]
  },
  {
   "cell_type": "markdown",
   "metadata": {},
   "source": [
    "# needed columns"
   ]
  },
  {
   "cell_type": "markdown",
   "metadata": {},
   "source": [
    "# import data"
   ]
  },
  {
   "cell_type": "code",
   "execution_count": 2,
   "metadata": {},
   "outputs": [],
   "source": [
    "# 2019 report\n",
    "staffing_df = pd.read_excel('../data/original_data/reportcarddata2019.xlsx','staffing'\n",
    "                              )\n",
    "\n",
    "\n"
   ]
  },
  {
   "cell_type": "code",
   "execution_count": 3,
   "metadata": {},
   "outputs": [],
   "source": [
    "retention_df = pd.read_excel('../data/original_data/reportcarddata2019.xlsx','teacher_retention'\n",
    "                              )"
   ]
  },
  {
   "cell_type": "code",
   "execution_count": 4,
   "metadata": {},
   "outputs": [],
   "source": [
    "grades_df = pd.read_excel('../data/original_data/reportcarddata2019.xlsx','overall_grades'\n",
    "                              ) "
   ]
  },
  {
   "cell_type": "code",
   "execution_count": 5,
   "metadata": {},
   "outputs": [],
   "source": [
    "finance_df = pd.read_excel('../data/original_data/reportcarddata2019.xlsx','finance'\n",
    "                              ) "
   ]
  },
  {
   "cell_type": "code",
   "execution_count": 6,
   "metadata": {},
   "outputs": [],
   "source": [
    "enrollment_df = pd.read_excel('../data/original_data/reportcarddata2019.xlsx','enrollment'\n",
    "                              )"
   ]
  },
  {
   "cell_type": "code",
   "execution_count": 7,
   "metadata": {},
   "outputs": [],
   "source": [
    "# 2019 report\n",
    "act_df = pd.read_excel('../data/original_data/reportcarddata2019.xlsx','ACT'\n",
    "                              )\n",
    "# 2019 report\n",
    "absent_df = pd.read_excel('../data/original_data/reportcarddata2019.xlsx','chronic_absenteeism'\n",
    "                              )\n",
    "# 2019 report\n",
    "dropout_df = pd.read_excel('../data/original_data/reportcarddata2019.xlsx','dropout'\n",
    "                              )\n",
    "# 2019 report\n",
    "grad_df = pd.read_excel('../data/original_data/reportcarddata2019.xlsx','grad_rate'\n",
    "                              )\n"
   ]
  },
  {
   "cell_type": "markdown",
   "metadata": {},
   "source": [
    "# staff"
   ]
  },
  {
   "cell_type": "code",
   "execution_count": 8,
   "metadata": {},
   "outputs": [
    {
     "data": {
      "text/plain": [
       "Index(['district_number', 'district_name', 'school_number', 'school_name',\n",
       "       'year', 'n_staff', 'role', 'entity'],\n",
       "      dtype='object')"
      ]
     },
     "execution_count": 8,
     "metadata": {},
     "output_type": "execute_result"
    }
   ],
   "source": [
    "staffing_df.columns"
   ]
  },
  {
   "cell_type": "code",
   "execution_count": 9,
   "metadata": {},
   "outputs": [],
   "source": [
    "staffing_df=staffing_df.drop(['district_number', 'school_number','entity','year'\n",
    "                         ], axis=1)"
   ]
  },
  {
   "cell_type": "code",
   "execution_count": 10,
   "metadata": {},
   "outputs": [],
   "source": [
    "#staffing_df.isnull().sum()\n",
    "# staffing_df.head(10)\n",
    "\n",
    "#staffing_df.shape"
   ]
  },
  {
   "cell_type": "code",
   "execution_count": 11,
   "metadata": {},
   "outputs": [],
   "source": [
    "# remove missing\n",
    "staffing_df=staffing_df.dropna()"
   ]
  },
  {
   "cell_type": "code",
   "execution_count": 12,
   "metadata": {},
   "outputs": [],
   "source": [
    "# make long to wide\n",
    "staffing_df=staffing_df.pivot_table(index=[\"district_name\", \"school_name\"], \n",
    "                    columns='role', \n",
    "                    values='n_staff')"
   ]
  },
  {
   "cell_type": "code",
   "execution_count": null,
   "metadata": {},
   "outputs": [],
   "source": []
  },
  {
   "cell_type": "code",
   "execution_count": 13,
   "metadata": {},
   "outputs": [],
   "source": [
    "staffing_df=staffing_df.drop(['all_educators', 'support_coach','support_inter','support_coun',\n",
    "                              'support_librarian','support_other'\n",
    "                         ], axis=1)"
   ]
  },
  {
   "cell_type": "code",
   "execution_count": 14,
   "metadata": {},
   "outputs": [],
   "source": [
    "staffing_df=staffing_df.dropna()"
   ]
  },
  {
   "cell_type": "code",
   "execution_count": 15,
   "metadata": {},
   "outputs": [
    {
     "data": {
      "text/plain": [
       "(1833, 2)"
      ]
     },
     "execution_count": 15,
     "metadata": {},
     "output_type": "execute_result"
    }
   ],
   "source": [
    "staffing_df.shape"
   ]
  },
  {
   "cell_type": "markdown",
   "metadata": {},
   "source": [
    "# absentee"
   ]
  },
  {
   "cell_type": "code",
   "execution_count": 16,
   "metadata": {},
   "outputs": [],
   "source": [
    "# remove columns\n",
    "absent_df=absent_df.drop(['district_number', 'school_number','year','denominator',\n",
    "                              'baseline_year'\n",
    "                         ], axis=1)"
   ]
  },
  {
   "cell_type": "code",
   "execution_count": 17,
   "metadata": {},
   "outputs": [],
   "source": [
    "# filter by subgroup\n",
    "absent_df=absent_df[absent_df.subgroup =='all_students']"
   ]
  },
  {
   "cell_type": "code",
   "execution_count": 18,
   "metadata": {},
   "outputs": [],
   "source": [
    "# remove missing data\n",
    "absent_df=absent_df.dropna()"
   ]
  },
  {
   "cell_type": "code",
   "execution_count": 19,
   "metadata": {},
   "outputs": [],
   "source": [
    "# remove *"
   ]
  },
  {
   "cell_type": "code",
   "execution_count": 20,
   "metadata": {},
   "outputs": [
    {
     "data": {
      "text/plain": [
       "(1886, 5)"
      ]
     },
     "execution_count": 20,
     "metadata": {},
     "output_type": "execute_result"
    }
   ],
   "source": [
    "absent_df.shape"
   ]
  },
  {
   "cell_type": "markdown",
   "metadata": {},
   "source": [
    "# join absentee and staff"
   ]
  },
  {
   "cell_type": "code",
   "execution_count": 21,
   "metadata": {},
   "outputs": [],
   "source": [
    "# join by school_name\n",
    "merge_a=absent_df.merge(staffing_df,how='inner', on=\"school_name\")"
   ]
  },
  {
   "cell_type": "code",
   "execution_count": 22,
   "metadata": {},
   "outputs": [],
   "source": [
    "merge_a=merge_a.drop_duplicates(subset=['school_name'])"
   ]
  },
  {
   "cell_type": "code",
   "execution_count": 23,
   "metadata": {},
   "outputs": [
    {
     "data": {
      "text/html": [
       "<div>\n",
       "<style scoped>\n",
       "    .dataframe tbody tr th:only-of-type {\n",
       "        vertical-align: middle;\n",
       "    }\n",
       "\n",
       "    .dataframe tbody tr th {\n",
       "        vertical-align: top;\n",
       "    }\n",
       "\n",
       "    .dataframe thead th {\n",
       "        text-align: right;\n",
       "    }\n",
       "</style>\n",
       "<table border=\"1\" class=\"dataframe\">\n",
       "  <thead>\n",
       "    <tr style=\"text-align: right;\">\n",
       "      <th></th>\n",
       "      <th>district_name</th>\n",
       "      <th>school_name</th>\n",
       "      <th>subgroup</th>\n",
       "      <th>percent_ca</th>\n",
       "      <th>percent_ca_previous</th>\n",
       "      <th>admin</th>\n",
       "      <th>teacher</th>\n",
       "    </tr>\n",
       "  </thead>\n",
       "  <tbody>\n",
       "    <tr>\n",
       "      <th>0</th>\n",
       "      <td>State of Tennessee</td>\n",
       "      <td>All Schools</td>\n",
       "      <td>all_students</td>\n",
       "      <td>12.5</td>\n",
       "      <td>12.9</td>\n",
       "      <td>41.0</td>\n",
       "      <td>588.0</td>\n",
       "    </tr>\n",
       "    <tr>\n",
       "      <th>22052</th>\n",
       "      <td>Anderson County Schools</td>\n",
       "      <td>Anderson County High School</td>\n",
       "      <td>all_students</td>\n",
       "      <td>15.1</td>\n",
       "      <td>18.3</td>\n",
       "      <td>5.0</td>\n",
       "      <td>53.0</td>\n",
       "    </tr>\n",
       "    <tr>\n",
       "      <th>22053</th>\n",
       "      <td>Anderson County Schools</td>\n",
       "      <td>Andersonville Elementary</td>\n",
       "      <td>all_students</td>\n",
       "      <td>8.6</td>\n",
       "      <td>10.6</td>\n",
       "      <td>1.0</td>\n",
       "      <td>24.0</td>\n",
       "    </tr>\n",
       "    <tr>\n",
       "      <th>22054</th>\n",
       "      <td>Anderson County Schools</td>\n",
       "      <td>Briceville Elementary</td>\n",
       "      <td>all_students</td>\n",
       "      <td>9.4</td>\n",
       "      <td>23</td>\n",
       "      <td>1.0</td>\n",
       "      <td>11.0</td>\n",
       "    </tr>\n",
       "    <tr>\n",
       "      <th>22055</th>\n",
       "      <td>Anderson County Schools</td>\n",
       "      <td>Claxton Elementary</td>\n",
       "      <td>all_students</td>\n",
       "      <td>14.4</td>\n",
       "      <td>21.3</td>\n",
       "      <td>2.0</td>\n",
       "      <td>35.0</td>\n",
       "    </tr>\n",
       "    <tr>\n",
       "      <th>22056</th>\n",
       "      <td>Anderson County Schools</td>\n",
       "      <td>Clinton Middle School</td>\n",
       "      <td>all_students</td>\n",
       "      <td>20.8</td>\n",
       "      <td>19.2</td>\n",
       "      <td>3.0</td>\n",
       "      <td>41.0</td>\n",
       "    </tr>\n",
       "    <tr>\n",
       "      <th>22057</th>\n",
       "      <td>Anderson County Schools</td>\n",
       "      <td>Clinton High School</td>\n",
       "      <td>all_students</td>\n",
       "      <td>17.8</td>\n",
       "      <td>21.8</td>\n",
       "      <td>5.0</td>\n",
       "      <td>68.0</td>\n",
       "    </tr>\n",
       "    <tr>\n",
       "      <th>22058</th>\n",
       "      <td>Anderson County Schools</td>\n",
       "      <td>Dutch Valley Elementary</td>\n",
       "      <td>all_students</td>\n",
       "      <td>11.9</td>\n",
       "      <td>14.3</td>\n",
       "      <td>1.0</td>\n",
       "      <td>8.0</td>\n",
       "    </tr>\n",
       "    <tr>\n",
       "      <th>22059</th>\n",
       "      <td>Anderson County Schools</td>\n",
       "      <td>Fairview Elementary</td>\n",
       "      <td>all_students</td>\n",
       "      <td>4.6</td>\n",
       "      <td>6.8</td>\n",
       "      <td>1.0</td>\n",
       "      <td>22.0</td>\n",
       "    </tr>\n",
       "    <tr>\n",
       "      <th>22075</th>\n",
       "      <td>Anderson County Schools</td>\n",
       "      <td>Grand Oaks Elementary</td>\n",
       "      <td>all_students</td>\n",
       "      <td>10.9</td>\n",
       "      <td>14.1</td>\n",
       "      <td>1.0</td>\n",
       "      <td>20.0</td>\n",
       "    </tr>\n",
       "  </tbody>\n",
       "</table>\n",
       "</div>"
      ],
      "text/plain": [
       "                 district_name                  school_name      subgroup  \\\n",
       "0           State of Tennessee                  All Schools  all_students   \n",
       "22052  Anderson County Schools  Anderson County High School  all_students   \n",
       "22053  Anderson County Schools     Andersonville Elementary  all_students   \n",
       "22054  Anderson County Schools        Briceville Elementary  all_students   \n",
       "22055  Anderson County Schools           Claxton Elementary  all_students   \n",
       "22056  Anderson County Schools        Clinton Middle School  all_students   \n",
       "22057  Anderson County Schools          Clinton High School  all_students   \n",
       "22058  Anderson County Schools      Dutch Valley Elementary  all_students   \n",
       "22059  Anderson County Schools          Fairview Elementary  all_students   \n",
       "22075  Anderson County Schools        Grand Oaks Elementary  all_students   \n",
       "\n",
       "      percent_ca percent_ca_previous  admin  teacher  \n",
       "0           12.5                12.9   41.0    588.0  \n",
       "22052       15.1                18.3    5.0     53.0  \n",
       "22053        8.6                10.6    1.0     24.0  \n",
       "22054        9.4                  23    1.0     11.0  \n",
       "22055       14.4                21.3    2.0     35.0  \n",
       "22056       20.8                19.2    3.0     41.0  \n",
       "22057       17.8                21.8    5.0     68.0  \n",
       "22058       11.9                14.3    1.0      8.0  \n",
       "22059        4.6                 6.8    1.0     22.0  \n",
       "22075       10.9                14.1    1.0     20.0  "
      ]
     },
     "execution_count": 23,
     "metadata": {},
     "output_type": "execute_result"
    }
   ],
   "source": [
    "merge_a.head(10)"
   ]
  },
  {
   "cell_type": "code",
   "execution_count": 24,
   "metadata": {},
   "outputs": [
    {
     "data": {
      "text/plain": [
       "(1608, 7)"
      ]
     },
     "execution_count": 24,
     "metadata": {},
     "output_type": "execute_result"
    }
   ],
   "source": [
    "merge_a.shape"
   ]
  },
  {
   "cell_type": "code",
   "execution_count": 25,
   "metadata": {},
   "outputs": [],
   "source": [
    "\n",
    "# remove all schools\n",
    "merge_a=merge_a[merge_a['school_name'] !='All Schools']"
   ]
  },
  {
   "cell_type": "code",
   "execution_count": 26,
   "metadata": {},
   "outputs": [],
   "source": [
    "merge_a=merge_a.drop(['subgroup'],axis=1)"
   ]
  },
  {
   "cell_type": "code",
   "execution_count": 27,
   "metadata": {},
   "outputs": [
    {
     "data": {
      "text/html": [
       "<div>\n",
       "<style scoped>\n",
       "    .dataframe tbody tr th:only-of-type {\n",
       "        vertical-align: middle;\n",
       "    }\n",
       "\n",
       "    .dataframe tbody tr th {\n",
       "        vertical-align: top;\n",
       "    }\n",
       "\n",
       "    .dataframe thead th {\n",
       "        text-align: right;\n",
       "    }\n",
       "</style>\n",
       "<table border=\"1\" class=\"dataframe\">\n",
       "  <thead>\n",
       "    <tr style=\"text-align: right;\">\n",
       "      <th></th>\n",
       "      <th>district_name</th>\n",
       "      <th>school_name</th>\n",
       "      <th>percent_ca</th>\n",
       "      <th>percent_ca_previous</th>\n",
       "      <th>admin</th>\n",
       "      <th>teacher</th>\n",
       "    </tr>\n",
       "  </thead>\n",
       "  <tbody>\n",
       "    <tr>\n",
       "      <th>22052</th>\n",
       "      <td>Anderson County Schools</td>\n",
       "      <td>Anderson County High School</td>\n",
       "      <td>15.1</td>\n",
       "      <td>18.3</td>\n",
       "      <td>5.0</td>\n",
       "      <td>53.0</td>\n",
       "    </tr>\n",
       "    <tr>\n",
       "      <th>22053</th>\n",
       "      <td>Anderson County Schools</td>\n",
       "      <td>Andersonville Elementary</td>\n",
       "      <td>8.6</td>\n",
       "      <td>10.6</td>\n",
       "      <td>1.0</td>\n",
       "      <td>24.0</td>\n",
       "    </tr>\n",
       "    <tr>\n",
       "      <th>22054</th>\n",
       "      <td>Anderson County Schools</td>\n",
       "      <td>Briceville Elementary</td>\n",
       "      <td>9.4</td>\n",
       "      <td>23</td>\n",
       "      <td>1.0</td>\n",
       "      <td>11.0</td>\n",
       "    </tr>\n",
       "    <tr>\n",
       "      <th>22055</th>\n",
       "      <td>Anderson County Schools</td>\n",
       "      <td>Claxton Elementary</td>\n",
       "      <td>14.4</td>\n",
       "      <td>21.3</td>\n",
       "      <td>2.0</td>\n",
       "      <td>35.0</td>\n",
       "    </tr>\n",
       "    <tr>\n",
       "      <th>22056</th>\n",
       "      <td>Anderson County Schools</td>\n",
       "      <td>Clinton Middle School</td>\n",
       "      <td>20.8</td>\n",
       "      <td>19.2</td>\n",
       "      <td>3.0</td>\n",
       "      <td>41.0</td>\n",
       "    </tr>\n",
       "  </tbody>\n",
       "</table>\n",
       "</div>"
      ],
      "text/plain": [
       "                 district_name                  school_name percent_ca  \\\n",
       "22052  Anderson County Schools  Anderson County High School       15.1   \n",
       "22053  Anderson County Schools     Andersonville Elementary        8.6   \n",
       "22054  Anderson County Schools        Briceville Elementary        9.4   \n",
       "22055  Anderson County Schools           Claxton Elementary       14.4   \n",
       "22056  Anderson County Schools        Clinton Middle School       20.8   \n",
       "\n",
       "      percent_ca_previous  admin  teacher  \n",
       "22052                18.3    5.0     53.0  \n",
       "22053                10.6    1.0     24.0  \n",
       "22054                  23    1.0     11.0  \n",
       "22055                21.3    2.0     35.0  \n",
       "22056                19.2    3.0     41.0  "
      ]
     },
     "execution_count": 27,
     "metadata": {},
     "output_type": "execute_result"
    }
   ],
   "source": [
    "merge_a.head()"
   ]
  },
  {
   "cell_type": "markdown",
   "metadata": {},
   "source": [
    "# Retention"
   ]
  },
  {
   "cell_type": "code",
   "execution_count": 28,
   "metadata": {},
   "outputs": [],
   "source": [
    "# drop columns\n",
    "# remove columns\n",
    "retention_df=retention_df.drop(['district_number', 'school_number','year'\n",
    "                              \n",
    "                         ], axis=1)"
   ]
  },
  {
   "cell_type": "code",
   "execution_count": 29,
   "metadata": {},
   "outputs": [
    {
     "data": {
      "text/plain": [
       "district_name       91\n",
       "school_name         91\n",
       "percent_retained     3\n",
       "dtype: int64"
      ]
     },
     "execution_count": 29,
     "metadata": {},
     "output_type": "execute_result"
    }
   ],
   "source": [
    "retention_df.isnull().sum()"
   ]
  },
  {
   "cell_type": "code",
   "execution_count": 30,
   "metadata": {},
   "outputs": [],
   "source": [
    "# remove missing\n",
    "retention_df=retention_df.dropna()"
   ]
  },
  {
   "cell_type": "code",
   "execution_count": 31,
   "metadata": {},
   "outputs": [],
   "source": [
    "# remove all schools\n",
    "retention_df=retention_df[retention_df['school_name'] !='All Schools' ]"
   ]
  },
  {
   "cell_type": "code",
   "execution_count": 32,
   "metadata": {},
   "outputs": [],
   "source": [
    "#retention_df"
   ]
  },
  {
   "cell_type": "code",
   "execution_count": 33,
   "metadata": {},
   "outputs": [
    {
     "data": {
      "text/plain": [
       "(1724, 3)"
      ]
     },
     "execution_count": 33,
     "metadata": {},
     "output_type": "execute_result"
    }
   ],
   "source": [
    "retention_df.shape"
   ]
  },
  {
   "cell_type": "code",
   "execution_count": 34,
   "metadata": {},
   "outputs": [
    {
     "data": {
      "text/html": [
       "<div>\n",
       "<style scoped>\n",
       "    .dataframe tbody tr th:only-of-type {\n",
       "        vertical-align: middle;\n",
       "    }\n",
       "\n",
       "    .dataframe tbody tr th {\n",
       "        vertical-align: top;\n",
       "    }\n",
       "\n",
       "    .dataframe thead th {\n",
       "        text-align: right;\n",
       "    }\n",
       "</style>\n",
       "<table border=\"1\" class=\"dataframe\">\n",
       "  <thead>\n",
       "    <tr style=\"text-align: right;\">\n",
       "      <th></th>\n",
       "      <th>district_name</th>\n",
       "      <th>school_name</th>\n",
       "      <th>percent_retained</th>\n",
       "    </tr>\n",
       "  </thead>\n",
       "  <tbody>\n",
       "    <tr>\n",
       "      <th>151</th>\n",
       "      <td>Metro Nashville Public Schools</td>\n",
       "      <td>A. Z. Kelley Elementary</td>\n",
       "      <td>77.4</td>\n",
       "    </tr>\n",
       "    <tr>\n",
       "      <th>152</th>\n",
       "      <td>Arlington Municipal School District</td>\n",
       "      <td>Arlington High</td>\n",
       "      <td>92.1</td>\n",
       "    </tr>\n",
       "    <tr>\n",
       "      <th>153</th>\n",
       "      <td>Rutherford County Schools</td>\n",
       "      <td>Blackman Elementary School</td>\n",
       "      <td>74.3</td>\n",
       "    </tr>\n",
       "    <tr>\n",
       "      <th>154</th>\n",
       "      <td>Anderson County Schools</td>\n",
       "      <td>Anderson County High School</td>\n",
       "      <td>91.0</td>\n",
       "    </tr>\n",
       "    <tr>\n",
       "      <th>155</th>\n",
       "      <td>Knox County Schools</td>\n",
       "      <td>Amherst Elementary School</td>\n",
       "      <td>85.0</td>\n",
       "    </tr>\n",
       "    <tr>\n",
       "      <th>...</th>\n",
       "      <td>...</td>\n",
       "      <td>...</td>\n",
       "      <td>...</td>\n",
       "    </tr>\n",
       "    <tr>\n",
       "      <th>1961</th>\n",
       "      <td>Shelby County Schools</td>\n",
       "      <td>Gateway University</td>\n",
       "      <td>0</td>\n",
       "    </tr>\n",
       "    <tr>\n",
       "      <th>1962</th>\n",
       "      <td>Shelby County Schools</td>\n",
       "      <td>Kaleidoscope School of Memphis</td>\n",
       "      <td>0</td>\n",
       "    </tr>\n",
       "    <tr>\n",
       "      <th>1963</th>\n",
       "      <td>Shelby County Schools</td>\n",
       "      <td>Memphis School of Excellence Elementary</td>\n",
       "      <td>100.0</td>\n",
       "    </tr>\n",
       "    <tr>\n",
       "      <th>1964</th>\n",
       "      <td>Shelby County Schools</td>\n",
       "      <td>Power Center Academy Elementary - Southeast</td>\n",
       "      <td>14.3</td>\n",
       "    </tr>\n",
       "    <tr>\n",
       "      <th>1965</th>\n",
       "      <td>Shelby County Schools</td>\n",
       "      <td>Southwest Early College High School</td>\n",
       "      <td>66.7</td>\n",
       "    </tr>\n",
       "  </tbody>\n",
       "</table>\n",
       "<p>1724 rows × 3 columns</p>\n",
       "</div>"
      ],
      "text/plain": [
       "                            district_name  \\\n",
       "151        Metro Nashville Public Schools   \n",
       "152   Arlington Municipal School District   \n",
       "153             Rutherford County Schools   \n",
       "154               Anderson County Schools   \n",
       "155                   Knox County Schools   \n",
       "...                                   ...   \n",
       "1961                Shelby County Schools   \n",
       "1962                Shelby County Schools   \n",
       "1963                Shelby County Schools   \n",
       "1964                Shelby County Schools   \n",
       "1965                Shelby County Schools   \n",
       "\n",
       "                                      school_name percent_retained  \n",
       "151                       A. Z. Kelley Elementary             77.4  \n",
       "152                                Arlington High             92.1  \n",
       "153                    Blackman Elementary School             74.3  \n",
       "154                   Anderson County High School             91.0  \n",
       "155                     Amherst Elementary School             85.0  \n",
       "...                                           ...              ...  \n",
       "1961                           Gateway University                0  \n",
       "1962               Kaleidoscope School of Memphis                0  \n",
       "1963      Memphis School of Excellence Elementary            100.0  \n",
       "1964  Power Center Academy Elementary - Southeast             14.3  \n",
       "1965          Southwest Early College High School             66.7  \n",
       "\n",
       "[1724 rows x 3 columns]"
      ]
     },
     "execution_count": 34,
     "metadata": {},
     "output_type": "execute_result"
    }
   ],
   "source": [
    "retention_df"
   ]
  },
  {
   "cell_type": "code",
   "execution_count": 35,
   "metadata": {},
   "outputs": [],
   "source": [
    "# drop district_name\n",
    "retention_df= retention_df.drop(['district_name'],axis=1)"
   ]
  },
  {
   "cell_type": "markdown",
   "metadata": {},
   "source": [
    "# merge retention with staff and absent"
   ]
  },
  {
   "cell_type": "code",
   "execution_count": 36,
   "metadata": {},
   "outputs": [],
   "source": [
    "# join by school_name\n",
    "merge_b= merge_a.merge(retention_df,how='inner', on=\"school_name\")"
   ]
  },
  {
   "cell_type": "code",
   "execution_count": 37,
   "metadata": {},
   "outputs": [
    {
     "data": {
      "text/html": [
       "<div>\n",
       "<style scoped>\n",
       "    .dataframe tbody tr th:only-of-type {\n",
       "        vertical-align: middle;\n",
       "    }\n",
       "\n",
       "    .dataframe tbody tr th {\n",
       "        vertical-align: top;\n",
       "    }\n",
       "\n",
       "    .dataframe thead th {\n",
       "        text-align: right;\n",
       "    }\n",
       "</style>\n",
       "<table border=\"1\" class=\"dataframe\">\n",
       "  <thead>\n",
       "    <tr style=\"text-align: right;\">\n",
       "      <th></th>\n",
       "      <th>district_name</th>\n",
       "      <th>school_name</th>\n",
       "      <th>percent_ca</th>\n",
       "      <th>percent_ca_previous</th>\n",
       "      <th>admin</th>\n",
       "      <th>teacher</th>\n",
       "      <th>percent_retained</th>\n",
       "    </tr>\n",
       "  </thead>\n",
       "  <tbody>\n",
       "    <tr>\n",
       "      <th>0</th>\n",
       "      <td>Anderson County Schools</td>\n",
       "      <td>Anderson County High School</td>\n",
       "      <td>15.1</td>\n",
       "      <td>18.3</td>\n",
       "      <td>5.0</td>\n",
       "      <td>53.0</td>\n",
       "      <td>91.0</td>\n",
       "    </tr>\n",
       "    <tr>\n",
       "      <th>1</th>\n",
       "      <td>Anderson County Schools</td>\n",
       "      <td>Andersonville Elementary</td>\n",
       "      <td>8.6</td>\n",
       "      <td>10.6</td>\n",
       "      <td>1.0</td>\n",
       "      <td>24.0</td>\n",
       "      <td>58.1</td>\n",
       "    </tr>\n",
       "    <tr>\n",
       "      <th>2</th>\n",
       "      <td>Anderson County Schools</td>\n",
       "      <td>Briceville Elementary</td>\n",
       "      <td>9.4</td>\n",
       "      <td>23</td>\n",
       "      <td>1.0</td>\n",
       "      <td>11.0</td>\n",
       "      <td>60.0</td>\n",
       "    </tr>\n",
       "    <tr>\n",
       "      <th>3</th>\n",
       "      <td>Anderson County Schools</td>\n",
       "      <td>Claxton Elementary</td>\n",
       "      <td>14.4</td>\n",
       "      <td>21.3</td>\n",
       "      <td>2.0</td>\n",
       "      <td>35.0</td>\n",
       "      <td>63.0</td>\n",
       "    </tr>\n",
       "    <tr>\n",
       "      <th>4</th>\n",
       "      <td>Anderson County Schools</td>\n",
       "      <td>Clinton Middle School</td>\n",
       "      <td>20.8</td>\n",
       "      <td>19.2</td>\n",
       "      <td>3.0</td>\n",
       "      <td>41.0</td>\n",
       "      <td>77.6</td>\n",
       "    </tr>\n",
       "    <tr>\n",
       "      <th>...</th>\n",
       "      <td>...</td>\n",
       "      <td>...</td>\n",
       "      <td>...</td>\n",
       "      <td>...</td>\n",
       "      <td>...</td>\n",
       "      <td>...</td>\n",
       "      <td>...</td>\n",
       "    </tr>\n",
       "    <tr>\n",
       "      <th>1666</th>\n",
       "      <td>Achievement School District</td>\n",
       "      <td>KIPP Memphis Preparatory Elementary</td>\n",
       "      <td>21.7</td>\n",
       "      <td>37.3</td>\n",
       "      <td>1.0</td>\n",
       "      <td>19.0</td>\n",
       "      <td>90.9</td>\n",
       "    </tr>\n",
       "    <tr>\n",
       "      <th>1667</th>\n",
       "      <td>Achievement School District</td>\n",
       "      <td>Cornerstone Prep Denver Campus</td>\n",
       "      <td>26.1</td>\n",
       "      <td>13.7</td>\n",
       "      <td>1.0</td>\n",
       "      <td>40.0</td>\n",
       "      <td>55.0</td>\n",
       "    </tr>\n",
       "    <tr>\n",
       "      <th>1668</th>\n",
       "      <td>Achievement School District</td>\n",
       "      <td>Kirby Middle School</td>\n",
       "      <td>25.1</td>\n",
       "      <td>16.8</td>\n",
       "      <td>3.0</td>\n",
       "      <td>19.0</td>\n",
       "      <td>77.8</td>\n",
       "    </tr>\n",
       "    <tr>\n",
       "      <th>1669</th>\n",
       "      <td>Achievement School District</td>\n",
       "      <td>Hillcrest High School</td>\n",
       "      <td>42.1</td>\n",
       "      <td>48.2</td>\n",
       "      <td>2.0</td>\n",
       "      <td>26.0</td>\n",
       "      <td>51.1</td>\n",
       "    </tr>\n",
       "    <tr>\n",
       "      <th>1670</th>\n",
       "      <td>Tennessee State Board of Education</td>\n",
       "      <td>Bluff City High School</td>\n",
       "      <td>29.9</td>\n",
       "      <td>23.3</td>\n",
       "      <td>2.0</td>\n",
       "      <td>13.0</td>\n",
       "      <td>66.7</td>\n",
       "    </tr>\n",
       "  </tbody>\n",
       "</table>\n",
       "<p>1671 rows × 7 columns</p>\n",
       "</div>"
      ],
      "text/plain": [
       "                           district_name                          school_name  \\\n",
       "0                Anderson County Schools          Anderson County High School   \n",
       "1                Anderson County Schools             Andersonville Elementary   \n",
       "2                Anderson County Schools                Briceville Elementary   \n",
       "3                Anderson County Schools                   Claxton Elementary   \n",
       "4                Anderson County Schools                Clinton Middle School   \n",
       "...                                  ...                                  ...   \n",
       "1666         Achievement School District  KIPP Memphis Preparatory Elementary   \n",
       "1667         Achievement School District       Cornerstone Prep Denver Campus   \n",
       "1668         Achievement School District                  Kirby Middle School   \n",
       "1669         Achievement School District                Hillcrest High School   \n",
       "1670  Tennessee State Board of Education               Bluff City High School   \n",
       "\n",
       "     percent_ca percent_ca_previous  admin  teacher percent_retained  \n",
       "0          15.1                18.3    5.0     53.0             91.0  \n",
       "1           8.6                10.6    1.0     24.0             58.1  \n",
       "2           9.4                  23    1.0     11.0             60.0  \n",
       "3          14.4                21.3    2.0     35.0             63.0  \n",
       "4          20.8                19.2    3.0     41.0             77.6  \n",
       "...         ...                 ...    ...      ...              ...  \n",
       "1666       21.7                37.3    1.0     19.0             90.9  \n",
       "1667       26.1                13.7    1.0     40.0             55.0  \n",
       "1668       25.1                16.8    3.0     19.0             77.8  \n",
       "1669       42.1                48.2    2.0     26.0             51.1  \n",
       "1670       29.9                23.3    2.0     13.0             66.7  \n",
       "\n",
       "[1671 rows x 7 columns]"
      ]
     },
     "execution_count": 37,
     "metadata": {},
     "output_type": "execute_result"
    }
   ],
   "source": [
    "merge_b"
   ]
  },
  {
   "cell_type": "code",
   "execution_count": 38,
   "metadata": {},
   "outputs": [],
   "source": [
    "# remove dup\n",
    "merge_b=merge_b.drop_duplicates(subset=['school_name'])"
   ]
  },
  {
   "cell_type": "code",
   "execution_count": 39,
   "metadata": {},
   "outputs": [],
   "source": [
    "# convert to a csv\n",
    "#merge_b.to_csv('asr_tn_data.csv', index=False)"
   ]
  },
  {
   "cell_type": "code",
   "execution_count": 40,
   "metadata": {},
   "outputs": [
    {
     "data": {
      "text/html": [
       "<div>\n",
       "<style scoped>\n",
       "    .dataframe tbody tr th:only-of-type {\n",
       "        vertical-align: middle;\n",
       "    }\n",
       "\n",
       "    .dataframe tbody tr th {\n",
       "        vertical-align: top;\n",
       "    }\n",
       "\n",
       "    .dataframe thead th {\n",
       "        text-align: right;\n",
       "    }\n",
       "</style>\n",
       "<table border=\"1\" class=\"dataframe\">\n",
       "  <thead>\n",
       "    <tr style=\"text-align: right;\">\n",
       "      <th></th>\n",
       "      <th>district_name</th>\n",
       "      <th>school_name</th>\n",
       "      <th>percent_ca</th>\n",
       "      <th>percent_ca_previous</th>\n",
       "      <th>admin</th>\n",
       "      <th>teacher</th>\n",
       "      <th>percent_retained</th>\n",
       "    </tr>\n",
       "  </thead>\n",
       "  <tbody>\n",
       "    <tr>\n",
       "      <th>0</th>\n",
       "      <td>Anderson County Schools</td>\n",
       "      <td>Anderson County High School</td>\n",
       "      <td>15.1</td>\n",
       "      <td>18.3</td>\n",
       "      <td>5.0</td>\n",
       "      <td>53.0</td>\n",
       "      <td>91.0</td>\n",
       "    </tr>\n",
       "    <tr>\n",
       "      <th>1</th>\n",
       "      <td>Anderson County Schools</td>\n",
       "      <td>Andersonville Elementary</td>\n",
       "      <td>8.6</td>\n",
       "      <td>10.6</td>\n",
       "      <td>1.0</td>\n",
       "      <td>24.0</td>\n",
       "      <td>58.1</td>\n",
       "    </tr>\n",
       "    <tr>\n",
       "      <th>2</th>\n",
       "      <td>Anderson County Schools</td>\n",
       "      <td>Briceville Elementary</td>\n",
       "      <td>9.4</td>\n",
       "      <td>23</td>\n",
       "      <td>1.0</td>\n",
       "      <td>11.0</td>\n",
       "      <td>60.0</td>\n",
       "    </tr>\n",
       "  </tbody>\n",
       "</table>\n",
       "</div>"
      ],
      "text/plain": [
       "             district_name                  school_name percent_ca  \\\n",
       "0  Anderson County Schools  Anderson County High School       15.1   \n",
       "1  Anderson County Schools     Andersonville Elementary        8.6   \n",
       "2  Anderson County Schools        Briceville Elementary        9.4   \n",
       "\n",
       "  percent_ca_previous  admin  teacher percent_retained  \n",
       "0                18.3    5.0     53.0             91.0  \n",
       "1                10.6    1.0     24.0             58.1  \n",
       "2                  23    1.0     11.0             60.0  "
      ]
     },
     "execution_count": 40,
     "metadata": {},
     "output_type": "execute_result"
    }
   ],
   "source": [
    "merge_b.head(3)"
   ]
  },
  {
   "cell_type": "markdown",
   "metadata": {},
   "source": [
    "# grades"
   ]
  },
  {
   "cell_type": "code",
   "execution_count": 41,
   "metadata": {},
   "outputs": [
    {
     "data": {
      "text/html": [
       "<div>\n",
       "<style scoped>\n",
       "    .dataframe tbody tr th:only-of-type {\n",
       "        vertical-align: middle;\n",
       "    }\n",
       "\n",
       "    .dataframe tbody tr th {\n",
       "        vertical-align: top;\n",
       "    }\n",
       "\n",
       "    .dataframe thead th {\n",
       "        text-align: right;\n",
       "    }\n",
       "</style>\n",
       "<table border=\"1\" class=\"dataframe\">\n",
       "  <thead>\n",
       "    <tr style=\"text-align: right;\">\n",
       "      <th></th>\n",
       "      <th>district_number</th>\n",
       "      <th>district_name</th>\n",
       "      <th>school_number</th>\n",
       "      <th>school_name</th>\n",
       "      <th>year</th>\n",
       "      <th>pool</th>\n",
       "      <th>score_achievement</th>\n",
       "      <th>score_growth</th>\n",
       "      <th>score_absenteeism</th>\n",
       "      <th>score_elpa</th>\n",
       "      <th>score_grad</th>\n",
       "      <th>score_ready_grad</th>\n",
       "    </tr>\n",
       "  </thead>\n",
       "  <tbody>\n",
       "    <tr>\n",
       "      <th>0</th>\n",
       "      <td>10</td>\n",
       "      <td>Anderson County Schools</td>\n",
       "      <td>2</td>\n",
       "      <td>Anderson County High School</td>\n",
       "      <td>2019</td>\n",
       "      <td>HS</td>\n",
       "      <td>2.6</td>\n",
       "      <td>3.6</td>\n",
       "      <td>4.0</td>\n",
       "      <td>NaN</td>\n",
       "      <td>4.0</td>\n",
       "      <td>4.0</td>\n",
       "    </tr>\n",
       "    <tr>\n",
       "      <th>1</th>\n",
       "      <td>10</td>\n",
       "      <td>Anderson County Schools</td>\n",
       "      <td>5</td>\n",
       "      <td>Andersonville Elementary</td>\n",
       "      <td>2019</td>\n",
       "      <td>K8</td>\n",
       "      <td>4.0</td>\n",
       "      <td>3.4</td>\n",
       "      <td>3.4</td>\n",
       "      <td>NaN</td>\n",
       "      <td>NaN</td>\n",
       "      <td>NaN</td>\n",
       "    </tr>\n",
       "    <tr>\n",
       "      <th>2</th>\n",
       "      <td>10</td>\n",
       "      <td>Anderson County Schools</td>\n",
       "      <td>10</td>\n",
       "      <td>Briceville Elementary</td>\n",
       "      <td>2019</td>\n",
       "      <td>K8</td>\n",
       "      <td>2.0</td>\n",
       "      <td>3.8</td>\n",
       "      <td>4.0</td>\n",
       "      <td>NaN</td>\n",
       "      <td>NaN</td>\n",
       "      <td>NaN</td>\n",
       "    </tr>\n",
       "    <tr>\n",
       "      <th>3</th>\n",
       "      <td>10</td>\n",
       "      <td>Anderson County Schools</td>\n",
       "      <td>15</td>\n",
       "      <td>Claxton Elementary</td>\n",
       "      <td>2019</td>\n",
       "      <td>K8</td>\n",
       "      <td>2.0</td>\n",
       "      <td>2.7</td>\n",
       "      <td>4.0</td>\n",
       "      <td>NaN</td>\n",
       "      <td>NaN</td>\n",
       "      <td>NaN</td>\n",
       "    </tr>\n",
       "    <tr>\n",
       "      <th>4</th>\n",
       "      <td>10</td>\n",
       "      <td>Anderson County Schools</td>\n",
       "      <td>20</td>\n",
       "      <td>Clinton Middle School</td>\n",
       "      <td>2019</td>\n",
       "      <td>K8</td>\n",
       "      <td>1.7</td>\n",
       "      <td>0.5</td>\n",
       "      <td>2.4</td>\n",
       "      <td>NaN</td>\n",
       "      <td>NaN</td>\n",
       "      <td>NaN</td>\n",
       "    </tr>\n",
       "    <tr>\n",
       "      <th>...</th>\n",
       "      <td>...</td>\n",
       "      <td>...</td>\n",
       "      <td>...</td>\n",
       "      <td>...</td>\n",
       "      <td>...</td>\n",
       "      <td>...</td>\n",
       "      <td>...</td>\n",
       "      <td>...</td>\n",
       "      <td>...</td>\n",
       "      <td>...</td>\n",
       "      <td>...</td>\n",
       "      <td>...</td>\n",
       "    </tr>\n",
       "    <tr>\n",
       "      <th>1753</th>\n",
       "      <td>985</td>\n",
       "      <td>Achievement School District</td>\n",
       "      <td>8130</td>\n",
       "      <td>Memphis Scholars Raleigh-Egypt</td>\n",
       "      <td>2019</td>\n",
       "      <td>K8</td>\n",
       "      <td>1.0</td>\n",
       "      <td>0.9</td>\n",
       "      <td>2.0</td>\n",
       "      <td>NaN</td>\n",
       "      <td>NaN</td>\n",
       "      <td>NaN</td>\n",
       "    </tr>\n",
       "    <tr>\n",
       "      <th>1754</th>\n",
       "      <td>985</td>\n",
       "      <td>Achievement School District</td>\n",
       "      <td>8135</td>\n",
       "      <td>Kirby Middle School</td>\n",
       "      <td>2019</td>\n",
       "      <td>K8</td>\n",
       "      <td>1.1</td>\n",
       "      <td>2.0</td>\n",
       "      <td>0.4</td>\n",
       "      <td>1.0</td>\n",
       "      <td>NaN</td>\n",
       "      <td>NaN</td>\n",
       "    </tr>\n",
       "    <tr>\n",
       "      <th>1755</th>\n",
       "      <td>985</td>\n",
       "      <td>Achievement School District</td>\n",
       "      <td>8140</td>\n",
       "      <td>Hillcrest High School</td>\n",
       "      <td>2019</td>\n",
       "      <td>HS</td>\n",
       "      <td>1.1</td>\n",
       "      <td>1.3</td>\n",
       "      <td>3.5</td>\n",
       "      <td>NaN</td>\n",
       "      <td>0.0</td>\n",
       "      <td>0.0</td>\n",
       "    </tr>\n",
       "    <tr>\n",
       "      <th>1756</th>\n",
       "      <td>986</td>\n",
       "      <td>Tennessee State Board of Education</td>\n",
       "      <td>8005</td>\n",
       "      <td>Bluff City High School</td>\n",
       "      <td>2019</td>\n",
       "      <td>K8</td>\n",
       "      <td>1.7</td>\n",
       "      <td>3.6</td>\n",
       "      <td>0.0</td>\n",
       "      <td>4.0</td>\n",
       "      <td>NaN</td>\n",
       "      <td>NaN</td>\n",
       "    </tr>\n",
       "    <tr>\n",
       "      <th>1757</th>\n",
       "      <td>986</td>\n",
       "      <td>Tennessee State Board of Education</td>\n",
       "      <td>8015</td>\n",
       "      <td>KIPP Antioch College Prep Elementary</td>\n",
       "      <td>2019</td>\n",
       "      <td>K8</td>\n",
       "      <td>NaN</td>\n",
       "      <td>NaN</td>\n",
       "      <td>NaN</td>\n",
       "      <td>NaN</td>\n",
       "      <td>NaN</td>\n",
       "      <td>NaN</td>\n",
       "    </tr>\n",
       "  </tbody>\n",
       "</table>\n",
       "<p>1758 rows × 12 columns</p>\n",
       "</div>"
      ],
      "text/plain": [
       "      district_number                       district_name  school_number  \\\n",
       "0                  10             Anderson County Schools              2   \n",
       "1                  10             Anderson County Schools              5   \n",
       "2                  10             Anderson County Schools             10   \n",
       "3                  10             Anderson County Schools             15   \n",
       "4                  10             Anderson County Schools             20   \n",
       "...               ...                                 ...            ...   \n",
       "1753              985         Achievement School District           8130   \n",
       "1754              985         Achievement School District           8135   \n",
       "1755              985         Achievement School District           8140   \n",
       "1756              986  Tennessee State Board of Education           8005   \n",
       "1757              986  Tennessee State Board of Education           8015   \n",
       "\n",
       "                               school_name  year pool  score_achievement  \\\n",
       "0              Anderson County High School  2019   HS                2.6   \n",
       "1                 Andersonville Elementary  2019   K8                4.0   \n",
       "2                    Briceville Elementary  2019   K8                2.0   \n",
       "3                       Claxton Elementary  2019   K8                2.0   \n",
       "4                    Clinton Middle School  2019   K8                1.7   \n",
       "...                                    ...   ...  ...                ...   \n",
       "1753        Memphis Scholars Raleigh-Egypt  2019   K8                1.0   \n",
       "1754                   Kirby Middle School  2019   K8                1.1   \n",
       "1755                 Hillcrest High School  2019   HS                1.1   \n",
       "1756                Bluff City High School  2019   K8                1.7   \n",
       "1757  KIPP Antioch College Prep Elementary  2019   K8                NaN   \n",
       "\n",
       "      score_growth  score_absenteeism  score_elpa  score_grad  \\\n",
       "0              3.6                4.0         NaN         4.0   \n",
       "1              3.4                3.4         NaN         NaN   \n",
       "2              3.8                4.0         NaN         NaN   \n",
       "3              2.7                4.0         NaN         NaN   \n",
       "4              0.5                2.4         NaN         NaN   \n",
       "...            ...                ...         ...         ...   \n",
       "1753           0.9                2.0         NaN         NaN   \n",
       "1754           2.0                0.4         1.0         NaN   \n",
       "1755           1.3                3.5         NaN         0.0   \n",
       "1756           3.6                0.0         4.0         NaN   \n",
       "1757           NaN                NaN         NaN         NaN   \n",
       "\n",
       "      score_ready_grad  \n",
       "0                  4.0  \n",
       "1                  NaN  \n",
       "2                  NaN  \n",
       "3                  NaN  \n",
       "4                  NaN  \n",
       "...                ...  \n",
       "1753               NaN  \n",
       "1754               NaN  \n",
       "1755               0.0  \n",
       "1756               NaN  \n",
       "1757               NaN  \n",
       "\n",
       "[1758 rows x 12 columns]"
      ]
     },
     "execution_count": 41,
     "metadata": {},
     "output_type": "execute_result"
    }
   ],
   "source": [
    "grades_df"
   ]
  },
  {
   "cell_type": "code",
   "execution_count": 42,
   "metadata": {},
   "outputs": [],
   "source": [
    "grades_df= grades_df.drop(['district_name','district_number','school_number','year','score_ready_grad',\n",
    "                           'score_grad','score_elpa'\n",
    "                          ],axis=1)"
   ]
  },
  {
   "cell_type": "code",
   "execution_count": 43,
   "metadata": {},
   "outputs": [],
   "source": [
    "grades_df=grades_df.dropna()"
   ]
  },
  {
   "cell_type": "code",
   "execution_count": 44,
   "metadata": {},
   "outputs": [
    {
     "data": {
      "text/plain": [
       "(1654, 5)"
      ]
     },
     "execution_count": 44,
     "metadata": {},
     "output_type": "execute_result"
    }
   ],
   "source": [
    "grades_df.shape"
   ]
  },
  {
   "cell_type": "code",
   "execution_count": 45,
   "metadata": {},
   "outputs": [],
   "source": [
    "# join by school_name\n",
    "merge_c= merge_b.merge(grades_df,how='inner', on=\"school_name\")"
   ]
  },
  {
   "cell_type": "code",
   "execution_count": 46,
   "metadata": {},
   "outputs": [],
   "source": [
    "# remove dup\n",
    "merge_c=merge_c.drop_duplicates(subset=['school_name'])"
   ]
  },
  {
   "cell_type": "code",
   "execution_count": 47,
   "metadata": {},
   "outputs": [
    {
     "data": {
      "text/plain": [
       "(1537, 11)"
      ]
     },
     "execution_count": 47,
     "metadata": {},
     "output_type": "execute_result"
    }
   ],
   "source": [
    "merge_c.shape"
   ]
  },
  {
   "cell_type": "code",
   "execution_count": 48,
   "metadata": {},
   "outputs": [],
   "source": [
    "# convert to a csv\n",
    "#merge_c.to_csv('asrg_tn_data.csv', index=False)"
   ]
  },
  {
   "cell_type": "markdown",
   "metadata": {},
   "source": [
    "# enrollment"
   ]
  },
  {
   "cell_type": "code",
   "execution_count": 49,
   "metadata": {},
   "outputs": [
    {
     "data": {
      "text/html": [
       "<div>\n",
       "<style scoped>\n",
       "    .dataframe tbody tr th:only-of-type {\n",
       "        vertical-align: middle;\n",
       "    }\n",
       "\n",
       "    .dataframe tbody tr th {\n",
       "        vertical-align: top;\n",
       "    }\n",
       "\n",
       "    .dataframe thead th {\n",
       "        text-align: right;\n",
       "    }\n",
       "</style>\n",
       "<table border=\"1\" class=\"dataframe\">\n",
       "  <thead>\n",
       "    <tr style=\"text-align: right;\">\n",
       "      <th></th>\n",
       "      <th>district_number</th>\n",
       "      <th>district_name</th>\n",
       "      <th>school_number</th>\n",
       "      <th>school_name</th>\n",
       "      <th>year</th>\n",
       "      <th>subgroup</th>\n",
       "      <th>grades_served</th>\n",
       "      <th>value</th>\n",
       "      <th>value_previous</th>\n",
       "    </tr>\n",
       "  </thead>\n",
       "  <tbody>\n",
       "    <tr>\n",
       "      <th>0</th>\n",
       "      <td>0</td>\n",
       "      <td>State of Tennessee</td>\n",
       "      <td>0</td>\n",
       "      <td>All Schools</td>\n",
       "      <td>2019</td>\n",
       "      <td>all_students</td>\n",
       "      <td>PK-12</td>\n",
       "      <td>973659.0</td>\n",
       "      <td>975222.0</td>\n",
       "    </tr>\n",
       "    <tr>\n",
       "      <th>1</th>\n",
       "      <td>0</td>\n",
       "      <td>State of Tennessee</td>\n",
       "      <td>0</td>\n",
       "      <td>All Schools</td>\n",
       "      <td>2019</td>\n",
       "      <td>all_students</td>\n",
       "      <td>PK-12</td>\n",
       "      <td>973659.0</td>\n",
       "      <td>975222.0</td>\n",
       "    </tr>\n",
       "    <tr>\n",
       "      <th>2</th>\n",
       "      <td>0</td>\n",
       "      <td>State of Tennessee</td>\n",
       "      <td>0</td>\n",
       "      <td>All Schools</td>\n",
       "      <td>2019</td>\n",
       "      <td>bhn</td>\n",
       "      <td>PK-12</td>\n",
       "      <td>35.2</td>\n",
       "      <td>34.7</td>\n",
       "    </tr>\n",
       "    <tr>\n",
       "      <th>3</th>\n",
       "      <td>0</td>\n",
       "      <td>State of Tennessee</td>\n",
       "      <td>0</td>\n",
       "      <td>All Schools</td>\n",
       "      <td>2019</td>\n",
       "      <td>bhn</td>\n",
       "      <td>PK-12</td>\n",
       "      <td>35.2</td>\n",
       "      <td>34.7</td>\n",
       "    </tr>\n",
       "    <tr>\n",
       "      <th>4</th>\n",
       "      <td>0</td>\n",
       "      <td>State of Tennessee</td>\n",
       "      <td>0</td>\n",
       "      <td>All Schools</td>\n",
       "      <td>2019</td>\n",
       "      <td>ed</td>\n",
       "      <td>PK-12</td>\n",
       "      <td>34.9</td>\n",
       "      <td>36.1</td>\n",
       "    </tr>\n",
       "    <tr>\n",
       "      <th>...</th>\n",
       "      <td>...</td>\n",
       "      <td>...</td>\n",
       "      <td>...</td>\n",
       "      <td>...</td>\n",
       "      <td>...</td>\n",
       "      <td>...</td>\n",
       "      <td>...</td>\n",
       "      <td>...</td>\n",
       "      <td>...</td>\n",
       "    </tr>\n",
       "    <tr>\n",
       "      <th>34321</th>\n",
       "      <td>986</td>\n",
       "      <td>Tennessee State Board of Education</td>\n",
       "      <td>8015</td>\n",
       "      <td>KIPP Antioch College Prep Elementary</td>\n",
       "      <td>2019</td>\n",
       "      <td>race_h</td>\n",
       "      <td>Grades K-4</td>\n",
       "      <td>29.9</td>\n",
       "      <td>NaN</td>\n",
       "    </tr>\n",
       "    <tr>\n",
       "      <th>34322</th>\n",
       "      <td>986</td>\n",
       "      <td>Tennessee State Board of Education</td>\n",
       "      <td>8015</td>\n",
       "      <td>KIPP Antioch College Prep Elementary</td>\n",
       "      <td>2019</td>\n",
       "      <td>race_i</td>\n",
       "      <td>Grades K-4</td>\n",
       "      <td>0.0</td>\n",
       "      <td>NaN</td>\n",
       "    </tr>\n",
       "    <tr>\n",
       "      <th>34323</th>\n",
       "      <td>986</td>\n",
       "      <td>Tennessee State Board of Education</td>\n",
       "      <td>8015</td>\n",
       "      <td>KIPP Antioch College Prep Elementary</td>\n",
       "      <td>2019</td>\n",
       "      <td>race_pi</td>\n",
       "      <td>Grades K-4</td>\n",
       "      <td>0.0</td>\n",
       "      <td>NaN</td>\n",
       "    </tr>\n",
       "    <tr>\n",
       "      <th>34324</th>\n",
       "      <td>986</td>\n",
       "      <td>Tennessee State Board of Education</td>\n",
       "      <td>8015</td>\n",
       "      <td>KIPP Antioch College Prep Elementary</td>\n",
       "      <td>2019</td>\n",
       "      <td>race_w</td>\n",
       "      <td>Grades K-4</td>\n",
       "      <td>14.6</td>\n",
       "      <td>NaN</td>\n",
       "    </tr>\n",
       "    <tr>\n",
       "      <th>34325</th>\n",
       "      <td>986</td>\n",
       "      <td>Tennessee State Board of Education</td>\n",
       "      <td>8015</td>\n",
       "      <td>KIPP Antioch College Prep Elementary</td>\n",
       "      <td>2019</td>\n",
       "      <td>swd</td>\n",
       "      <td>Grades K-4</td>\n",
       "      <td>15.3</td>\n",
       "      <td>NaN</td>\n",
       "    </tr>\n",
       "  </tbody>\n",
       "</table>\n",
       "<p>34326 rows × 9 columns</p>\n",
       "</div>"
      ],
      "text/plain": [
       "       district_number                       district_name  school_number  \\\n",
       "0                    0                  State of Tennessee              0   \n",
       "1                    0                  State of Tennessee              0   \n",
       "2                    0                  State of Tennessee              0   \n",
       "3                    0                  State of Tennessee              0   \n",
       "4                    0                  State of Tennessee              0   \n",
       "...                ...                                 ...            ...   \n",
       "34321              986  Tennessee State Board of Education           8015   \n",
       "34322              986  Tennessee State Board of Education           8015   \n",
       "34323              986  Tennessee State Board of Education           8015   \n",
       "34324              986  Tennessee State Board of Education           8015   \n",
       "34325              986  Tennessee State Board of Education           8015   \n",
       "\n",
       "                                school_name  year      subgroup grades_served  \\\n",
       "0                               All Schools  2019  all_students         PK-12   \n",
       "1                               All Schools  2019  all_students         PK-12   \n",
       "2                               All Schools  2019           bhn         PK-12   \n",
       "3                               All Schools  2019           bhn         PK-12   \n",
       "4                               All Schools  2019            ed         PK-12   \n",
       "...                                     ...   ...           ...           ...   \n",
       "34321  KIPP Antioch College Prep Elementary  2019        race_h    Grades K-4   \n",
       "34322  KIPP Antioch College Prep Elementary  2019        race_i    Grades K-4   \n",
       "34323  KIPP Antioch College Prep Elementary  2019       race_pi    Grades K-4   \n",
       "34324  KIPP Antioch College Prep Elementary  2019        race_w    Grades K-4   \n",
       "34325  KIPP Antioch College Prep Elementary  2019           swd    Grades K-4   \n",
       "\n",
       "          value  value_previous  \n",
       "0      973659.0        975222.0  \n",
       "1      973659.0        975222.0  \n",
       "2          35.2            34.7  \n",
       "3          35.2            34.7  \n",
       "4          34.9            36.1  \n",
       "...         ...             ...  \n",
       "34321      29.9             NaN  \n",
       "34322       0.0             NaN  \n",
       "34323       0.0             NaN  \n",
       "34324      14.6             NaN  \n",
       "34325      15.3             NaN  \n",
       "\n",
       "[34326 rows x 9 columns]"
      ]
     },
     "execution_count": 49,
     "metadata": {},
     "output_type": "execute_result"
    }
   ],
   "source": [
    "enrollment_df"
   ]
  },
  {
   "cell_type": "code",
   "execution_count": 50,
   "metadata": {},
   "outputs": [],
   "source": [
    "# filter by subgroup\n",
    "enrollment_df=enrollment_df[enrollment_df.subgroup =='all_students']"
   ]
  },
  {
   "cell_type": "code",
   "execution_count": 51,
   "metadata": {},
   "outputs": [],
   "source": [
    "enrollment_df=enrollment_df.drop(['district_name','district_number','school_number','year',\n",
    "                           'grades_served'\n",
    "                          ],axis=1)"
   ]
  },
  {
   "cell_type": "code",
   "execution_count": 52,
   "metadata": {},
   "outputs": [],
   "source": [
    "enrollment_df=enrollment_df.drop(['subgroup'],axis=1)"
   ]
  },
  {
   "cell_type": "code",
   "execution_count": 53,
   "metadata": {},
   "outputs": [],
   "source": [
    "# remove all schools\n",
    "enrollment_df=enrollment_df[enrollment_df['school_name'] !='All Schools' ]"
   ]
  },
  {
   "cell_type": "code",
   "execution_count": 54,
   "metadata": {},
   "outputs": [],
   "source": [
    "merge_d= merge_c.merge(enrollment_df,how='inner', on=\"school_name\")"
   ]
  },
  {
   "cell_type": "code",
   "execution_count": 55,
   "metadata": {},
   "outputs": [],
   "source": [
    "merge_d=merge_d.drop_duplicates(subset=['school_name'])"
   ]
  },
  {
   "cell_type": "code",
   "execution_count": 88,
   "metadata": {},
   "outputs": [],
   "source": [
    "merge_d.to_csv('asrge_tn_data.csv', index=False)"
   ]
  },
  {
   "cell_type": "markdown",
   "metadata": {},
   "source": [
    "# ACT"
   ]
  },
  {
   "cell_type": "code",
   "execution_count": 61,
   "metadata": {},
   "outputs": [],
   "source": [
    "# remove all schools\n",
    "act_df=act_df[act_df['school_name'] !='All Schools']"
   ]
  },
  {
   "cell_type": "code",
   "execution_count": 62,
   "metadata": {},
   "outputs": [
    {
     "ename": "AttributeError",
     "evalue": "'DataFrame' object has no attribute 'subgroup'",
     "output_type": "error",
     "traceback": [
      "\u001b[0;31m---------------------------------------------------------------------------\u001b[0m",
      "\u001b[0;31mAttributeError\u001b[0m                            Traceback (most recent call last)",
      "\u001b[0;32m<ipython-input-62-19a23c96edea>\u001b[0m in \u001b[0;36m<module>\u001b[0;34m\u001b[0m\n\u001b[1;32m      1\u001b[0m \u001b[0;31m# filter by subgroup\u001b[0m\u001b[0;34m\u001b[0m\u001b[0;34m\u001b[0m\u001b[0;34m\u001b[0m\u001b[0m\n\u001b[0;32m----> 2\u001b[0;31m \u001b[0mact_df\u001b[0m\u001b[0;34m=\u001b[0m\u001b[0mact_df\u001b[0m\u001b[0;34m[\u001b[0m\u001b[0mact_df\u001b[0m\u001b[0;34m.\u001b[0m\u001b[0msubgroup\u001b[0m \u001b[0;34m==\u001b[0m\u001b[0;34m'all_students'\u001b[0m\u001b[0;34m]\u001b[0m\u001b[0;34m\u001b[0m\u001b[0;34m\u001b[0m\u001b[0m\n\u001b[0m",
      "\u001b[0;32m~/opt/anaconda3/lib/python3.8/site-packages/pandas/core/generic.py\u001b[0m in \u001b[0;36m__getattr__\u001b[0;34m(self, name)\u001b[0m\n\u001b[1;32m   5137\u001b[0m             \u001b[0;32mif\u001b[0m \u001b[0mself\u001b[0m\u001b[0;34m.\u001b[0m\u001b[0m_info_axis\u001b[0m\u001b[0;34m.\u001b[0m\u001b[0m_can_hold_identifiers_and_holds_name\u001b[0m\u001b[0;34m(\u001b[0m\u001b[0mname\u001b[0m\u001b[0;34m)\u001b[0m\u001b[0;34m:\u001b[0m\u001b[0;34m\u001b[0m\u001b[0;34m\u001b[0m\u001b[0m\n\u001b[1;32m   5138\u001b[0m                 \u001b[0;32mreturn\u001b[0m \u001b[0mself\u001b[0m\u001b[0;34m[\u001b[0m\u001b[0mname\u001b[0m\u001b[0;34m]\u001b[0m\u001b[0;34m\u001b[0m\u001b[0;34m\u001b[0m\u001b[0m\n\u001b[0;32m-> 5139\u001b[0;31m             \u001b[0;32mreturn\u001b[0m \u001b[0mobject\u001b[0m\u001b[0;34m.\u001b[0m\u001b[0m__getattribute__\u001b[0m\u001b[0;34m(\u001b[0m\u001b[0mself\u001b[0m\u001b[0;34m,\u001b[0m \u001b[0mname\u001b[0m\u001b[0;34m)\u001b[0m\u001b[0;34m\u001b[0m\u001b[0;34m\u001b[0m\u001b[0m\n\u001b[0m\u001b[1;32m   5140\u001b[0m \u001b[0;34m\u001b[0m\u001b[0m\n\u001b[1;32m   5141\u001b[0m     \u001b[0;32mdef\u001b[0m \u001b[0m__setattr__\u001b[0m\u001b[0;34m(\u001b[0m\u001b[0mself\u001b[0m\u001b[0;34m,\u001b[0m \u001b[0mname\u001b[0m\u001b[0;34m:\u001b[0m \u001b[0mstr\u001b[0m\u001b[0;34m,\u001b[0m \u001b[0mvalue\u001b[0m\u001b[0;34m)\u001b[0m \u001b[0;34m->\u001b[0m \u001b[0;32mNone\u001b[0m\u001b[0;34m:\u001b[0m\u001b[0;34m\u001b[0m\u001b[0;34m\u001b[0m\u001b[0m\n",
      "\u001b[0;31mAttributeError\u001b[0m: 'DataFrame' object has no attribute 'subgroup'"
     ]
    }
   ],
   "source": [
    "# filter by subgroup\n",
    "act_df=act_df[act_df.subgroup =='all_students']"
   ]
  },
  {
   "cell_type": "code",
   "execution_count": 63,
   "metadata": {},
   "outputs": [
    {
     "ename": "KeyError",
     "evalue": "\"['district_name' 'district_number' 'school_number' 'year' 'english_avg'\\n 'math_avg' 'science_avg' 'reading_avg' 'percent_met_crb_reading'\\n 'avg_composite_baseline_year' 'percent_21_orhigher_baseline_year'\\n 'subgroup' 'percent_met_crb_english' 'percent_met_crb_math'\\n 'percent_met_crb_science' 'percent_met_all4_crb'] not found in axis\"",
     "output_type": "error",
     "traceback": [
      "\u001b[0;31m---------------------------------------------------------------------------\u001b[0m",
      "\u001b[0;31mKeyError\u001b[0m                                  Traceback (most recent call last)",
      "\u001b[0;32m<ipython-input-63-34a2048e09f8>\u001b[0m in \u001b[0;36m<module>\u001b[0;34m\u001b[0m\n\u001b[0;32m----> 1\u001b[0;31m act_df=act_df.drop(['district_name','district_number','school_number','year','english_avg','math_avg',\n\u001b[0m\u001b[1;32m      2\u001b[0m                            \u001b[0;34m'science_avg'\u001b[0m\u001b[0;34m,\u001b[0m\u001b[0;34m'reading_avg'\u001b[0m\u001b[0;34m,\u001b[0m\u001b[0;34m'percent_met_crb_reading'\u001b[0m\u001b[0;34m,\u001b[0m\u001b[0;34m'avg_composite_baseline_year'\u001b[0m\u001b[0;34m,\u001b[0m\u001b[0;34m\u001b[0m\u001b[0;34m\u001b[0m\u001b[0m\n\u001b[1;32m      3\u001b[0m                     \u001b[0;34m'percent_21_orhigher_baseline_year'\u001b[0m\u001b[0;34m,\u001b[0m\u001b[0;34m'subgroup'\u001b[0m\u001b[0;34m,\u001b[0m\u001b[0;34m'percent_met_crb_english'\u001b[0m\u001b[0;34m,\u001b[0m\u001b[0;34m'percent_met_crb_math'\u001b[0m\u001b[0;34m,\u001b[0m\u001b[0;34m\u001b[0m\u001b[0;34m\u001b[0m\u001b[0m\n\u001b[1;32m      4\u001b[0m             \u001b[0;34m'percent_met_crb_science'\u001b[0m\u001b[0;34m,\u001b[0m\u001b[0;34m'percent_met_all4_crb'\u001b[0m\u001b[0;34m,\u001b[0m\u001b[0;34m\u001b[0m\u001b[0;34m\u001b[0m\u001b[0m\n\u001b[1;32m      5\u001b[0m             ],axis=1)\n",
      "\u001b[0;32m~/opt/anaconda3/lib/python3.8/site-packages/pandas/core/frame.py\u001b[0m in \u001b[0;36mdrop\u001b[0;34m(self, labels, axis, index, columns, level, inplace, errors)\u001b[0m\n\u001b[1;32m   4161\u001b[0m                 \u001b[0mweight\u001b[0m  \u001b[0;36m1.0\u001b[0m     \u001b[0;36m0.8\u001b[0m\u001b[0;34m\u001b[0m\u001b[0;34m\u001b[0m\u001b[0m\n\u001b[1;32m   4162\u001b[0m         \"\"\"\n\u001b[0;32m-> 4163\u001b[0;31m         return super().drop(\n\u001b[0m\u001b[1;32m   4164\u001b[0m             \u001b[0mlabels\u001b[0m\u001b[0;34m=\u001b[0m\u001b[0mlabels\u001b[0m\u001b[0;34m,\u001b[0m\u001b[0;34m\u001b[0m\u001b[0;34m\u001b[0m\u001b[0m\n\u001b[1;32m   4165\u001b[0m             \u001b[0maxis\u001b[0m\u001b[0;34m=\u001b[0m\u001b[0maxis\u001b[0m\u001b[0;34m,\u001b[0m\u001b[0;34m\u001b[0m\u001b[0;34m\u001b[0m\u001b[0m\n",
      "\u001b[0;32m~/opt/anaconda3/lib/python3.8/site-packages/pandas/core/generic.py\u001b[0m in \u001b[0;36mdrop\u001b[0;34m(self, labels, axis, index, columns, level, inplace, errors)\u001b[0m\n\u001b[1;32m   3885\u001b[0m         \u001b[0;32mfor\u001b[0m \u001b[0maxis\u001b[0m\u001b[0;34m,\u001b[0m \u001b[0mlabels\u001b[0m \u001b[0;32min\u001b[0m \u001b[0maxes\u001b[0m\u001b[0;34m.\u001b[0m\u001b[0mitems\u001b[0m\u001b[0;34m(\u001b[0m\u001b[0;34m)\u001b[0m\u001b[0;34m:\u001b[0m\u001b[0;34m\u001b[0m\u001b[0;34m\u001b[0m\u001b[0m\n\u001b[1;32m   3886\u001b[0m             \u001b[0;32mif\u001b[0m \u001b[0mlabels\u001b[0m \u001b[0;32mis\u001b[0m \u001b[0;32mnot\u001b[0m \u001b[0;32mNone\u001b[0m\u001b[0;34m:\u001b[0m\u001b[0;34m\u001b[0m\u001b[0;34m\u001b[0m\u001b[0m\n\u001b[0;32m-> 3887\u001b[0;31m                 \u001b[0mobj\u001b[0m \u001b[0;34m=\u001b[0m \u001b[0mobj\u001b[0m\u001b[0;34m.\u001b[0m\u001b[0m_drop_axis\u001b[0m\u001b[0;34m(\u001b[0m\u001b[0mlabels\u001b[0m\u001b[0;34m,\u001b[0m \u001b[0maxis\u001b[0m\u001b[0;34m,\u001b[0m \u001b[0mlevel\u001b[0m\u001b[0;34m=\u001b[0m\u001b[0mlevel\u001b[0m\u001b[0;34m,\u001b[0m \u001b[0merrors\u001b[0m\u001b[0;34m=\u001b[0m\u001b[0merrors\u001b[0m\u001b[0;34m)\u001b[0m\u001b[0;34m\u001b[0m\u001b[0;34m\u001b[0m\u001b[0m\n\u001b[0m\u001b[1;32m   3888\u001b[0m \u001b[0;34m\u001b[0m\u001b[0m\n\u001b[1;32m   3889\u001b[0m         \u001b[0;32mif\u001b[0m \u001b[0minplace\u001b[0m\u001b[0;34m:\u001b[0m\u001b[0;34m\u001b[0m\u001b[0;34m\u001b[0m\u001b[0m\n",
      "\u001b[0;32m~/opt/anaconda3/lib/python3.8/site-packages/pandas/core/generic.py\u001b[0m in \u001b[0;36m_drop_axis\u001b[0;34m(self, labels, axis, level, errors)\u001b[0m\n\u001b[1;32m   3919\u001b[0m                 \u001b[0mnew_axis\u001b[0m \u001b[0;34m=\u001b[0m \u001b[0maxis\u001b[0m\u001b[0;34m.\u001b[0m\u001b[0mdrop\u001b[0m\u001b[0;34m(\u001b[0m\u001b[0mlabels\u001b[0m\u001b[0;34m,\u001b[0m \u001b[0mlevel\u001b[0m\u001b[0;34m=\u001b[0m\u001b[0mlevel\u001b[0m\u001b[0;34m,\u001b[0m \u001b[0merrors\u001b[0m\u001b[0;34m=\u001b[0m\u001b[0merrors\u001b[0m\u001b[0;34m)\u001b[0m\u001b[0;34m\u001b[0m\u001b[0;34m\u001b[0m\u001b[0m\n\u001b[1;32m   3920\u001b[0m             \u001b[0;32melse\u001b[0m\u001b[0;34m:\u001b[0m\u001b[0;34m\u001b[0m\u001b[0;34m\u001b[0m\u001b[0m\n\u001b[0;32m-> 3921\u001b[0;31m                 \u001b[0mnew_axis\u001b[0m \u001b[0;34m=\u001b[0m \u001b[0maxis\u001b[0m\u001b[0;34m.\u001b[0m\u001b[0mdrop\u001b[0m\u001b[0;34m(\u001b[0m\u001b[0mlabels\u001b[0m\u001b[0;34m,\u001b[0m \u001b[0merrors\u001b[0m\u001b[0;34m=\u001b[0m\u001b[0merrors\u001b[0m\u001b[0;34m)\u001b[0m\u001b[0;34m\u001b[0m\u001b[0;34m\u001b[0m\u001b[0m\n\u001b[0m\u001b[1;32m   3922\u001b[0m             \u001b[0mresult\u001b[0m \u001b[0;34m=\u001b[0m \u001b[0mself\u001b[0m\u001b[0;34m.\u001b[0m\u001b[0mreindex\u001b[0m\u001b[0;34m(\u001b[0m\u001b[0;34m**\u001b[0m\u001b[0;34m{\u001b[0m\u001b[0maxis_name\u001b[0m\u001b[0;34m:\u001b[0m \u001b[0mnew_axis\u001b[0m\u001b[0;34m}\u001b[0m\u001b[0;34m)\u001b[0m\u001b[0;34m\u001b[0m\u001b[0;34m\u001b[0m\u001b[0m\n\u001b[1;32m   3923\u001b[0m \u001b[0;34m\u001b[0m\u001b[0m\n",
      "\u001b[0;32m~/opt/anaconda3/lib/python3.8/site-packages/pandas/core/indexes/base.py\u001b[0m in \u001b[0;36mdrop\u001b[0;34m(self, labels, errors)\u001b[0m\n\u001b[1;32m   5280\u001b[0m         \u001b[0;32mif\u001b[0m \u001b[0mmask\u001b[0m\u001b[0;34m.\u001b[0m\u001b[0many\u001b[0m\u001b[0;34m(\u001b[0m\u001b[0;34m)\u001b[0m\u001b[0;34m:\u001b[0m\u001b[0;34m\u001b[0m\u001b[0;34m\u001b[0m\u001b[0m\n\u001b[1;32m   5281\u001b[0m             \u001b[0;32mif\u001b[0m \u001b[0merrors\u001b[0m \u001b[0;34m!=\u001b[0m \u001b[0;34m\"ignore\"\u001b[0m\u001b[0;34m:\u001b[0m\u001b[0;34m\u001b[0m\u001b[0;34m\u001b[0m\u001b[0m\n\u001b[0;32m-> 5282\u001b[0;31m                 \u001b[0;32mraise\u001b[0m \u001b[0mKeyError\u001b[0m\u001b[0;34m(\u001b[0m\u001b[0;34mf\"{labels[mask]} not found in axis\"\u001b[0m\u001b[0;34m)\u001b[0m\u001b[0;34m\u001b[0m\u001b[0;34m\u001b[0m\u001b[0m\n\u001b[0m\u001b[1;32m   5283\u001b[0m             \u001b[0mindexer\u001b[0m \u001b[0;34m=\u001b[0m \u001b[0mindexer\u001b[0m\u001b[0;34m[\u001b[0m\u001b[0;34m~\u001b[0m\u001b[0mmask\u001b[0m\u001b[0;34m]\u001b[0m\u001b[0;34m\u001b[0m\u001b[0;34m\u001b[0m\u001b[0m\n\u001b[1;32m   5284\u001b[0m         \u001b[0;32mreturn\u001b[0m \u001b[0mself\u001b[0m\u001b[0;34m.\u001b[0m\u001b[0mdelete\u001b[0m\u001b[0;34m(\u001b[0m\u001b[0mindexer\u001b[0m\u001b[0;34m)\u001b[0m\u001b[0;34m\u001b[0m\u001b[0;34m\u001b[0m\u001b[0m\n",
      "\u001b[0;31mKeyError\u001b[0m: \"['district_name' 'district_number' 'school_number' 'year' 'english_avg'\\n 'math_avg' 'science_avg' 'reading_avg' 'percent_met_crb_reading'\\n 'avg_composite_baseline_year' 'percent_21_orhigher_baseline_year'\\n 'subgroup' 'percent_met_crb_english' 'percent_met_crb_math'\\n 'percent_met_crb_science' 'percent_met_all4_crb'] not found in axis\""
     ]
    }
   ],
   "source": [
    "act_df=act_df.drop(['district_name','district_number','school_number','year','english_avg','math_avg',\n",
    "                           'science_avg','reading_avg','percent_met_crb_reading','avg_composite_baseline_year',\n",
    "                    'percent_21_orhigher_baseline_year','subgroup','percent_met_crb_english','percent_met_crb_math',\n",
    "            'percent_met_crb_science','percent_met_all4_crb',              \n",
    "            ],axis=1)"
   ]
  },
  {
   "cell_type": "code",
   "execution_count": 65,
   "metadata": {},
   "outputs": [],
   "source": [
    "# remove all schools\n",
    "act_df= act_df.dropna()"
   ]
  },
  {
   "cell_type": "code",
   "execution_count": 78,
   "metadata": {},
   "outputs": [],
   "source": [
    "act_df= act_df[act_df['percent_21_orhigher_previous']!= '*']"
   ]
  },
  {
   "cell_type": "code",
   "execution_count": 79,
   "metadata": {},
   "outputs": [],
   "source": [
    "act_df= act_df[act_df['percent_21_orhigher_previous']!= '**']"
   ]
  },
  {
   "cell_type": "code",
   "execution_count": 76,
   "metadata": {},
   "outputs": [],
   "source": [
    "act_df= act_df[act_df['avg_composite_previous']!= '*']"
   ]
  },
  {
   "cell_type": "code",
   "execution_count": 77,
   "metadata": {},
   "outputs": [],
   "source": [
    "act_df= act_df[act_df['avg_composite_previous']!= '**']"
   ]
  },
  {
   "cell_type": "code",
   "execution_count": 69,
   "metadata": {},
   "outputs": [],
   "source": [
    "act_df= act_df[act_df['act_composite_avg']!= '*']"
   ]
  },
  {
   "cell_type": "code",
   "execution_count": 70,
   "metadata": {},
   "outputs": [],
   "source": [
    "act_df= act_df[act_df['act_composite_avg']!= '**']"
   ]
  },
  {
   "cell_type": "code",
   "execution_count": null,
   "metadata": {},
   "outputs": [],
   "source": [
    "# remove ** and * from 21 or higher avg_composit and 21_or higher previous 2017"
   ]
  },
  {
   "cell_type": "code",
   "execution_count": 73,
   "metadata": {},
   "outputs": [],
   "source": [
    "act_df= act_df[act_df['percent_21_orhigher']!= '**']"
   ]
  },
  {
   "cell_type": "code",
   "execution_count": 74,
   "metadata": {},
   "outputs": [],
   "source": [
    "act_df= act_df[act_df['percent_21_orhigher']!= '*']"
   ]
  },
  {
   "cell_type": "code",
   "execution_count": 85,
   "metadata": {
    "scrolled": true
   },
   "outputs": [
    {
     "data": {
      "text/plain": [
       "(328, 5)"
      ]
     },
     "execution_count": 85,
     "metadata": {},
     "output_type": "execute_result"
    }
   ],
   "source": [
    "act_df.shape"
   ]
  },
  {
   "cell_type": "code",
   "execution_count": 90,
   "metadata": {},
   "outputs": [],
   "source": [
    "# merge\n",
    "merge_e=merge_d.merge(act_df,how='inner', on=\"school_name\")"
   ]
  },
  {
   "cell_type": "code",
   "execution_count": 91,
   "metadata": {},
   "outputs": [],
   "source": [
    "merge_e=merge_e.drop_duplicates(subset=['school_name'])"
   ]
  },
  {
   "cell_type": "code",
   "execution_count": 94,
   "metadata": {},
   "outputs": [
    {
     "data": {
      "text/html": [
       "<div>\n",
       "<style scoped>\n",
       "    .dataframe tbody tr th:only-of-type {\n",
       "        vertical-align: middle;\n",
       "    }\n",
       "\n",
       "    .dataframe tbody tr th {\n",
       "        vertical-align: top;\n",
       "    }\n",
       "\n",
       "    .dataframe thead th {\n",
       "        text-align: right;\n",
       "    }\n",
       "</style>\n",
       "<table border=\"1\" class=\"dataframe\">\n",
       "  <thead>\n",
       "    <tr style=\"text-align: right;\">\n",
       "      <th></th>\n",
       "      <th>district_name</th>\n",
       "      <th>school_name</th>\n",
       "      <th>percent_ca</th>\n",
       "      <th>percent_ca_previous</th>\n",
       "      <th>admin</th>\n",
       "      <th>teacher</th>\n",
       "      <th>percent_retained</th>\n",
       "      <th>pool</th>\n",
       "      <th>score_achievement</th>\n",
       "      <th>score_growth</th>\n",
       "      <th>score_absenteeism</th>\n",
       "      <th>value</th>\n",
       "      <th>value_previous</th>\n",
       "      <th>act_composite_avg</th>\n",
       "      <th>percent_21_orhigher</th>\n",
       "      <th>avg_composite_previous</th>\n",
       "      <th>percent_21_orhigher_previous</th>\n",
       "    </tr>\n",
       "  </thead>\n",
       "  <tbody>\n",
       "    <tr>\n",
       "      <th>0</th>\n",
       "      <td>Anderson County Schools</td>\n",
       "      <td>Anderson County High School</td>\n",
       "      <td>15.1</td>\n",
       "      <td>18.3</td>\n",
       "      <td>5.0</td>\n",
       "      <td>53.0</td>\n",
       "      <td>91.0</td>\n",
       "      <td>HS</td>\n",
       "      <td>2.6</td>\n",
       "      <td>3.6</td>\n",
       "      <td>4.0</td>\n",
       "      <td>1075.0</td>\n",
       "      <td>1056.0</td>\n",
       "      <td>19.7</td>\n",
       "      <td>41.6</td>\n",
       "      <td>19.8</td>\n",
       "      <td>39.7</td>\n",
       "    </tr>\n",
       "    <tr>\n",
       "      <th>1</th>\n",
       "      <td>Anderson County Schools</td>\n",
       "      <td>Clinton High School</td>\n",
       "      <td>17.8</td>\n",
       "      <td>21.8</td>\n",
       "      <td>5.0</td>\n",
       "      <td>68.0</td>\n",
       "      <td>88.3</td>\n",
       "      <td>HS</td>\n",
       "      <td>2.9</td>\n",
       "      <td>1.7</td>\n",
       "      <td>4.0</td>\n",
       "      <td>1120.0</td>\n",
       "      <td>1168.0</td>\n",
       "      <td>19.1</td>\n",
       "      <td>34.8</td>\n",
       "      <td>18.5</td>\n",
       "      <td>32</td>\n",
       "    </tr>\n",
       "    <tr>\n",
       "      <th>2</th>\n",
       "      <td>Oak Ridge City Schools</td>\n",
       "      <td>Oak Ridge High School</td>\n",
       "      <td>17.5</td>\n",
       "      <td>21.9</td>\n",
       "      <td>6.0</td>\n",
       "      <td>98.0</td>\n",
       "      <td>94.6</td>\n",
       "      <td>HS</td>\n",
       "      <td>2.7</td>\n",
       "      <td>3.2</td>\n",
       "      <td>4.0</td>\n",
       "      <td>1406.0</td>\n",
       "      <td>1414.0</td>\n",
       "      <td>23.3</td>\n",
       "      <td>65.7</td>\n",
       "      <td>22.8</td>\n",
       "      <td>64.9</td>\n",
       "    </tr>\n",
       "  </tbody>\n",
       "</table>\n",
       "</div>"
      ],
      "text/plain": [
       "             district_name                  school_name percent_ca  \\\n",
       "0  Anderson County Schools  Anderson County High School       15.1   \n",
       "1  Anderson County Schools          Clinton High School       17.8   \n",
       "2   Oak Ridge City Schools        Oak Ridge High School       17.5   \n",
       "\n",
       "  percent_ca_previous  admin  teacher percent_retained pool  \\\n",
       "0                18.3    5.0     53.0             91.0   HS   \n",
       "1                21.8    5.0     68.0             88.3   HS   \n",
       "2                21.9    6.0     98.0             94.6   HS   \n",
       "\n",
       "   score_achievement  score_growth  score_absenteeism   value  value_previous  \\\n",
       "0                2.6           3.6                4.0  1075.0          1056.0   \n",
       "1                2.9           1.7                4.0  1120.0          1168.0   \n",
       "2                2.7           3.2                4.0  1406.0          1414.0   \n",
       "\n",
       "  act_composite_avg percent_21_orhigher avg_composite_previous  \\\n",
       "0              19.7                41.6                   19.8   \n",
       "1              19.1                34.8                   18.5   \n",
       "2              23.3                65.7                   22.8   \n",
       "\n",
       "  percent_21_orhigher_previous  \n",
       "0                         39.7  \n",
       "1                           32  \n",
       "2                         64.9  "
      ]
     },
     "execution_count": 94,
     "metadata": {},
     "output_type": "execute_result"
    }
   ],
   "source": [
    "merge_e.head(3)"
   ]
  },
  {
   "cell_type": "markdown",
   "metadata": {},
   "source": [
    "# Drop out"
   ]
  },
  {
   "cell_type": "code",
   "execution_count": 111,
   "metadata": {},
   "outputs": [
    {
     "data": {
      "text/html": [
       "<div>\n",
       "<style scoped>\n",
       "    .dataframe tbody tr th:only-of-type {\n",
       "        vertical-align: middle;\n",
       "    }\n",
       "\n",
       "    .dataframe tbody tr th {\n",
       "        vertical-align: top;\n",
       "    }\n",
       "\n",
       "    .dataframe thead th {\n",
       "        text-align: right;\n",
       "    }\n",
       "</style>\n",
       "<table border=\"1\" class=\"dataframe\">\n",
       "  <thead>\n",
       "    <tr style=\"text-align: right;\">\n",
       "      <th></th>\n",
       "      <th>school_name</th>\n",
       "      <th>percent_dropout</th>\n",
       "      <th>percent_dropout_previous</th>\n",
       "    </tr>\n",
       "  </thead>\n",
       "  <tbody>\n",
       "    <tr>\n",
       "      <th>78</th>\n",
       "      <td>Anderson County High School</td>\n",
       "      <td>1.2</td>\n",
       "      <td>3</td>\n",
       "    </tr>\n",
       "    <tr>\n",
       "      <th>104</th>\n",
       "      <td>Clinton High School</td>\n",
       "      <td>4</td>\n",
       "      <td>5.9</td>\n",
       "    </tr>\n",
       "    <tr>\n",
       "      <th>273</th>\n",
       "      <td>Cloudland High School</td>\n",
       "      <td>10.9</td>\n",
       "      <td>6.6</td>\n",
       "    </tr>\n",
       "    <tr>\n",
       "      <th>299</th>\n",
       "      <td>Hampton High School</td>\n",
       "      <td>7.9</td>\n",
       "      <td>6.4</td>\n",
       "    </tr>\n",
       "    <tr>\n",
       "      <th>325</th>\n",
       "      <td>Happy Valley High School</td>\n",
       "      <td>7.1</td>\n",
       "      <td>4</td>\n",
       "    </tr>\n",
       "  </tbody>\n",
       "</table>\n",
       "</div>"
      ],
      "text/plain": [
       "                     school_name percent_dropout percent_dropout_previous\n",
       "78   Anderson County High School             1.2                        3\n",
       "104          Clinton High School               4                      5.9\n",
       "273        Cloudland High School            10.9                      6.6\n",
       "299          Hampton High School             7.9                      6.4\n",
       "325     Happy Valley High School             7.1                        4"
      ]
     },
     "execution_count": 111,
     "metadata": {},
     "output_type": "execute_result"
    }
   ],
   "source": [
    "dropout_df.head()"
   ]
  },
  {
   "cell_type": "code",
   "execution_count": 95,
   "metadata": {},
   "outputs": [],
   "source": [
    "# filter by subgroup\n",
    "dropout_df=dropout_df[dropout_df.subgroup =='all_students']"
   ]
  },
  {
   "cell_type": "code",
   "execution_count": 96,
   "metadata": {},
   "outputs": [],
   "source": [
    "# remove all schools\n",
    "dropout_df=dropout_df[dropout_df['school_name'] !='All Schools']"
   ]
  },
  {
   "cell_type": "code",
   "execution_count": 99,
   "metadata": {},
   "outputs": [],
   "source": [
    "dropout_df=dropout_df.drop(['district_name','district_number','school_number','year','denominator','subgroup',\n",
    "                           'baseline_year'              \n",
    "            ],axis=1)"
   ]
  },
  {
   "cell_type": "code",
   "execution_count": 103,
   "metadata": {},
   "outputs": [],
   "source": [
    "dropout_df= dropout_df[dropout_df['percent_dropout']!= '*']"
   ]
  },
  {
   "cell_type": "code",
   "execution_count": 109,
   "metadata": {},
   "outputs": [],
   "source": [
    "dropout_df= dropout_df[dropout_df['percent_dropout_previous']!= '*']"
   ]
  },
  {
   "cell_type": "code",
   "execution_count": 110,
   "metadata": {},
   "outputs": [
    {
     "data": {
      "text/plain": [
       "(357, 3)"
      ]
     },
     "execution_count": 110,
     "metadata": {},
     "output_type": "execute_result"
    }
   ],
   "source": [
    "dropout_df.shape"
   ]
  },
  {
   "cell_type": "code",
   "execution_count": 113,
   "metadata": {},
   "outputs": [],
   "source": [
    "# merge\n",
    "merge_f= merge_e.merge(dropout_df,how='inner', on=\"school_name\")"
   ]
  },
  {
   "cell_type": "code",
   "execution_count": 114,
   "metadata": {},
   "outputs": [],
   "source": [
    "merge_f=merge_f.drop_duplicates(subset=['school_name'])"
   ]
  },
  {
   "cell_type": "code",
   "execution_count": 116,
   "metadata": {},
   "outputs": [
    {
     "data": {
      "text/plain": [
       "(305, 19)"
      ]
     },
     "execution_count": 116,
     "metadata": {},
     "output_type": "execute_result"
    }
   ],
   "source": [
    "merge_f.shape"
   ]
  },
  {
   "cell_type": "markdown",
   "metadata": {},
   "source": [
    "# Grad rate"
   ]
  },
  {
   "cell_type": "code",
   "execution_count": 137,
   "metadata": {},
   "outputs": [],
   "source": [
    "#grad_df.grad_rate.unique()"
   ]
  },
  {
   "cell_type": "code",
   "execution_count": 131,
   "metadata": {
    "scrolled": true
   },
   "outputs": [
    {
     "data": {
      "text/html": [
       "<div>\n",
       "<style scoped>\n",
       "    .dataframe tbody tr th:only-of-type {\n",
       "        vertical-align: middle;\n",
       "    }\n",
       "\n",
       "    .dataframe tbody tr th {\n",
       "        vertical-align: top;\n",
       "    }\n",
       "\n",
       "    .dataframe thead th {\n",
       "        text-align: right;\n",
       "    }\n",
       "</style>\n",
       "<table border=\"1\" class=\"dataframe\">\n",
       "  <thead>\n",
       "    <tr style=\"text-align: right;\">\n",
       "      <th></th>\n",
       "      <th>school_name</th>\n",
       "      <th>grad_rate</th>\n",
       "      <th>grad_rate_previous</th>\n",
       "    </tr>\n",
       "  </thead>\n",
       "  <tbody>\n",
       "    <tr>\n",
       "      <th>48</th>\n",
       "      <td>Anderson County High School</td>\n",
       "      <td>98.4</td>\n",
       "      <td>95.4</td>\n",
       "    </tr>\n",
       "    <tr>\n",
       "      <th>128</th>\n",
       "      <td>Clinton High School</td>\n",
       "      <td>94</td>\n",
       "      <td>92.5</td>\n",
       "    </tr>\n",
       "    <tr>\n",
       "      <th>432</th>\n",
       "      <td>Oak Ridge High School</td>\n",
       "      <td>87.7</td>\n",
       "      <td>89.5</td>\n",
       "    </tr>\n",
       "  </tbody>\n",
       "</table>\n",
       "</div>"
      ],
      "text/plain": [
       "                     school_name grad_rate grad_rate_previous\n",
       "48   Anderson County High School      98.4               95.4\n",
       "128          Clinton High School        94               92.5\n",
       "432        Oak Ridge High School      87.7               89.5"
      ]
     },
     "execution_count": 131,
     "metadata": {},
     "output_type": "execute_result"
    }
   ],
   "source": [
    "grad_df.head(3)"
   ]
  },
  {
   "cell_type": "code",
   "execution_count": 118,
   "metadata": {},
   "outputs": [],
   "source": [
    "# filter by subgroup\n",
    "grad_df=grad_df[grad_df.subgroup =='all_students']"
   ]
  },
  {
   "cell_type": "code",
   "execution_count": 120,
   "metadata": {},
   "outputs": [],
   "source": [
    "# remove all schools\n",
    "grad_df=grad_df[grad_df['school_name'] !='All Schools']"
   ]
  },
  {
   "cell_type": "code",
   "execution_count": 122,
   "metadata": {},
   "outputs": [],
   "source": [
    "grad_df=grad_df.drop(['district_name','district_number','school_number','year','baseline_year','subgroup','denominator'],\n",
    "                     axis=1)\n"
   ]
  },
  {
   "cell_type": "code",
   "execution_count": 129,
   "metadata": {},
   "outputs": [],
   "source": [
    "grad_df= grad_df[grad_df['grad_rate']!= '*']"
   ]
  },
  {
   "cell_type": "code",
   "execution_count": 134,
   "metadata": {},
   "outputs": [],
   "source": [
    "grad_df= grad_df[grad_df['grad_rate_previous']!= '**']"
   ]
  },
  {
   "cell_type": "code",
   "execution_count": 125,
   "metadata": {},
   "outputs": [],
   "source": [
    "grad_df=grad_df.dropna()"
   ]
  },
  {
   "cell_type": "code",
   "execution_count": 138,
   "metadata": {},
   "outputs": [
    {
     "data": {
      "text/plain": [
       "(359, 3)"
      ]
     },
     "execution_count": 138,
     "metadata": {},
     "output_type": "execute_result"
    }
   ],
   "source": [
    "grad_df.shape"
   ]
  },
  {
   "cell_type": "code",
   "execution_count": 140,
   "metadata": {},
   "outputs": [],
   "source": [
    "merge_g= merge_f.merge(dropout_df,how='inner', on=\"school_name\")"
   ]
  },
  {
   "cell_type": "code",
   "execution_count": 141,
   "metadata": {},
   "outputs": [],
   "source": [
    "merge_g=merge_g.drop_duplicates(subset=['school_name'])"
   ]
  },
  {
   "cell_type": "code",
   "execution_count": 142,
   "metadata": {},
   "outputs": [
    {
     "data": {
      "text/plain": [
       "(305, 21)"
      ]
     },
     "execution_count": 142,
     "metadata": {},
     "output_type": "execute_result"
    }
   ],
   "source": [
    "merge_g.shape"
   ]
  },
  {
   "cell_type": "code",
   "execution_count": 143,
   "metadata": {},
   "outputs": [],
   "source": [
    "import dtale"
   ]
  },
  {
   "cell_type": "code",
   "execution_count": 144,
   "metadata": {},
   "outputs": [
    {
     "name": "stdout",
     "output_type": "stream",
     "text": [
      "Executing shutdown...\n"
     ]
    },
    {
     "name": "stderr",
     "output_type": "stream",
     "text": [
      "2021-05-29 19:06:25,635 - INFO     - Executing shutdown...\n"
     ]
    }
   ],
   "source": [
    "d = dtale.show(merge_g)\n",
    "d.open_browser()"
   ]
  },
  {
   "cell_type": "markdown",
   "metadata": {},
   "source": [
    "# finance"
   ]
  },
  {
   "cell_type": "code",
   "execution_count": null,
   "metadata": {},
   "outputs": [],
   "source": [
    "# new df to aggregate enrollment"
   ]
  },
  {
   "cell_type": "code",
   "execution_count": null,
   "metadata": {},
   "outputs": [],
   "source": []
  }
 ],
 "metadata": {
  "kernelspec": {
   "display_name": "Python 3",
   "language": "python",
   "name": "python3"
  },
  "language_info": {
   "codemirror_mode": {
    "name": "ipython",
    "version": 3
   },
   "file_extension": ".py",
   "mimetype": "text/x-python",
   "name": "python",
   "nbconvert_exporter": "python",
   "pygments_lexer": "ipython3",
   "version": "3.8.5"
  }
 },
 "nbformat": 4,
 "nbformat_minor": 4
}
