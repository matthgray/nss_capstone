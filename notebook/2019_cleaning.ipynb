{
 "cells": [
  {
   "cell_type": "code",
   "execution_count": 1,
   "metadata": {},
   "outputs": [],
   "source": [
    "import pandas as pd\n",
    "import dtale\n",
    "# helps convert zip to lat and long\n",
    "from pyzipcode import ZipCodeDatabase"
   ]
  },
  {
   "cell_type": "markdown",
   "metadata": {},
   "source": [
    "# needed columns"
   ]
  },
  {
   "cell_type": "markdown",
   "metadata": {},
   "source": [
    "# import data"
   ]
  },
  {
   "cell_type": "code",
   "execution_count": 3,
   "metadata": {},
   "outputs": [],
   "source": [
    "# 2019 report\n",
    "staffing_df = pd.read_excel('../data/original_data/reportcarddata2019.xlsx','staffing'\n",
    "                              )\n",
    "\n",
    "\n"
   ]
  },
  {
   "cell_type": "code",
   "execution_count": 61,
   "metadata": {},
   "outputs": [],
   "source": [
    "retention_df = pd.read_excel('../data/original_data/reportcarddata2019.xlsx','teacher_retention'\n",
    "                              )"
   ]
  },
  {
   "cell_type": "code",
   "execution_count": 97,
   "metadata": {},
   "outputs": [],
   "source": [
    "grades_df = pd.read_excel('../data/original_data/reportcarddata2019.xlsx','overall_grades'\n",
    "                              ) "
   ]
  },
  {
   "cell_type": "code",
   "execution_count": 80,
   "metadata": {},
   "outputs": [],
   "source": [
    "finance_df = pd.read_excel('../data/original_data/reportcarddata2019.xlsx','finance'\n",
    "                              ) "
   ]
  },
  {
   "cell_type": "code",
   "execution_count": 115,
   "metadata": {},
   "outputs": [],
   "source": [
    "enrollment_df = pd.read_excel('../data/original_data/reportcarddata2019.xlsx','enrollment'\n",
    "                              )"
   ]
  },
  {
   "cell_type": "code",
   "execution_count": 38,
   "metadata": {},
   "outputs": [],
   "source": [
    "# 2019 report\n",
    "act_df = pd.read_excel('../data/original_data/reportcarddata2019.xlsx','ACT'\n",
    "                              )\n",
    "# 2019 report\n",
    "absent_df = pd.read_excel('../data/original_data/reportcarddata2019.xlsx','chronic_absenteeism'\n",
    "                              )\n",
    "# 2019 report\n",
    "dropout_df = pd.read_excel('../data/original_data/reportcarddata2019.xlsx','dropout'\n",
    "                              )\n",
    "# 2019 report\n",
    "grad_df = pd.read_excel('../data/original_data/reportcarddata2019.xlsx','grad_rate'\n",
    "                              )\n"
   ]
  },
  {
   "cell_type": "markdown",
   "metadata": {},
   "source": [
    "# staff"
   ]
  },
  {
   "cell_type": "code",
   "execution_count": 27,
   "metadata": {},
   "outputs": [
    {
     "data": {
      "text/plain": [
       "Index(['admin', 'all_educators', 'support_coach', 'support_coun',\n",
       "       'support_inter', 'support_librarian', 'support_other', 'teacher'],\n",
       "      dtype='object', name='role')"
      ]
     },
     "execution_count": 27,
     "metadata": {},
     "output_type": "execute_result"
    }
   ],
   "source": [
    "staffing_df.columns"
   ]
  },
  {
   "cell_type": "code",
   "execution_count": 11,
   "metadata": {},
   "outputs": [],
   "source": [
    "staffing_df=staffing_df.drop(['district_number', 'school_number','entity','year'\n",
    "                         ], axis=1)"
   ]
  },
  {
   "cell_type": "code",
   "execution_count": 16,
   "metadata": {},
   "outputs": [],
   "source": [
    "#staffing_df.isnull().sum()\n",
    "# staffing_df.head(10)\n",
    "\n",
    "#staffing_df.shape"
   ]
  },
  {
   "cell_type": "code",
   "execution_count": 14,
   "metadata": {},
   "outputs": [],
   "source": [
    "# remove missing\n",
    "staffing_df=staffing_df.dropna()"
   ]
  },
  {
   "cell_type": "code",
   "execution_count": 25,
   "metadata": {},
   "outputs": [],
   "source": [
    "# make long to wide\n",
    "staffing_df=staffing_df.pivot_table(index=[\"district_name\", \"school_name\"], \n",
    "                    columns='role', \n",
    "                    values='n_staff')"
   ]
  },
  {
   "cell_type": "code",
   "execution_count": null,
   "metadata": {},
   "outputs": [],
   "source": []
  },
  {
   "cell_type": "code",
   "execution_count": 31,
   "metadata": {},
   "outputs": [],
   "source": [
    "staffing_df=staffing_df.drop(['all_educators', 'support_coach','support_inter','support_coun',\n",
    "                              'support_librarian','support_other'\n",
    "                         ], axis=1)"
   ]
  },
  {
   "cell_type": "code",
   "execution_count": 35,
   "metadata": {},
   "outputs": [],
   "source": [
    "staffing_df=staffing_df.dropna()"
   ]
  },
  {
   "cell_type": "code",
   "execution_count": 37,
   "metadata": {},
   "outputs": [
    {
     "data": {
      "text/plain": [
       "(1833, 2)"
      ]
     },
     "execution_count": 37,
     "metadata": {},
     "output_type": "execute_result"
    }
   ],
   "source": [
    "staffing_df.shape"
   ]
  },
  {
   "cell_type": "markdown",
   "metadata": {},
   "source": [
    "# absentee"
   ]
  },
  {
   "cell_type": "code",
   "execution_count": 44,
   "metadata": {},
   "outputs": [],
   "source": [
    "# remove columns\n",
    "absent_df=absent_df.drop(['district_number', 'school_number','year','denominator',\n",
    "                              'baseline_year'\n",
    "                         ], axis=1)"
   ]
  },
  {
   "cell_type": "code",
   "execution_count": 48,
   "metadata": {},
   "outputs": [],
   "source": [
    "# filter by subgroup\n",
    "absent_df=absent_df[absent_df.subgroup =='all_students']"
   ]
  },
  {
   "cell_type": "code",
   "execution_count": 50,
   "metadata": {},
   "outputs": [],
   "source": [
    "# remove missing data\n",
    "absent_df=absent_df.dropna()"
   ]
  },
  {
   "cell_type": "code",
   "execution_count": null,
   "metadata": {},
   "outputs": [],
   "source": [
    "# remove *"
   ]
  },
  {
   "cell_type": "code",
   "execution_count": 53,
   "metadata": {},
   "outputs": [
    {
     "data": {
      "text/plain": [
       "(1886, 5)"
      ]
     },
     "execution_count": 53,
     "metadata": {},
     "output_type": "execute_result"
    }
   ],
   "source": [
    "absent_df.shape"
   ]
  },
  {
   "cell_type": "markdown",
   "metadata": {},
   "source": [
    "# join absentee and staff"
   ]
  },
  {
   "cell_type": "code",
   "execution_count": 57,
   "metadata": {},
   "outputs": [],
   "source": [
    "# join by school_name\n",
    "merge_a=absent_df.merge(staffing_df,how='inner', on=\"school_name\")"
   ]
  },
  {
   "cell_type": "code",
   "execution_count": 58,
   "metadata": {},
   "outputs": [],
   "source": [
    "merge_a=merge_a.drop_duplicates(subset=['school_name'])"
   ]
  },
  {
   "cell_type": "code",
   "execution_count": 60,
   "metadata": {},
   "outputs": [
    {
     "data": {
      "text/html": [
       "<div>\n",
       "<style scoped>\n",
       "    .dataframe tbody tr th:only-of-type {\n",
       "        vertical-align: middle;\n",
       "    }\n",
       "\n",
       "    .dataframe tbody tr th {\n",
       "        vertical-align: top;\n",
       "    }\n",
       "\n",
       "    .dataframe thead th {\n",
       "        text-align: right;\n",
       "    }\n",
       "</style>\n",
       "<table border=\"1\" class=\"dataframe\">\n",
       "  <thead>\n",
       "    <tr style=\"text-align: right;\">\n",
       "      <th></th>\n",
       "      <th>district_name</th>\n",
       "      <th>school_name</th>\n",
       "      <th>subgroup</th>\n",
       "      <th>percent_ca</th>\n",
       "      <th>percent_ca_previous</th>\n",
       "      <th>admin</th>\n",
       "      <th>teacher</th>\n",
       "    </tr>\n",
       "  </thead>\n",
       "  <tbody>\n",
       "    <tr>\n",
       "      <th>0</th>\n",
       "      <td>State of Tennessee</td>\n",
       "      <td>All Schools</td>\n",
       "      <td>all_students</td>\n",
       "      <td>12.5</td>\n",
       "      <td>12.9</td>\n",
       "      <td>41.0</td>\n",
       "      <td>588.0</td>\n",
       "    </tr>\n",
       "    <tr>\n",
       "      <th>22052</th>\n",
       "      <td>Anderson County Schools</td>\n",
       "      <td>Anderson County High School</td>\n",
       "      <td>all_students</td>\n",
       "      <td>15.1</td>\n",
       "      <td>18.3</td>\n",
       "      <td>5.0</td>\n",
       "      <td>53.0</td>\n",
       "    </tr>\n",
       "    <tr>\n",
       "      <th>22053</th>\n",
       "      <td>Anderson County Schools</td>\n",
       "      <td>Andersonville Elementary</td>\n",
       "      <td>all_students</td>\n",
       "      <td>8.6</td>\n",
       "      <td>10.6</td>\n",
       "      <td>1.0</td>\n",
       "      <td>24.0</td>\n",
       "    </tr>\n",
       "    <tr>\n",
       "      <th>22054</th>\n",
       "      <td>Anderson County Schools</td>\n",
       "      <td>Briceville Elementary</td>\n",
       "      <td>all_students</td>\n",
       "      <td>9.4</td>\n",
       "      <td>23</td>\n",
       "      <td>1.0</td>\n",
       "      <td>11.0</td>\n",
       "    </tr>\n",
       "    <tr>\n",
       "      <th>22055</th>\n",
       "      <td>Anderson County Schools</td>\n",
       "      <td>Claxton Elementary</td>\n",
       "      <td>all_students</td>\n",
       "      <td>14.4</td>\n",
       "      <td>21.3</td>\n",
       "      <td>2.0</td>\n",
       "      <td>35.0</td>\n",
       "    </tr>\n",
       "    <tr>\n",
       "      <th>22056</th>\n",
       "      <td>Anderson County Schools</td>\n",
       "      <td>Clinton Middle School</td>\n",
       "      <td>all_students</td>\n",
       "      <td>20.8</td>\n",
       "      <td>19.2</td>\n",
       "      <td>3.0</td>\n",
       "      <td>41.0</td>\n",
       "    </tr>\n",
       "    <tr>\n",
       "      <th>22057</th>\n",
       "      <td>Anderson County Schools</td>\n",
       "      <td>Clinton High School</td>\n",
       "      <td>all_students</td>\n",
       "      <td>17.8</td>\n",
       "      <td>21.8</td>\n",
       "      <td>5.0</td>\n",
       "      <td>68.0</td>\n",
       "    </tr>\n",
       "    <tr>\n",
       "      <th>22058</th>\n",
       "      <td>Anderson County Schools</td>\n",
       "      <td>Dutch Valley Elementary</td>\n",
       "      <td>all_students</td>\n",
       "      <td>11.9</td>\n",
       "      <td>14.3</td>\n",
       "      <td>1.0</td>\n",
       "      <td>8.0</td>\n",
       "    </tr>\n",
       "    <tr>\n",
       "      <th>22059</th>\n",
       "      <td>Anderson County Schools</td>\n",
       "      <td>Fairview Elementary</td>\n",
       "      <td>all_students</td>\n",
       "      <td>4.6</td>\n",
       "      <td>6.8</td>\n",
       "      <td>1.0</td>\n",
       "      <td>22.0</td>\n",
       "    </tr>\n",
       "    <tr>\n",
       "      <th>22075</th>\n",
       "      <td>Anderson County Schools</td>\n",
       "      <td>Grand Oaks Elementary</td>\n",
       "      <td>all_students</td>\n",
       "      <td>10.9</td>\n",
       "      <td>14.1</td>\n",
       "      <td>1.0</td>\n",
       "      <td>20.0</td>\n",
       "    </tr>\n",
       "  </tbody>\n",
       "</table>\n",
       "</div>"
      ],
      "text/plain": [
       "                 district_name                  school_name      subgroup  \\\n",
       "0           State of Tennessee                  All Schools  all_students   \n",
       "22052  Anderson County Schools  Anderson County High School  all_students   \n",
       "22053  Anderson County Schools     Andersonville Elementary  all_students   \n",
       "22054  Anderson County Schools        Briceville Elementary  all_students   \n",
       "22055  Anderson County Schools           Claxton Elementary  all_students   \n",
       "22056  Anderson County Schools        Clinton Middle School  all_students   \n",
       "22057  Anderson County Schools          Clinton High School  all_students   \n",
       "22058  Anderson County Schools      Dutch Valley Elementary  all_students   \n",
       "22059  Anderson County Schools          Fairview Elementary  all_students   \n",
       "22075  Anderson County Schools        Grand Oaks Elementary  all_students   \n",
       "\n",
       "      percent_ca percent_ca_previous  admin  teacher  \n",
       "0           12.5                12.9   41.0    588.0  \n",
       "22052       15.1                18.3    5.0     53.0  \n",
       "22053        8.6                10.6    1.0     24.0  \n",
       "22054        9.4                  23    1.0     11.0  \n",
       "22055       14.4                21.3    2.0     35.0  \n",
       "22056       20.8                19.2    3.0     41.0  \n",
       "22057       17.8                21.8    5.0     68.0  \n",
       "22058       11.9                14.3    1.0      8.0  \n",
       "22059        4.6                 6.8    1.0     22.0  \n",
       "22075       10.9                14.1    1.0     20.0  "
      ]
     },
     "execution_count": 60,
     "metadata": {},
     "output_type": "execute_result"
    }
   ],
   "source": [
    "merge_a.head(10)"
   ]
  },
  {
   "cell_type": "code",
   "execution_count": 59,
   "metadata": {},
   "outputs": [
    {
     "data": {
      "text/plain": [
       "(1608, 7)"
      ]
     },
     "execution_count": 59,
     "metadata": {},
     "output_type": "execute_result"
    }
   ],
   "source": [
    "merge_a.shape"
   ]
  },
  {
   "cell_type": "code",
   "execution_count": 84,
   "metadata": {},
   "outputs": [],
   "source": [
    "\n",
    "# remove all schools\n",
    "merge_a=merge_a[merge_a['school_name'] !='All Schools']"
   ]
  },
  {
   "cell_type": "code",
   "execution_count": 87,
   "metadata": {},
   "outputs": [],
   "source": [
    "merge_a=merge_a.drop(['subgroup'],axis=1)"
   ]
  },
  {
   "cell_type": "code",
   "execution_count": 88,
   "metadata": {},
   "outputs": [
    {
     "data": {
      "text/html": [
       "<div>\n",
       "<style scoped>\n",
       "    .dataframe tbody tr th:only-of-type {\n",
       "        vertical-align: middle;\n",
       "    }\n",
       "\n",
       "    .dataframe tbody tr th {\n",
       "        vertical-align: top;\n",
       "    }\n",
       "\n",
       "    .dataframe thead th {\n",
       "        text-align: right;\n",
       "    }\n",
       "</style>\n",
       "<table border=\"1\" class=\"dataframe\">\n",
       "  <thead>\n",
       "    <tr style=\"text-align: right;\">\n",
       "      <th></th>\n",
       "      <th>district_name</th>\n",
       "      <th>school_name</th>\n",
       "      <th>percent_ca</th>\n",
       "      <th>percent_ca_previous</th>\n",
       "      <th>admin</th>\n",
       "      <th>teacher</th>\n",
       "    </tr>\n",
       "  </thead>\n",
       "  <tbody>\n",
       "    <tr>\n",
       "      <th>22052</th>\n",
       "      <td>Anderson County Schools</td>\n",
       "      <td>Anderson County High School</td>\n",
       "      <td>15.1</td>\n",
       "      <td>18.3</td>\n",
       "      <td>5.0</td>\n",
       "      <td>53.0</td>\n",
       "    </tr>\n",
       "    <tr>\n",
       "      <th>22053</th>\n",
       "      <td>Anderson County Schools</td>\n",
       "      <td>Andersonville Elementary</td>\n",
       "      <td>8.6</td>\n",
       "      <td>10.6</td>\n",
       "      <td>1.0</td>\n",
       "      <td>24.0</td>\n",
       "    </tr>\n",
       "    <tr>\n",
       "      <th>22054</th>\n",
       "      <td>Anderson County Schools</td>\n",
       "      <td>Briceville Elementary</td>\n",
       "      <td>9.4</td>\n",
       "      <td>23</td>\n",
       "      <td>1.0</td>\n",
       "      <td>11.0</td>\n",
       "    </tr>\n",
       "    <tr>\n",
       "      <th>22055</th>\n",
       "      <td>Anderson County Schools</td>\n",
       "      <td>Claxton Elementary</td>\n",
       "      <td>14.4</td>\n",
       "      <td>21.3</td>\n",
       "      <td>2.0</td>\n",
       "      <td>35.0</td>\n",
       "    </tr>\n",
       "    <tr>\n",
       "      <th>22056</th>\n",
       "      <td>Anderson County Schools</td>\n",
       "      <td>Clinton Middle School</td>\n",
       "      <td>20.8</td>\n",
       "      <td>19.2</td>\n",
       "      <td>3.0</td>\n",
       "      <td>41.0</td>\n",
       "    </tr>\n",
       "  </tbody>\n",
       "</table>\n",
       "</div>"
      ],
      "text/plain": [
       "                 district_name                  school_name percent_ca  \\\n",
       "22052  Anderson County Schools  Anderson County High School       15.1   \n",
       "22053  Anderson County Schools     Andersonville Elementary        8.6   \n",
       "22054  Anderson County Schools        Briceville Elementary        9.4   \n",
       "22055  Anderson County Schools           Claxton Elementary       14.4   \n",
       "22056  Anderson County Schools        Clinton Middle School       20.8   \n",
       "\n",
       "      percent_ca_previous  admin  teacher  \n",
       "22052                18.3    5.0     53.0  \n",
       "22053                10.6    1.0     24.0  \n",
       "22054                  23    1.0     11.0  \n",
       "22055                21.3    2.0     35.0  \n",
       "22056                19.2    3.0     41.0  "
      ]
     },
     "execution_count": 88,
     "metadata": {},
     "output_type": "execute_result"
    }
   ],
   "source": [
    "merge_a.head()"
   ]
  },
  {
   "cell_type": "markdown",
   "metadata": {},
   "source": [
    "# Retention"
   ]
  },
  {
   "cell_type": "code",
   "execution_count": 64,
   "metadata": {},
   "outputs": [],
   "source": [
    "# drop columns\n",
    "# remove columns\n",
    "retention_df=retention_df.drop(['district_number', 'school_number','year'\n",
    "                              \n",
    "                         ], axis=1)"
   ]
  },
  {
   "cell_type": "code",
   "execution_count": 65,
   "metadata": {},
   "outputs": [
    {
     "data": {
      "text/plain": [
       "district_name       91\n",
       "school_name         91\n",
       "percent_retained     3\n",
       "dtype: int64"
      ]
     },
     "execution_count": 65,
     "metadata": {},
     "output_type": "execute_result"
    }
   ],
   "source": [
    "retention_df.isnull().sum()"
   ]
  },
  {
   "cell_type": "code",
   "execution_count": 66,
   "metadata": {},
   "outputs": [],
   "source": [
    "# remove missing\n",
    "retention_df=retention_df.dropna()"
   ]
  },
  {
   "cell_type": "code",
   "execution_count": 76,
   "metadata": {},
   "outputs": [],
   "source": [
    "# remove all schools\n",
    "retention_df=retention_df[retention_df['school_name'] !='All Schools' ]"
   ]
  },
  {
   "cell_type": "code",
   "execution_count": 79,
   "metadata": {},
   "outputs": [],
   "source": [
    "#retention_df"
   ]
  },
  {
   "cell_type": "code",
   "execution_count": 68,
   "metadata": {},
   "outputs": [
    {
     "data": {
      "text/plain": [
       "(1872, 3)"
      ]
     },
     "execution_count": 68,
     "metadata": {},
     "output_type": "execute_result"
    }
   ],
   "source": [
    "retention_df.shape"
   ]
  },
  {
   "cell_type": "code",
   "execution_count": 82,
   "metadata": {},
   "outputs": [
    {
     "data": {
      "text/html": [
       "<div>\n",
       "<style scoped>\n",
       "    .dataframe tbody tr th:only-of-type {\n",
       "        vertical-align: middle;\n",
       "    }\n",
       "\n",
       "    .dataframe tbody tr th {\n",
       "        vertical-align: top;\n",
       "    }\n",
       "\n",
       "    .dataframe thead th {\n",
       "        text-align: right;\n",
       "    }\n",
       "</style>\n",
       "<table border=\"1\" class=\"dataframe\">\n",
       "  <thead>\n",
       "    <tr style=\"text-align: right;\">\n",
       "      <th></th>\n",
       "      <th>district_name</th>\n",
       "      <th>school_name</th>\n",
       "      <th>percent_retained</th>\n",
       "    </tr>\n",
       "  </thead>\n",
       "  <tbody>\n",
       "    <tr>\n",
       "      <th>151</th>\n",
       "      <td>Metro Nashville Public Schools</td>\n",
       "      <td>A. Z. Kelley Elementary</td>\n",
       "      <td>77.4</td>\n",
       "    </tr>\n",
       "    <tr>\n",
       "      <th>152</th>\n",
       "      <td>Arlington Municipal School District</td>\n",
       "      <td>Arlington High</td>\n",
       "      <td>92.1</td>\n",
       "    </tr>\n",
       "    <tr>\n",
       "      <th>153</th>\n",
       "      <td>Rutherford County Schools</td>\n",
       "      <td>Blackman Elementary School</td>\n",
       "      <td>74.3</td>\n",
       "    </tr>\n",
       "    <tr>\n",
       "      <th>154</th>\n",
       "      <td>Anderson County Schools</td>\n",
       "      <td>Anderson County High School</td>\n",
       "      <td>91.0</td>\n",
       "    </tr>\n",
       "    <tr>\n",
       "      <th>155</th>\n",
       "      <td>Knox County Schools</td>\n",
       "      <td>Amherst Elementary School</td>\n",
       "      <td>85.0</td>\n",
       "    </tr>\n",
       "    <tr>\n",
       "      <th>...</th>\n",
       "      <td>...</td>\n",
       "      <td>...</td>\n",
       "      <td>...</td>\n",
       "    </tr>\n",
       "    <tr>\n",
       "      <th>1961</th>\n",
       "      <td>Shelby County Schools</td>\n",
       "      <td>Gateway University</td>\n",
       "      <td>0</td>\n",
       "    </tr>\n",
       "    <tr>\n",
       "      <th>1962</th>\n",
       "      <td>Shelby County Schools</td>\n",
       "      <td>Kaleidoscope School of Memphis</td>\n",
       "      <td>0</td>\n",
       "    </tr>\n",
       "    <tr>\n",
       "      <th>1963</th>\n",
       "      <td>Shelby County Schools</td>\n",
       "      <td>Memphis School of Excellence Elementary</td>\n",
       "      <td>100.0</td>\n",
       "    </tr>\n",
       "    <tr>\n",
       "      <th>1964</th>\n",
       "      <td>Shelby County Schools</td>\n",
       "      <td>Power Center Academy Elementary - Southeast</td>\n",
       "      <td>14.3</td>\n",
       "    </tr>\n",
       "    <tr>\n",
       "      <th>1965</th>\n",
       "      <td>Shelby County Schools</td>\n",
       "      <td>Southwest Early College High School</td>\n",
       "      <td>66.7</td>\n",
       "    </tr>\n",
       "  </tbody>\n",
       "</table>\n",
       "<p>1724 rows × 3 columns</p>\n",
       "</div>"
      ],
      "text/plain": [
       "                            district_name  \\\n",
       "151        Metro Nashville Public Schools   \n",
       "152   Arlington Municipal School District   \n",
       "153             Rutherford County Schools   \n",
       "154               Anderson County Schools   \n",
       "155                   Knox County Schools   \n",
       "...                                   ...   \n",
       "1961                Shelby County Schools   \n",
       "1962                Shelby County Schools   \n",
       "1963                Shelby County Schools   \n",
       "1964                Shelby County Schools   \n",
       "1965                Shelby County Schools   \n",
       "\n",
       "                                      school_name percent_retained  \n",
       "151                       A. Z. Kelley Elementary             77.4  \n",
       "152                                Arlington High             92.1  \n",
       "153                    Blackman Elementary School             74.3  \n",
       "154                   Anderson County High School             91.0  \n",
       "155                     Amherst Elementary School             85.0  \n",
       "...                                           ...              ...  \n",
       "1961                           Gateway University                0  \n",
       "1962               Kaleidoscope School of Memphis                0  \n",
       "1963      Memphis School of Excellence Elementary            100.0  \n",
       "1964  Power Center Academy Elementary - Southeast             14.3  \n",
       "1965          Southwest Early College High School             66.7  \n",
       "\n",
       "[1724 rows x 3 columns]"
      ]
     },
     "execution_count": 82,
     "metadata": {},
     "output_type": "execute_result"
    }
   ],
   "source": [
    "retention_df"
   ]
  },
  {
   "cell_type": "code",
   "execution_count": 90,
   "metadata": {},
   "outputs": [],
   "source": [
    "# drop district_name\n",
    "retention_df= retention_df.drop(['district_name'],axis=1)"
   ]
  },
  {
   "cell_type": "markdown",
   "metadata": {},
   "source": [
    "# merge retention with staff and absent"
   ]
  },
  {
   "cell_type": "code",
   "execution_count": 92,
   "metadata": {},
   "outputs": [],
   "source": [
    "# join by school_name\n",
    "merge_b= merge_a.merge(retention_df,how='inner', on=\"school_name\")"
   ]
  },
  {
   "cell_type": "code",
   "execution_count": 93,
   "metadata": {},
   "outputs": [
    {
     "data": {
      "text/html": [
       "<div>\n",
       "<style scoped>\n",
       "    .dataframe tbody tr th:only-of-type {\n",
       "        vertical-align: middle;\n",
       "    }\n",
       "\n",
       "    .dataframe tbody tr th {\n",
       "        vertical-align: top;\n",
       "    }\n",
       "\n",
       "    .dataframe thead th {\n",
       "        text-align: right;\n",
       "    }\n",
       "</style>\n",
       "<table border=\"1\" class=\"dataframe\">\n",
       "  <thead>\n",
       "    <tr style=\"text-align: right;\">\n",
       "      <th></th>\n",
       "      <th>district_name</th>\n",
       "      <th>school_name</th>\n",
       "      <th>percent_ca</th>\n",
       "      <th>percent_ca_previous</th>\n",
       "      <th>admin</th>\n",
       "      <th>teacher</th>\n",
       "      <th>percent_retained</th>\n",
       "    </tr>\n",
       "  </thead>\n",
       "  <tbody>\n",
       "    <tr>\n",
       "      <th>0</th>\n",
       "      <td>Anderson County Schools</td>\n",
       "      <td>Anderson County High School</td>\n",
       "      <td>15.1</td>\n",
       "      <td>18.3</td>\n",
       "      <td>5.0</td>\n",
       "      <td>53.0</td>\n",
       "      <td>91.0</td>\n",
       "    </tr>\n",
       "    <tr>\n",
       "      <th>1</th>\n",
       "      <td>Anderson County Schools</td>\n",
       "      <td>Andersonville Elementary</td>\n",
       "      <td>8.6</td>\n",
       "      <td>10.6</td>\n",
       "      <td>1.0</td>\n",
       "      <td>24.0</td>\n",
       "      <td>58.1</td>\n",
       "    </tr>\n",
       "    <tr>\n",
       "      <th>2</th>\n",
       "      <td>Anderson County Schools</td>\n",
       "      <td>Briceville Elementary</td>\n",
       "      <td>9.4</td>\n",
       "      <td>23</td>\n",
       "      <td>1.0</td>\n",
       "      <td>11.0</td>\n",
       "      <td>60.0</td>\n",
       "    </tr>\n",
       "    <tr>\n",
       "      <th>3</th>\n",
       "      <td>Anderson County Schools</td>\n",
       "      <td>Claxton Elementary</td>\n",
       "      <td>14.4</td>\n",
       "      <td>21.3</td>\n",
       "      <td>2.0</td>\n",
       "      <td>35.0</td>\n",
       "      <td>63.0</td>\n",
       "    </tr>\n",
       "    <tr>\n",
       "      <th>4</th>\n",
       "      <td>Anderson County Schools</td>\n",
       "      <td>Clinton Middle School</td>\n",
       "      <td>20.8</td>\n",
       "      <td>19.2</td>\n",
       "      <td>3.0</td>\n",
       "      <td>41.0</td>\n",
       "      <td>77.6</td>\n",
       "    </tr>\n",
       "    <tr>\n",
       "      <th>...</th>\n",
       "      <td>...</td>\n",
       "      <td>...</td>\n",
       "      <td>...</td>\n",
       "      <td>...</td>\n",
       "      <td>...</td>\n",
       "      <td>...</td>\n",
       "      <td>...</td>\n",
       "    </tr>\n",
       "    <tr>\n",
       "      <th>1666</th>\n",
       "      <td>Achievement School District</td>\n",
       "      <td>KIPP Memphis Preparatory Elementary</td>\n",
       "      <td>21.7</td>\n",
       "      <td>37.3</td>\n",
       "      <td>1.0</td>\n",
       "      <td>19.0</td>\n",
       "      <td>90.9</td>\n",
       "    </tr>\n",
       "    <tr>\n",
       "      <th>1667</th>\n",
       "      <td>Achievement School District</td>\n",
       "      <td>Cornerstone Prep Denver Campus</td>\n",
       "      <td>26.1</td>\n",
       "      <td>13.7</td>\n",
       "      <td>1.0</td>\n",
       "      <td>40.0</td>\n",
       "      <td>55.0</td>\n",
       "    </tr>\n",
       "    <tr>\n",
       "      <th>1668</th>\n",
       "      <td>Achievement School District</td>\n",
       "      <td>Kirby Middle School</td>\n",
       "      <td>25.1</td>\n",
       "      <td>16.8</td>\n",
       "      <td>3.0</td>\n",
       "      <td>19.0</td>\n",
       "      <td>77.8</td>\n",
       "    </tr>\n",
       "    <tr>\n",
       "      <th>1669</th>\n",
       "      <td>Achievement School District</td>\n",
       "      <td>Hillcrest High School</td>\n",
       "      <td>42.1</td>\n",
       "      <td>48.2</td>\n",
       "      <td>2.0</td>\n",
       "      <td>26.0</td>\n",
       "      <td>51.1</td>\n",
       "    </tr>\n",
       "    <tr>\n",
       "      <th>1670</th>\n",
       "      <td>Tennessee State Board of Education</td>\n",
       "      <td>Bluff City High School</td>\n",
       "      <td>29.9</td>\n",
       "      <td>23.3</td>\n",
       "      <td>2.0</td>\n",
       "      <td>13.0</td>\n",
       "      <td>66.7</td>\n",
       "    </tr>\n",
       "  </tbody>\n",
       "</table>\n",
       "<p>1671 rows × 7 columns</p>\n",
       "</div>"
      ],
      "text/plain": [
       "                           district_name                          school_name  \\\n",
       "0                Anderson County Schools          Anderson County High School   \n",
       "1                Anderson County Schools             Andersonville Elementary   \n",
       "2                Anderson County Schools                Briceville Elementary   \n",
       "3                Anderson County Schools                   Claxton Elementary   \n",
       "4                Anderson County Schools                Clinton Middle School   \n",
       "...                                  ...                                  ...   \n",
       "1666         Achievement School District  KIPP Memphis Preparatory Elementary   \n",
       "1667         Achievement School District       Cornerstone Prep Denver Campus   \n",
       "1668         Achievement School District                  Kirby Middle School   \n",
       "1669         Achievement School District                Hillcrest High School   \n",
       "1670  Tennessee State Board of Education               Bluff City High School   \n",
       "\n",
       "     percent_ca percent_ca_previous  admin  teacher percent_retained  \n",
       "0          15.1                18.3    5.0     53.0             91.0  \n",
       "1           8.6                10.6    1.0     24.0             58.1  \n",
       "2           9.4                  23    1.0     11.0             60.0  \n",
       "3          14.4                21.3    2.0     35.0             63.0  \n",
       "4          20.8                19.2    3.0     41.0             77.6  \n",
       "...         ...                 ...    ...      ...              ...  \n",
       "1666       21.7                37.3    1.0     19.0             90.9  \n",
       "1667       26.1                13.7    1.0     40.0             55.0  \n",
       "1668       25.1                16.8    3.0     19.0             77.8  \n",
       "1669       42.1                48.2    2.0     26.0             51.1  \n",
       "1670       29.9                23.3    2.0     13.0             66.7  \n",
       "\n",
       "[1671 rows x 7 columns]"
      ]
     },
     "execution_count": 93,
     "metadata": {},
     "output_type": "execute_result"
    }
   ],
   "source": [
    "merge_b"
   ]
  },
  {
   "cell_type": "code",
   "execution_count": 95,
   "metadata": {},
   "outputs": [],
   "source": [
    "# remove dup\n",
    "merge_b=merge_b.drop_duplicates(subset=['school_name'])"
   ]
  },
  {
   "cell_type": "code",
   "execution_count": 96,
   "metadata": {},
   "outputs": [],
   "source": [
    "# convert to a csv\n",
    "merge_b.to_csv('asr_tn_data.csv', index=False)"
   ]
  },
  {
   "cell_type": "code",
   "execution_count": 100,
   "metadata": {},
   "outputs": [
    {
     "data": {
      "text/html": [
       "<div>\n",
       "<style scoped>\n",
       "    .dataframe tbody tr th:only-of-type {\n",
       "        vertical-align: middle;\n",
       "    }\n",
       "\n",
       "    .dataframe tbody tr th {\n",
       "        vertical-align: top;\n",
       "    }\n",
       "\n",
       "    .dataframe thead th {\n",
       "        text-align: right;\n",
       "    }\n",
       "</style>\n",
       "<table border=\"1\" class=\"dataframe\">\n",
       "  <thead>\n",
       "    <tr style=\"text-align: right;\">\n",
       "      <th></th>\n",
       "      <th>district_name</th>\n",
       "      <th>school_name</th>\n",
       "      <th>percent_ca</th>\n",
       "      <th>percent_ca_previous</th>\n",
       "      <th>admin</th>\n",
       "      <th>teacher</th>\n",
       "      <th>percent_retained</th>\n",
       "    </tr>\n",
       "  </thead>\n",
       "  <tbody>\n",
       "    <tr>\n",
       "      <th>0</th>\n",
       "      <td>Anderson County Schools</td>\n",
       "      <td>Anderson County High School</td>\n",
       "      <td>15.1</td>\n",
       "      <td>18.3</td>\n",
       "      <td>5.0</td>\n",
       "      <td>53.0</td>\n",
       "      <td>91.0</td>\n",
       "    </tr>\n",
       "    <tr>\n",
       "      <th>1</th>\n",
       "      <td>Anderson County Schools</td>\n",
       "      <td>Andersonville Elementary</td>\n",
       "      <td>8.6</td>\n",
       "      <td>10.6</td>\n",
       "      <td>1.0</td>\n",
       "      <td>24.0</td>\n",
       "      <td>58.1</td>\n",
       "    </tr>\n",
       "    <tr>\n",
       "      <th>2</th>\n",
       "      <td>Anderson County Schools</td>\n",
       "      <td>Briceville Elementary</td>\n",
       "      <td>9.4</td>\n",
       "      <td>23</td>\n",
       "      <td>1.0</td>\n",
       "      <td>11.0</td>\n",
       "      <td>60.0</td>\n",
       "    </tr>\n",
       "  </tbody>\n",
       "</table>\n",
       "</div>"
      ],
      "text/plain": [
       "             district_name                  school_name percent_ca  \\\n",
       "0  Anderson County Schools  Anderson County High School       15.1   \n",
       "1  Anderson County Schools     Andersonville Elementary        8.6   \n",
       "2  Anderson County Schools        Briceville Elementary        9.4   \n",
       "\n",
       "  percent_ca_previous  admin  teacher percent_retained  \n",
       "0                18.3    5.0     53.0             91.0  \n",
       "1                10.6    1.0     24.0             58.1  \n",
       "2                  23    1.0     11.0             60.0  "
      ]
     },
     "execution_count": 100,
     "metadata": {},
     "output_type": "execute_result"
    }
   ],
   "source": [
    "merge_b.head(3)"
   ]
  },
  {
   "cell_type": "markdown",
   "metadata": {},
   "source": [
    "# grades"
   ]
  },
  {
   "cell_type": "code",
   "execution_count": 109,
   "metadata": {},
   "outputs": [
    {
     "data": {
      "text/html": [
       "<div>\n",
       "<style scoped>\n",
       "    .dataframe tbody tr th:only-of-type {\n",
       "        vertical-align: middle;\n",
       "    }\n",
       "\n",
       "    .dataframe tbody tr th {\n",
       "        vertical-align: top;\n",
       "    }\n",
       "\n",
       "    .dataframe thead th {\n",
       "        text-align: right;\n",
       "    }\n",
       "</style>\n",
       "<table border=\"1\" class=\"dataframe\">\n",
       "  <thead>\n",
       "    <tr style=\"text-align: right;\">\n",
       "      <th></th>\n",
       "      <th>school_name</th>\n",
       "      <th>pool</th>\n",
       "      <th>score_achievement</th>\n",
       "      <th>score_growth</th>\n",
       "      <th>score_absenteeism</th>\n",
       "    </tr>\n",
       "  </thead>\n",
       "  <tbody>\n",
       "    <tr>\n",
       "      <th>0</th>\n",
       "      <td>Anderson County High School</td>\n",
       "      <td>HS</td>\n",
       "      <td>2.6</td>\n",
       "      <td>3.6</td>\n",
       "      <td>4.0</td>\n",
       "    </tr>\n",
       "    <tr>\n",
       "      <th>1</th>\n",
       "      <td>Andersonville Elementary</td>\n",
       "      <td>K8</td>\n",
       "      <td>4.0</td>\n",
       "      <td>3.4</td>\n",
       "      <td>3.4</td>\n",
       "    </tr>\n",
       "    <tr>\n",
       "      <th>2</th>\n",
       "      <td>Briceville Elementary</td>\n",
       "      <td>K8</td>\n",
       "      <td>2.0</td>\n",
       "      <td>3.8</td>\n",
       "      <td>4.0</td>\n",
       "    </tr>\n",
       "    <tr>\n",
       "      <th>3</th>\n",
       "      <td>Claxton Elementary</td>\n",
       "      <td>K8</td>\n",
       "      <td>2.0</td>\n",
       "      <td>2.7</td>\n",
       "      <td>4.0</td>\n",
       "    </tr>\n",
       "    <tr>\n",
       "      <th>4</th>\n",
       "      <td>Clinton Middle School</td>\n",
       "      <td>K8</td>\n",
       "      <td>1.7</td>\n",
       "      <td>0.5</td>\n",
       "      <td>2.4</td>\n",
       "    </tr>\n",
       "    <tr>\n",
       "      <th>...</th>\n",
       "      <td>...</td>\n",
       "      <td>...</td>\n",
       "      <td>...</td>\n",
       "      <td>...</td>\n",
       "      <td>...</td>\n",
       "    </tr>\n",
       "    <tr>\n",
       "      <th>1752</th>\n",
       "      <td>Memphis Scholars Caldwell-Guthrie</td>\n",
       "      <td>K8</td>\n",
       "      <td>1.2</td>\n",
       "      <td>3.0</td>\n",
       "      <td>0.0</td>\n",
       "    </tr>\n",
       "    <tr>\n",
       "      <th>1753</th>\n",
       "      <td>Memphis Scholars Raleigh-Egypt</td>\n",
       "      <td>K8</td>\n",
       "      <td>1.0</td>\n",
       "      <td>0.9</td>\n",
       "      <td>2.0</td>\n",
       "    </tr>\n",
       "    <tr>\n",
       "      <th>1754</th>\n",
       "      <td>Kirby Middle School</td>\n",
       "      <td>K8</td>\n",
       "      <td>1.1</td>\n",
       "      <td>2.0</td>\n",
       "      <td>0.4</td>\n",
       "    </tr>\n",
       "    <tr>\n",
       "      <th>1755</th>\n",
       "      <td>Hillcrest High School</td>\n",
       "      <td>HS</td>\n",
       "      <td>1.1</td>\n",
       "      <td>1.3</td>\n",
       "      <td>3.5</td>\n",
       "    </tr>\n",
       "    <tr>\n",
       "      <th>1756</th>\n",
       "      <td>Bluff City High School</td>\n",
       "      <td>K8</td>\n",
       "      <td>1.7</td>\n",
       "      <td>3.6</td>\n",
       "      <td>0.0</td>\n",
       "    </tr>\n",
       "  </tbody>\n",
       "</table>\n",
       "<p>1654 rows × 5 columns</p>\n",
       "</div>"
      ],
      "text/plain": [
       "                            school_name pool  score_achievement  score_growth  \\\n",
       "0           Anderson County High School   HS                2.6           3.6   \n",
       "1              Andersonville Elementary   K8                4.0           3.4   \n",
       "2                 Briceville Elementary   K8                2.0           3.8   \n",
       "3                    Claxton Elementary   K8                2.0           2.7   \n",
       "4                 Clinton Middle School   K8                1.7           0.5   \n",
       "...                                 ...  ...                ...           ...   \n",
       "1752  Memphis Scholars Caldwell-Guthrie   K8                1.2           3.0   \n",
       "1753     Memphis Scholars Raleigh-Egypt   K8                1.0           0.9   \n",
       "1754                Kirby Middle School   K8                1.1           2.0   \n",
       "1755              Hillcrest High School   HS                1.1           1.3   \n",
       "1756             Bluff City High School   K8                1.7           3.6   \n",
       "\n",
       "      score_absenteeism  \n",
       "0                   4.0  \n",
       "1                   3.4  \n",
       "2                   4.0  \n",
       "3                   4.0  \n",
       "4                   2.4  \n",
       "...                 ...  \n",
       "1752                0.0  \n",
       "1753                2.0  \n",
       "1754                0.4  \n",
       "1755                3.5  \n",
       "1756                0.0  \n",
       "\n",
       "[1654 rows x 5 columns]"
      ]
     },
     "execution_count": 109,
     "metadata": {},
     "output_type": "execute_result"
    }
   ],
   "source": [
    "grades_df"
   ]
  },
  {
   "cell_type": "code",
   "execution_count": 102,
   "metadata": {},
   "outputs": [],
   "source": [
    "grades_df= grades_df.drop(['district_name','district_number','school_number','year','score_ready_grad',\n",
    "                           'score_grad','score_elpa'\n",
    "                          ],axis=1)"
   ]
  },
  {
   "cell_type": "code",
   "execution_count": 105,
   "metadata": {},
   "outputs": [],
   "source": [
    "grades_df=grades_df.dropna()"
   ]
  },
  {
   "cell_type": "code",
   "execution_count": 106,
   "metadata": {},
   "outputs": [
    {
     "data": {
      "text/plain": [
       "(1654, 5)"
      ]
     },
     "execution_count": 106,
     "metadata": {},
     "output_type": "execute_result"
    }
   ],
   "source": [
    "grades_df.shape"
   ]
  },
  {
   "cell_type": "code",
   "execution_count": 111,
   "metadata": {},
   "outputs": [],
   "source": [
    "# join by school_name\n",
    "merge_c= merge_b.merge(grades_df,how='inner', on=\"school_name\")"
   ]
  },
  {
   "cell_type": "code",
   "execution_count": 112,
   "metadata": {},
   "outputs": [],
   "source": [
    "# remove dup\n",
    "merge_c=merge_c.drop_duplicates(subset=['school_name'])"
   ]
  },
  {
   "cell_type": "code",
   "execution_count": 113,
   "metadata": {},
   "outputs": [
    {
     "data": {
      "text/plain": [
       "(1537, 11)"
      ]
     },
     "execution_count": 113,
     "metadata": {},
     "output_type": "execute_result"
    }
   ],
   "source": [
    "merge_c.shape"
   ]
  },
  {
   "cell_type": "code",
   "execution_count": 114,
   "metadata": {},
   "outputs": [],
   "source": [
    "# convert to a csv\n",
    "merge_c.to_csv('asrg_tn_data.csv', index=False)"
   ]
  },
  {
   "cell_type": "markdown",
   "metadata": {},
   "source": [
    "# enrollment"
   ]
  },
  {
   "cell_type": "code",
   "execution_count": 129,
   "metadata": {},
   "outputs": [
    {
     "data": {
      "text/html": [
       "<div>\n",
       "<style scoped>\n",
       "    .dataframe tbody tr th:only-of-type {\n",
       "        vertical-align: middle;\n",
       "    }\n",
       "\n",
       "    .dataframe tbody tr th {\n",
       "        vertical-align: top;\n",
       "    }\n",
       "\n",
       "    .dataframe thead th {\n",
       "        text-align: right;\n",
       "    }\n",
       "</style>\n",
       "<table border=\"1\" class=\"dataframe\">\n",
       "  <thead>\n",
       "    <tr style=\"text-align: right;\">\n",
       "      <th></th>\n",
       "      <th>school_name</th>\n",
       "      <th>value</th>\n",
       "      <th>value_previous</th>\n",
       "    </tr>\n",
       "  </thead>\n",
       "  <tbody>\n",
       "    <tr>\n",
       "      <th>2682</th>\n",
       "      <td>Anderson County High School</td>\n",
       "      <td>1075.0</td>\n",
       "      <td>1056.0</td>\n",
       "    </tr>\n",
       "    <tr>\n",
       "      <th>2700</th>\n",
       "      <td>Andersonville Elementary</td>\n",
       "      <td>304.0</td>\n",
       "      <td>310.0</td>\n",
       "    </tr>\n",
       "    <tr>\n",
       "      <th>2718</th>\n",
       "      <td>Briceville Elementary</td>\n",
       "      <td>117.0</td>\n",
       "      <td>109.0</td>\n",
       "    </tr>\n",
       "    <tr>\n",
       "      <th>2736</th>\n",
       "      <td>Claxton Elementary</td>\n",
       "      <td>443.0</td>\n",
       "      <td>459.0</td>\n",
       "    </tr>\n",
       "    <tr>\n",
       "      <th>2754</th>\n",
       "      <td>Clinton Middle School</td>\n",
       "      <td>664.0</td>\n",
       "      <td>666.0</td>\n",
       "    </tr>\n",
       "    <tr>\n",
       "      <th>...</th>\n",
       "      <td>...</td>\n",
       "      <td>...</td>\n",
       "      <td>...</td>\n",
       "    </tr>\n",
       "    <tr>\n",
       "      <th>34236</th>\n",
       "      <td>Memphis Scholars Raleigh-Egypt</td>\n",
       "      <td>103.0</td>\n",
       "      <td>99.0</td>\n",
       "    </tr>\n",
       "    <tr>\n",
       "      <th>34254</th>\n",
       "      <td>Kirby Middle School</td>\n",
       "      <td>384.0</td>\n",
       "      <td>393.0</td>\n",
       "    </tr>\n",
       "    <tr>\n",
       "      <th>34272</th>\n",
       "      <td>Hillcrest High School</td>\n",
       "      <td>461.0</td>\n",
       "      <td>442.0</td>\n",
       "    </tr>\n",
       "    <tr>\n",
       "      <th>34290</th>\n",
       "      <td>Bluff City High School</td>\n",
       "      <td>305.0</td>\n",
       "      <td>156.0</td>\n",
       "    </tr>\n",
       "    <tr>\n",
       "      <th>34308</th>\n",
       "      <td>KIPP Antioch College Prep Elementary</td>\n",
       "      <td>144.0</td>\n",
       "      <td>NaN</td>\n",
       "    </tr>\n",
       "  </tbody>\n",
       "</table>\n",
       "<p>1758 rows × 3 columns</p>\n",
       "</div>"
      ],
      "text/plain": [
       "                                school_name   value  value_previous\n",
       "2682            Anderson County High School  1075.0          1056.0\n",
       "2700               Andersonville Elementary   304.0           310.0\n",
       "2718                  Briceville Elementary   117.0           109.0\n",
       "2736                     Claxton Elementary   443.0           459.0\n",
       "2754                  Clinton Middle School   664.0           666.0\n",
       "...                                     ...     ...             ...\n",
       "34236        Memphis Scholars Raleigh-Egypt   103.0            99.0\n",
       "34254                   Kirby Middle School   384.0           393.0\n",
       "34272                 Hillcrest High School   461.0           442.0\n",
       "34290                Bluff City High School   305.0           156.0\n",
       "34308  KIPP Antioch College Prep Elementary   144.0             NaN\n",
       "\n",
       "[1758 rows x 3 columns]"
      ]
     },
     "execution_count": 129,
     "metadata": {},
     "output_type": "execute_result"
    }
   ],
   "source": [
    "enrollment_df"
   ]
  },
  {
   "cell_type": "code",
   "execution_count": 121,
   "metadata": {},
   "outputs": [],
   "source": [
    "# filter by subgroup\n",
    "enrollment_df=enrollment_df[enrollment_df.subgroup =='all_students']"
   ]
  },
  {
   "cell_type": "code",
   "execution_count": 123,
   "metadata": {},
   "outputs": [],
   "source": [
    "enrollment_df=enrollment_df.drop(['district_name','district_number','school_number','year',\n",
    "                           'grades_served'\n",
    "                          ],axis=1)"
   ]
  },
  {
   "cell_type": "code",
   "execution_count": 126,
   "metadata": {},
   "outputs": [],
   "source": [
    "enrollment_df=enrollment_df.drop(['subgroup'],axis=1)"
   ]
  },
  {
   "cell_type": "code",
   "execution_count": 128,
   "metadata": {},
   "outputs": [],
   "source": [
    "# remove all schools\n",
    "enrollment_df=enrollment_df[enrollment_df['school_name'] !='All Schools' ]"
   ]
  },
  {
   "cell_type": "code",
   "execution_count": 132,
   "metadata": {},
   "outputs": [],
   "source": [
    "merge_d= merge_c.merge(enrollment_df,how='inner', on=\"school_name\")"
   ]
  },
  {
   "cell_type": "code",
   "execution_count": 133,
   "metadata": {},
   "outputs": [],
   "source": [
    "merge_d=merge_d.drop_duplicates(subset=['school_name'])"
   ]
  },
  {
   "cell_type": "code",
   "execution_count": 141,
   "metadata": {},
   "outputs": [
    {
     "data": {
      "text/html": [
       "<div>\n",
       "<style scoped>\n",
       "    .dataframe tbody tr th:only-of-type {\n",
       "        vertical-align: middle;\n",
       "    }\n",
       "\n",
       "    .dataframe tbody tr th {\n",
       "        vertical-align: top;\n",
       "    }\n",
       "\n",
       "    .dataframe thead th {\n",
       "        text-align: right;\n",
       "    }\n",
       "</style>\n",
       "<table border=\"1\" class=\"dataframe\">\n",
       "  <thead>\n",
       "    <tr style=\"text-align: right;\">\n",
       "      <th></th>\n",
       "      <th>district_name</th>\n",
       "      <th>school_name</th>\n",
       "      <th>percent_ca</th>\n",
       "      <th>percent_ca_previous</th>\n",
       "      <th>admin</th>\n",
       "      <th>teacher</th>\n",
       "      <th>percent_retained</th>\n",
       "      <th>pool</th>\n",
       "      <th>score_achievement</th>\n",
       "      <th>score_growth</th>\n",
       "      <th>score_absenteeism</th>\n",
       "      <th>value</th>\n",
       "      <th>value_previous</th>\n",
       "    </tr>\n",
       "  </thead>\n",
       "  <tbody>\n",
       "    <tr>\n",
       "      <th>0</th>\n",
       "      <td>Anderson County Schools</td>\n",
       "      <td>Anderson County High School</td>\n",
       "      <td>15.1</td>\n",
       "      <td>18.3</td>\n",
       "      <td>5.0</td>\n",
       "      <td>53.0</td>\n",
       "      <td>91.0</td>\n",
       "      <td>HS</td>\n",
       "      <td>2.6</td>\n",
       "      <td>3.6</td>\n",
       "      <td>4.0</td>\n",
       "      <td>1075.0</td>\n",
       "      <td>1056.0</td>\n",
       "    </tr>\n",
       "    <tr>\n",
       "      <th>1</th>\n",
       "      <td>Anderson County Schools</td>\n",
       "      <td>Andersonville Elementary</td>\n",
       "      <td>8.6</td>\n",
       "      <td>10.6</td>\n",
       "      <td>1.0</td>\n",
       "      <td>24.0</td>\n",
       "      <td>58.1</td>\n",
       "      <td>K8</td>\n",
       "      <td>4.0</td>\n",
       "      <td>3.4</td>\n",
       "      <td>3.4</td>\n",
       "      <td>304.0</td>\n",
       "      <td>310.0</td>\n",
       "    </tr>\n",
       "    <tr>\n",
       "      <th>2</th>\n",
       "      <td>Anderson County Schools</td>\n",
       "      <td>Briceville Elementary</td>\n",
       "      <td>9.4</td>\n",
       "      <td>23</td>\n",
       "      <td>1.0</td>\n",
       "      <td>11.0</td>\n",
       "      <td>60.0</td>\n",
       "      <td>K8</td>\n",
       "      <td>2.0</td>\n",
       "      <td>3.8</td>\n",
       "      <td>4.0</td>\n",
       "      <td>117.0</td>\n",
       "      <td>109.0</td>\n",
       "    </tr>\n",
       "  </tbody>\n",
       "</table>\n",
       "</div>"
      ],
      "text/plain": [
       "             district_name                  school_name percent_ca  \\\n",
       "0  Anderson County Schools  Anderson County High School       15.1   \n",
       "1  Anderson County Schools     Andersonville Elementary        8.6   \n",
       "2  Anderson County Schools        Briceville Elementary        9.4   \n",
       "\n",
       "  percent_ca_previous  admin  teacher percent_retained pool  \\\n",
       "0                18.3    5.0     53.0             91.0   HS   \n",
       "1                10.6    1.0     24.0             58.1   K8   \n",
       "2                  23    1.0     11.0             60.0   K8   \n",
       "\n",
       "   score_achievement  score_growth  score_absenteeism   value  value_previous  \n",
       "0                2.6           3.6                4.0  1075.0          1056.0  \n",
       "1                4.0           3.4                3.4   304.0           310.0  \n",
       "2                2.0           3.8                4.0   117.0           109.0  "
      ]
     },
     "execution_count": 141,
     "metadata": {},
     "output_type": "execute_result"
    }
   ],
   "source": [
    "merge_d.head(3)a"
   ]
  },
  {
   "cell_type": "markdown",
   "metadata": {},
   "source": [
    "# ACT"
   ]
  },
  {
   "cell_type": "code",
   "execution_count": 160,
   "metadata": {},
   "outputs": [
    {
     "data": {
      "text/html": [
       "<div>\n",
       "<style scoped>\n",
       "    .dataframe tbody tr th:only-of-type {\n",
       "        vertical-align: middle;\n",
       "    }\n",
       "\n",
       "    .dataframe tbody tr th {\n",
       "        vertical-align: top;\n",
       "    }\n",
       "\n",
       "    .dataframe thead th {\n",
       "        text-align: right;\n",
       "    }\n",
       "</style>\n",
       "<table border=\"1\" class=\"dataframe\">\n",
       "  <thead>\n",
       "    <tr style=\"text-align: right;\">\n",
       "      <th></th>\n",
       "      <th>school_name</th>\n",
       "      <th>act_composite_avg</th>\n",
       "      <th>percent_21_orhigher</th>\n",
       "      <th>avg_composite_previous</th>\n",
       "      <th>percent_21_orhigher_previous</th>\n",
       "    </tr>\n",
       "  </thead>\n",
       "  <tbody>\n",
       "    <tr>\n",
       "      <th>0</th>\n",
       "      <td>All Schools</td>\n",
       "      <td>20.2</td>\n",
       "      <td>43.3</td>\n",
       "      <td>20.1</td>\n",
       "      <td>42.1</td>\n",
       "    </tr>\n",
       "    <tr>\n",
       "      <th>1</th>\n",
       "      <td>All Schools</td>\n",
       "      <td>20.2</td>\n",
       "      <td>43.3</td>\n",
       "      <td>20.1</td>\n",
       "      <td>42.1</td>\n",
       "    </tr>\n",
       "    <tr>\n",
       "      <th>12</th>\n",
       "      <td>All Schools</td>\n",
       "      <td>19.4</td>\n",
       "      <td>38</td>\n",
       "      <td>19.1</td>\n",
       "      <td>35.5</td>\n",
       "    </tr>\n",
       "  </tbody>\n",
       "</table>\n",
       "</div>"
      ],
      "text/plain": [
       "    school_name act_composite_avg percent_21_orhigher avg_composite_previous  \\\n",
       "0   All Schools              20.2                43.3                   20.1   \n",
       "1   All Schools              20.2                43.3                   20.1   \n",
       "12  All Schools              19.4                  38                   19.1   \n",
       "\n",
       "   percent_21_orhigher_previous  \n",
       "0                          42.1  \n",
       "1                          42.1  \n",
       "12                         35.5  "
      ]
     },
     "execution_count": 160,
     "metadata": {},
     "output_type": "execute_result"
    }
   ],
   "source": [
    "dfa.head(3)"
   ]
  },
  {
   "cell_type": "code",
   "execution_count": 161,
   "metadata": {},
   "outputs": [],
   "source": [
    "# remove all schools\n",
    "act_df=act_df[act_df['school_name'] !='All Schools']"
   ]
  },
  {
   "cell_type": "code",
   "execution_count": 137,
   "metadata": {},
   "outputs": [],
   "source": [
    "# filter by subgroup\n",
    "act_df=act_df[act_df.subgroup =='all_students']"
   ]
  },
  {
   "cell_type": "code",
   "execution_count": 153,
   "metadata": {},
   "outputs": [],
   "source": [
    "act_df=act_df.drop(['district_name','district_number','school_number','year','english_avg','math_avg',\n",
    "                           'science_avg','reading_avg','percent_met_crb_reading','avg_composite_baseline_year',\n",
    "                    'percent_21_orhigher_baseline_year','subgroup','percent_met_crb_english','percent_met_crb_math',\n",
    "            'percent_met_crb_science','percent_met_all4_crb',              \n",
    "            ],axis=1)"
   ]
  },
  {
   "cell_type": "code",
   "execution_count": 157,
   "metadata": {},
   "outputs": [],
   "source": [
    "# remove all schools\n",
    "act_df= act_df.dropna()"
   ]
  },
  {
   "cell_type": "code",
   "execution_count": null,
   "metadata": {},
   "outputs": [],
   "source": [
    "# remove *"
   ]
  },
  {
   "cell_type": "code",
   "execution_count": null,
   "metadata": {},
   "outputs": [],
   "source": [
    "# remove **"
   ]
  },
  {
   "cell_type": "code",
   "execution_count": 165,
   "metadata": {
    "scrolled": true
   },
   "outputs": [
    {
     "data": {
      "text/html": [
       "<div>\n",
       "<style scoped>\n",
       "    .dataframe tbody tr th:only-of-type {\n",
       "        vertical-align: middle;\n",
       "    }\n",
       "\n",
       "    .dataframe tbody tr th {\n",
       "        vertical-align: top;\n",
       "    }\n",
       "\n",
       "    .dataframe thead th {\n",
       "        text-align: right;\n",
       "    }\n",
       "</style>\n",
       "<table border=\"1\" class=\"dataframe\">\n",
       "  <thead>\n",
       "    <tr style=\"text-align: right;\">\n",
       "      <th></th>\n",
       "      <th>school_name</th>\n",
       "      <th>act_composite_avg</th>\n",
       "      <th>percent_21_orhigher</th>\n",
       "      <th>avg_composite_previous</th>\n",
       "      <th>percent_21_orhigher_previous</th>\n",
       "    </tr>\n",
       "  </thead>\n",
       "  <tbody>\n",
       "    <tr>\n",
       "      <th>11268</th>\n",
       "      <td>Pathways in Education - TN</td>\n",
       "      <td>*</td>\n",
       "      <td>*</td>\n",
       "      <td>*</td>\n",
       "      <td>*</td>\n",
       "    </tr>\n",
       "    <tr>\n",
       "      <th>11274</th>\n",
       "      <td>Pathways in Education - Whitehaven</td>\n",
       "      <td>*</td>\n",
       "      <td>*</td>\n",
       "      <td>*</td>\n",
       "      <td>*</td>\n",
       "    </tr>\n",
       "    <tr>\n",
       "      <th>11328</th>\n",
       "      <td>Fairley High School</td>\n",
       "      <td>15.4</td>\n",
       "      <td>5.6</td>\n",
       "      <td>15.7</td>\n",
       "      <td>9.4</td>\n",
       "    </tr>\n",
       "    <tr>\n",
       "      <th>11340</th>\n",
       "      <td>Martin Luther King Preparatory High School</td>\n",
       "      <td>15.5</td>\n",
       "      <td>5.7</td>\n",
       "      <td>15.4</td>\n",
       "      <td>**</td>\n",
       "    </tr>\n",
       "    <tr>\n",
       "      <th>11412</th>\n",
       "      <td>Hillcrest High School</td>\n",
       "      <td>15.3</td>\n",
       "      <td>**</td>\n",
       "      <td>15.4</td>\n",
       "      <td>**</td>\n",
       "    </tr>\n",
       "  </tbody>\n",
       "</table>\n",
       "</div>"
      ],
      "text/plain": [
       "                                      school_name act_composite_avg  \\\n",
       "11268                  Pathways in Education - TN                 *   \n",
       "11274          Pathways in Education - Whitehaven                 *   \n",
       "11328                         Fairley High School              15.4   \n",
       "11340  Martin Luther King Preparatory High School              15.5   \n",
       "11412                       Hillcrest High School              15.3   \n",
       "\n",
       "      percent_21_orhigher avg_composite_previous percent_21_orhigher_previous  \n",
       "11268                   *                      *                            *  \n",
       "11274                   *                      *                            *  \n",
       "11328                 5.6                   15.7                          9.4  \n",
       "11340                 5.7                   15.4                           **  \n",
       "11412                  **                   15.4                           **  "
      ]
     },
     "execution_count": 165,
     "metadata": {},
     "output_type": "execute_result"
    }
   ],
   "source": [
    "act_df.tail()"
   ]
  },
  {
   "cell_type": "code",
   "execution_count": 171,
   "metadata": {},
   "outputs": [],
   "source": [
    "act_df= act_df[act_df['act_composite_avg']!= '*']"
   ]
  },
  {
   "cell_type": "code",
   "execution_count": 173,
   "metadata": {},
   "outputs": [],
   "source": [
    "act_df= act_df[act_df['act_composite_avg']!= '**']"
   ]
  },
  {
   "cell_type": "code",
   "execution_count": null,
   "metadata": {},
   "outputs": [],
   "source": [
    "# remove ** and * from 21 or higher avg_composit and 21_or higher previous 2017"
   ]
  },
  {
   "cell_type": "code",
   "execution_count": 163,
   "metadata": {
    "scrolled": true
   },
   "outputs": [
    {
     "data": {
      "text/plain": [
       "(359, 5)"
      ]
     },
     "execution_count": 163,
     "metadata": {},
     "output_type": "execute_result"
    }
   ],
   "source": [
    "act_df.shape"
   ]
  },
  {
   "cell_type": "markdown",
   "metadata": {},
   "source": [
    "# Drop out"
   ]
  },
  {
   "cell_type": "code",
   "execution_count": null,
   "metadata": {},
   "outputs": [],
   "source": []
  },
  {
   "cell_type": "code",
   "execution_count": null,
   "metadata": {},
   "outputs": [],
   "source": []
  },
  {
   "cell_type": "code",
   "execution_count": null,
   "metadata": {},
   "outputs": [],
   "source": []
  },
  {
   "cell_type": "markdown",
   "metadata": {},
   "source": [
    "# Grad rate"
   ]
  },
  {
   "cell_type": "code",
   "execution_count": null,
   "metadata": {},
   "outputs": [],
   "source": []
  },
  {
   "cell_type": "code",
   "execution_count": null,
   "metadata": {},
   "outputs": [],
   "source": []
  },
  {
   "cell_type": "code",
   "execution_count": null,
   "metadata": {},
   "outputs": [],
   "source": []
  },
  {
   "cell_type": "code",
   "execution_count": null,
   "metadata": {},
   "outputs": [],
   "source": []
  },
  {
   "cell_type": "markdown",
   "metadata": {},
   "source": [
    "# finance"
   ]
  },
  {
   "cell_type": "code",
   "execution_count": null,
   "metadata": {},
   "outputs": [],
   "source": [
    "# new df to aggregate enrollment"
   ]
  },
  {
   "cell_type": "code",
   "execution_count": null,
   "metadata": {},
   "outputs": [],
   "source": []
  }
 ],
 "metadata": {
  "kernelspec": {
   "display_name": "Python 3",
   "language": "python",
   "name": "python3"
  },
  "language_info": {
   "codemirror_mode": {
    "name": "ipython",
    "version": 3
   },
   "file_extension": ".py",
   "mimetype": "text/x-python",
   "name": "python",
   "nbconvert_exporter": "python",
   "pygments_lexer": "ipython3",
   "version": "3.8.5"
  }
 },
 "nbformat": 4,
 "nbformat_minor": 4
}
