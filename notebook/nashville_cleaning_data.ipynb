{
 "cells": [
  {
   "cell_type": "code",
   "execution_count": 1,
   "metadata": {},
   "outputs": [],
   "source": [
    "import pandas as pd\n",
    "\n",
    "# helps convert zip to lat and long\n",
    "from pyzipcode import ZipCodeDatabase"
   ]
  },
  {
   "cell_type": "code",
   "execution_count": 2,
   "metadata": {},
   "outputs": [],
   "source": [
    "#tn_school =pd.read_csv('../data/clean_data/clean_data.csv')"
   ]
  },
  {
   "cell_type": "code",
   "execution_count": 3,
   "metadata": {},
   "outputs": [],
   "source": [
    "#tn_school.shape"
   ]
  },
  {
   "cell_type": "code",
   "execution_count": 138,
   "metadata": {},
   "outputs": [],
   "source": [
    "absent_df = pd.read_csv('../data/original_data/school_chronic_absenteeism_suppressed.csv')"
   ]
  },
  {
   "cell_type": "code",
   "execution_count": 139,
   "metadata": {},
   "outputs": [],
   "source": [
    "absent_df=absent_df[absent_df.subgroup =='All Students']"
   ]
  },
  {
   "cell_type": "code",
   "execution_count": 6,
   "metadata": {},
   "outputs": [],
   "source": [
    "# remove *\n",
    "#absent_df['pct_chronically_absent']= absent_df['pct_chronically_absent'].replace('*','0')"
   ]
  },
  {
   "cell_type": "code",
   "execution_count": 7,
   "metadata": {},
   "outputs": [],
   "source": [
    "# remove *\n",
    "#absent_df['pct_chronically_absent']= absent_df['pct_chronically_absent'].replace('**','0')"
   ]
  },
  {
   "cell_type": "code",
   "execution_count": 8,
   "metadata": {},
   "outputs": [],
   "source": [
    "#absent_df['pct_chronically_absent']=absent_df['pct_chronically_absent'].astype(float)"
   ]
  },
  {
   "cell_type": "code",
   "execution_count": 144,
   "metadata": {},
   "outputs": [],
   "source": [
    "absent_df=absent_df.drop(['system', 'school','grade_band','n_chronically_absent',\n",
    "                 'n_students' ], axis=1)"
   ]
  },
  {
   "cell_type": "code",
   "execution_count": 146,
   "metadata": {},
   "outputs": [],
   "source": [
    "absent_df=absent_df.drop(['subgroup'],axis=1)"
   ]
  },
  {
   "cell_type": "code",
   "execution_count": 11,
   "metadata": {},
   "outputs": [],
   "source": [
    "#absent_df.columns"
   ]
  },
  {
   "cell_type": "code",
   "execution_count": 148,
   "metadata": {},
   "outputs": [],
   "source": [
    "absent_df=absent_df[absent_df['pct_chronically_absent'] != '**']"
   ]
  },
  {
   "cell_type": "code",
   "execution_count": 149,
   "metadata": {},
   "outputs": [],
   "source": [
    "absent_df=absent_df[absent_df['pct_chronically_absent'] != '*']"
   ]
  },
  {
   "cell_type": "code",
   "execution_count": 13,
   "metadata": {},
   "outputs": [],
   "source": [
    "#absent_df.head(3)"
   ]
  },
  {
   "cell_type": "code",
   "execution_count": 14,
   "metadata": {},
   "outputs": [],
   "source": [
    "#absent_df.pct_chronically_absent.unique()"
   ]
  },
  {
   "cell_type": "code",
   "execution_count": 15,
   "metadata": {},
   "outputs": [],
   "source": [
    "#absent_df.head(20)\n",
    "#absent_df.shape"
   ]
  },
  {
   "cell_type": "code",
   "execution_count": 16,
   "metadata": {},
   "outputs": [],
   "source": [
    "# merge by school name\n",
    "#clean_df=tn_school.merge(absent_df,how='inner', on=\"school_name\")"
   ]
  },
  {
   "cell_type": "code",
   "execution_count": 17,
   "metadata": {},
   "outputs": [],
   "source": [
    "#finance_df =pd.read_csv('../data/clean_data/clean_county_data.csv')"
   ]
  },
  {
   "cell_type": "code",
   "execution_count": 18,
   "metadata": {},
   "outputs": [],
   "source": [
    "#finance_df.shape"
   ]
  },
  {
   "cell_type": "code",
   "execution_count": 19,
   "metadata": {
    "scrolled": true
   },
   "outputs": [],
   "source": [
    "#absent_df = absent_df.rename(columns={'system_name': 'district_name'\n",
    "                       \n",
    "   #                    })"
   ]
  },
  {
   "cell_type": "code",
   "execution_count": 20,
   "metadata": {},
   "outputs": [],
   "source": [
    "#absent_df=absent_df.groupby(['district_name']).mean()"
   ]
  },
  {
   "cell_type": "code",
   "execution_count": 21,
   "metadata": {},
   "outputs": [],
   "source": [
    "# merge by district\n",
    "#finance_clean_df=finance_df.merge(absent_df,how='inner', on=\"district_name\")"
   ]
  },
  {
   "cell_type": "code",
   "execution_count": 22,
   "metadata": {},
   "outputs": [],
   "source": [
    "#finance_clean_df.to_csv('finance_cean_data_1',index=False)"
   ]
  },
  {
   "cell_type": "code",
   "execution_count": 23,
   "metadata": {},
   "outputs": [],
   "source": [
    "# drop system name, total\n",
    "#clean_df=clean_df.drop(['system_name', 'number of students total'\n",
    " #                        ], axis=1)"
   ]
  },
  {
   "cell_type": "code",
   "execution_count": 24,
   "metadata": {},
   "outputs": [],
   "source": [
    "# convert to a csv\n",
    "#clean_df.to_csv('clean_data_1.csv', index=False)"
   ]
  },
  {
   "cell_type": "code",
   "execution_count": 25,
   "metadata": {},
   "outputs": [],
   "source": [
    "# needed columns for discipline,dropout, gradrate, and readygrad\n",
    "\n",
    "#finance_fields =[]\n",
    "discipline_fields =['students_total','district_name','percent_suspended',\n",
    "                    'percent_expelled','percent_committed_zero_tolerance','school_name']\n",
    "dropout_fields =['district_name','school_name','dropout_rate','subgroup']\n",
    "grad_fields =['district_name','graduation rate ','school_name','subgroup']\n",
    "gradready_fields =['district_name','school_name','subgroup',\n",
    "                   'percentage of ready graduates','number of students total']\n",
    "act_fields =['district_name','school_name','participation_rate','average_english_score','subgroup',\n",
    "             'average_math_score','average_reading_score','average_science_score',\n",
    "             'average_composite_score','percent_scoring_21_or_higher','percent_scoring_below_19']\n",
    "school_fields =['school_name','zipcode']\n",
    "\n",
    "finance_fields=['District Name','Total School Per Pupil Expenditures',\n",
    "                'Total Expenditures Per School','Local Percentage','Federal Percentage',\n",
    "               'State Percentage']\n",
    "district_fields =['district','zipcode']"
   ]
  },
  {
   "cell_type": "code",
   "execution_count": 26,
   "metadata": {},
   "outputs": [],
   "source": [
    "# import finance data only need 141 rows the rest are missing\n",
    "finance_school = pd.read_csv('../data/original_data/finance_data.csv',\n",
    "                            usecols=finance_fields,nrows=142)\n",
    "# 2020 report data on discipline\n",
    "# usecols=discipline_fields\n",
    "discipline_df = pd.read_excel('../data/original_data/reportcarddata2020.xlsx','overall_discipline',\n",
    "                              usecols=discipline_fields\n",
    "                              )\n",
    "\n",
    "district_df = pd.read_excel('../data/original_data/reportcarddata2020.xlsx','district_info',\n",
    "                              usecols=district_fields\n",
    "                              )\n",
    "\n",
    "school_df = pd.read_excel('../data/original_data/reportcarddata2020.xlsx','school_info',\n",
    "                              usecols=school_fields\n",
    "                              )\n",
    "\n",
    "\n",
    "# dropout_district\n",
    "# usecols=dropout_fields\n",
    "dropout_df = pd.read_excel('../data/original_data/reportcarddata2020.xlsx','dropout_school',\n",
    "                           usecols=dropout_fields\n",
    "                          )\n",
    "# grad_rate_district\n",
    "# usecols=grad_fields\n",
    "gradrate_df = pd.read_excel('../data/original_data/reportcarddata2020.xlsx','grad_rate_school'\n",
    "                           ,usecols=grad_fields)\n",
    "# ready_grad_district\n",
    "# usecols=gradready_fields\n",
    "readygrad_df = pd.read_excel('../data/original_data/reportcarddata2020.xlsx','ready_grad_school'\n",
    "                          ,usecols=gradready_fields )\n",
    "act_df = pd.read_excel('../data/original_data/reportcarddata2020.xlsx','ACT_school',\n",
    "                      usecols=act_fields)\n",
    "# import data\n",
    "tn_school = pd.read_csv('../data/clean_data/clean_data.csv')"
   ]
  },
  {
   "cell_type": "code",
   "execution_count": 27,
   "metadata": {},
   "outputs": [
    {
     "data": {
      "text/plain": [
       "\"dropout18_df = pd.read_excel('../data/original_data/reportcarddata2018.xlsx','dropout'\\n                             \\n                              )\""
      ]
     },
     "execution_count": 27,
     "metadata": {},
     "output_type": "execute_result"
    }
   ],
   "source": [
    "'''dropout18_df = pd.read_excel('../data/original_data/reportcarddata2018.xlsx','dropout'\n",
    "                             \n",
    "                              )'''"
   ]
  },
  {
   "cell_type": "code",
   "execution_count": 28,
   "metadata": {},
   "outputs": [
    {
     "data": {
      "text/plain": [
       "\"dropout19_df = pd.read_excel('../data/original_data/reportcarddata2019.xlsx','dropout'\\n                             \\n                              )\""
      ]
     },
     "execution_count": 28,
     "metadata": {},
     "output_type": "execute_result"
    }
   ],
   "source": [
    "'''dropout19_df = pd.read_excel('../data/original_data/reportcarddata2019.xlsx','dropout'\n",
    "                             \n",
    "                              )'''"
   ]
  },
  {
   "cell_type": "code",
   "execution_count": 29,
   "metadata": {},
   "outputs": [],
   "source": [
    "#dropout19_df=dropout19_df[['district_name','school_name','percent_dropout']]"
   ]
  },
  {
   "cell_type": "code",
   "execution_count": 30,
   "metadata": {},
   "outputs": [],
   "source": [
    "#dropout19_df=dropout19_df[dropout19_df.subgroup =='all_students']"
   ]
  },
  {
   "cell_type": "code",
   "execution_count": 31,
   "metadata": {},
   "outputs": [],
   "source": [
    "#dropout19_df=dropout19_df.dropna()"
   ]
  },
  {
   "cell_type": "code",
   "execution_count": 32,
   "metadata": {},
   "outputs": [],
   "source": [
    "#dropout19_df=dropout19_df[dropout19_df['percent_dropout'] != '*']"
   ]
  },
  {
   "cell_type": "code",
   "execution_count": 33,
   "metadata": {},
   "outputs": [],
   "source": [
    "#dropout19_df['percent_dropout']=dropout19_df['percent_dropout'].astype(float)"
   ]
  },
  {
   "cell_type": "code",
   "execution_count": 34,
   "metadata": {},
   "outputs": [],
   "source": [
    "#dropout18_df=dropout18_df[dropout18_df.subgroup =='All Students']"
   ]
  },
  {
   "cell_type": "code",
   "execution_count": 35,
   "metadata": {},
   "outputs": [],
   "source": [
    "#dropout18_df=dropout18_df.dropna()"
   ]
  },
  {
   "cell_type": "code",
   "execution_count": 36,
   "metadata": {},
   "outputs": [],
   "source": [
    "#dropout18_df.shape\n",
    "#dropout18_df.percent_dropout.unique\n",
    "#dropout18_df.tail(15)"
   ]
  },
  {
   "cell_type": "markdown",
   "metadata": {},
   "source": [
    "# clean finance data"
   ]
  },
  {
   "cell_type": "code",
   "execution_count": 37,
   "metadata": {},
   "outputs": [],
   "source": [
    "finance_school = finance_school.rename(columns={'District Name': 'district_name', 'Total School Per Pupil Expenditures': 'Total_School_Per_Pupil_Expenditures',\n",
    "                      'Total Expenditures Per School':'Total_Expenditures_Per_School',\n",
    "                        'Local Percentage':'Local_Percentage','Federal Percentage':'Federal_Percentage',\n",
    "                        'State Percentage':'State_Percentage'\n",
    "                       \n",
    "                       })"
   ]
  },
  {
   "cell_type": "code",
   "execution_count": 38,
   "metadata": {},
   "outputs": [],
   "source": [
    "# drop missing\n",
    "finance_school =finance_school.dropna()"
   ]
  },
  {
   "cell_type": "code",
   "execution_count": 39,
   "metadata": {},
   "outputs": [],
   "source": [
    "#finance_school.isnull().sum()\n",
    "#finance_school.shape\n",
    "#finance_school.dtypes\n",
    "#finance_school.head(5)"
   ]
  },
  {
   "cell_type": "code",
   "execution_count": 40,
   "metadata": {},
   "outputs": [],
   "source": [
    "# remove % from columns\n",
    "finance_school['Local_Percentage']=finance_school['Local_Percentage'].str.strip('%')\n",
    "finance_school['Federal_Percentage']=finance_school['Federal_Percentage'].str.strip('%')\n",
    "finance_school['State_Percentage']=finance_school['State_Percentage'].str.strip('%')"
   ]
  },
  {
   "cell_type": "code",
   "execution_count": 41,
   "metadata": {},
   "outputs": [],
   "source": [
    "# convert to float\n",
    "finance_school['Local_Percentage']=finance_school['Local_Percentage'].astype(float)\n",
    "finance_school['Federal_Percentage']=finance_school['Federal_Percentage'].astype(float)\n",
    "finance_school['State_Percentage']=finance_school['State_Percentage'].astype(float)"
   ]
  },
  {
   "cell_type": "markdown",
   "metadata": {},
   "source": [
    "# clean district data \n",
    "## so it can be merged with finance"
   ]
  },
  {
   "cell_type": "code",
   "execution_count": 42,
   "metadata": {},
   "outputs": [],
   "source": [
    "zipcode_database = ZipCodeDatabase()"
   ]
  },
  {
   "cell_type": "code",
   "execution_count": 43,
   "metadata": {},
   "outputs": [],
   "source": [
    "def get_long(zip):\n",
    "    try:\n",
    "        return zipcode_database[zip].longitude\n",
    "    except:\n",
    "        pass\n",
    "def get_lat(zip):\n",
    "    try:\n",
    "        return zipcode_database[zip].latitude\n",
    "    except:\n",
    "        pass"
   ]
  },
  {
   "cell_type": "code",
   "execution_count": 44,
   "metadata": {},
   "outputs": [],
   "source": [
    "district_df['longitude'] = district_df['zipcode'].apply(get_long)\n",
    "district_df['latitude'] = district_df['zipcode'].apply(get_lat)"
   ]
  },
  {
   "cell_type": "code",
   "execution_count": 45,
   "metadata": {},
   "outputs": [],
   "source": [
    "# rename district\n",
    "district_df= district_df.rename(columns={'district':'district_name'})"
   ]
  },
  {
   "cell_type": "markdown",
   "metadata": {},
   "source": [
    "# merge district with finance"
   ]
  },
  {
   "cell_type": "code",
   "execution_count": 46,
   "metadata": {},
   "outputs": [],
   "source": [
    "# merge by district_name\n",
    "fd_df=district_df.merge(finance_school,how='inner', on=\"district_name\")"
   ]
  },
  {
   "cell_type": "code",
   "execution_count": 47,
   "metadata": {},
   "outputs": [
    {
     "data": {
      "text/plain": [
       "(126, 9)"
      ]
     },
     "execution_count": 47,
     "metadata": {},
     "output_type": "execute_result"
    }
   ],
   "source": [
    "#d_df.head(10)\n",
    "fd_df.shape"
   ]
  },
  {
   "cell_type": "code",
   "execution_count": 48,
   "metadata": {},
   "outputs": [],
   "source": [
    "\n",
    "#fd_df.to_csv('finance_county.csv', index=False)"
   ]
  },
  {
   "cell_type": "markdown",
   "metadata": {},
   "source": [
    "# group by distric with clean data"
   ]
  },
  {
   "cell_type": "code",
   "execution_count": 49,
   "metadata": {},
   "outputs": [],
   "source": [
    "#tn_school.head(5)"
   ]
  },
  {
   "cell_type": "code",
   "execution_count": 50,
   "metadata": {},
   "outputs": [],
   "source": [
    "# remove zip,long,lat,school_name\n",
    "#filt_tn_school=tn_school.drop(columns={'zipcode','longitude','latitude','school_name',})"
   ]
  },
  {
   "cell_type": "code",
   "execution_count": 51,
   "metadata": {},
   "outputs": [],
   "source": [
    "#filt_tn_school=filt_tn_school.groupby(['district_name']).mean()"
   ]
  },
  {
   "cell_type": "code",
   "execution_count": 52,
   "metadata": {},
   "outputs": [],
   "source": [
    "#filt_tn_school.head(5)"
   ]
  },
  {
   "cell_type": "markdown",
   "metadata": {},
   "source": [
    "# merge with clean data"
   ]
  },
  {
   "cell_type": "code",
   "execution_count": 53,
   "metadata": {},
   "outputs": [],
   "source": [
    "# merge by district_name\n",
    "#clean_county_data=fd_df.merge(filt_tn_school,how='inner', on=\"district_name\")"
   ]
  },
  {
   "cell_type": "code",
   "execution_count": 54,
   "metadata": {},
   "outputs": [],
   "source": [
    "#clean_county_data=clean_county_data.dropna()"
   ]
  },
  {
   "cell_type": "code",
   "execution_count": 55,
   "metadata": {},
   "outputs": [],
   "source": [
    "# convert to a csv\n",
    "#clean_county_data.to_csv('clean_county_data.csv', index=False)"
   ]
  },
  {
   "cell_type": "markdown",
   "metadata": {},
   "source": [
    "# needed\n",
    "## report data needs to filter to davidson county and merge by state\n",
    "### drop rows that are not needed"
   ]
  },
  {
   "cell_type": "markdown",
   "metadata": {},
   "source": [
    "# clean shchool data"
   ]
  },
  {
   "cell_type": "code",
   "execution_count": 56,
   "metadata": {},
   "outputs": [],
   "source": [
    "\n",
    "school_df['longitude'] = school_df['zipcode'].apply(get_long)\n",
    "school_df['latitude'] = school_df['zipcode'].apply(get_lat)"
   ]
  },
  {
   "cell_type": "code",
   "execution_count": 57,
   "metadata": {},
   "outputs": [
    {
     "data": {
      "text/plain": [
       "(1878, 4)"
      ]
     },
     "execution_count": 57,
     "metadata": {},
     "output_type": "execute_result"
    }
   ],
   "source": [
    "school_df.shape"
   ]
  },
  {
   "cell_type": "markdown",
   "metadata": {},
   "source": [
    "# clean discipline data"
   ]
  },
  {
   "cell_type": "code",
   "execution_count": 58,
   "metadata": {},
   "outputs": [],
   "source": [
    "discipline_df = discipline_df.iloc[1: , :]"
   ]
  },
  {
   "cell_type": "code",
   "execution_count": 59,
   "metadata": {},
   "outputs": [],
   "source": [
    "discipline_df=discipline_df.dropna()"
   ]
  },
  {
   "cell_type": "code",
   "execution_count": 60,
   "metadata": {},
   "outputs": [],
   "source": [
    "# counting the duplicates\n",
    "#dups = discipline_df.pivot_table(index = ['school_name'], aggfunc ='size')"
   ]
  },
  {
   "cell_type": "code",
   "execution_count": 61,
   "metadata": {},
   "outputs": [],
   "source": [
    "# dropping duplicate values\n",
    "#discipline_df=discipline_df.drop_duplicates(subset=['school_name'])"
   ]
  },
  {
   "cell_type": "code",
   "execution_count": 62,
   "metadata": {},
   "outputs": [],
   "source": [
    "discipline_df=discipline_df.drop(columns=['students_total'],axis=1)"
   ]
  },
  {
   "cell_type": "markdown",
   "metadata": {},
   "source": [
    "# merge discipline and school data"
   ]
  },
  {
   "cell_type": "code",
   "execution_count": 63,
   "metadata": {},
   "outputs": [],
   "source": [
    "# merge by school_name\n",
    "merge_a=discipline_df.merge(school_df,how='right', on=\"school_name\")"
   ]
  },
  {
   "cell_type": "code",
   "execution_count": 64,
   "metadata": {},
   "outputs": [
    {
     "data": {
      "text/plain": [
       "(2074, 8)"
      ]
     },
     "execution_count": 64,
     "metadata": {},
     "output_type": "execute_result"
    }
   ],
   "source": [
    "merge_a.shape"
   ]
  },
  {
   "cell_type": "code",
   "execution_count": 65,
   "metadata": {},
   "outputs": [],
   "source": [
    "# dropping duplicate values\n",
    "merge_a=merge_a.drop_duplicates(subset=['school_name'])"
   ]
  },
  {
   "cell_type": "code",
   "execution_count": 66,
   "metadata": {},
   "outputs": [
    {
     "data": {
      "text/plain": [
       "(1812, 8)"
      ]
     },
     "execution_count": 66,
     "metadata": {},
     "output_type": "execute_result"
    }
   ],
   "source": [
    "merge_a.shape"
   ]
  },
  {
   "cell_type": "code",
   "execution_count": 67,
   "metadata": {},
   "outputs": [],
   "source": [
    "merge_a=merge_a.dropna()"
   ]
  },
  {
   "cell_type": "code",
   "execution_count": 68,
   "metadata": {},
   "outputs": [
    {
     "data": {
      "text/plain": [
       "(1731, 8)"
      ]
     },
     "execution_count": 68,
     "metadata": {},
     "output_type": "execute_result"
    }
   ],
   "source": [
    "merge_a.shape"
   ]
  },
  {
   "cell_type": "markdown",
   "metadata": {},
   "source": [
    "# clean dropout data"
   ]
  },
  {
   "cell_type": "code",
   "execution_count": 69,
   "metadata": {
    "scrolled": true
   },
   "outputs": [
    {
     "data": {
      "text/plain": [
       "district_name      91\n",
       "school_name        91\n",
       "subgroup            0\n",
       "dropout_rate     1749\n",
       "dtype: int64"
      ]
     },
     "execution_count": 69,
     "metadata": {},
     "output_type": "execute_result"
    }
   ],
   "source": [
    "dropout_df.isnull().sum()"
   ]
  },
  {
   "cell_type": "code",
   "execution_count": 70,
   "metadata": {},
   "outputs": [],
   "source": [
    "dropout_df=dropout_df[dropout_df.subgroup =='All Students']"
   ]
  },
  {
   "cell_type": "code",
   "execution_count": 71,
   "metadata": {},
   "outputs": [
    {
     "data": {
      "text/plain": [
       "(420, 4)"
      ]
     },
     "execution_count": 71,
     "metadata": {},
     "output_type": "execute_result"
    }
   ],
   "source": [
    "dropout_df.shape"
   ]
  },
  {
   "cell_type": "code",
   "execution_count": 72,
   "metadata": {},
   "outputs": [],
   "source": [
    "dropout_df=dropout_df.dropna()"
   ]
  },
  {
   "cell_type": "code",
   "execution_count": 73,
   "metadata": {},
   "outputs": [
    {
     "data": {
      "text/html": [
       "<div>\n",
       "<style scoped>\n",
       "    .dataframe tbody tr th:only-of-type {\n",
       "        vertical-align: middle;\n",
       "    }\n",
       "\n",
       "    .dataframe tbody tr th {\n",
       "        vertical-align: top;\n",
       "    }\n",
       "\n",
       "    .dataframe thead th {\n",
       "        text-align: right;\n",
       "    }\n",
       "</style>\n",
       "<table border=\"1\" class=\"dataframe\">\n",
       "  <thead>\n",
       "    <tr style=\"text-align: right;\">\n",
       "      <th></th>\n",
       "      <th>district_name</th>\n",
       "      <th>school_name</th>\n",
       "      <th>subgroup</th>\n",
       "      <th>dropout_rate</th>\n",
       "    </tr>\n",
       "  </thead>\n",
       "  <tbody>\n",
       "    <tr>\n",
       "      <th>0</th>\n",
       "      <td>Anderson County</td>\n",
       "      <td>Anderson County High School</td>\n",
       "      <td>All Students</td>\n",
       "      <td>1.4</td>\n",
       "    </tr>\n",
       "    <tr>\n",
       "      <th>14</th>\n",
       "      <td>Anderson County</td>\n",
       "      <td>Clinton High School</td>\n",
       "      <td>All Students</td>\n",
       "      <td>3.7</td>\n",
       "    </tr>\n",
       "    <tr>\n",
       "      <th>38</th>\n",
       "      <td>Oak Ridge</td>\n",
       "      <td>Oak Ridge High School</td>\n",
       "      <td>All Students</td>\n",
       "      <td>6.6</td>\n",
       "    </tr>\n",
       "    <tr>\n",
       "      <th>55</th>\n",
       "      <td>Bedford County</td>\n",
       "      <td>Cascade High School</td>\n",
       "      <td>All Students</td>\n",
       "      <td>0.9</td>\n",
       "    </tr>\n",
       "    <tr>\n",
       "      <th>71</th>\n",
       "      <td>Bedford County</td>\n",
       "      <td>Shelbyville Central High School</td>\n",
       "      <td>All Students</td>\n",
       "      <td>8.7</td>\n",
       "    </tr>\n",
       "  </tbody>\n",
       "</table>\n",
       "</div>"
      ],
      "text/plain": [
       "      district_name                      school_name      subgroup  \\\n",
       "0   Anderson County      Anderson County High School  All Students   \n",
       "14  Anderson County              Clinton High School  All Students   \n",
       "38        Oak Ridge            Oak Ridge High School  All Students   \n",
       "55   Bedford County              Cascade High School  All Students   \n",
       "71   Bedford County  Shelbyville Central High School  All Students   \n",
       "\n",
       "    dropout_rate  \n",
       "0            1.4  \n",
       "14           3.7  \n",
       "38           6.6  \n",
       "55           0.9  \n",
       "71           8.7  "
      ]
     },
     "execution_count": 73,
     "metadata": {},
     "output_type": "execute_result"
    }
   ],
   "source": [
    "dropout_df.head(5)"
   ]
  },
  {
   "cell_type": "code",
   "execution_count": 74,
   "metadata": {},
   "outputs": [],
   "source": [
    "dropout_df=dropout_df.drop(['district_name', 'subgroup'], axis=1)"
   ]
  },
  {
   "cell_type": "markdown",
   "metadata": {},
   "source": [
    "# clean graduate data"
   ]
  },
  {
   "cell_type": "code",
   "execution_count": 75,
   "metadata": {},
   "outputs": [],
   "source": [
    "gradrate_df=gradrate_df[gradrate_df.subgroup =='All Students']"
   ]
  },
  {
   "cell_type": "code",
   "execution_count": 76,
   "metadata": {},
   "outputs": [],
   "source": [
    "# remove *\n",
    "gradrate_df= gradrate_df[gradrate_df['graduation rate ']!= '*']\n",
    "#gradrate_df['graduation rate ']= gradrate_df['graduation rate '].replace('*','0')"
   ]
  },
  {
   "cell_type": "code",
   "execution_count": 77,
   "metadata": {},
   "outputs": [],
   "source": [
    "gradrate_df= gradrate_df[gradrate_df['graduation rate ']!= '**']"
   ]
  },
  {
   "cell_type": "code",
   "execution_count": 78,
   "metadata": {},
   "outputs": [],
   "source": [
    "# remove **\n",
    "#gradrate_df['graduation rate ']= gradrate_df['graduation rate '].replace('**','0')"
   ]
  },
  {
   "cell_type": "code",
   "execution_count": 79,
   "metadata": {},
   "outputs": [],
   "source": [
    "gradrate_df['graduation rate ']=gradrate_df['graduation rate '].astype(float)"
   ]
  },
  {
   "cell_type": "code",
   "execution_count": 80,
   "metadata": {},
   "outputs": [],
   "source": [
    "#gradrate_df=gradrate_df[gradrate_df['graduation rate '] != 0]"
   ]
  },
  {
   "cell_type": "code",
   "execution_count": 81,
   "metadata": {},
   "outputs": [
    {
     "data": {
      "text/plain": [
       "(333, 4)"
      ]
     },
     "execution_count": 81,
     "metadata": {},
     "output_type": "execute_result"
    }
   ],
   "source": [
    "gradrate_df.shape"
   ]
  },
  {
   "cell_type": "code",
   "execution_count": 82,
   "metadata": {},
   "outputs": [],
   "source": [
    "#gradrate_df=gradrate_df.drop(['district_name','subgroup'], axis=1)"
   ]
  },
  {
   "cell_type": "markdown",
   "metadata": {},
   "source": [
    "# merge grad rate and dropout"
   ]
  },
  {
   "cell_type": "code",
   "execution_count": 83,
   "metadata": {},
   "outputs": [],
   "source": [
    "# merge drop out and grad rate\n",
    "merge_b=gradrate_df.merge(dropout_df,how='right', on=\"school_name\")"
   ]
  },
  {
   "cell_type": "code",
   "execution_count": 84,
   "metadata": {},
   "outputs": [
    {
     "data": {
      "text/plain": [
       "(406, 5)"
      ]
     },
     "execution_count": 84,
     "metadata": {},
     "output_type": "execute_result"
    }
   ],
   "source": [
    "merge_b.shape"
   ]
  },
  {
   "cell_type": "code",
   "execution_count": 85,
   "metadata": {},
   "outputs": [],
   "source": [
    "# dropping duplicate values\n",
    "merge_b=merge_b.drop_duplicates(subset=['school_name'])"
   ]
  },
  {
   "cell_type": "code",
   "execution_count": 86,
   "metadata": {},
   "outputs": [],
   "source": [
    "# drop columns\n",
    "#merge_b=merge_b.drop(['district_name_y', 'subgroup_y'], axis=1)"
   ]
  },
  {
   "cell_type": "code",
   "execution_count": 87,
   "metadata": {},
   "outputs": [],
   "source": [
    "# counting the duplicates\n",
    "#dups = merge_b.pivot_table(index = ['school_name'], aggfunc ='size')"
   ]
  },
  {
   "cell_type": "markdown",
   "metadata": {},
   "source": [
    "# merge a and b"
   ]
  },
  {
   "cell_type": "code",
   "execution_count": 88,
   "metadata": {},
   "outputs": [
    {
     "data": {
      "text/html": [
       "<div>\n",
       "<style scoped>\n",
       "    .dataframe tbody tr th:only-of-type {\n",
       "        vertical-align: middle;\n",
       "    }\n",
       "\n",
       "    .dataframe tbody tr th {\n",
       "        vertical-align: top;\n",
       "    }\n",
       "\n",
       "    .dataframe thead th {\n",
       "        text-align: right;\n",
       "    }\n",
       "</style>\n",
       "<table border=\"1\" class=\"dataframe\">\n",
       "  <thead>\n",
       "    <tr style=\"text-align: right;\">\n",
       "      <th></th>\n",
       "      <th>district_name</th>\n",
       "      <th>school_name</th>\n",
       "      <th>percent_suspended</th>\n",
       "      <th>percent_expelled</th>\n",
       "      <th>percent_committed_zero_tolerance</th>\n",
       "      <th>zipcode</th>\n",
       "      <th>longitude</th>\n",
       "      <th>latitude</th>\n",
       "    </tr>\n",
       "  </thead>\n",
       "  <tbody>\n",
       "    <tr>\n",
       "      <th>0</th>\n",
       "      <td>Anderson County</td>\n",
       "      <td>Anderson County High School</td>\n",
       "      <td>2.5</td>\n",
       "      <td>0.0</td>\n",
       "      <td>0.5</td>\n",
       "      <td>37716</td>\n",
       "      <td>-84.14656</td>\n",
       "      <td>36.099283</td>\n",
       "    </tr>\n",
       "    <tr>\n",
       "      <th>2</th>\n",
       "      <td>Anderson County</td>\n",
       "      <td>Andersonville Elementary</td>\n",
       "      <td>0.0</td>\n",
       "      <td>0.0</td>\n",
       "      <td>0.0</td>\n",
       "      <td>37705</td>\n",
       "      <td>-84.01131</td>\n",
       "      <td>36.217896</td>\n",
       "    </tr>\n",
       "    <tr>\n",
       "      <th>3</th>\n",
       "      <td>Anderson County</td>\n",
       "      <td>Briceville Elementary</td>\n",
       "      <td>1.7</td>\n",
       "      <td>0.0</td>\n",
       "      <td>0.0</td>\n",
       "      <td>37710</td>\n",
       "      <td>-84.28968</td>\n",
       "      <td>36.152310</td>\n",
       "    </tr>\n",
       "    <tr>\n",
       "      <th>4</th>\n",
       "      <td>Anderson County</td>\n",
       "      <td>Claxton Elementary</td>\n",
       "      <td>1.5</td>\n",
       "      <td>0.0</td>\n",
       "      <td>0.0</td>\n",
       "      <td>37849</td>\n",
       "      <td>-84.04192</td>\n",
       "      <td>36.044507</td>\n",
       "    </tr>\n",
       "    <tr>\n",
       "      <th>5</th>\n",
       "      <td>Anderson County</td>\n",
       "      <td>Clinton Middle School</td>\n",
       "      <td>11.1</td>\n",
       "      <td>0.0</td>\n",
       "      <td>0.1</td>\n",
       "      <td>37716</td>\n",
       "      <td>-84.14656</td>\n",
       "      <td>36.099283</td>\n",
       "    </tr>\n",
       "  </tbody>\n",
       "</table>\n",
       "</div>"
      ],
      "text/plain": [
       "     district_name                  school_name  percent_suspended  \\\n",
       "0  Anderson County  Anderson County High School                2.5   \n",
       "2  Anderson County     Andersonville Elementary                0.0   \n",
       "3  Anderson County        Briceville Elementary                1.7   \n",
       "4  Anderson County           Claxton Elementary                1.5   \n",
       "5  Anderson County        Clinton Middle School               11.1   \n",
       "\n",
       "   percent_expelled  percent_committed_zero_tolerance  zipcode  longitude  \\\n",
       "0               0.0                               0.5    37716  -84.14656   \n",
       "2               0.0                               0.0    37705  -84.01131   \n",
       "3               0.0                               0.0    37710  -84.28968   \n",
       "4               0.0                               0.0    37849  -84.04192   \n",
       "5               0.0                               0.1    37716  -84.14656   \n",
       "\n",
       "    latitude  \n",
       "0  36.099283  \n",
       "2  36.217896  \n",
       "3  36.152310  \n",
       "4  36.044507  \n",
       "5  36.099283  "
      ]
     },
     "execution_count": 88,
     "metadata": {},
     "output_type": "execute_result"
    }
   ],
   "source": [
    "merge_a.head(5)"
   ]
  },
  {
   "cell_type": "code",
   "execution_count": 89,
   "metadata": {},
   "outputs": [
    {
     "data": {
      "text/html": [
       "<div>\n",
       "<style scoped>\n",
       "    .dataframe tbody tr th:only-of-type {\n",
       "        vertical-align: middle;\n",
       "    }\n",
       "\n",
       "    .dataframe tbody tr th {\n",
       "        vertical-align: top;\n",
       "    }\n",
       "\n",
       "    .dataframe thead th {\n",
       "        text-align: right;\n",
       "    }\n",
       "</style>\n",
       "<table border=\"1\" class=\"dataframe\">\n",
       "  <thead>\n",
       "    <tr style=\"text-align: right;\">\n",
       "      <th></th>\n",
       "      <th>district_name</th>\n",
       "      <th>school_name</th>\n",
       "      <th>subgroup</th>\n",
       "      <th>graduation rate</th>\n",
       "      <th>dropout_rate</th>\n",
       "    </tr>\n",
       "  </thead>\n",
       "  <tbody>\n",
       "    <tr>\n",
       "      <th>0</th>\n",
       "      <td>Anderson County</td>\n",
       "      <td>Anderson County High School</td>\n",
       "      <td>All Students</td>\n",
       "      <td>96.1</td>\n",
       "      <td>1.4</td>\n",
       "    </tr>\n",
       "    <tr>\n",
       "      <th>1</th>\n",
       "      <td>Anderson County</td>\n",
       "      <td>Clinton High School</td>\n",
       "      <td>All Students</td>\n",
       "      <td>95.2</td>\n",
       "      <td>3.7</td>\n",
       "    </tr>\n",
       "    <tr>\n",
       "      <th>2</th>\n",
       "      <td>Oak Ridge</td>\n",
       "      <td>Oak Ridge High School</td>\n",
       "      <td>All Students</td>\n",
       "      <td>92.1</td>\n",
       "      <td>6.6</td>\n",
       "    </tr>\n",
       "    <tr>\n",
       "      <th>3</th>\n",
       "      <td>Bedford County</td>\n",
       "      <td>Cascade High School</td>\n",
       "      <td>All Students</td>\n",
       "      <td>98.2</td>\n",
       "      <td>0.9</td>\n",
       "    </tr>\n",
       "    <tr>\n",
       "      <th>4</th>\n",
       "      <td>Bedford County</td>\n",
       "      <td>Shelbyville Central High School</td>\n",
       "      <td>All Students</td>\n",
       "      <td>88.7</td>\n",
       "      <td>8.7</td>\n",
       "    </tr>\n",
       "  </tbody>\n",
       "</table>\n",
       "</div>"
      ],
      "text/plain": [
       "     district_name                      school_name      subgroup  \\\n",
       "0  Anderson County      Anderson County High School  All Students   \n",
       "1  Anderson County              Clinton High School  All Students   \n",
       "2        Oak Ridge            Oak Ridge High School  All Students   \n",
       "3   Bedford County              Cascade High School  All Students   \n",
       "4   Bedford County  Shelbyville Central High School  All Students   \n",
       "\n",
       "   graduation rate   dropout_rate  \n",
       "0              96.1           1.4  \n",
       "1              95.2           3.7  \n",
       "2              92.1           6.6  \n",
       "3              98.2           0.9  \n",
       "4              88.7           8.7  "
      ]
     },
     "execution_count": 89,
     "metadata": {},
     "output_type": "execute_result"
    }
   ],
   "source": [
    "merge_b.head(5)"
   ]
  },
  {
   "cell_type": "code",
   "execution_count": 90,
   "metadata": {},
   "outputs": [],
   "source": [
    "merge_b=merge_b.drop(['district_name', 'subgroup'], axis=1)"
   ]
  },
  {
   "cell_type": "code",
   "execution_count": 91,
   "metadata": {},
   "outputs": [],
   "source": [
    "# merge \n",
    "merge_c=merge_a.merge(merge_b,how='right', on=\"school_name\")"
   ]
  },
  {
   "cell_type": "code",
   "execution_count": 92,
   "metadata": {},
   "outputs": [
    {
     "data": {
      "text/plain": [
       "(364, 10)"
      ]
     },
     "execution_count": 92,
     "metadata": {},
     "output_type": "execute_result"
    }
   ],
   "source": [
    "merge_c.shape"
   ]
  },
  {
   "cell_type": "code",
   "execution_count": 93,
   "metadata": {},
   "outputs": [],
   "source": [
    "#merge_c.head(5)"
   ]
  },
  {
   "cell_type": "markdown",
   "metadata": {},
   "source": [
    "# clean readygrad_df"
   ]
  },
  {
   "cell_type": "code",
   "execution_count": 94,
   "metadata": {},
   "outputs": [],
   "source": [
    "readygrad_df=readygrad_df[readygrad_df.subgroup =='All Students']"
   ]
  },
  {
   "cell_type": "code",
   "execution_count": 95,
   "metadata": {},
   "outputs": [],
   "source": [
    "readygrad_df= readygrad_df[readygrad_df['percentage of ready graduates']!= '*']\n",
    "#readygrad_df['percentage of ready graduates']= readygrad_df['percentage of ready graduates'].replace('*','0')"
   ]
  },
  {
   "cell_type": "code",
   "execution_count": 96,
   "metadata": {},
   "outputs": [],
   "source": [
    "readygrad_df= readygrad_df[readygrad_df['percentage of ready graduates']!= '**']\n",
    "#readygrad_df['percentage of ready graduates']= readygrad_df['percentage of ready graduates'].replace('**','0')"
   ]
  },
  {
   "cell_type": "code",
   "execution_count": 97,
   "metadata": {},
   "outputs": [],
   "source": [
    "readygrad_df['percentage of ready graduates']=readygrad_df['percentage of ready graduates'].astype(float)"
   ]
  },
  {
   "cell_type": "code",
   "execution_count": 98,
   "metadata": {},
   "outputs": [],
   "source": [
    "#readygrad_df[readygrad_df['percentage of ready graduates'] != 0]"
   ]
  },
  {
   "cell_type": "code",
   "execution_count": 99,
   "metadata": {},
   "outputs": [
    {
     "data": {
      "text/plain": [
       "(340, 5)"
      ]
     },
     "execution_count": 99,
     "metadata": {},
     "output_type": "execute_result"
    }
   ],
   "source": [
    "readygrad_df.shape"
   ]
  },
  {
   "cell_type": "code",
   "execution_count": 100,
   "metadata": {},
   "outputs": [],
   "source": [
    "#readygrad_df.head(20)"
   ]
  },
  {
   "cell_type": "code",
   "execution_count": 101,
   "metadata": {},
   "outputs": [],
   "source": [
    "readygrad_df=readygrad_df.drop(['district_name', 'subgroup'], axis=1)"
   ]
  },
  {
   "cell_type": "markdown",
   "metadata": {},
   "source": [
    "# ACT CLEAN"
   ]
  },
  {
   "cell_type": "code",
   "execution_count": 102,
   "metadata": {},
   "outputs": [],
   "source": [
    "act_df=act_df[act_df.subgroup =='All Students']"
   ]
  },
  {
   "cell_type": "code",
   "execution_count": 103,
   "metadata": {},
   "outputs": [],
   "source": [
    "act_df=act_df.drop([ 'subgroup'], axis=1)"
   ]
  },
  {
   "cell_type": "code",
   "execution_count": 104,
   "metadata": {},
   "outputs": [],
   "source": [
    "act_df=act_df.dropna()"
   ]
  },
  {
   "cell_type": "markdown",
   "metadata": {},
   "source": [
    "## replace *"
   ]
  },
  {
   "cell_type": "code",
   "execution_count": 105,
   "metadata": {},
   "outputs": [],
   "source": [
    "act_df= act_df[act_df['participation_rate']!= '*']\n",
    "#act_df['participation_rate']= act_df['participation_rate'].replace('*','0')"
   ]
  },
  {
   "cell_type": "code",
   "execution_count": 106,
   "metadata": {},
   "outputs": [],
   "source": [
    "act_df= act_df[act_df['average_english_score']!= '*']\n",
    "#act_df['average_english_score']= act_df['average_english_score'].replace('*','0')"
   ]
  },
  {
   "cell_type": "code",
   "execution_count": 107,
   "metadata": {},
   "outputs": [],
   "source": [
    "act_df= act_df[act_df['average_math_score']!= '*']\n",
    "#act_df['average_math_score']= act_df['average_math_score'].replace('*','0')"
   ]
  },
  {
   "cell_type": "code",
   "execution_count": 108,
   "metadata": {},
   "outputs": [],
   "source": [
    "act_df= act_df[act_df['average_reading_score']!= '*']\n",
    "#act_df['average_reading_score']= act_df['average_reading_score'].replace('*','0')"
   ]
  },
  {
   "cell_type": "code",
   "execution_count": 109,
   "metadata": {},
   "outputs": [],
   "source": [
    "act_df= act_df[act_df['average_science_score']!= '*']\n",
    "#act_df['average_science_score']= act_df['average_science_score'].replace('*','0')"
   ]
  },
  {
   "cell_type": "code",
   "execution_count": 110,
   "metadata": {},
   "outputs": [],
   "source": [
    "act_df= act_df[act_df['average_composite_score']!= '*']\n",
    "#act_df['average_composite_score']= act_df['average_composite_score'].replace('*','0')"
   ]
  },
  {
   "cell_type": "code",
   "execution_count": 111,
   "metadata": {},
   "outputs": [],
   "source": [
    "act_df= act_df[act_df['percent_scoring_21_or_higher']!= '*']\n",
    "#act_df['percent_scoring_21_or_higher']= act_df['percent_scoring_21_or_higher'].replace('*','0')"
   ]
  },
  {
   "cell_type": "code",
   "execution_count": 112,
   "metadata": {},
   "outputs": [],
   "source": [
    "act_df= act_df[act_df['percent_scoring_below_19']!= '*']\n",
    "#act_df['percent_scoring_below_19']= act_df['percent_scoring_below_19'].replace('*','0')"
   ]
  },
  {
   "cell_type": "markdown",
   "metadata": {},
   "source": [
    "## replace **"
   ]
  },
  {
   "cell_type": "code",
   "execution_count": 113,
   "metadata": {},
   "outputs": [],
   "source": [
    "act_df= act_df[act_df['participation_rate']!= '**']\n",
    "#act_df['participation_rate']= act_df['participation_rate'].replace('**','0')"
   ]
  },
  {
   "cell_type": "code",
   "execution_count": 114,
   "metadata": {},
   "outputs": [],
   "source": [
    "act_df= act_df[act_df['average_english_score']!= '**']\n",
    "#act_df['average_english_score']= act_df['average_english_score'].replace('**','0')"
   ]
  },
  {
   "cell_type": "code",
   "execution_count": 115,
   "metadata": {},
   "outputs": [],
   "source": [
    "act_df= act_df[act_df['average_math_score']!= '**']\n",
    "#act_df['average_math_score']= act_df['average_math_score'].replace('**','0')"
   ]
  },
  {
   "cell_type": "code",
   "execution_count": 116,
   "metadata": {},
   "outputs": [],
   "source": [
    "act_df= act_df[act_df['average_reading_score']!= '**']\n",
    "#act_df['average_reading_score']= act_df['average_reading_score'].replace('**','0')"
   ]
  },
  {
   "cell_type": "code",
   "execution_count": 117,
   "metadata": {},
   "outputs": [],
   "source": [
    "act_df= act_df[act_df['average_science_score']!= '**']\n",
    "#act_df['average_science_score']= act_df['average_science_score'].replace('**','0')"
   ]
  },
  {
   "cell_type": "code",
   "execution_count": 118,
   "metadata": {},
   "outputs": [],
   "source": [
    "act_df= act_df[act_df['average_composite_score']!= '**']\n",
    "#act_df['average_composite_score']= act_df['average_composite_score'].replace('**','0')"
   ]
  },
  {
   "cell_type": "code",
   "execution_count": 119,
   "metadata": {},
   "outputs": [],
   "source": [
    "act_df= act_df[act_df['percent_scoring_21_or_higher']!= '**']\n",
    "#act_df['percent_scoring_21_or_higher']= act_df['percent_scoring_21_or_higher'].replace('**','0')"
   ]
  },
  {
   "cell_type": "code",
   "execution_count": 120,
   "metadata": {},
   "outputs": [],
   "source": [
    "act_df= act_df[act_df['percent_scoring_below_19']!= '**']\n",
    "#act_df['percent_scoring_below_19']= act_df['percent_scoring_below_19'].replace('**','0')"
   ]
  },
  {
   "cell_type": "code",
   "execution_count": 121,
   "metadata": {},
   "outputs": [],
   "source": [
    "#act_df.head(5)"
   ]
  },
  {
   "cell_type": "code",
   "execution_count": 122,
   "metadata": {},
   "outputs": [],
   "source": [
    "#readygrad_df.head(5)"
   ]
  },
  {
   "cell_type": "code",
   "execution_count": 123,
   "metadata": {
    "scrolled": true
   },
   "outputs": [
    {
     "data": {
      "text/plain": [
       "(340, 3)"
      ]
     },
     "execution_count": 123,
     "metadata": {},
     "output_type": "execute_result"
    }
   ],
   "source": [
    "readygrad_df.shape"
   ]
  },
  {
   "cell_type": "code",
   "execution_count": 124,
   "metadata": {},
   "outputs": [],
   "source": [
    "# merge drop out and grad rate\n",
    "merge_d=readygrad_df.merge(act_df,how='right', on=\"school_name\")"
   ]
  },
  {
   "cell_type": "code",
   "execution_count": 125,
   "metadata": {},
   "outputs": [
    {
     "data": {
      "text/plain": [
       "(371, 12)"
      ]
     },
     "execution_count": 125,
     "metadata": {},
     "output_type": "execute_result"
    }
   ],
   "source": [
    "merge_d.shape"
   ]
  },
  {
   "cell_type": "code",
   "execution_count": 126,
   "metadata": {},
   "outputs": [],
   "source": [
    "#merge_c.head(15)"
   ]
  },
  {
   "cell_type": "code",
   "execution_count": 127,
   "metadata": {},
   "outputs": [
    {
     "data": {
      "text/plain": [
       "(371, 12)"
      ]
     },
     "execution_count": 127,
     "metadata": {},
     "output_type": "execute_result"
    }
   ],
   "source": [
    "merge_d.shape"
   ]
  },
  {
   "cell_type": "code",
   "execution_count": 128,
   "metadata": {},
   "outputs": [
    {
     "data": {
      "text/plain": [
       "(364, 10)"
      ]
     },
     "execution_count": 128,
     "metadata": {},
     "output_type": "execute_result"
    }
   ],
   "source": [
    "merge_c.shape"
   ]
  },
  {
   "cell_type": "code",
   "execution_count": 129,
   "metadata": {},
   "outputs": [],
   "source": [
    "merge_c=merge_c.drop(['district_name'], axis=1)"
   ]
  },
  {
   "cell_type": "code",
   "execution_count": 130,
   "metadata": {},
   "outputs": [],
   "source": [
    "# final merge\n",
    "merge_e=merge_c.merge(merge_d,how='right', on=\"school_name\")"
   ]
  },
  {
   "cell_type": "code",
   "execution_count": 131,
   "metadata": {},
   "outputs": [
    {
     "data": {
      "text/plain": [
       "(371, 20)"
      ]
     },
     "execution_count": 131,
     "metadata": {},
     "output_type": "execute_result"
    }
   ],
   "source": [
    "merge_e.shape"
   ]
  },
  {
   "cell_type": "code",
   "execution_count": 132,
   "metadata": {},
   "outputs": [
    {
     "data": {
      "text/plain": [
       "(371, 20)"
      ]
     },
     "execution_count": 132,
     "metadata": {},
     "output_type": "execute_result"
    }
   ],
   "source": [
    "merge_e.shape"
   ]
  },
  {
   "cell_type": "code",
   "execution_count": 133,
   "metadata": {},
   "outputs": [],
   "source": [
    "merge_e= merge_e.dropna()"
   ]
  },
  {
   "cell_type": "code",
   "execution_count": 134,
   "metadata": {},
   "outputs": [],
   "source": [
    "merge_e=merge_e.drop_duplicates(subset=['school_name'])"
   ]
  },
  {
   "cell_type": "code",
   "execution_count": 155,
   "metadata": {},
   "outputs": [],
   "source": [
    "absent_df=absent_df.drop(['system_name'],axis=1)"
   ]
  },
  {
   "cell_type": "code",
   "execution_count": 161,
   "metadata": {},
   "outputs": [
    {
     "data": {
      "text/plain": [
       "(291, 20)"
      ]
     },
     "execution_count": 161,
     "metadata": {},
     "output_type": "execute_result"
    }
   ],
   "source": [
    "merge_e.shape"
   ]
  },
  {
   "cell_type": "code",
   "execution_count": 164,
   "metadata": {
    "scrolled": true
   },
   "outputs": [
    {
     "data": {
      "text/html": [
       "<div>\n",
       "<style scoped>\n",
       "    .dataframe tbody tr th:only-of-type {\n",
       "        vertical-align: middle;\n",
       "    }\n",
       "\n",
       "    .dataframe tbody tr th {\n",
       "        vertical-align: top;\n",
       "    }\n",
       "\n",
       "    .dataframe thead th {\n",
       "        text-align: right;\n",
       "    }\n",
       "</style>\n",
       "<table border=\"1\" class=\"dataframe\">\n",
       "  <thead>\n",
       "    <tr style=\"text-align: right;\">\n",
       "      <th></th>\n",
       "      <th>school_name</th>\n",
       "      <th>pct_chronically_absent</th>\n",
       "    </tr>\n",
       "  </thead>\n",
       "  <tbody>\n",
       "    <tr>\n",
       "      <th>0</th>\n",
       "      <td>Anderson County High School</td>\n",
       "      <td>16.9</td>\n",
       "    </tr>\n",
       "    <tr>\n",
       "      <th>11</th>\n",
       "      <td>Andersonville Elementary</td>\n",
       "      <td>9.4</td>\n",
       "    </tr>\n",
       "    <tr>\n",
       "      <th>20</th>\n",
       "      <td>Briceville Elementary</td>\n",
       "      <td>19.5</td>\n",
       "    </tr>\n",
       "    <tr>\n",
       "      <th>27</th>\n",
       "      <td>Claxton Elementary</td>\n",
       "      <td>18.9</td>\n",
       "    </tr>\n",
       "    <tr>\n",
       "      <th>38</th>\n",
       "      <td>Clinton Middle School</td>\n",
       "      <td>21.4</td>\n",
       "    </tr>\n",
       "    <tr>\n",
       "      <th>...</th>\n",
       "      <td>...</td>\n",
       "      <td>...</td>\n",
       "    </tr>\n",
       "    <tr>\n",
       "      <th>17234</th>\n",
       "      <td>Memphis Scholars Raleigh-Egypt</td>\n",
       "      <td>37</td>\n",
       "    </tr>\n",
       "    <tr>\n",
       "      <th>17239</th>\n",
       "      <td>Kirby Middle School</td>\n",
       "      <td>18.8</td>\n",
       "    </tr>\n",
       "    <tr>\n",
       "      <th>17247</th>\n",
       "      <td>Hillcrest High School</td>\n",
       "      <td>39.5</td>\n",
       "    </tr>\n",
       "    <tr>\n",
       "      <th>17254</th>\n",
       "      <td>Bluff City High School</td>\n",
       "      <td>34.7</td>\n",
       "    </tr>\n",
       "    <tr>\n",
       "      <th>17262</th>\n",
       "      <td>KIPP Antioch College Prep Elementary</td>\n",
       "      <td>5.5</td>\n",
       "    </tr>\n",
       "  </tbody>\n",
       "</table>\n",
       "<p>1561 rows × 2 columns</p>\n",
       "</div>"
      ],
      "text/plain": [
       "                                school_name pct_chronically_absent\n",
       "0               Anderson County High School                   16.9\n",
       "11                 Andersonville Elementary                    9.4\n",
       "20                    Briceville Elementary                   19.5\n",
       "27                       Claxton Elementary                   18.9\n",
       "38                    Clinton Middle School                   21.4\n",
       "...                                     ...                    ...\n",
       "17234        Memphis Scholars Raleigh-Egypt                     37\n",
       "17239                   Kirby Middle School                   18.8\n",
       "17247                 Hillcrest High School                   39.5\n",
       "17254                Bluff City High School                   34.7\n",
       "17262  KIPP Antioch College Prep Elementary                    5.5\n",
       "\n",
       "[1561 rows x 2 columns]"
      ]
     },
     "execution_count": 164,
     "metadata": {},
     "output_type": "execute_result"
    }
   ],
   "source": [
    "absent_df"
   ]
  },
  {
   "cell_type": "code",
   "execution_count": null,
   "metadata": {},
   "outputs": [],
   "source": [
    "# merge with "
   ]
  },
  {
   "cell_type": "code",
   "execution_count": 158,
   "metadata": {},
   "outputs": [],
   "source": [
    "# final merge\n",
    "merge_f= merge_e.merge(absent_df,how='inner', on=\"school_name\")"
   ]
  },
  {
   "cell_type": "code",
   "execution_count": 163,
   "metadata": {},
   "outputs": [
    {
     "data": {
      "text/plain": [
       "Index(['school_name', 'percent_suspended', 'percent_expelled',\n",
       "       'percent_committed_zero_tolerance', 'zipcode', 'longitude', 'latitude',\n",
       "       'graduation rate ', 'dropout_rate', 'number of students total',\n",
       "       'percentage of ready graduates', 'district_name', 'participation_rate',\n",
       "       'average_english_score', 'average_math_score', 'average_reading_score',\n",
       "       'average_science_score', 'average_composite_score',\n",
       "       'percent_scoring_21_or_higher', 'percent_scoring_below_19',\n",
       "       'pct_chronically_absent'],\n",
       "      dtype='object')"
      ]
     },
     "execution_count": 163,
     "metadata": {},
     "output_type": "execute_result"
    }
   ],
   "source": [
    "merge_f.columns"
   ]
  },
  {
   "cell_type": "code",
   "execution_count": 159,
   "metadata": {},
   "outputs": [],
   "source": [
    "# convert to a csv\n",
    "merge_f.to_csv('clean_data_3.csv', index=False)"
   ]
  },
  {
   "cell_type": "code",
   "execution_count": null,
   "metadata": {},
   "outputs": [],
   "source": []
  }
 ],
 "metadata": {
  "kernelspec": {
   "display_name": "Python 3",
   "language": "python",
   "name": "python3"
  },
  "language_info": {
   "codemirror_mode": {
    "name": "ipython",
    "version": 3
   },
   "file_extension": ".py",
   "mimetype": "text/x-python",
   "name": "python",
   "nbconvert_exporter": "python",
   "pygments_lexer": "ipython3",
   "version": "3.8.5"
  }
 },
 "nbformat": 4,
 "nbformat_minor": 4
}
