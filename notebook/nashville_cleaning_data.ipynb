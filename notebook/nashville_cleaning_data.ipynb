{
 "cells": [
  {
   "cell_type": "code",
   "execution_count": 1,
   "metadata": {},
   "outputs": [],
   "source": [
    "import pandas as pd\n",
    "\n",
    "# helps convert zip to lat and long\n",
    "from pyzipcode import ZipCodeDatabase"
   ]
  },
  {
   "cell_type": "code",
   "execution_count": 2,
   "metadata": {},
   "outputs": [],
   "source": [
    "tn_school =pd.read_csv('../data/clean_data/clean_data.csv')"
   ]
  },
  {
   "cell_type": "code",
   "execution_count": 3,
   "metadata": {},
   "outputs": [
    {
     "data": {
      "text/plain": [
       "(354, 21)"
      ]
     },
     "execution_count": 3,
     "metadata": {},
     "output_type": "execute_result"
    }
   ],
   "source": [
    "tn_school.shape"
   ]
  },
  {
   "cell_type": "code",
   "execution_count": 4,
   "metadata": {},
   "outputs": [],
   "source": [
    "absent_df = pd.read_csv('../data/original_data/school_chronic_absenteeism_suppressed.csv')"
   ]
  },
  {
   "cell_type": "code",
   "execution_count": 5,
   "metadata": {},
   "outputs": [],
   "source": [
    "absent_df=absent_df[absent_df.subgroup =='All Students']"
   ]
  },
  {
   "cell_type": "code",
   "execution_count": 6,
   "metadata": {},
   "outputs": [],
   "source": [
    "# remove *\n",
    "absent_df['pct_chronically_absent']= absent_df['pct_chronically_absent'].replace('*','0')"
   ]
  },
  {
   "cell_type": "code",
   "execution_count": 7,
   "metadata": {},
   "outputs": [],
   "source": [
    "# remove *\n",
    "absent_df['pct_chronically_absent']= absent_df['pct_chronically_absent'].replace('**','0')"
   ]
  },
  {
   "cell_type": "code",
   "execution_count": 8,
   "metadata": {},
   "outputs": [],
   "source": [
    "absent_df['pct_chronically_absent']=absent_df['pct_chronically_absent'].astype(float)"
   ]
  },
  {
   "cell_type": "code",
   "execution_count": 9,
   "metadata": {},
   "outputs": [],
   "source": [
    "absent_df=absent_df.drop(['system', 'school','grade_band','n_chronically_absent',\n",
    "                        'n_students' ], axis=1)"
   ]
  },
  {
   "cell_type": "code",
   "execution_count": 10,
   "metadata": {},
   "outputs": [],
   "source": [
    "absent_df=absent_df.drop(['subgroup'],axis=1)"
   ]
  },
  {
   "cell_type": "code",
   "execution_count": 11,
   "metadata": {},
   "outputs": [
    {
     "data": {
      "text/plain": [
       "Index(['system_name', 'school_name', 'pct_chronically_absent'], dtype='object')"
      ]
     },
     "execution_count": 11,
     "metadata": {},
     "output_type": "execute_result"
    }
   ],
   "source": [
    "absent_df.columns"
   ]
  },
  {
   "cell_type": "code",
   "execution_count": 12,
   "metadata": {},
   "outputs": [],
   "source": [
    "absent_df=absent_df[absent_df['pct_chronically_absent'] != 0]"
   ]
  },
  {
   "cell_type": "code",
   "execution_count": 16,
   "metadata": {},
   "outputs": [
    {
     "data": {
      "text/html": [
       "<div>\n",
       "<style scoped>\n",
       "    .dataframe tbody tr th:only-of-type {\n",
       "        vertical-align: middle;\n",
       "    }\n",
       "\n",
       "    .dataframe tbody tr th {\n",
       "        vertical-align: top;\n",
       "    }\n",
       "\n",
       "    .dataframe thead th {\n",
       "        text-align: right;\n",
       "    }\n",
       "</style>\n",
       "<table border=\"1\" class=\"dataframe\">\n",
       "  <thead>\n",
       "    <tr style=\"text-align: right;\">\n",
       "      <th></th>\n",
       "      <th>system_name</th>\n",
       "      <th>school_name</th>\n",
       "      <th>pct_chronically_absent</th>\n",
       "    </tr>\n",
       "  </thead>\n",
       "  <tbody>\n",
       "    <tr>\n",
       "      <th>0</th>\n",
       "      <td>Anderson County</td>\n",
       "      <td>Anderson County High School</td>\n",
       "      <td>16.9</td>\n",
       "    </tr>\n",
       "    <tr>\n",
       "      <th>11</th>\n",
       "      <td>Anderson County</td>\n",
       "      <td>Andersonville Elementary</td>\n",
       "      <td>9.4</td>\n",
       "    </tr>\n",
       "    <tr>\n",
       "      <th>20</th>\n",
       "      <td>Anderson County</td>\n",
       "      <td>Briceville Elementary</td>\n",
       "      <td>19.5</td>\n",
       "    </tr>\n",
       "  </tbody>\n",
       "</table>\n",
       "</div>"
      ],
      "text/plain": [
       "        system_name                  school_name  pct_chronically_absent\n",
       "0   Anderson County  Anderson County High School                    16.9\n",
       "11  Anderson County     Andersonville Elementary                     9.4\n",
       "20  Anderson County        Briceville Elementary                    19.5"
      ]
     },
     "execution_count": 16,
     "metadata": {},
     "output_type": "execute_result"
    }
   ],
   "source": [
    "absent_df.head(3)"
   ]
  },
  {
   "cell_type": "code",
   "execution_count": 23,
   "metadata": {},
   "outputs": [],
   "source": [
    "#absent_df.pct_chronically_absent.unique()"
   ]
  },
  {
   "cell_type": "code",
   "execution_count": 27,
   "metadata": {},
   "outputs": [
    {
     "data": {
      "text/plain": [
       "(1561, 3)"
      ]
     },
     "execution_count": 27,
     "metadata": {},
     "output_type": "execute_result"
    }
   ],
   "source": [
    "#absent_df.head(20)\n",
    "absent_df.shape"
   ]
  },
  {
   "cell_type": "code",
   "execution_count": 34,
   "metadata": {},
   "outputs": [],
   "source": [
    "# merge by school name\n",
    "clean_df=tn_school.merge(absent_df,how='inner', on=\"school_name\")"
   ]
  },
  {
   "cell_type": "code",
   "execution_count": 17,
   "metadata": {},
   "outputs": [],
   "source": [
    "finance_df =pd.read_csv('../data/clean_data/clean_county_data.csv')"
   ]
  },
  {
   "cell_type": "code",
   "execution_count": 18,
   "metadata": {},
   "outputs": [
    {
     "data": {
      "text/plain": [
       "(110, 25)"
      ]
     },
     "execution_count": 18,
     "metadata": {},
     "output_type": "execute_result"
    }
   ],
   "source": [
    "finance_df.shape"
   ]
  },
  {
   "cell_type": "code",
   "execution_count": 20,
   "metadata": {
    "scrolled": true
   },
   "outputs": [],
   "source": [
    "absent_df = absent_df.rename(columns={'system_name': 'district_name'\n",
    "                       \n",
    "                       })"
   ]
  },
  {
   "cell_type": "code",
   "execution_count": 23,
   "metadata": {},
   "outputs": [],
   "source": [
    "absent_df=absent_df.groupby(['district_name']).mean()"
   ]
  },
  {
   "cell_type": "code",
   "execution_count": 25,
   "metadata": {},
   "outputs": [],
   "source": [
    "# merge by district\n",
    "finance_clean_df=finance_df.merge(absent_df,how='inner', on=\"district_name\")"
   ]
  },
  {
   "cell_type": "code",
   "execution_count": 26,
   "metadata": {},
   "outputs": [],
   "source": [
    "finance_clean_df.to_csv('finance_cean_data_1',index=False)"
   ]
  },
  {
   "cell_type": "code",
   "execution_count": 41,
   "metadata": {},
   "outputs": [],
   "source": [
    "# drop system name, total\n",
    "clean_df=clean_df.drop(['system_name', 'number of students total'\n",
    "                         ], axis=1)"
   ]
  },
  {
   "cell_type": "code",
   "execution_count": 42,
   "metadata": {},
   "outputs": [],
   "source": [
    "# convert to a csv\n",
    "clean_df.to_csv('clean_data_1.csv', index=False)"
   ]
  },
  {
   "cell_type": "code",
   "execution_count": 5,
   "metadata": {},
   "outputs": [],
   "source": [
    "# needed columns for discipline,dropout, gradrate, and readygrad\n",
    "\n",
    "#finance_fields =[]\n",
    "discipline_fields =['students_total','district_name','percent_suspended',\n",
    "                    'percent_expelled','percent_committed_zero_tolerance','school_name']\n",
    "dropout_fields =['district_name','school_name','dropout_rate','subgroup']\n",
    "grad_fields =['district_name','graduation rate ','school_name','subgroup']\n",
    "gradready_fields =['district_name','school_name','subgroup',\n",
    "                   'percentage of ready graduates','number of students total']\n",
    "act_fields =['district_name','school_name','participation_rate','average_english_score','subgroup',\n",
    "             'average_math_score','average_reading_score','average_science_score',\n",
    "             'average_composite_score','percent_scoring_21_or_higher','percent_scoring_below_19']\n",
    "school_fields =['school_name','zipcode']\n",
    "\n",
    "finance_fields=['District Name','Total School Per Pupil Expenditures',\n",
    "                'Total Expenditures Per School','Local Percentage','Federal Percentage',\n",
    "               'State Percentage']\n",
    "district_fields =['district','zipcode']"
   ]
  },
  {
   "cell_type": "code",
   "execution_count": 3,
   "metadata": {},
   "outputs": [],
   "source": [
    "# import finance data only need 141 rows the rest are missing\n",
    "finance_school = pd.read_csv('../data/original_data/finance_data.csv',\n",
    "                            usecols=finance_fields,nrows=142)\n",
    "# 2020 report data on discipline\n",
    "# usecols=discipline_fields\n",
    "discipline_df = pd.read_excel('../data/original_data/reportcarddata2020.xlsx','overall_discipline',\n",
    "                              usecols=discipline_fields\n",
    "                              )\n",
    "\n",
    "district_df = pd.read_excel('../data/original_data/reportcarddata2020.xlsx','district_info',\n",
    "                              usecols=district_fields\n",
    "                              )\n",
    "\n",
    "school_df = pd.read_excel('../data/original_data/reportcarddata2020.xlsx','school_info',\n",
    "                              usecols=school_fields\n",
    "                              )\n",
    "\n",
    "\n",
    "# dropout_district\n",
    "# usecols=dropout_fields\n",
    "dropout_df = pd.read_excel('../data/original_data/reportcarddata2020.xlsx','dropout_school',\n",
    "                           usecols=dropout_fields\n",
    "                          )\n",
    "# grad_rate_district\n",
    "# usecols=grad_fields\n",
    "gradrate_df = pd.read_excel('../data/original_data/reportcarddata2020.xlsx','grad_rate_school'\n",
    "                           ,usecols=grad_fields)\n",
    "# ready_grad_district\n",
    "# usecols=gradready_fields\n",
    "readygrad_df = pd.read_excel('../data/original_data/reportcarddata2020.xlsx','ready_grad_school'\n",
    "                          ,usecols=gradready_fields )\n",
    "act_df = pd.read_excel('../data/original_data/reportcarddata2020.xlsx','ACT_school',\n",
    "                      usecols=act_fields)\n",
    "# import data\n",
    "tn_school = pd.read_csv('../data/clean_data/clean_data.csv')"
   ]
  },
  {
   "cell_type": "code",
   "execution_count": 2,
   "metadata": {},
   "outputs": [],
   "source": [
    "dropout18_df = pd.read_excel('../data/original_data/reportcarddata2018.xlsx','dropout'\n",
    "                             \n",
    "                              )"
   ]
  },
  {
   "cell_type": "code",
   "execution_count": 18,
   "metadata": {},
   "outputs": [],
   "source": [
    "dropout19_df = pd.read_excel('../data/original_data/reportcarddata2019.xlsx','dropout'\n",
    "                             \n",
    "                              )"
   ]
  },
  {
   "cell_type": "code",
   "execution_count": 33,
   "metadata": {},
   "outputs": [
    {
     "data": {
      "text/plain": [
       "(492, 10)"
      ]
     },
     "execution_count": 33,
     "metadata": {},
     "output_type": "execute_result"
    }
   ],
   "source": [
    "dropout19_df.shape"
   ]
  },
  {
   "cell_type": "code",
   "execution_count": 40,
   "metadata": {},
   "outputs": [
    {
     "data": {
      "text/html": [
       "<div>\n",
       "<style scoped>\n",
       "    .dataframe tbody tr th:only-of-type {\n",
       "        vertical-align: middle;\n",
       "    }\n",
       "\n",
       "    .dataframe tbody tr th {\n",
       "        vertical-align: top;\n",
       "    }\n",
       "\n",
       "    .dataframe thead th {\n",
       "        text-align: right;\n",
       "    }\n",
       "</style>\n",
       "<table border=\"1\" class=\"dataframe\">\n",
       "  <thead>\n",
       "    <tr style=\"text-align: right;\">\n",
       "      <th></th>\n",
       "      <th>district_number</th>\n",
       "      <th>district_name</th>\n",
       "      <th>school_number</th>\n",
       "      <th>school_name</th>\n",
       "      <th>year</th>\n",
       "      <th>subgroup</th>\n",
       "      <th>denominator</th>\n",
       "      <th>percent_dropout</th>\n",
       "      <th>baseline_year</th>\n",
       "      <th>percent_dropout_previous</th>\n",
       "    </tr>\n",
       "  </thead>\n",
       "  <tbody>\n",
       "    <tr>\n",
       "      <th>24427</th>\n",
       "      <td>985</td>\n",
       "      <td>Achievement School District</td>\n",
       "      <td>50</td>\n",
       "      <td>Pathways in Education - Whitehaven</td>\n",
       "      <td>2018</td>\n",
       "      <td>all_students</td>\n",
       "      <td>122.0</td>\n",
       "      <td>63.9</td>\n",
       "      <td>2017.0</td>\n",
       "      <td>74.3</td>\n",
       "    </tr>\n",
       "    <tr>\n",
       "      <th>24544</th>\n",
       "      <td>985</td>\n",
       "      <td>Achievement School District</td>\n",
       "      <td>8055</td>\n",
       "      <td>Fairley High School</td>\n",
       "      <td>2018</td>\n",
       "      <td>all_students</td>\n",
       "      <td>182.0</td>\n",
       "      <td>16.5</td>\n",
       "      <td>2017.0</td>\n",
       "      <td>16.4</td>\n",
       "    </tr>\n",
       "    <tr>\n",
       "      <th>24570</th>\n",
       "      <td>985</td>\n",
       "      <td>Achievement School District</td>\n",
       "      <td>8065</td>\n",
       "      <td>Martin Luther King Preparatory High School</td>\n",
       "      <td>2018</td>\n",
       "      <td>all_students</td>\n",
       "      <td>151.0</td>\n",
       "      <td>27.8</td>\n",
       "      <td>2017.0</td>\n",
       "      <td>27.7</td>\n",
       "    </tr>\n",
       "    <tr>\n",
       "      <th>24726</th>\n",
       "      <td>985</td>\n",
       "      <td>Achievement School District</td>\n",
       "      <td>8140</td>\n",
       "      <td>Hillcrest High School</td>\n",
       "      <td>2018</td>\n",
       "      <td>all_students</td>\n",
       "      <td>152.0</td>\n",
       "      <td>29.6</td>\n",
       "      <td>2017.0</td>\n",
       "      <td>23.6</td>\n",
       "    </tr>\n",
       "  </tbody>\n",
       "</table>\n",
       "</div>"
      ],
      "text/plain": [
       "       district_number                district_name  school_number  \\\n",
       "24427              985  Achievement School District             50   \n",
       "24544              985  Achievement School District           8055   \n",
       "24570              985  Achievement School District           8065   \n",
       "24726              985  Achievement School District           8140   \n",
       "\n",
       "                                      school_name  year      subgroup  \\\n",
       "24427          Pathways in Education - Whitehaven  2018  all_students   \n",
       "24544                         Fairley High School  2018  all_students   \n",
       "24570  Martin Luther King Preparatory High School  2018  all_students   \n",
       "24726                       Hillcrest High School  2018  all_students   \n",
       "\n",
       "       denominator  percent_dropout  baseline_year percent_dropout_previous  \n",
       "24427        122.0             63.9         2017.0                     74.3  \n",
       "24544        182.0             16.5         2017.0                     16.4  \n",
       "24570        151.0             27.8         2017.0                     27.7  \n",
       "24726        152.0             29.6         2017.0                     23.6  "
      ]
     },
     "execution_count": 40,
     "metadata": {},
     "output_type": "execute_result"
    }
   ],
   "source": [
    "dropout19_df.tail(4)\n",
    "#dropout19_df.dtypes"
   ]
  },
  {
   "cell_type": "code",
   "execution_count": 43,
   "metadata": {},
   "outputs": [
    {
     "data": {
      "text/plain": [
       "Index(['district_number', 'district_name', 'school_number', 'school_name',\n",
       "       'year', 'subgroup', 'denominator', 'percent_dropout', 'baseline_year',\n",
       "       'percent_dropout_previous'],\n",
       "      dtype='object')"
      ]
     },
     "execution_count": 43,
     "metadata": {},
     "output_type": "execute_result"
    }
   ],
   "source": [
    "dropout19_df.columns"
   ]
  },
  {
   "cell_type": "code",
   "execution_count": 46,
   "metadata": {},
   "outputs": [],
   "source": [
    "dropout19_df=dropout19_df[['district_name','school_name','percent_dropout']]"
   ]
  },
  {
   "cell_type": "code",
   "execution_count": 21,
   "metadata": {},
   "outputs": [],
   "source": [
    "dropout19_df=dropout19_df[dropout19_df.subgroup =='all_students']"
   ]
  },
  {
   "cell_type": "code",
   "execution_count": 24,
   "metadata": {},
   "outputs": [],
   "source": [
    "dropout19_df=dropout19_df.dropna()"
   ]
  },
  {
   "cell_type": "code",
   "execution_count": 32,
   "metadata": {},
   "outputs": [],
   "source": [
    "dropout19_df=dropout19_df[dropout19_df['percent_dropout'] != '*']"
   ]
  },
  {
   "cell_type": "code",
   "execution_count": 38,
   "metadata": {},
   "outputs": [
    {
     "name": "stderr",
     "output_type": "stream",
     "text": [
      "<ipython-input-38-a2dedcbd45d0>:1: SettingWithCopyWarning: \n",
      "A value is trying to be set on a copy of a slice from a DataFrame.\n",
      "Try using .loc[row_indexer,col_indexer] = value instead\n",
      "\n",
      "See the caveats in the documentation: https://pandas.pydata.org/pandas-docs/stable/user_guide/indexing.html#returning-a-view-versus-a-copy\n",
      "  dropout19_df['percent_dropout']=dropout19_df['percent_dropout'].astype(float)\n"
     ]
    }
   ],
   "source": [
    "dropout19_df['percent_dropout']=dropout19_df['percent_dropout'].astype(float)"
   ]
  },
  {
   "cell_type": "code",
   "execution_count": 5,
   "metadata": {},
   "outputs": [],
   "source": [
    "dropout18_df=dropout18_df[dropout18_df.subgroup =='All Students']"
   ]
  },
  {
   "cell_type": "code",
   "execution_count": 8,
   "metadata": {},
   "outputs": [],
   "source": [
    "dropout18_df=dropout18_df.dropna()"
   ]
  },
  {
   "cell_type": "code",
   "execution_count": 13,
   "metadata": {},
   "outputs": [
    {
     "data": {
      "text/plain": [
       "<bound method Series.unique of 26          0\n",
       "91        2.8\n",
       "338       0.9\n",
       "416       0.7\n",
       "455       1.4\n",
       "         ... \n",
       "24193     4.5\n",
       "24297    18.6\n",
       "24310    11.9\n",
       "24427     5.5\n",
       "24453     7.6\n",
       "Name: percent_dropout, Length: 352, dtype: object>"
      ]
     },
     "execution_count": 13,
     "metadata": {},
     "output_type": "execute_result"
    }
   ],
   "source": [
    "#dropout18_df.shape\n",
    "dropout18_df.percent_dropout.unique\n",
    "#dropout18_df.tail(15)"
   ]
  },
  {
   "cell_type": "markdown",
   "metadata": {},
   "source": [
    "# clean finance data"
   ]
  },
  {
   "cell_type": "code",
   "execution_count": 57,
   "metadata": {},
   "outputs": [],
   "source": [
    "finance_school = finance_school.rename(columns={'District Name': 'district_name', 'Total School Per Pupil Expenditures': 'Total_School_Per_Pupil_Expenditures',\n",
    "                      'Total Expenditures Per School':'Total_Expenditures_Per_School',\n",
    "                        'Local Percentage':'Local_Percentage','Federal Percentage':'Federal_Percentage',\n",
    "                        'State Percentage':'State_Percentage'\n",
    "                       \n",
    "                       })"
   ]
  },
  {
   "cell_type": "code",
   "execution_count": 58,
   "metadata": {},
   "outputs": [],
   "source": [
    "# drop missing\n",
    "finance_school =finance_school.dropna()"
   ]
  },
  {
   "cell_type": "code",
   "execution_count": 4,
   "metadata": {},
   "outputs": [],
   "source": [
    "#finance_school.isnull().sum()\n",
    "#finance_school.shape\n",
    "#finance_school.dtypes\n",
    "#finance_school.head(5)"
   ]
  },
  {
   "cell_type": "code",
   "execution_count": 60,
   "metadata": {},
   "outputs": [],
   "source": [
    "# remove % from columns\n",
    "finance_school['Local_Percentage']=finance_school['Local_Percentage'].str.strip('%')\n",
    "finance_school['Federal_Percentage']=finance_school['Federal_Percentage'].str.strip('%')\n",
    "finance_school['State_Percentage']=finance_school['State_Percentage'].str.strip('%')"
   ]
  },
  {
   "cell_type": "code",
   "execution_count": 64,
   "metadata": {},
   "outputs": [],
   "source": [
    "# convert to float\n",
    "finance_school['Local_Percentage']=finance_school['Local_Percentage'].astype(float)\n",
    "finance_school['Federal_Percentage']=finance_school['Federal_Percentage'].astype(float)\n",
    "finance_school['State_Percentage']=finance_school['State_Percentage'].astype(float)"
   ]
  },
  {
   "cell_type": "markdown",
   "metadata": {},
   "source": [
    "# clean district data \n",
    "## so it can be merged with finance"
   ]
  },
  {
   "cell_type": "code",
   "execution_count": 79,
   "metadata": {},
   "outputs": [],
   "source": [
    "district_df['longitude'] = district_df['zipcode'].apply(get_long)\n",
    "district_df['latitude'] = district_df['zipcode'].apply(get_lat)"
   ]
  },
  {
   "cell_type": "code",
   "execution_count": 84,
   "metadata": {},
   "outputs": [],
   "source": [
    "# rename district\n",
    "district_df= district_df.rename(columns={'district':'district_name'})"
   ]
  },
  {
   "cell_type": "markdown",
   "metadata": {},
   "source": [
    "# merge district with finance"
   ]
  },
  {
   "cell_type": "code",
   "execution_count": 92,
   "metadata": {},
   "outputs": [],
   "source": [
    "# merge by district_name\n",
    "fd_df=district_df.merge(finance_school,how='inner', on=\"district_name\")"
   ]
  },
  {
   "cell_type": "code",
   "execution_count": 97,
   "metadata": {},
   "outputs": [
    {
     "data": {
      "text/plain": [
       "(126, 9)"
      ]
     },
     "execution_count": 97,
     "metadata": {},
     "output_type": "execute_result"
    }
   ],
   "source": [
    "#d_df.head(10)\n",
    "fd_df.shape"
   ]
  },
  {
   "cell_type": "markdown",
   "metadata": {},
   "source": [
    "# group by distric with clean data"
   ]
  },
  {
   "cell_type": "code",
   "execution_count": 99,
   "metadata": {},
   "outputs": [],
   "source": [
    "#tn_school.head(5)"
   ]
  },
  {
   "cell_type": "code",
   "execution_count": 100,
   "metadata": {},
   "outputs": [],
   "source": [
    "# remove zip,long,lat,school_name\n",
    "filt_tn_school=tn_school.drop(columns={'zipcode','longitude','latitude','school_name',})"
   ]
  },
  {
   "cell_type": "code",
   "execution_count": 102,
   "metadata": {},
   "outputs": [],
   "source": [
    "filt_tn_school=filt_tn_school.groupby(['district_name']).mean()"
   ]
  },
  {
   "cell_type": "code",
   "execution_count": 104,
   "metadata": {},
   "outputs": [
    {
     "data": {
      "text/html": [
       "<div>\n",
       "<style scoped>\n",
       "    .dataframe tbody tr th:only-of-type {\n",
       "        vertical-align: middle;\n",
       "    }\n",
       "\n",
       "    .dataframe tbody tr th {\n",
       "        vertical-align: top;\n",
       "    }\n",
       "\n",
       "    .dataframe thead th {\n",
       "        text-align: right;\n",
       "    }\n",
       "</style>\n",
       "<table border=\"1\" class=\"dataframe\">\n",
       "  <thead>\n",
       "    <tr style=\"text-align: right;\">\n",
       "      <th></th>\n",
       "      <th>students_total</th>\n",
       "      <th>percent_suspended</th>\n",
       "      <th>percent_expelled</th>\n",
       "      <th>percent_committed_zero_tolerance</th>\n",
       "      <th>graduation rate</th>\n",
       "      <th>dropout_rate</th>\n",
       "      <th>number of students total</th>\n",
       "      <th>percentage of ready graduates</th>\n",
       "      <th>participation_rate</th>\n",
       "      <th>average_english_score</th>\n",
       "      <th>average_math_score</th>\n",
       "      <th>average_reading_score</th>\n",
       "      <th>average_science_score</th>\n",
       "      <th>average_composite_score</th>\n",
       "      <th>percent_scoring_21_or_higher</th>\n",
       "      <th>percent_scoring_below_19</th>\n",
       "    </tr>\n",
       "    <tr>\n",
       "      <th>district_name</th>\n",
       "      <th></th>\n",
       "      <th></th>\n",
       "      <th></th>\n",
       "      <th></th>\n",
       "      <th></th>\n",
       "      <th></th>\n",
       "      <th></th>\n",
       "      <th></th>\n",
       "      <th></th>\n",
       "      <th></th>\n",
       "      <th></th>\n",
       "      <th></th>\n",
       "      <th></th>\n",
       "      <th></th>\n",
       "      <th></th>\n",
       "      <th></th>\n",
       "    </tr>\n",
       "  </thead>\n",
       "  <tbody>\n",
       "    <tr>\n",
       "      <th>Achievement School District</th>\n",
       "      <td>434.6</td>\n",
       "      <td>10.98</td>\n",
       "      <td>0.04</td>\n",
       "      <td>0.68</td>\n",
       "      <td>47.34</td>\n",
       "      <td>31.60</td>\n",
       "      <td>134.4</td>\n",
       "      <td>0.00</td>\n",
       "      <td>69.6</td>\n",
       "      <td>10.68</td>\n",
       "      <td>12.24</td>\n",
       "      <td>11.78</td>\n",
       "      <td>11.98</td>\n",
       "      <td>11.80</td>\n",
       "      <td>4.26</td>\n",
       "      <td>52.00</td>\n",
       "    </tr>\n",
       "    <tr>\n",
       "      <th>Alcoa</th>\n",
       "      <td>712.0</td>\n",
       "      <td>7.40</td>\n",
       "      <td>0.60</td>\n",
       "      <td>2.10</td>\n",
       "      <td>98.80</td>\n",
       "      <td>0.60</td>\n",
       "      <td>172.0</td>\n",
       "      <td>59.30</td>\n",
       "      <td>100.0</td>\n",
       "      <td>21.10</td>\n",
       "      <td>20.00</td>\n",
       "      <td>21.60</td>\n",
       "      <td>20.90</td>\n",
       "      <td>21.10</td>\n",
       "      <td>53.50</td>\n",
       "      <td>32.90</td>\n",
       "    </tr>\n",
       "    <tr>\n",
       "      <th>Alvin C York Institute</th>\n",
       "      <td>547.0</td>\n",
       "      <td>0.00</td>\n",
       "      <td>0.00</td>\n",
       "      <td>0.00</td>\n",
       "      <td>91.90</td>\n",
       "      <td>5.90</td>\n",
       "      <td>136.0</td>\n",
       "      <td>36.00</td>\n",
       "      <td>98.0</td>\n",
       "      <td>18.50</td>\n",
       "      <td>19.30</td>\n",
       "      <td>19.50</td>\n",
       "      <td>19.10</td>\n",
       "      <td>19.30</td>\n",
       "      <td>39.80</td>\n",
       "      <td>50.40</td>\n",
       "    </tr>\n",
       "    <tr>\n",
       "      <th>Anderson County</th>\n",
       "      <td>1169.5</td>\n",
       "      <td>4.70</td>\n",
       "      <td>0.00</td>\n",
       "      <td>0.45</td>\n",
       "      <td>95.65</td>\n",
       "      <td>2.55</td>\n",
       "      <td>276.0</td>\n",
       "      <td>42.85</td>\n",
       "      <td>100.0</td>\n",
       "      <td>19.05</td>\n",
       "      <td>18.70</td>\n",
       "      <td>19.90</td>\n",
       "      <td>19.60</td>\n",
       "      <td>19.45</td>\n",
       "      <td>37.50</td>\n",
       "      <td>48.35</td>\n",
       "    </tr>\n",
       "    <tr>\n",
       "      <th>Arlington</th>\n",
       "      <td>2140.0</td>\n",
       "      <td>1.50</td>\n",
       "      <td>0.00</td>\n",
       "      <td>0.40</td>\n",
       "      <td>97.30</td>\n",
       "      <td>1.80</td>\n",
       "      <td>512.0</td>\n",
       "      <td>63.30</td>\n",
       "      <td>99.0</td>\n",
       "      <td>22.60</td>\n",
       "      <td>21.40</td>\n",
       "      <td>23.90</td>\n",
       "      <td>22.40</td>\n",
       "      <td>22.80</td>\n",
       "      <td>64.80</td>\n",
       "      <td>22.60</td>\n",
       "    </tr>\n",
       "  </tbody>\n",
       "</table>\n",
       "</div>"
      ],
      "text/plain": [
       "                             students_total  percent_suspended  \\\n",
       "district_name                                                    \n",
       "Achievement School District           434.6              10.98   \n",
       "Alcoa                                 712.0               7.40   \n",
       "Alvin C York Institute                547.0               0.00   \n",
       "Anderson County                      1169.5               4.70   \n",
       "Arlington                            2140.0               1.50   \n",
       "\n",
       "                             percent_expelled  \\\n",
       "district_name                                   \n",
       "Achievement School District              0.04   \n",
       "Alcoa                                    0.60   \n",
       "Alvin C York Institute                   0.00   \n",
       "Anderson County                          0.00   \n",
       "Arlington                                0.00   \n",
       "\n",
       "                             percent_committed_zero_tolerance  \\\n",
       "district_name                                                   \n",
       "Achievement School District                              0.68   \n",
       "Alcoa                                                    2.10   \n",
       "Alvin C York Institute                                   0.00   \n",
       "Anderson County                                          0.45   \n",
       "Arlington                                                0.40   \n",
       "\n",
       "                             graduation rate   dropout_rate  \\\n",
       "district_name                                                 \n",
       "Achievement School District             47.34         31.60   \n",
       "Alcoa                                   98.80          0.60   \n",
       "Alvin C York Institute                  91.90          5.90   \n",
       "Anderson County                         95.65          2.55   \n",
       "Arlington                               97.30          1.80   \n",
       "\n",
       "                             number of students total  \\\n",
       "district_name                                           \n",
       "Achievement School District                     134.4   \n",
       "Alcoa                                           172.0   \n",
       "Alvin C York Institute                          136.0   \n",
       "Anderson County                                 276.0   \n",
       "Arlington                                       512.0   \n",
       "\n",
       "                             percentage of ready graduates  \\\n",
       "district_name                                                \n",
       "Achievement School District                           0.00   \n",
       "Alcoa                                                59.30   \n",
       "Alvin C York Institute                               36.00   \n",
       "Anderson County                                      42.85   \n",
       "Arlington                                            63.30   \n",
       "\n",
       "                             participation_rate  average_english_score  \\\n",
       "district_name                                                            \n",
       "Achievement School District                69.6                  10.68   \n",
       "Alcoa                                     100.0                  21.10   \n",
       "Alvin C York Institute                     98.0                  18.50   \n",
       "Anderson County                           100.0                  19.05   \n",
       "Arlington                                  99.0                  22.60   \n",
       "\n",
       "                             average_math_score  average_reading_score  \\\n",
       "district_name                                                            \n",
       "Achievement School District               12.24                  11.78   \n",
       "Alcoa                                     20.00                  21.60   \n",
       "Alvin C York Institute                    19.30                  19.50   \n",
       "Anderson County                           18.70                  19.90   \n",
       "Arlington                                 21.40                  23.90   \n",
       "\n",
       "                             average_science_score  average_composite_score  \\\n",
       "district_name                                                                 \n",
       "Achievement School District                  11.98                    11.80   \n",
       "Alcoa                                        20.90                    21.10   \n",
       "Alvin C York Institute                       19.10                    19.30   \n",
       "Anderson County                              19.60                    19.45   \n",
       "Arlington                                    22.40                    22.80   \n",
       "\n",
       "                             percent_scoring_21_or_higher  \\\n",
       "district_name                                               \n",
       "Achievement School District                          4.26   \n",
       "Alcoa                                               53.50   \n",
       "Alvin C York Institute                              39.80   \n",
       "Anderson County                                     37.50   \n",
       "Arlington                                           64.80   \n",
       "\n",
       "                             percent_scoring_below_19  \n",
       "district_name                                          \n",
       "Achievement School District                     52.00  \n",
       "Alcoa                                           32.90  \n",
       "Alvin C York Institute                          50.40  \n",
       "Anderson County                                 48.35  \n",
       "Arlington                                       22.60  "
      ]
     },
     "execution_count": 104,
     "metadata": {},
     "output_type": "execute_result"
    }
   ],
   "source": [
    "filt_tn_school.head(5)"
   ]
  },
  {
   "cell_type": "markdown",
   "metadata": {},
   "source": [
    "# merge with clean data"
   ]
  },
  {
   "cell_type": "code",
   "execution_count": 108,
   "metadata": {},
   "outputs": [],
   "source": [
    "# merge by district_name\n",
    "clean_county_data=fd_df.merge(filt_tn_school,how='inner', on=\"district_name\")"
   ]
  },
  {
   "cell_type": "code",
   "execution_count": 111,
   "metadata": {},
   "outputs": [],
   "source": [
    "clean_county_data=clean_county_data.dropna()"
   ]
  },
  {
   "cell_type": "code",
   "execution_count": 113,
   "metadata": {},
   "outputs": [],
   "source": [
    "# convert to a csv\n",
    "clean_county_data.to_csv('clean_county_data.csv', index=False)"
   ]
  },
  {
   "cell_type": "markdown",
   "metadata": {},
   "source": [
    "# needed\n",
    "## report data needs to filter to davidson county and merge by state\n",
    "### drop rows that are not needed"
   ]
  },
  {
   "cell_type": "markdown",
   "metadata": {},
   "source": [
    "# clean shchool data"
   ]
  },
  {
   "cell_type": "code",
   "execution_count": 5,
   "metadata": {},
   "outputs": [],
   "source": [
    "zipcode_database = ZipCodeDatabase()"
   ]
  },
  {
   "cell_type": "code",
   "execution_count": 6,
   "metadata": {},
   "outputs": [],
   "source": [
    "def get_long(zip):\n",
    "    try:\n",
    "        return zipcode_database[zip].longitude\n",
    "    except:\n",
    "        pass\n",
    "def get_lat(zip):\n",
    "    try:\n",
    "        return zipcode_database[zip].latitude\n",
    "    except:\n",
    "        pass\n",
    "school_df['longitude'] = school_df['zipcode'].apply(get_long)\n",
    "school_df['latitude'] = school_df['zipcode'].apply(get_lat)"
   ]
  },
  {
   "cell_type": "code",
   "execution_count": 18,
   "metadata": {},
   "outputs": [
    {
     "data": {
      "text/plain": [
       "(1878, 4)"
      ]
     },
     "execution_count": 18,
     "metadata": {},
     "output_type": "execute_result"
    }
   ],
   "source": [
    "school_df.shape"
   ]
  },
  {
   "cell_type": "markdown",
   "metadata": {},
   "source": [
    "# clean discipline data"
   ]
  },
  {
   "cell_type": "code",
   "execution_count": 8,
   "metadata": {},
   "outputs": [],
   "source": [
    "discipline_df = discipline_df.iloc[1: , :]"
   ]
  },
  {
   "cell_type": "code",
   "execution_count": 9,
   "metadata": {},
   "outputs": [],
   "source": [
    "discipline_df=discipline_df.dropna()"
   ]
  },
  {
   "cell_type": "code",
   "execution_count": 10,
   "metadata": {},
   "outputs": [],
   "source": [
    "# counting the duplicates\n",
    "#dups = discipline_df.pivot_table(index = ['school_name'], aggfunc ='size')"
   ]
  },
  {
   "cell_type": "code",
   "execution_count": 11,
   "metadata": {},
   "outputs": [],
   "source": [
    "# dropping duplicate values\n",
    "#discipline_df=discipline_df.drop_duplicates(subset=['school_name'])"
   ]
  },
  {
   "cell_type": "code",
   "execution_count": 15,
   "metadata": {},
   "outputs": [],
   "source": [
    "discipline_df=discipline_df.drop(columns=['students_total'],axis=1)"
   ]
  },
  {
   "cell_type": "markdown",
   "metadata": {},
   "source": [
    "# merge discipline and school data"
   ]
  },
  {
   "cell_type": "code",
   "execution_count": 20,
   "metadata": {},
   "outputs": [],
   "source": [
    "# merge by school_name\n",
    "merge_a=discipline_df.merge(school_df,how='right', on=\"school_name\")"
   ]
  },
  {
   "cell_type": "code",
   "execution_count": 21,
   "metadata": {},
   "outputs": [
    {
     "data": {
      "text/plain": [
       "(2074, 8)"
      ]
     },
     "execution_count": 21,
     "metadata": {},
     "output_type": "execute_result"
    }
   ],
   "source": [
    "merge_a.shape"
   ]
  },
  {
   "cell_type": "code",
   "execution_count": 22,
   "metadata": {},
   "outputs": [],
   "source": [
    "# dropping duplicate values\n",
    "merge_a=merge_a.drop_duplicates(subset=['school_name'])"
   ]
  },
  {
   "cell_type": "code",
   "execution_count": 23,
   "metadata": {},
   "outputs": [
    {
     "data": {
      "text/plain": [
       "(1812, 8)"
      ]
     },
     "execution_count": 23,
     "metadata": {},
     "output_type": "execute_result"
    }
   ],
   "source": [
    "merge_a.shape"
   ]
  },
  {
   "cell_type": "code",
   "execution_count": 24,
   "metadata": {},
   "outputs": [],
   "source": [
    "merge_a=merge_a.dropna()"
   ]
  },
  {
   "cell_type": "code",
   "execution_count": 25,
   "metadata": {},
   "outputs": [
    {
     "data": {
      "text/plain": [
       "(1731, 8)"
      ]
     },
     "execution_count": 25,
     "metadata": {},
     "output_type": "execute_result"
    }
   ],
   "source": [
    "merge_a.shape"
   ]
  },
  {
   "cell_type": "markdown",
   "metadata": {},
   "source": [
    "# clean dropout data"
   ]
  },
  {
   "cell_type": "code",
   "execution_count": 313,
   "metadata": {
    "scrolled": true
   },
   "outputs": [
    {
     "data": {
      "text/plain": [
       "district_name     9\n",
       "school_name       9\n",
       "subgroup          0\n",
       "dropout_rate     47\n",
       "dtype: int64"
      ]
     },
     "execution_count": 313,
     "metadata": {},
     "output_type": "execute_result"
    }
   ],
   "source": [
    "dropout_df.isnull().sum()"
   ]
  },
  {
   "cell_type": "code",
   "execution_count": 26,
   "metadata": {},
   "outputs": [],
   "source": [
    "dropout_df=dropout_df[dropout_df.subgroup =='All Students']"
   ]
  },
  {
   "cell_type": "code",
   "execution_count": 33,
   "metadata": {},
   "outputs": [
    {
     "data": {
      "text/plain": [
       "(372, 2)"
      ]
     },
     "execution_count": 33,
     "metadata": {},
     "output_type": "execute_result"
    }
   ],
   "source": [
    "dropout_df.shape"
   ]
  },
  {
   "cell_type": "code",
   "execution_count": 28,
   "metadata": {},
   "outputs": [],
   "source": [
    "dropout_df=dropout_df.dropna()"
   ]
  },
  {
   "cell_type": "code",
   "execution_count": 32,
   "metadata": {},
   "outputs": [
    {
     "data": {
      "text/html": [
       "<div>\n",
       "<style scoped>\n",
       "    .dataframe tbody tr th:only-of-type {\n",
       "        vertical-align: middle;\n",
       "    }\n",
       "\n",
       "    .dataframe tbody tr th {\n",
       "        vertical-align: top;\n",
       "    }\n",
       "\n",
       "    .dataframe thead th {\n",
       "        text-align: right;\n",
       "    }\n",
       "</style>\n",
       "<table border=\"1\" class=\"dataframe\">\n",
       "  <thead>\n",
       "    <tr style=\"text-align: right;\">\n",
       "      <th></th>\n",
       "      <th>school_name</th>\n",
       "      <th>dropout_rate</th>\n",
       "    </tr>\n",
       "  </thead>\n",
       "  <tbody>\n",
       "    <tr>\n",
       "      <th>0</th>\n",
       "      <td>Anderson County High School</td>\n",
       "      <td>1.4</td>\n",
       "    </tr>\n",
       "    <tr>\n",
       "      <th>14</th>\n",
       "      <td>Clinton High School</td>\n",
       "      <td>3.7</td>\n",
       "    </tr>\n",
       "    <tr>\n",
       "      <th>38</th>\n",
       "      <td>Oak Ridge High School</td>\n",
       "      <td>6.6</td>\n",
       "    </tr>\n",
       "    <tr>\n",
       "      <th>55</th>\n",
       "      <td>Cascade High School</td>\n",
       "      <td>0.9</td>\n",
       "    </tr>\n",
       "    <tr>\n",
       "      <th>71</th>\n",
       "      <td>Shelbyville Central High School</td>\n",
       "      <td>8.7</td>\n",
       "    </tr>\n",
       "  </tbody>\n",
       "</table>\n",
       "</div>"
      ],
      "text/plain": [
       "                        school_name  dropout_rate\n",
       "0       Anderson County High School           1.4\n",
       "14              Clinton High School           3.7\n",
       "38            Oak Ridge High School           6.6\n",
       "55              Cascade High School           0.9\n",
       "71  Shelbyville Central High School           8.7"
      ]
     },
     "execution_count": 32,
     "metadata": {},
     "output_type": "execute_result"
    }
   ],
   "source": [
    "dropout_df.head(5)"
   ]
  },
  {
   "cell_type": "code",
   "execution_count": 31,
   "metadata": {},
   "outputs": [],
   "source": [
    "dropout_df=dropout_df.drop(['district_name', 'subgroup'], axis=1)"
   ]
  },
  {
   "cell_type": "markdown",
   "metadata": {},
   "source": [
    "# clean graduate data"
   ]
  },
  {
   "cell_type": "code",
   "execution_count": 34,
   "metadata": {},
   "outputs": [],
   "source": [
    "gradrate_df=gradrate_df[gradrate_df.subgroup =='All Students']"
   ]
  },
  {
   "cell_type": "code",
   "execution_count": 40,
   "metadata": {},
   "outputs": [
    {
     "name": "stderr",
     "output_type": "stream",
     "text": [
      "<ipython-input-40-e223408d1fa8>:2: SettingWithCopyWarning: \n",
      "A value is trying to be set on a copy of a slice from a DataFrame.\n",
      "Try using .loc[row_indexer,col_indexer] = value instead\n",
      "\n",
      "See the caveats in the documentation: https://pandas.pydata.org/pandas-docs/stable/user_guide/indexing.html#returning-a-view-versus-a-copy\n",
      "  gradrate_df['graduation rate ']= gradrate_df['graduation rate '].replace('*','0')\n"
     ]
    }
   ],
   "source": [
    "# remove *\n",
    "gradrate_df['graduation rate ']= gradrate_df['graduation rate '].replace('*','0')"
   ]
  },
  {
   "cell_type": "code",
   "execution_count": 41,
   "metadata": {},
   "outputs": [
    {
     "name": "stderr",
     "output_type": "stream",
     "text": [
      "<ipython-input-41-bcac58e43fa5>:2: SettingWithCopyWarning: \n",
      "A value is trying to be set on a copy of a slice from a DataFrame.\n",
      "Try using .loc[row_indexer,col_indexer] = value instead\n",
      "\n",
      "See the caveats in the documentation: https://pandas.pydata.org/pandas-docs/stable/user_guide/indexing.html#returning-a-view-versus-a-copy\n",
      "  gradrate_df['graduation rate ']= gradrate_df['graduation rate '].replace('**','0')\n"
     ]
    }
   ],
   "source": [
    "# remove **\n",
    "gradrate_df['graduation rate ']= gradrate_df['graduation rate '].replace('**','0')"
   ]
  },
  {
   "cell_type": "code",
   "execution_count": 42,
   "metadata": {},
   "outputs": [
    {
     "name": "stderr",
     "output_type": "stream",
     "text": [
      "<ipython-input-42-6bf4b6800f7b>:1: SettingWithCopyWarning: \n",
      "A value is trying to be set on a copy of a slice from a DataFrame.\n",
      "Try using .loc[row_indexer,col_indexer] = value instead\n",
      "\n",
      "See the caveats in the documentation: https://pandas.pydata.org/pandas-docs/stable/user_guide/indexing.html#returning-a-view-versus-a-copy\n",
      "  gradrate_df['graduation rate ']=gradrate_df['graduation rate '].astype(float)\n"
     ]
    }
   ],
   "source": [
    "gradrate_df['graduation rate ']=gradrate_df['graduation rate '].astype(float)"
   ]
  },
  {
   "cell_type": "code",
   "execution_count": 44,
   "metadata": {},
   "outputs": [],
   "source": [
    "gradrate_df=gradrate_df[gradrate_df['graduation rate '] != 0]"
   ]
  },
  {
   "cell_type": "code",
   "execution_count": 46,
   "metadata": {},
   "outputs": [
    {
     "data": {
      "text/plain": [
       "(333, 4)"
      ]
     },
     "execution_count": 46,
     "metadata": {},
     "output_type": "execute_result"
    }
   ],
   "source": [
    "gradrate_df.shape"
   ]
  },
  {
   "cell_type": "code",
   "execution_count": 326,
   "metadata": {},
   "outputs": [],
   "source": [
    "#gradrate_df=gradrate_df.drop(['district_name','subgroup'], axis=1)"
   ]
  },
  {
   "cell_type": "markdown",
   "metadata": {},
   "source": [
    "# merge grad rate and dropout"
   ]
  },
  {
   "cell_type": "code",
   "execution_count": 47,
   "metadata": {},
   "outputs": [],
   "source": [
    "# merge drop out and grad rate\n",
    "merge_b=gradrate_df.merge(dropout_df,how='right', on=\"school_name\")"
   ]
  },
  {
   "cell_type": "code",
   "execution_count": 50,
   "metadata": {},
   "outputs": [
    {
     "data": {
      "text/plain": [
       "(364, 5)"
      ]
     },
     "execution_count": 50,
     "metadata": {},
     "output_type": "execute_result"
    }
   ],
   "source": [
    "merge_b.shape"
   ]
  },
  {
   "cell_type": "code",
   "execution_count": 49,
   "metadata": {},
   "outputs": [],
   "source": [
    "# dropping duplicate values\n",
    "merge_b=merge_b.drop_duplicates(subset=['school_name'])"
   ]
  },
  {
   "cell_type": "code",
   "execution_count": 240,
   "metadata": {},
   "outputs": [],
   "source": [
    "# drop columns\n",
    "#merge_b=merge_b.drop(['district_name_y', 'subgroup_y'], axis=1)"
   ]
  },
  {
   "cell_type": "code",
   "execution_count": 332,
   "metadata": {},
   "outputs": [],
   "source": [
    "# counting the duplicates\n",
    "#dups = merge_b.pivot_table(index = ['school_name'], aggfunc ='size')"
   ]
  },
  {
   "cell_type": "markdown",
   "metadata": {},
   "source": [
    "# merge a and b"
   ]
  },
  {
   "cell_type": "code",
   "execution_count": 51,
   "metadata": {},
   "outputs": [
    {
     "data": {
      "text/html": [
       "<div>\n",
       "<style scoped>\n",
       "    .dataframe tbody tr th:only-of-type {\n",
       "        vertical-align: middle;\n",
       "    }\n",
       "\n",
       "    .dataframe tbody tr th {\n",
       "        vertical-align: top;\n",
       "    }\n",
       "\n",
       "    .dataframe thead th {\n",
       "        text-align: right;\n",
       "    }\n",
       "</style>\n",
       "<table border=\"1\" class=\"dataframe\">\n",
       "  <thead>\n",
       "    <tr style=\"text-align: right;\">\n",
       "      <th></th>\n",
       "      <th>district_name</th>\n",
       "      <th>school_name</th>\n",
       "      <th>percent_suspended</th>\n",
       "      <th>percent_expelled</th>\n",
       "      <th>percent_committed_zero_tolerance</th>\n",
       "      <th>zipcode</th>\n",
       "      <th>longitude</th>\n",
       "      <th>latitude</th>\n",
       "    </tr>\n",
       "  </thead>\n",
       "  <tbody>\n",
       "    <tr>\n",
       "      <th>0</th>\n",
       "      <td>Anderson County</td>\n",
       "      <td>Anderson County High School</td>\n",
       "      <td>2.5</td>\n",
       "      <td>0.0</td>\n",
       "      <td>0.5</td>\n",
       "      <td>37716</td>\n",
       "      <td>-84.14656</td>\n",
       "      <td>36.099283</td>\n",
       "    </tr>\n",
       "    <tr>\n",
       "      <th>2</th>\n",
       "      <td>Anderson County</td>\n",
       "      <td>Andersonville Elementary</td>\n",
       "      <td>0.0</td>\n",
       "      <td>0.0</td>\n",
       "      <td>0.0</td>\n",
       "      <td>37705</td>\n",
       "      <td>-84.01131</td>\n",
       "      <td>36.217896</td>\n",
       "    </tr>\n",
       "    <tr>\n",
       "      <th>3</th>\n",
       "      <td>Anderson County</td>\n",
       "      <td>Briceville Elementary</td>\n",
       "      <td>1.7</td>\n",
       "      <td>0.0</td>\n",
       "      <td>0.0</td>\n",
       "      <td>37710</td>\n",
       "      <td>-84.28968</td>\n",
       "      <td>36.152310</td>\n",
       "    </tr>\n",
       "    <tr>\n",
       "      <th>4</th>\n",
       "      <td>Anderson County</td>\n",
       "      <td>Claxton Elementary</td>\n",
       "      <td>1.5</td>\n",
       "      <td>0.0</td>\n",
       "      <td>0.0</td>\n",
       "      <td>37849</td>\n",
       "      <td>-84.04192</td>\n",
       "      <td>36.044507</td>\n",
       "    </tr>\n",
       "    <tr>\n",
       "      <th>5</th>\n",
       "      <td>Anderson County</td>\n",
       "      <td>Clinton Middle School</td>\n",
       "      <td>11.1</td>\n",
       "      <td>0.0</td>\n",
       "      <td>0.1</td>\n",
       "      <td>37716</td>\n",
       "      <td>-84.14656</td>\n",
       "      <td>36.099283</td>\n",
       "    </tr>\n",
       "  </tbody>\n",
       "</table>\n",
       "</div>"
      ],
      "text/plain": [
       "     district_name                  school_name  percent_suspended  \\\n",
       "0  Anderson County  Anderson County High School                2.5   \n",
       "2  Anderson County     Andersonville Elementary                0.0   \n",
       "3  Anderson County        Briceville Elementary                1.7   \n",
       "4  Anderson County           Claxton Elementary                1.5   \n",
       "5  Anderson County        Clinton Middle School               11.1   \n",
       "\n",
       "   percent_expelled  percent_committed_zero_tolerance  zipcode  longitude  \\\n",
       "0               0.0                               0.5    37716  -84.14656   \n",
       "2               0.0                               0.0    37705  -84.01131   \n",
       "3               0.0                               0.0    37710  -84.28968   \n",
       "4               0.0                               0.0    37849  -84.04192   \n",
       "5               0.0                               0.1    37716  -84.14656   \n",
       "\n",
       "    latitude  \n",
       "0  36.099283  \n",
       "2  36.217896  \n",
       "3  36.152310  \n",
       "4  36.044507  \n",
       "5  36.099283  "
      ]
     },
     "execution_count": 51,
     "metadata": {},
     "output_type": "execute_result"
    }
   ],
   "source": [
    "merge_a.head(5)"
   ]
  },
  {
   "cell_type": "code",
   "execution_count": 54,
   "metadata": {},
   "outputs": [
    {
     "data": {
      "text/html": [
       "<div>\n",
       "<style scoped>\n",
       "    .dataframe tbody tr th:only-of-type {\n",
       "        vertical-align: middle;\n",
       "    }\n",
       "\n",
       "    .dataframe tbody tr th {\n",
       "        vertical-align: top;\n",
       "    }\n",
       "\n",
       "    .dataframe thead th {\n",
       "        text-align: right;\n",
       "    }\n",
       "</style>\n",
       "<table border=\"1\" class=\"dataframe\">\n",
       "  <thead>\n",
       "    <tr style=\"text-align: right;\">\n",
       "      <th></th>\n",
       "      <th>school_name</th>\n",
       "      <th>graduation rate</th>\n",
       "      <th>dropout_rate</th>\n",
       "    </tr>\n",
       "  </thead>\n",
       "  <tbody>\n",
       "    <tr>\n",
       "      <th>0</th>\n",
       "      <td>Anderson County High School</td>\n",
       "      <td>96.1</td>\n",
       "      <td>1.4</td>\n",
       "    </tr>\n",
       "    <tr>\n",
       "      <th>1</th>\n",
       "      <td>Clinton High School</td>\n",
       "      <td>95.2</td>\n",
       "      <td>3.7</td>\n",
       "    </tr>\n",
       "    <tr>\n",
       "      <th>2</th>\n",
       "      <td>Oak Ridge High School</td>\n",
       "      <td>92.1</td>\n",
       "      <td>6.6</td>\n",
       "    </tr>\n",
       "    <tr>\n",
       "      <th>3</th>\n",
       "      <td>Cascade High School</td>\n",
       "      <td>98.2</td>\n",
       "      <td>0.9</td>\n",
       "    </tr>\n",
       "    <tr>\n",
       "      <th>4</th>\n",
       "      <td>Shelbyville Central High School</td>\n",
       "      <td>88.7</td>\n",
       "      <td>8.7</td>\n",
       "    </tr>\n",
       "  </tbody>\n",
       "</table>\n",
       "</div>"
      ],
      "text/plain": [
       "                       school_name  graduation rate   dropout_rate\n",
       "0      Anderson County High School              96.1           1.4\n",
       "1              Clinton High School              95.2           3.7\n",
       "2            Oak Ridge High School              92.1           6.6\n",
       "3              Cascade High School              98.2           0.9\n",
       "4  Shelbyville Central High School              88.7           8.7"
      ]
     },
     "execution_count": 54,
     "metadata": {},
     "output_type": "execute_result"
    }
   ],
   "source": [
    "merge_b.head(5)"
   ]
  },
  {
   "cell_type": "code",
   "execution_count": 53,
   "metadata": {},
   "outputs": [],
   "source": [
    "merge_b=merge_b.drop(['district_name', 'subgroup'], axis=1)"
   ]
  },
  {
   "cell_type": "code",
   "execution_count": 55,
   "metadata": {},
   "outputs": [],
   "source": [
    "# merge \n",
    "merge_c=merge_a.merge(merge_b,how='right', on=\"school_name\")"
   ]
  },
  {
   "cell_type": "code",
   "execution_count": 56,
   "metadata": {},
   "outputs": [
    {
     "data": {
      "text/plain": [
       "(364, 10)"
      ]
     },
     "execution_count": 56,
     "metadata": {},
     "output_type": "execute_result"
    }
   ],
   "source": [
    "merge_c.shape"
   ]
  },
  {
   "cell_type": "code",
   "execution_count": 58,
   "metadata": {},
   "outputs": [],
   "source": [
    "#merge_c.head(5)"
   ]
  },
  {
   "cell_type": "markdown",
   "metadata": {},
   "source": [
    "# clean readygrad_df"
   ]
  },
  {
   "cell_type": "code",
   "execution_count": 60,
   "metadata": {},
   "outputs": [],
   "source": [
    "readygrad_df=readygrad_df[readygrad_df.subgroup =='All Students']"
   ]
  },
  {
   "cell_type": "code",
   "execution_count": 61,
   "metadata": {},
   "outputs": [
    {
     "name": "stderr",
     "output_type": "stream",
     "text": [
      "<ipython-input-61-c32b4b8656d9>:1: SettingWithCopyWarning: \n",
      "A value is trying to be set on a copy of a slice from a DataFrame.\n",
      "Try using .loc[row_indexer,col_indexer] = value instead\n",
      "\n",
      "See the caveats in the documentation: https://pandas.pydata.org/pandas-docs/stable/user_guide/indexing.html#returning-a-view-versus-a-copy\n",
      "  readygrad_df['percentage of ready graduates']= readygrad_df['percentage of ready graduates'].replace('*','0')\n"
     ]
    }
   ],
   "source": [
    "readygrad_df['percentage of ready graduates']= readygrad_df['percentage of ready graduates'].replace('*','0')"
   ]
  },
  {
   "cell_type": "code",
   "execution_count": 62,
   "metadata": {},
   "outputs": [
    {
     "name": "stderr",
     "output_type": "stream",
     "text": [
      "<ipython-input-62-bed3b0b863ef>:1: SettingWithCopyWarning: \n",
      "A value is trying to be set on a copy of a slice from a DataFrame.\n",
      "Try using .loc[row_indexer,col_indexer] = value instead\n",
      "\n",
      "See the caveats in the documentation: https://pandas.pydata.org/pandas-docs/stable/user_guide/indexing.html#returning-a-view-versus-a-copy\n",
      "  readygrad_df['percentage of ready graduates']= readygrad_df['percentage of ready graduates'].replace('**','0')\n"
     ]
    }
   ],
   "source": [
    "readygrad_df['percentage of ready graduates']= readygrad_df['percentage of ready graduates'].replace('**','0')"
   ]
  },
  {
   "cell_type": "code",
   "execution_count": 63,
   "metadata": {},
   "outputs": [
    {
     "name": "stderr",
     "output_type": "stream",
     "text": [
      "<ipython-input-63-e94b3c9c8ee0>:1: SettingWithCopyWarning: \n",
      "A value is trying to be set on a copy of a slice from a DataFrame.\n",
      "Try using .loc[row_indexer,col_indexer] = value instead\n",
      "\n",
      "See the caveats in the documentation: https://pandas.pydata.org/pandas-docs/stable/user_guide/indexing.html#returning-a-view-versus-a-copy\n",
      "  readygrad_df['percentage of ready graduates']=readygrad_df['percentage of ready graduates'].astype(float)\n"
     ]
    }
   ],
   "source": [
    "readygrad_df['percentage of ready graduates']=readygrad_df['percentage of ready graduates'].astype(float)"
   ]
  },
  {
   "cell_type": "code",
   "execution_count": 68,
   "metadata": {},
   "outputs": [
    {
     "data": {
      "text/html": [
       "<div>\n",
       "<style scoped>\n",
       "    .dataframe tbody tr th:only-of-type {\n",
       "        vertical-align: middle;\n",
       "    }\n",
       "\n",
       "    .dataframe tbody tr th {\n",
       "        vertical-align: top;\n",
       "    }\n",
       "\n",
       "    .dataframe thead th {\n",
       "        text-align: right;\n",
       "    }\n",
       "</style>\n",
       "<table border=\"1\" class=\"dataframe\">\n",
       "  <thead>\n",
       "    <tr style=\"text-align: right;\">\n",
       "      <th></th>\n",
       "      <th>district_name</th>\n",
       "      <th>school_name</th>\n",
       "      <th>subgroup</th>\n",
       "      <th>number of students total</th>\n",
       "      <th>percentage of ready graduates</th>\n",
       "    </tr>\n",
       "  </thead>\n",
       "  <tbody>\n",
       "    <tr>\n",
       "      <th>0</th>\n",
       "      <td>Anderson County</td>\n",
       "      <td>Anderson County High School</td>\n",
       "      <td>All Students</td>\n",
       "      <td>280</td>\n",
       "      <td>50.0</td>\n",
       "    </tr>\n",
       "    <tr>\n",
       "      <th>12</th>\n",
       "      <td>Anderson County</td>\n",
       "      <td>Clinton High School</td>\n",
       "      <td>All Students</td>\n",
       "      <td>272</td>\n",
       "      <td>35.7</td>\n",
       "    </tr>\n",
       "    <tr>\n",
       "      <th>26</th>\n",
       "      <td>Oak Ridge</td>\n",
       "      <td>Oak Ridge High School</td>\n",
       "      <td>All Students</td>\n",
       "      <td>304</td>\n",
       "      <td>65.5</td>\n",
       "    </tr>\n",
       "    <tr>\n",
       "      <th>41</th>\n",
       "      <td>Bedford County</td>\n",
       "      <td>Cascade High School</td>\n",
       "      <td>All Students</td>\n",
       "      <td>114</td>\n",
       "      <td>45.6</td>\n",
       "    </tr>\n",
       "    <tr>\n",
       "      <th>55</th>\n",
       "      <td>Bedford County</td>\n",
       "      <td>Shelbyville Central High School</td>\n",
       "      <td>All Students</td>\n",
       "      <td>390</td>\n",
       "      <td>24.9</td>\n",
       "    </tr>\n",
       "    <tr>\n",
       "      <th>...</th>\n",
       "      <td>...</td>\n",
       "      <td>...</td>\n",
       "      <td>...</td>\n",
       "      <td>...</td>\n",
       "      <td>...</td>\n",
       "    </tr>\n",
       "    <tr>\n",
       "      <th>4686</th>\n",
       "      <td>Wilson County</td>\n",
       "      <td>Mt. Juliet High School</td>\n",
       "      <td>All Students</td>\n",
       "      <td>550</td>\n",
       "      <td>64.0</td>\n",
       "    </tr>\n",
       "    <tr>\n",
       "      <th>4701</th>\n",
       "      <td>Wilson County</td>\n",
       "      <td>Watertown High School</td>\n",
       "      <td>All Students</td>\n",
       "      <td>145</td>\n",
       "      <td>37.9</td>\n",
       "    </tr>\n",
       "    <tr>\n",
       "      <th>4713</th>\n",
       "      <td>Wilson County</td>\n",
       "      <td>Wilson Central High School</td>\n",
       "      <td>All Students</td>\n",
       "      <td>457</td>\n",
       "      <td>48.4</td>\n",
       "    </tr>\n",
       "    <tr>\n",
       "      <th>4728</th>\n",
       "      <td>Wilson County</td>\n",
       "      <td>Tennessee Virtual On-Line School</td>\n",
       "      <td>All Students</td>\n",
       "      <td>17</td>\n",
       "      <td>58.8</td>\n",
       "    </tr>\n",
       "    <tr>\n",
       "      <th>4743</th>\n",
       "      <td>Alvin C York Institute</td>\n",
       "      <td>Alvin C. York Institute</td>\n",
       "      <td>All Students</td>\n",
       "      <td>136</td>\n",
       "      <td>36.0</td>\n",
       "    </tr>\n",
       "  </tbody>\n",
       "</table>\n",
       "<p>340 rows × 5 columns</p>\n",
       "</div>"
      ],
      "text/plain": [
       "               district_name                       school_name      subgroup  \\\n",
       "0            Anderson County       Anderson County High School  All Students   \n",
       "12           Anderson County               Clinton High School  All Students   \n",
       "26                 Oak Ridge             Oak Ridge High School  All Students   \n",
       "41            Bedford County               Cascade High School  All Students   \n",
       "55            Bedford County   Shelbyville Central High School  All Students   \n",
       "...                      ...                               ...           ...   \n",
       "4686           Wilson County            Mt. Juliet High School  All Students   \n",
       "4701           Wilson County             Watertown High School  All Students   \n",
       "4713           Wilson County        Wilson Central High School  All Students   \n",
       "4728           Wilson County  Tennessee Virtual On-Line School  All Students   \n",
       "4743  Alvin C York Institute           Alvin C. York Institute  All Students   \n",
       "\n",
       "      number of students total  percentage of ready graduates  \n",
       "0                          280                           50.0  \n",
       "12                         272                           35.7  \n",
       "26                         304                           65.5  \n",
       "41                         114                           45.6  \n",
       "55                         390                           24.9  \n",
       "...                        ...                            ...  \n",
       "4686                       550                           64.0  \n",
       "4701                       145                           37.9  \n",
       "4713                       457                           48.4  \n",
       "4728                        17                           58.8  \n",
       "4743                       136                           36.0  \n",
       "\n",
       "[340 rows x 5 columns]"
      ]
     },
     "execution_count": 68,
     "metadata": {},
     "output_type": "execute_result"
    }
   ],
   "source": [
    "readygrad_df[readygrad_df['percentage of ready graduates'] != 0]"
   ]
  },
  {
   "cell_type": "code",
   "execution_count": 66,
   "metadata": {},
   "outputs": [
    {
     "data": {
      "text/plain": [
       "(403, 5)"
      ]
     },
     "execution_count": 66,
     "metadata": {},
     "output_type": "execute_result"
    }
   ],
   "source": [
    "readygrad_df.shape"
   ]
  },
  {
   "cell_type": "code",
   "execution_count": 69,
   "metadata": {},
   "outputs": [
    {
     "data": {
      "text/html": [
       "<div>\n",
       "<style scoped>\n",
       "    .dataframe tbody tr th:only-of-type {\n",
       "        vertical-align: middle;\n",
       "    }\n",
       "\n",
       "    .dataframe tbody tr th {\n",
       "        vertical-align: top;\n",
       "    }\n",
       "\n",
       "    .dataframe thead th {\n",
       "        text-align: right;\n",
       "    }\n",
       "</style>\n",
       "<table border=\"1\" class=\"dataframe\">\n",
       "  <thead>\n",
       "    <tr style=\"text-align: right;\">\n",
       "      <th></th>\n",
       "      <th>district_name</th>\n",
       "      <th>school_name</th>\n",
       "      <th>subgroup</th>\n",
       "      <th>number of students total</th>\n",
       "      <th>percentage of ready graduates</th>\n",
       "    </tr>\n",
       "  </thead>\n",
       "  <tbody>\n",
       "    <tr>\n",
       "      <th>0</th>\n",
       "      <td>Anderson County</td>\n",
       "      <td>Anderson County High School</td>\n",
       "      <td>All Students</td>\n",
       "      <td>280</td>\n",
       "      <td>50.0</td>\n",
       "    </tr>\n",
       "    <tr>\n",
       "      <th>12</th>\n",
       "      <td>Anderson County</td>\n",
       "      <td>Clinton High School</td>\n",
       "      <td>All Students</td>\n",
       "      <td>272</td>\n",
       "      <td>35.7</td>\n",
       "    </tr>\n",
       "    <tr>\n",
       "      <th>26</th>\n",
       "      <td>Oak Ridge</td>\n",
       "      <td>Oak Ridge High School</td>\n",
       "      <td>All Students</td>\n",
       "      <td>304</td>\n",
       "      <td>65.5</td>\n",
       "    </tr>\n",
       "    <tr>\n",
       "      <th>41</th>\n",
       "      <td>Bedford County</td>\n",
       "      <td>Cascade High School</td>\n",
       "      <td>All Students</td>\n",
       "      <td>114</td>\n",
       "      <td>45.6</td>\n",
       "    </tr>\n",
       "    <tr>\n",
       "      <th>55</th>\n",
       "      <td>Bedford County</td>\n",
       "      <td>Shelbyville Central High School</td>\n",
       "      <td>All Students</td>\n",
       "      <td>390</td>\n",
       "      <td>24.9</td>\n",
       "    </tr>\n",
       "    <tr>\n",
       "      <th>69</th>\n",
       "      <td>Bedford County</td>\n",
       "      <td>Community High School</td>\n",
       "      <td>All Students</td>\n",
       "      <td>128</td>\n",
       "      <td>31.3</td>\n",
       "    </tr>\n",
       "    <tr>\n",
       "      <th>82</th>\n",
       "      <td>Benton County</td>\n",
       "      <td>Big Sandy School</td>\n",
       "      <td>All Students</td>\n",
       "      <td>20</td>\n",
       "      <td>25.0</td>\n",
       "    </tr>\n",
       "    <tr>\n",
       "      <th>90</th>\n",
       "      <td>Benton County</td>\n",
       "      <td>Camden Central High School</td>\n",
       "      <td>All Students</td>\n",
       "      <td>140</td>\n",
       "      <td>27.9</td>\n",
       "    </tr>\n",
       "    <tr>\n",
       "      <th>101</th>\n",
       "      <td>Bledsoe County</td>\n",
       "      <td>Bledsoe County High School</td>\n",
       "      <td>All Students</td>\n",
       "      <td>120</td>\n",
       "      <td>32.5</td>\n",
       "    </tr>\n",
       "    <tr>\n",
       "      <th>115</th>\n",
       "      <td>Bledsoe County</td>\n",
       "      <td>Bledsoe County Middle School</td>\n",
       "      <td>All Students</td>\n",
       "      <td>1</td>\n",
       "      <td>0.0</td>\n",
       "    </tr>\n",
       "    <tr>\n",
       "      <th>120</th>\n",
       "      <td>Blount County</td>\n",
       "      <td>Heritage High School</td>\n",
       "      <td>All Students</td>\n",
       "      <td>346</td>\n",
       "      <td>31.5</td>\n",
       "    </tr>\n",
       "    <tr>\n",
       "      <th>135</th>\n",
       "      <td>Blount County</td>\n",
       "      <td>Samuel Everett School of Innovation</td>\n",
       "      <td>All Students</td>\n",
       "      <td>1</td>\n",
       "      <td>0.0</td>\n",
       "    </tr>\n",
       "    <tr>\n",
       "      <th>140</th>\n",
       "      <td>Blount County</td>\n",
       "      <td>William Blount High School</td>\n",
       "      <td>All Students</td>\n",
       "      <td>447</td>\n",
       "      <td>38.5</td>\n",
       "    </tr>\n",
       "    <tr>\n",
       "      <th>155</th>\n",
       "      <td>Alcoa</td>\n",
       "      <td>Alcoa High School</td>\n",
       "      <td>All Students</td>\n",
       "      <td>172</td>\n",
       "      <td>59.3</td>\n",
       "    </tr>\n",
       "    <tr>\n",
       "      <th>170</th>\n",
       "      <td>Maryville</td>\n",
       "      <td>Maryville High School</td>\n",
       "      <td>All Students</td>\n",
       "      <td>420</td>\n",
       "      <td>66.0</td>\n",
       "    </tr>\n",
       "    <tr>\n",
       "      <th>184</th>\n",
       "      <td>Bradley County</td>\n",
       "      <td>Bradley Central High School</td>\n",
       "      <td>All Students</td>\n",
       "      <td>389</td>\n",
       "      <td>51.2</td>\n",
       "    </tr>\n",
       "    <tr>\n",
       "      <th>199</th>\n",
       "      <td>Bradley County</td>\n",
       "      <td>North Cleveland GOAL Academy</td>\n",
       "      <td>All Students</td>\n",
       "      <td>41</td>\n",
       "      <td>9.8</td>\n",
       "    </tr>\n",
       "    <tr>\n",
       "      <th>211</th>\n",
       "      <td>Bradley County</td>\n",
       "      <td>Walker Valley High School</td>\n",
       "      <td>All Students</td>\n",
       "      <td>380</td>\n",
       "      <td>61.3</td>\n",
       "    </tr>\n",
       "    <tr>\n",
       "      <th>225</th>\n",
       "      <td>Bradley County</td>\n",
       "      <td>Bradley County Virtual School</td>\n",
       "      <td>All Students</td>\n",
       "      <td>16</td>\n",
       "      <td>50.0</td>\n",
       "    </tr>\n",
       "    <tr>\n",
       "      <th>232</th>\n",
       "      <td>Cleveland</td>\n",
       "      <td>Cleveland High</td>\n",
       "      <td>All Students</td>\n",
       "      <td>409</td>\n",
       "      <td>43.3</td>\n",
       "    </tr>\n",
       "  </tbody>\n",
       "</table>\n",
       "</div>"
      ],
      "text/plain": [
       "       district_name                          school_name      subgroup  \\\n",
       "0    Anderson County          Anderson County High School  All Students   \n",
       "12   Anderson County                  Clinton High School  All Students   \n",
       "26         Oak Ridge                Oak Ridge High School  All Students   \n",
       "41    Bedford County                  Cascade High School  All Students   \n",
       "55    Bedford County      Shelbyville Central High School  All Students   \n",
       "69    Bedford County                Community High School  All Students   \n",
       "82     Benton County                     Big Sandy School  All Students   \n",
       "90     Benton County           Camden Central High School  All Students   \n",
       "101   Bledsoe County           Bledsoe County High School  All Students   \n",
       "115   Bledsoe County         Bledsoe County Middle School  All Students   \n",
       "120    Blount County                 Heritage High School  All Students   \n",
       "135    Blount County  Samuel Everett School of Innovation  All Students   \n",
       "140    Blount County           William Blount High School  All Students   \n",
       "155            Alcoa                    Alcoa High School  All Students   \n",
       "170        Maryville                Maryville High School  All Students   \n",
       "184   Bradley County          Bradley Central High School  All Students   \n",
       "199   Bradley County         North Cleveland GOAL Academy  All Students   \n",
       "211   Bradley County            Walker Valley High School  All Students   \n",
       "225   Bradley County        Bradley County Virtual School  All Students   \n",
       "232        Cleveland                       Cleveland High  All Students   \n",
       "\n",
       "     number of students total  percentage of ready graduates  \n",
       "0                         280                           50.0  \n",
       "12                        272                           35.7  \n",
       "26                        304                           65.5  \n",
       "41                        114                           45.6  \n",
       "55                        390                           24.9  \n",
       "69                        128                           31.3  \n",
       "82                         20                           25.0  \n",
       "90                        140                           27.9  \n",
       "101                       120                           32.5  \n",
       "115                         1                            0.0  \n",
       "120                       346                           31.5  \n",
       "135                         1                            0.0  \n",
       "140                       447                           38.5  \n",
       "155                       172                           59.3  \n",
       "170                       420                           66.0  \n",
       "184                       389                           51.2  \n",
       "199                        41                            9.8  \n",
       "211                       380                           61.3  \n",
       "225                        16                           50.0  \n",
       "232                       409                           43.3  "
      ]
     },
     "execution_count": 69,
     "metadata": {},
     "output_type": "execute_result"
    }
   ],
   "source": [
    "readygrad_df.head(20)"
   ]
  },
  {
   "cell_type": "code",
   "execution_count": 370,
   "metadata": {},
   "outputs": [],
   "source": [
    "readygrad_df=readygrad_df.drop(['district_name', 'subgroup'], axis=1)"
   ]
  },
  {
   "cell_type": "markdown",
   "metadata": {},
   "source": [
    "# ACT CLEAN"
   ]
  },
  {
   "cell_type": "code",
   "execution_count": 349,
   "metadata": {},
   "outputs": [],
   "source": [
    "act_df=act_df[act_df.subgroup =='All Students']"
   ]
  },
  {
   "cell_type": "code",
   "execution_count": 350,
   "metadata": {},
   "outputs": [],
   "source": [
    "act_df=act_df.drop([ 'subgroup'], axis=1)"
   ]
  },
  {
   "cell_type": "code",
   "execution_count": 351,
   "metadata": {},
   "outputs": [],
   "source": [
    "act_df=act_df.dropna()"
   ]
  },
  {
   "cell_type": "markdown",
   "metadata": {},
   "source": [
    "## replace *"
   ]
  },
  {
   "cell_type": "code",
   "execution_count": 352,
   "metadata": {},
   "outputs": [],
   "source": [
    "act_df['participation_rate']= act_df['participation_rate'].replace('*','0')"
   ]
  },
  {
   "cell_type": "code",
   "execution_count": 353,
   "metadata": {},
   "outputs": [],
   "source": [
    "act_df['average_english_score']= act_df['average_english_score'].replace('*','0')"
   ]
  },
  {
   "cell_type": "code",
   "execution_count": 354,
   "metadata": {},
   "outputs": [],
   "source": [
    "act_df['average_math_score']= act_df['average_math_score'].replace('*','0')"
   ]
  },
  {
   "cell_type": "code",
   "execution_count": 355,
   "metadata": {},
   "outputs": [],
   "source": [
    "act_df['average_reading_score']= act_df['average_reading_score'].replace('*','0')"
   ]
  },
  {
   "cell_type": "code",
   "execution_count": 356,
   "metadata": {},
   "outputs": [],
   "source": [
    "act_df['average_science_score']= act_df['average_science_score'].replace('*','0')"
   ]
  },
  {
   "cell_type": "code",
   "execution_count": 357,
   "metadata": {},
   "outputs": [],
   "source": [
    "act_df['average_composite_score']= act_df['average_composite_score'].replace('*','0')"
   ]
  },
  {
   "cell_type": "code",
   "execution_count": 358,
   "metadata": {},
   "outputs": [],
   "source": [
    "act_df['percent_scoring_21_or_higher']= act_df['percent_scoring_21_or_higher'].replace('*','0')"
   ]
  },
  {
   "cell_type": "code",
   "execution_count": 359,
   "metadata": {},
   "outputs": [],
   "source": [
    "act_df['percent_scoring_below_19']= act_df['percent_scoring_below_19'].replace('*','0')"
   ]
  },
  {
   "cell_type": "markdown",
   "metadata": {},
   "source": [
    "## replace **"
   ]
  },
  {
   "cell_type": "code",
   "execution_count": 360,
   "metadata": {},
   "outputs": [],
   "source": [
    "act_df['participation_rate']= act_df['participation_rate'].replace('**','0')"
   ]
  },
  {
   "cell_type": "code",
   "execution_count": 361,
   "metadata": {},
   "outputs": [],
   "source": [
    "act_df['average_english_score']= act_df['average_english_score'].replace('**','0')"
   ]
  },
  {
   "cell_type": "code",
   "execution_count": 362,
   "metadata": {},
   "outputs": [],
   "source": [
    "act_df['average_math_score']= act_df['average_math_score'].replace('**','0')"
   ]
  },
  {
   "cell_type": "code",
   "execution_count": 363,
   "metadata": {},
   "outputs": [],
   "source": [
    "act_df['average_reading_score']= act_df['average_reading_score'].replace('**','0')"
   ]
  },
  {
   "cell_type": "code",
   "execution_count": 364,
   "metadata": {},
   "outputs": [],
   "source": [
    "act_df['average_science_score']= act_df['average_science_score'].replace('**','0')"
   ]
  },
  {
   "cell_type": "code",
   "execution_count": 365,
   "metadata": {},
   "outputs": [],
   "source": [
    "act_df['average_composite_score']= act_df['average_composite_score'].replace('**','0')"
   ]
  },
  {
   "cell_type": "code",
   "execution_count": 366,
   "metadata": {},
   "outputs": [],
   "source": [
    "act_df['percent_scoring_21_or_higher']= act_df['percent_scoring_21_or_higher'].replace('**','0')"
   ]
  },
  {
   "cell_type": "code",
   "execution_count": 367,
   "metadata": {},
   "outputs": [],
   "source": [
    "act_df['percent_scoring_below_19']= act_df['percent_scoring_below_19'].replace('**','0')"
   ]
  },
  {
   "cell_type": "code",
   "execution_count": 372,
   "metadata": {},
   "outputs": [
    {
     "data": {
      "text/html": [
       "<div>\n",
       "<style scoped>\n",
       "    .dataframe tbody tr th:only-of-type {\n",
       "        vertical-align: middle;\n",
       "    }\n",
       "\n",
       "    .dataframe tbody tr th {\n",
       "        vertical-align: top;\n",
       "    }\n",
       "\n",
       "    .dataframe thead th {\n",
       "        text-align: right;\n",
       "    }\n",
       "</style>\n",
       "<table border=\"1\" class=\"dataframe\">\n",
       "  <thead>\n",
       "    <tr style=\"text-align: right;\">\n",
       "      <th></th>\n",
       "      <th>district_name</th>\n",
       "      <th>school_name</th>\n",
       "      <th>participation_rate</th>\n",
       "      <th>average_english_score</th>\n",
       "      <th>average_math_score</th>\n",
       "      <th>average_reading_score</th>\n",
       "      <th>average_science_score</th>\n",
       "      <th>average_composite_score</th>\n",
       "      <th>percent_scoring_21_or_higher</th>\n",
       "      <th>percent_scoring_below_19</th>\n",
       "    </tr>\n",
       "  </thead>\n",
       "  <tbody>\n",
       "    <tr>\n",
       "      <th>0</th>\n",
       "      <td>Anderson County</td>\n",
       "      <td>Anderson County High School</td>\n",
       "      <td>100</td>\n",
       "      <td>19.8</td>\n",
       "      <td>19.4</td>\n",
       "      <td>20.7</td>\n",
       "      <td>20.1</td>\n",
       "      <td>20.1</td>\n",
       "      <td>42.8</td>\n",
       "      <td>42.8</td>\n",
       "    </tr>\n",
       "    <tr>\n",
       "      <th>4</th>\n",
       "      <td>Anderson County</td>\n",
       "      <td>Clinton High School</td>\n",
       "      <td>100</td>\n",
       "      <td>18.3</td>\n",
       "      <td>18</td>\n",
       "      <td>19.1</td>\n",
       "      <td>19.1</td>\n",
       "      <td>18.8</td>\n",
       "      <td>32.2</td>\n",
       "      <td>53.9</td>\n",
       "    </tr>\n",
       "    <tr>\n",
       "      <th>9</th>\n",
       "      <td>Oak Ridge</td>\n",
       "      <td>Oak Ridge High School</td>\n",
       "      <td>97</td>\n",
       "      <td>23</td>\n",
       "      <td>22.2</td>\n",
       "      <td>24.2</td>\n",
       "      <td>23.2</td>\n",
       "      <td>23.3</td>\n",
       "      <td>64.3</td>\n",
       "      <td>23.9</td>\n",
       "    </tr>\n",
       "    <tr>\n",
       "      <th>14</th>\n",
       "      <td>Bedford County</td>\n",
       "      <td>Cascade High School</td>\n",
       "      <td>99</td>\n",
       "      <td>20.7</td>\n",
       "      <td>19.5</td>\n",
       "      <td>21.3</td>\n",
       "      <td>21.1</td>\n",
       "      <td>20.8</td>\n",
       "      <td>46.8</td>\n",
       "      <td>34.2</td>\n",
       "    </tr>\n",
       "    <tr>\n",
       "      <th>19</th>\n",
       "      <td>Bedford County</td>\n",
       "      <td>Shelbyville Central High School</td>\n",
       "      <td>96</td>\n",
       "      <td>17.3</td>\n",
       "      <td>18.1</td>\n",
       "      <td>18.5</td>\n",
       "      <td>18.5</td>\n",
       "      <td>18.3</td>\n",
       "      <td>27.8</td>\n",
       "      <td>62.5</td>\n",
       "    </tr>\n",
       "  </tbody>\n",
       "</table>\n",
       "</div>"
      ],
      "text/plain": [
       "      district_name                      school_name participation_rate  \\\n",
       "0   Anderson County      Anderson County High School                100   \n",
       "4   Anderson County              Clinton High School                100   \n",
       "9         Oak Ridge            Oak Ridge High School                 97   \n",
       "14   Bedford County              Cascade High School                 99   \n",
       "19   Bedford County  Shelbyville Central High School                 96   \n",
       "\n",
       "   average_english_score average_math_score average_reading_score  \\\n",
       "0                   19.8               19.4                  20.7   \n",
       "4                   18.3                 18                  19.1   \n",
       "9                     23               22.2                  24.2   \n",
       "14                  20.7               19.5                  21.3   \n",
       "19                  17.3               18.1                  18.5   \n",
       "\n",
       "   average_science_score average_composite_score percent_scoring_21_or_higher  \\\n",
       "0                   20.1                    20.1                         42.8   \n",
       "4                   19.1                    18.8                         32.2   \n",
       "9                   23.2                    23.3                         64.3   \n",
       "14                  21.1                    20.8                         46.8   \n",
       "19                  18.5                    18.3                         27.8   \n",
       "\n",
       "   percent_scoring_below_19  \n",
       "0                      42.8  \n",
       "4                      53.9  \n",
       "9                      23.9  \n",
       "14                     34.2  \n",
       "19                     62.5  "
      ]
     },
     "execution_count": 372,
     "metadata": {},
     "output_type": "execute_result"
    }
   ],
   "source": [
    "act_df.head(5)"
   ]
  },
  {
   "cell_type": "code",
   "execution_count": 371,
   "metadata": {},
   "outputs": [
    {
     "data": {
      "text/html": [
       "<div>\n",
       "<style scoped>\n",
       "    .dataframe tbody tr th:only-of-type {\n",
       "        vertical-align: middle;\n",
       "    }\n",
       "\n",
       "    .dataframe tbody tr th {\n",
       "        vertical-align: top;\n",
       "    }\n",
       "\n",
       "    .dataframe thead th {\n",
       "        text-align: right;\n",
       "    }\n",
       "</style>\n",
       "<table border=\"1\" class=\"dataframe\">\n",
       "  <thead>\n",
       "    <tr style=\"text-align: right;\">\n",
       "      <th></th>\n",
       "      <th>school_name</th>\n",
       "      <th>number of students total</th>\n",
       "      <th>percentage of ready graduates</th>\n",
       "    </tr>\n",
       "  </thead>\n",
       "  <tbody>\n",
       "    <tr>\n",
       "      <th>0</th>\n",
       "      <td>Anderson County High School</td>\n",
       "      <td>280</td>\n",
       "      <td>50.0</td>\n",
       "    </tr>\n",
       "    <tr>\n",
       "      <th>12</th>\n",
       "      <td>Clinton High School</td>\n",
       "      <td>272</td>\n",
       "      <td>35.7</td>\n",
       "    </tr>\n",
       "    <tr>\n",
       "      <th>26</th>\n",
       "      <td>Oak Ridge High School</td>\n",
       "      <td>304</td>\n",
       "      <td>65.5</td>\n",
       "    </tr>\n",
       "    <tr>\n",
       "      <th>41</th>\n",
       "      <td>Cascade High School</td>\n",
       "      <td>114</td>\n",
       "      <td>45.6</td>\n",
       "    </tr>\n",
       "    <tr>\n",
       "      <th>55</th>\n",
       "      <td>Shelbyville Central High School</td>\n",
       "      <td>390</td>\n",
       "      <td>24.9</td>\n",
       "    </tr>\n",
       "  </tbody>\n",
       "</table>\n",
       "</div>"
      ],
      "text/plain": [
       "                        school_name  number of students total  \\\n",
       "0       Anderson County High School                       280   \n",
       "12              Clinton High School                       272   \n",
       "26            Oak Ridge High School                       304   \n",
       "41              Cascade High School                       114   \n",
       "55  Shelbyville Central High School                       390   \n",
       "\n",
       "    percentage of ready graduates  \n",
       "0                            50.0  \n",
       "12                           35.7  \n",
       "26                           65.5  \n",
       "41                           45.6  \n",
       "55                           24.9  "
      ]
     },
     "execution_count": 371,
     "metadata": {},
     "output_type": "execute_result"
    }
   ],
   "source": [
    "readygrad_df.head(5)"
   ]
  },
  {
   "cell_type": "code",
   "execution_count": 84,
   "metadata": {
    "scrolled": true
   },
   "outputs": [
    {
     "data": {
      "text/plain": [
       "(403, 6)"
      ]
     },
     "execution_count": 84,
     "metadata": {},
     "output_type": "execute_result"
    }
   ],
   "source": [
    "readygrad_df.shape"
   ]
  },
  {
   "cell_type": "code",
   "execution_count": 373,
   "metadata": {},
   "outputs": [],
   "source": [
    "# merge drop out and grad rate\n",
    "merge_d=readygrad_df.merge(act_df,how='right', on=\"school_name\")"
   ]
  },
  {
   "cell_type": "code",
   "execution_count": 374,
   "metadata": {},
   "outputs": [
    {
     "data": {
      "text/plain": [
       "(411, 12)"
      ]
     },
     "execution_count": 374,
     "metadata": {},
     "output_type": "execute_result"
    }
   ],
   "source": [
    "merge_d.shape"
   ]
  },
  {
   "cell_type": "code",
   "execution_count": 376,
   "metadata": {},
   "outputs": [],
   "source": [
    "#merge_c.head(15)"
   ]
  },
  {
   "cell_type": "code",
   "execution_count": 380,
   "metadata": {},
   "outputs": [
    {
     "data": {
      "text/plain": [
       "(411, 12)"
      ]
     },
     "execution_count": 380,
     "metadata": {},
     "output_type": "execute_result"
    }
   ],
   "source": [
    "merge_d.shape"
   ]
  },
  {
   "cell_type": "code",
   "execution_count": 379,
   "metadata": {},
   "outputs": [
    {
     "data": {
      "text/plain": [
       "(364, 11)"
      ]
     },
     "execution_count": 379,
     "metadata": {},
     "output_type": "execute_result"
    }
   ],
   "source": [
    "merge_c.shape"
   ]
  },
  {
   "cell_type": "code",
   "execution_count": 381,
   "metadata": {},
   "outputs": [],
   "source": [
    "merge_c=merge_c.drop(['district_name'], axis=1)"
   ]
  },
  {
   "cell_type": "code",
   "execution_count": 383,
   "metadata": {},
   "outputs": [],
   "source": [
    "# final merge\n",
    "merge_e=merge_c.merge(merge_d,how='right', on=\"school_name\")"
   ]
  },
  {
   "cell_type": "code",
   "execution_count": 385,
   "metadata": {},
   "outputs": [
    {
     "data": {
      "text/plain": [
       "(411, 21)"
      ]
     },
     "execution_count": 385,
     "metadata": {},
     "output_type": "execute_result"
    }
   ],
   "source": [
    "merge_e.shape"
   ]
  },
  {
   "cell_type": "code",
   "execution_count": 395,
   "metadata": {},
   "outputs": [
    {
     "data": {
      "text/plain": [
       "(354, 21)"
      ]
     },
     "execution_count": 395,
     "metadata": {},
     "output_type": "execute_result"
    }
   ],
   "source": [
    "merge_e.shape"
   ]
  },
  {
   "cell_type": "code",
   "execution_count": 389,
   "metadata": {},
   "outputs": [],
   "source": [
    "merge_e= merge_e.dropna()"
   ]
  },
  {
   "cell_type": "code",
   "execution_count": 393,
   "metadata": {},
   "outputs": [],
   "source": [
    "merge_e=merge_e.drop_duplicates(subset=['school_name'])"
   ]
  },
  {
   "cell_type": "code",
   "execution_count": 398,
   "metadata": {},
   "outputs": [],
   "source": [
    "# convert to a csv\n",
    "merge_e.to_csv('clean_data.csv', index=False)"
   ]
  }
 ],
 "metadata": {
  "kernelspec": {
   "display_name": "Python 3",
   "language": "python",
   "name": "python3"
  },
  "language_info": {
   "codemirror_mode": {
    "name": "ipython",
    "version": 3
   },
   "file_extension": ".py",
   "mimetype": "text/x-python",
   "name": "python",
   "nbconvert_exporter": "python",
   "pygments_lexer": "ipython3",
   "version": "3.8.5"
  }
 },
 "nbformat": 4,
 "nbformat_minor": 4
}
